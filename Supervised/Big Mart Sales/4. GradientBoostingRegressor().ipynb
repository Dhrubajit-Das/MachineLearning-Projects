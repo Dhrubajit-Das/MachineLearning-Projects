{
 "cells": [
  {
   "cell_type": "code",
   "execution_count": 1,
   "metadata": {
    "collapsed": true
   },
   "outputs": [],
   "source": [
    "import numpy as np\n",
    "import pandas as pd\n",
    "import matplotlib.pyplot as plt\n",
    "%matplotlib inline"
   ]
  },
  {
   "cell_type": "code",
   "execution_count": 2,
   "metadata": {
    "collapsed": false
   },
   "outputs": [
    {
     "data": {
      "text/html": [
       "<div>\n",
       "<table border=\"1\" class=\"dataframe\">\n",
       "  <thead>\n",
       "    <tr style=\"text-align: right;\">\n",
       "      <th></th>\n",
       "      <th>Item_Weight</th>\n",
       "      <th>Item_Visibility</th>\n",
       "      <th>Item_MRP</th>\n",
       "      <th>Outlet_Establishment_Year</th>\n",
       "      <th>Item_Outlet_Sales</th>\n",
       "      <th>Item_Fat_Content_1</th>\n",
       "      <th>Outlet_Size_1</th>\n",
       "      <th>Outlet_Size_2</th>\n",
       "      <th>Outlet_Location_Type_1</th>\n",
       "      <th>Outlet_Location_Type_2</th>\n",
       "      <th>Outlet_Type_1</th>\n",
       "      <th>Outlet_Type_2</th>\n",
       "      <th>Outlet_Type_3</th>\n",
       "      <th>Item_type_new_1</th>\n",
       "      <th>Item_type_new_2</th>\n",
       "    </tr>\n",
       "  </thead>\n",
       "  <tbody>\n",
       "    <tr>\n",
       "      <th>0</th>\n",
       "      <td>9.30</td>\n",
       "      <td>0.126678</td>\n",
       "      <td>15.805354</td>\n",
       "      <td>18</td>\n",
       "      <td>61.115775</td>\n",
       "      <td>0</td>\n",
       "      <td>1</td>\n",
       "      <td>0</td>\n",
       "      <td>0</td>\n",
       "      <td>0</td>\n",
       "      <td>1</td>\n",
       "      <td>0</td>\n",
       "      <td>0</td>\n",
       "      <td>1</td>\n",
       "      <td>0</td>\n",
       "    </tr>\n",
       "    <tr>\n",
       "      <th>1</th>\n",
       "      <td>5.92</td>\n",
       "      <td>0.138846</td>\n",
       "      <td>6.947604</td>\n",
       "      <td>8</td>\n",
       "      <td>21.057607</td>\n",
       "      <td>1</td>\n",
       "      <td>1</td>\n",
       "      <td>0</td>\n",
       "      <td>0</td>\n",
       "      <td>1</td>\n",
       "      <td>0</td>\n",
       "      <td>1</td>\n",
       "      <td>0</td>\n",
       "      <td>0</td>\n",
       "      <td>0</td>\n",
       "    </tr>\n",
       "    <tr>\n",
       "      <th>2</th>\n",
       "      <td>17.50</td>\n",
       "      <td>0.129461</td>\n",
       "      <td>11.900336</td>\n",
       "      <td>18</td>\n",
       "      <td>45.795961</td>\n",
       "      <td>0</td>\n",
       "      <td>1</td>\n",
       "      <td>0</td>\n",
       "      <td>0</td>\n",
       "      <td>0</td>\n",
       "      <td>1</td>\n",
       "      <td>0</td>\n",
       "      <td>0</td>\n",
       "      <td>1</td>\n",
       "      <td>0</td>\n",
       "    </tr>\n",
       "    <tr>\n",
       "      <th>3</th>\n",
       "      <td>19.20</td>\n",
       "      <td>0.000000</td>\n",
       "      <td>13.494258</td>\n",
       "      <td>19</td>\n",
       "      <td>27.062520</td>\n",
       "      <td>1</td>\n",
       "      <td>1</td>\n",
       "      <td>0</td>\n",
       "      <td>0</td>\n",
       "      <td>1</td>\n",
       "      <td>0</td>\n",
       "      <td>0</td>\n",
       "      <td>0</td>\n",
       "      <td>1</td>\n",
       "      <td>0</td>\n",
       "    </tr>\n",
       "    <tr>\n",
       "      <th>4</th>\n",
       "      <td>8.93</td>\n",
       "      <td>0.000000</td>\n",
       "      <td>7.339033</td>\n",
       "      <td>30</td>\n",
       "      <td>31.538947</td>\n",
       "      <td>0</td>\n",
       "      <td>0</td>\n",
       "      <td>0</td>\n",
       "      <td>0</td>\n",
       "      <td>1</td>\n",
       "      <td>1</td>\n",
       "      <td>0</td>\n",
       "      <td>0</td>\n",
       "      <td>0</td>\n",
       "      <td>1</td>\n",
       "    </tr>\n",
       "  </tbody>\n",
       "</table>\n",
       "</div>"
      ],
      "text/plain": [
       "   Item_Weight  Item_Visibility   Item_MRP  Outlet_Establishment_Year  \\\n",
       "0         9.30         0.126678  15.805354                         18   \n",
       "1         5.92         0.138846   6.947604                          8   \n",
       "2        17.50         0.129461  11.900336                         18   \n",
       "3        19.20         0.000000  13.494258                         19   \n",
       "4         8.93         0.000000   7.339033                         30   \n",
       "\n",
       "   Item_Outlet_Sales  Item_Fat_Content_1  Outlet_Size_1  Outlet_Size_2  \\\n",
       "0          61.115775                   0              1              0   \n",
       "1          21.057607                   1              1              0   \n",
       "2          45.795961                   0              1              0   \n",
       "3          27.062520                   1              1              0   \n",
       "4          31.538947                   0              0              0   \n",
       "\n",
       "   Outlet_Location_Type_1  Outlet_Location_Type_2  Outlet_Type_1  \\\n",
       "0                       0                       0              1   \n",
       "1                       0                       1              0   \n",
       "2                       0                       0              1   \n",
       "3                       0                       1              0   \n",
       "4                       0                       1              1   \n",
       "\n",
       "   Outlet_Type_2  Outlet_Type_3  Item_type_new_1  Item_type_new_2  \n",
       "0              0              0                1                0  \n",
       "1              1              0                0                0  \n",
       "2              0              0                1                0  \n",
       "3              0              0                1                0  \n",
       "4              0              0                0                1  "
      ]
     },
     "execution_count": 2,
     "metadata": {},
     "output_type": "execute_result"
    }
   ],
   "source": [
    "data = pd.read_csv(\"C:\\\\Users\\\\DHRUBAJIT\\\\Desktop\\\\AnalyticsVidhya\\\\Big Mart Sales\\\\New_dataset.csv\")\n",
    "data.head()"
   ]
  },
  {
   "cell_type": "code",
   "execution_count": 3,
   "metadata": {
    "collapsed": true
   },
   "outputs": [],
   "source": [
    "X = data.drop(['Item_Outlet_Sales'], axis=1)\n",
    "y = data.Item_Outlet_Sales"
   ]
  },
  {
   "cell_type": "code",
   "execution_count": 4,
   "metadata": {
    "collapsed": true
   },
   "outputs": [],
   "source": [
    "from sklearn.model_selection import train_test_split\n",
    "xtrain,xtest,ytrain,ytest = train_test_split(X,y, random_state=0, test_size=0.3)"
   ]
  },
  {
   "cell_type": "markdown",
   "metadata": {},
   "source": [
    "### Trial 1"
   ]
  },
  {
   "cell_type": "code",
   "execution_count": 5,
   "metadata": {
    "collapsed": false
   },
   "outputs": [
    {
     "name": "stdout",
     "output_type": "stream",
     "text": [
      "0.703370678515\n",
      "0.664826086933\n",
      "10.827607434\n"
     ]
    }
   ],
   "source": [
    "# default model\n",
    "from sklearn.ensemble import GradientBoostingRegressor\n",
    "from sklearn.metrics import mean_squared_error\n",
    "xgb = GradientBoostingRegressor()\n",
    "xgb.fit(xtrain,ytrain)\n",
    "xgb_pred = xgb.predict(xtest)\n",
    "print(xgb.score(xtrain,ytrain))\n",
    "print(xgb.score(xtest,ytest))\n",
    "print(np.sqrt(mean_squared_error(ytest,xgb_pred)))"
   ]
  },
  {
   "cell_type": "code",
   "execution_count": 6,
   "metadata": {
    "collapsed": false
   },
   "outputs": [
    {
     "data": {
      "text/plain": [
       "array([ 0.10891041,  0.10527681,  0.3614201 ,  0.17850843,  0.00447689,\n",
       "        0.00458168,  0.01390205,  0.01481873,  0.00880659,  0.06416145,\n",
       "        0.01443297,  0.11021544,  0.00916663,  0.00132183])"
      ]
     },
     "execution_count": 6,
     "metadata": {},
     "output_type": "execute_result"
    }
   ],
   "source": [
    "xgb.feature_importances_"
   ]
  },
  {
   "cell_type": "code",
   "execution_count": 7,
   "metadata": {
    "collapsed": false
   },
   "outputs": [
    {
     "data": {
      "image/png": "[encoded data removed]",
      "text/plain": [
       "<matplotlib.figure.Figure at 0xcde8bbbf98>"
      ]
     },
     "metadata": {},
     "output_type": "display_data"
    }
   ],
   "source": [
    "with plt.style.context('dark_background'):\n",
    "    plt.figure(figsize=(6, 4))\n",
    "    \n",
    "    plt.bar(range(14), xgb.feature_importances_, alpha=0.5, align='center',\n",
    "            label='individual feature imp. score')\n",
    "    plt.ylabel('Feature Importances score')\n",
    "    plt.xlabel('Features')\n",
    "    plt.legend(loc='best')\n",
    "    plt.tight_layout()"
   ]
  },
  {
   "cell_type": "code",
   "execution_count": 23,
   "metadata": {
    "collapsed": false
   },
   "outputs": [
    {
     "name": "stderr",
     "output_type": "stream",
     "text": [
      "C:\\Users\\DHRUBAJIT\\Anaconda3\\lib\\site-packages\\sklearn\\model_selection\\_search.py:667: DeprecationWarning: The grid_scores_ attribute was deprecated in version 0.18 in favor of the more elaborate cv_results_ attribute. The grid_scores_ attribute will not be available from 0.20\n",
      "  DeprecationWarning)\n"
     ]
    },
    {
     "data": {
      "text/plain": [
       "([mean: 0.59125, std: 0.01199, params: {'n_estimators': 20},\n",
       "  mean: 0.63948, std: 0.01151, params: {'n_estimators': 30},\n",
       "  mean: 0.65838, std: 0.01271, params: {'n_estimators': 40},\n",
       "  mean: 0.66486, std: 0.01219, params: {'n_estimators': 50},\n",
       "  mean: 0.66782, std: 0.01251, params: {'n_estimators': 60},\n",
       "  mean: 0.66881, std: 0.01300, params: {'n_estimators': 70},\n",
       "  mean: 0.66921, std: 0.01345, params: {'n_estimators': 80},\n",
       "  mean: 0.66929, std: 0.01352, params: {'n_estimators': 90},\n",
       "  mean: 0.66895, std: 0.01345, params: {'n_estimators': 100},\n",
       "  mean: 0.66857, std: 0.01344, params: {'n_estimators': 110},\n",
       "  mean: 0.66844, std: 0.01338, params: {'n_estimators': 120},\n",
       "  mean: 0.66808, std: 0.01363, params: {'n_estimators': 130},\n",
       "  mean: 0.66810, std: 0.01392, params: {'n_estimators': 140},\n",
       "  mean: 0.66779, std: 0.01368, params: {'n_estimators': 150},\n",
       "  mean: 0.66750, std: 0.01378, params: {'n_estimators': 160},\n",
       "  mean: 0.66707, std: 0.01368, params: {'n_estimators': 170},\n",
       "  mean: 0.66688, std: 0.01360, params: {'n_estimators': 180},\n",
       "  mean: 0.66640, std: 0.01375, params: {'n_estimators': 190},\n",
       "  mean: 0.66606, std: 0.01359, params: {'n_estimators': 200}],\n",
       " {'n_estimators': 90},\n",
       " 0.66928961976371482)"
      ]
     },
     "execution_count": 23,
     "metadata": {},
     "output_type": "execute_result"
    }
   ],
   "source": [
    "from sklearn.model_selection import GridSearchCV, RandomizedSearchCV\n",
    "param_test1 = {'n_estimators':range(20,210,10)}\n",
    "gsearch1 = GridSearchCV(estimator = GradientBoostingRegressor(learning_rate=0.1, min_samples_split=500,min_samples_leaf=50,max_depth=8,max_features='sqrt',subsample=0.8,random_state=10), param_grid = param_test1,n_jobs=4,iid=False, cv=5)\n",
    "gsearch1.fit(xtrain,ytrain)\n",
    "gsearch1.grid_scores_, gsearch1.best_params_, gsearch1.best_score_"
   ]
  },
  {
   "cell_type": "code",
   "execution_count": 9,
   "metadata": {
    "collapsed": false
   },
   "outputs": [
    {
     "name": "stdout",
     "output_type": "stream",
     "text": [
      "0.708126461203\n",
      "0.663466948477\n",
      "10.8495383311\n"
     ]
    }
   ],
   "source": [
    "gsearch1_pred = gsearch1.predict(xtest)\n",
    "print(gsearch1.score(xtrain,ytrain))\n",
    "print(gsearch1.score(xtest,ytest))\n",
    "print(np.sqrt(mean_squared_error(ytest,gsearch1_pred)))"
   ]
  },
  {
   "cell_type": "code",
   "execution_count": 10,
   "metadata": {
    "collapsed": false
   },
   "outputs": [
    {
     "name": "stderr",
     "output_type": "stream",
     "text": [
      "C:\\Users\\DHRUBAJIT\\Anaconda3\\lib\\site-packages\\sklearn\\model_selection\\_search.py:667: DeprecationWarning: The grid_scores_ attribute was deprecated in version 0.18 in favor of the more elaborate cv_results_ attribute. The grid_scores_ attribute will not be available from 0.20\n",
      "  DeprecationWarning)\n"
     ]
    },
    {
     "data": {
      "text/plain": [
       "([mean: 0.66895, std: 0.01302, params: {'max_depth': 5, 'min_samples_split': 200},\n",
       "  mean: 0.66890, std: 0.01437, params: {'max_depth': 5, 'min_samples_split': 300},\n",
       "  mean: 0.66676, std: 0.01537, params: {'max_depth': 5, 'min_samples_split': 400},\n",
       "  mean: 0.66370, std: 0.01292, params: {'max_depth': 5, 'min_samples_split': 500},\n",
       "  mean: 0.66463, std: 0.01368, params: {'max_depth': 5, 'min_samples_split': 600},\n",
       "  mean: 0.66232, std: 0.01458, params: {'max_depth': 5, 'min_samples_split': 700},\n",
       "  mean: 0.65907, std: 0.01381, params: {'max_depth': 5, 'min_samples_split': 800},\n",
       "  mean: 0.65577, std: 0.01602, params: {'max_depth': 5, 'min_samples_split': 900},\n",
       "  mean: 0.65322, std: 0.01426, params: {'max_depth': 5, 'min_samples_split': 1000},\n",
       "  mean: 0.66772, std: 0.01214, params: {'max_depth': 7, 'min_samples_split': 200},\n",
       "  mean: 0.66882, std: 0.01287, params: {'max_depth': 7, 'min_samples_split': 300},\n",
       "  mean: 0.66805, std: 0.01332, params: {'max_depth': 7, 'min_samples_split': 400},\n",
       "  mean: 0.66606, std: 0.01539, params: {'max_depth': 7, 'min_samples_split': 500},\n",
       "  mean: 0.66528, std: 0.01300, params: {'max_depth': 7, 'min_samples_split': 600},\n",
       "  mean: 0.66470, std: 0.01467, params: {'max_depth': 7, 'min_samples_split': 700},\n",
       "  mean: 0.66113, std: 0.01402, params: {'max_depth': 7, 'min_samples_split': 800},\n",
       "  mean: 0.65827, std: 0.01540, params: {'max_depth': 7, 'min_samples_split': 900},\n",
       "  mean: 0.65621, std: 0.01518, params: {'max_depth': 7, 'min_samples_split': 1000},\n",
       "  mean: 0.66550, std: 0.01359, params: {'max_depth': 9, 'min_samples_split': 200},\n",
       "  mean: 0.66895, std: 0.01369, params: {'max_depth': 9, 'min_samples_split': 300},\n",
       "  mean: 0.66934, std: 0.01194, params: {'max_depth': 9, 'min_samples_split': 400},\n",
       "  mean: 0.66692, std: 0.01271, params: {'max_depth': 9, 'min_samples_split': 500},\n",
       "  mean: 0.66568, std: 0.01321, params: {'max_depth': 9, 'min_samples_split': 600},\n",
       "  mean: 0.66633, std: 0.01423, params: {'max_depth': 9, 'min_samples_split': 700},\n",
       "  mean: 0.66061, std: 0.01424, params: {'max_depth': 9, 'min_samples_split': 800},\n",
       "  mean: 0.65906, std: 0.01366, params: {'max_depth': 9, 'min_samples_split': 900},\n",
       "  mean: 0.65628, std: 0.01398, params: {'max_depth': 9, 'min_samples_split': 1000},\n",
       "  mean: 0.66055, std: 0.01360, params: {'max_depth': 11, 'min_samples_split': 200},\n",
       "  mean: 0.66862, std: 0.01251, params: {'max_depth': 11, 'min_samples_split': 300},\n",
       "  mean: 0.66775, std: 0.01224, params: {'max_depth': 11, 'min_samples_split': 400},\n",
       "  mean: 0.66680, std: 0.01328, params: {'max_depth': 11, 'min_samples_split': 500},\n",
       "  mean: 0.66641, std: 0.01287, params: {'max_depth': 11, 'min_samples_split': 600},\n",
       "  mean: 0.66679, std: 0.01505, params: {'max_depth': 11, 'min_samples_split': 700},\n",
       "  mean: 0.66054, std: 0.01486, params: {'max_depth': 11, 'min_samples_split': 800},\n",
       "  mean: 0.65904, std: 0.01343, params: {'max_depth': 11, 'min_samples_split': 900},\n",
       "  mean: 0.65645, std: 0.01409, params: {'max_depth': 11, 'min_samples_split': 1000},\n",
       "  mean: 0.66275, std: 0.01225, params: {'max_depth': 13, 'min_samples_split': 200},\n",
       "  mean: 0.66834, std: 0.01284, params: {'max_depth': 13, 'min_samples_split': 300},\n",
       "  mean: 0.66848, std: 0.01463, params: {'max_depth': 13, 'min_samples_split': 400},\n",
       "  mean: 0.66608, std: 0.01245, params: {'max_depth': 13, 'min_samples_split': 500},\n",
       "  mean: 0.66647, std: 0.01359, params: {'max_depth': 13, 'min_samples_split': 600},\n",
       "  mean: 0.66677, std: 0.01488, params: {'max_depth': 13, 'min_samples_split': 700},\n",
       "  mean: 0.66034, std: 0.01405, params: {'max_depth': 13, 'min_samples_split': 800},\n",
       "  mean: 0.65941, std: 0.01373, params: {'max_depth': 13, 'min_samples_split': 900},\n",
       "  mean: 0.65639, std: 0.01400, params: {'max_depth': 13, 'min_samples_split': 1000},\n",
       "  mean: 0.66191, std: 0.01231, params: {'max_depth': 15, 'min_samples_split': 200},\n",
       "  mean: 0.66758, std: 0.01269, params: {'max_depth': 15, 'min_samples_split': 300},\n",
       "  mean: 0.66835, std: 0.01469, params: {'max_depth': 15, 'min_samples_split': 400},\n",
       "  mean: 0.66602, std: 0.01255, params: {'max_depth': 15, 'min_samples_split': 500},\n",
       "  mean: 0.66676, std: 0.01411, params: {'max_depth': 15, 'min_samples_split': 600},\n",
       "  mean: 0.66678, std: 0.01496, params: {'max_depth': 15, 'min_samples_split': 700},\n",
       "  mean: 0.66033, std: 0.01406, params: {'max_depth': 15, 'min_samples_split': 800},\n",
       "  mean: 0.65941, std: 0.01373, params: {'max_depth': 15, 'min_samples_split': 900},\n",
       "  mean: 0.65639, std: 0.01400, params: {'max_depth': 15, 'min_samples_split': 1000}],\n",
       " {'max_depth': 9, 'min_samples_split': 400},\n",
       " 0.66934246211622384)"
      ]
     },
     "execution_count": 10,
     "metadata": {},
     "output_type": "execute_result"
    }
   ],
   "source": [
    "param_test2 = {'max_depth':range(5,16,2), 'min_samples_split':range(200,1001,100)}\n",
    "gsearch2 = GridSearchCV(estimator = GradientBoostingRegressor(learning_rate=0.1, n_estimators=60, max_features='sqrt', subsample=0.8, random_state=10), param_grid = param_test2,n_jobs=4,iid=False, cv=5)\n",
    "gsearch2.fit(xtrain,ytrain)\n",
    "gsearch2.grid_scores_, gsearch2.best_params_, gsearch2.best_score_"
   ]
  },
  {
   "cell_type": "code",
   "execution_count": 11,
   "metadata": {
    "collapsed": false
   },
   "outputs": [
    {
     "name": "stdout",
     "output_type": "stream",
     "text": [
      "0.711159797093\n",
      "0.663236991871\n",
      "10.8532445004\n"
     ]
    }
   ],
   "source": [
    "gsearch2_pred = gsearch2.predict(xtest)\n",
    "print(gsearch2.score(xtrain,ytrain))\n",
    "print(gsearch2.score(xtest,ytest))\n",
    "print(np.sqrt(mean_squared_error(ytest,gsearch2_pred)))"
   ]
  },
  {
   "cell_type": "code",
   "execution_count": 12,
   "metadata": {
    "collapsed": false
   },
   "outputs": [
    {
     "name": "stderr",
     "output_type": "stream",
     "text": [
      "C:\\Users\\DHRUBAJIT\\Anaconda3\\lib\\site-packages\\sklearn\\model_selection\\_search.py:667: DeprecationWarning: The grid_scores_ attribute was deprecated in version 0.18 in favor of the more elaborate cv_results_ attribute. The grid_scores_ attribute will not be available from 0.20\n",
      "  DeprecationWarning)\n"
     ]
    },
    {
     "data": {
      "text/plain": [
       "([mean: 0.65411, std: 0.01198, params: {'min_samples_leaf': 30, 'min_samples_split': 1000},\n",
       "  mean: 0.64874, std: 0.01430, params: {'min_samples_split': 1200, 'min_samples_leaf': 30},\n",
       "  mean: 0.63791, std: 0.01146, params: {'min_samples_leaf': 30, 'min_samples_split': 1400},\n",
       "  mean: 0.63033, std: 0.01395, params: {'min_samples_split': 1600, 'min_samples_leaf': 30},\n",
       "  mean: 0.60930, std: 0.01344, params: {'min_samples_leaf': 30, 'min_samples_split': 1800},\n",
       "  mean: 0.60192, std: 0.00577, params: {'min_samples_leaf': 30, 'min_samples_split': 2000},\n",
       "  mean: 0.65495, std: 0.01230, params: {'min_samples_split': 1000, 'min_samples_leaf': 40},\n",
       "  mean: 0.64905, std: 0.01419, params: {'min_samples_split': 1200, 'min_samples_leaf': 40},\n",
       "  mean: 0.63818, std: 0.00992, params: {'min_samples_leaf': 40, 'min_samples_split': 1400},\n",
       "  mean: 0.62974, std: 0.01351, params: {'min_samples_leaf': 40, 'min_samples_split': 1600},\n",
       "  mean: 0.61069, std: 0.01252, params: {'min_samples_split': 1800, 'min_samples_leaf': 40},\n",
       "  mean: 0.60137, std: 0.00579, params: {'min_samples_leaf': 40, 'min_samples_split': 2000},\n",
       "  mean: 0.65465, std: 0.01437, params: {'min_samples_leaf': 50, 'min_samples_split': 1000},\n",
       "  mean: 0.64853, std: 0.01535, params: {'min_samples_split': 1200, 'min_samples_leaf': 50},\n",
       "  mean: 0.63734, std: 0.01155, params: {'min_samples_split': 1400, 'min_samples_leaf': 50},\n",
       "  mean: 0.62665, std: 0.01365, params: {'min_samples_leaf': 50, 'min_samples_split': 1600},\n",
       "  mean: 0.61188, std: 0.01202, params: {'min_samples_leaf': 50, 'min_samples_split': 1800},\n",
       "  mean: 0.60155, std: 0.00628, params: {'min_samples_split': 2000, 'min_samples_leaf': 50},\n",
       "  mean: 0.65487, std: 0.01398, params: {'min_samples_split': 1000, 'min_samples_leaf': 60},\n",
       "  mean: 0.64738, std: 0.01680, params: {'min_samples_leaf': 60, 'min_samples_split': 1200},\n",
       "  mean: 0.63876, std: 0.01058, params: {'min_samples_leaf': 60, 'min_samples_split': 1400},\n",
       "  mean: 0.62582, std: 0.01410, params: {'min_samples_split': 1600, 'min_samples_leaf': 60},\n",
       "  mean: 0.61141, std: 0.01226, params: {'min_samples_split': 1800, 'min_samples_leaf': 60},\n",
       "  mean: 0.60152, std: 0.00630, params: {'min_samples_leaf': 60, 'min_samples_split': 2000},\n",
       "  mean: 0.65541, std: 0.01308, params: {'min_samples_split': 1000, 'min_samples_leaf': 70},\n",
       "  mean: 0.64986, std: 0.01439, params: {'min_samples_split': 1200, 'min_samples_leaf': 70},\n",
       "  mean: 0.63947, std: 0.01264, params: {'min_samples_split': 1400, 'min_samples_leaf': 70},\n",
       "  mean: 0.62321, std: 0.00887, params: {'min_samples_split': 1600, 'min_samples_leaf': 70},\n",
       "  mean: 0.61289, std: 0.01252, params: {'min_samples_leaf': 70, 'min_samples_split': 1800},\n",
       "  mean: 0.60080, std: 0.00566, params: {'min_samples_leaf': 70, 'min_samples_split': 2000}],\n",
       " {'min_samples_leaf': 70, 'min_samples_split': 1000},\n",
       " 0.65540696885340588)"
      ]
     },
     "execution_count": 12,
     "metadata": {},
     "output_type": "execute_result"
    }
   ],
   "source": [
    "param_test3 = {'min_samples_split':range(1000,2100,200), 'min_samples_leaf':range(30,71,10)}\n",
    "gsearch3 = GridSearchCV(estimator = GradientBoostingRegressor(learning_rate=0.1, n_estimators=60,max_depth=9,max_features='sqrt', subsample=0.8, random_state=10), param_grid = param_test3,n_jobs=4,iid=False, cv=5)\n",
    "gsearch3.fit(xtrain,ytrain)\n",
    "gsearch3.grid_scores_, gsearch3.best_params_, gsearch3.best_score_"
   ]
  },
  {
   "cell_type": "code",
   "execution_count": 13,
   "metadata": {
    "collapsed": false
   },
   "outputs": [
    {
     "name": "stdout",
     "output_type": "stream",
     "text": [
      "0.675974109724\n",
      "0.649985700389\n",
      "11.0647164898\n"
     ]
    }
   ],
   "source": [
    "gsearch3_pred = gsearch3.predict(xtest)\n",
    "print(gsearch3.score(xtrain,ytrain))\n",
    "print(gsearch3.score(xtest,ytest))\n",
    "print(np.sqrt(mean_squared_error(ytest,gsearch3_pred)))"
   ]
  },
  {
   "cell_type": "code",
   "execution_count": 14,
   "metadata": {
    "collapsed": false
   },
   "outputs": [
    {
     "name": "stderr",
     "output_type": "stream",
     "text": [
      "C:\\Users\\DHRUBAJIT\\Anaconda3\\lib\\site-packages\\sklearn\\model_selection\\_search.py:667: DeprecationWarning: The grid_scores_ attribute was deprecated in version 0.18 in favor of the more elaborate cv_results_ attribute. The grid_scores_ attribute will not be available from 0.20\n",
      "  DeprecationWarning)\n"
     ]
    },
    {
     "data": {
      "text/plain": [
       "([mean: 0.54596, std: 0.01185, params: {'max_features': 1},\n",
       "  mean: 0.61671, std: 0.01113, params: {'max_features': 2},\n",
       "  mean: 0.64738, std: 0.01680, params: {'max_features': 3},\n",
       "  mean: 0.65461, std: 0.01512, params: {'max_features': 4},\n",
       "  mean: 0.66352, std: 0.01677, params: {'max_features': 5},\n",
       "  mean: 0.66888, std: 0.01618, params: {'max_features': 6},\n",
       "  mean: 0.67015, std: 0.01534, params: {'max_features': 7},\n",
       "  mean: 0.67138, std: 0.01762, params: {'max_features': 8},\n",
       "  mean: 0.67059, std: 0.01625, params: {'max_features': 9}],\n",
       " {'max_features': 8},\n",
       " 0.67137661520772696)"
      ]
     },
     "execution_count": 14,
     "metadata": {},
     "output_type": "execute_result"
    }
   ],
   "source": [
    "param_test4 = {'max_features':range(1,10,1)}\n",
    "gsearch4 = GridSearchCV(estimator = GradientBoostingRegressor(learning_rate=0.1, n_estimators=60,max_depth=9, min_samples_split=1200, min_samples_leaf=60, subsample=0.8, random_state=10),param_grid = param_test4,n_jobs=4,iid=False, cv=5)\n",
    "gsearch4.fit(xtrain,ytrain)\n",
    "gsearch4.grid_scores_, gsearch4.best_params_, gsearch4.best_score_"
   ]
  },
  {
   "cell_type": "code",
   "execution_count": 15,
   "metadata": {
    "collapsed": false
   },
   "outputs": [
    {
     "name": "stdout",
     "output_type": "stream",
     "text": [
      "0.688694553779\n",
      "0.665684728412\n",
      "10.8137295719\n"
     ]
    }
   ],
   "source": [
    "gsearch4_pred = gsearch4.predict(xtest)\n",
    "print(gsearch4.score(xtrain,ytrain))\n",
    "print(gsearch4.score(xtest,ytest))\n",
    "print(np.sqrt(mean_squared_error(ytest,gsearch4_pred)))"
   ]
  },
  {
   "cell_type": "code",
   "execution_count": 16,
   "metadata": {
    "collapsed": false
   },
   "outputs": [
    {
     "name": "stderr",
     "output_type": "stream",
     "text": [
      "C:\\Users\\DHRUBAJIT\\Anaconda3\\lib\\site-packages\\sklearn\\model_selection\\_search.py:667: DeprecationWarning: The grid_scores_ attribute was deprecated in version 0.18 in favor of the more elaborate cv_results_ attribute. The grid_scores_ attribute will not be available from 0.20\n",
      "  DeprecationWarning)\n"
     ]
    },
    {
     "data": {
      "text/plain": [
       "([mean: 0.66041, std: 0.01713, params: {'subsample': 0.6},\n",
       "  mean: 0.66511, std: 0.01552, params: {'subsample': 0.7},\n",
       "  mean: 0.67036, std: 0.01678, params: {'subsample': 0.75},\n",
       "  mean: 0.67015, std: 0.01534, params: {'subsample': 0.8},\n",
       "  mean: 0.67157, std: 0.01500, params: {'subsample': 0.85},\n",
       "  mean: 0.66981, std: 0.01766, params: {'subsample': 0.9}],\n",
       " {'subsample': 0.85},\n",
       " 0.67156709433703832)"
      ]
     },
     "execution_count": 16,
     "metadata": {},
     "output_type": "execute_result"
    }
   ],
   "source": [
    "param_test5 = {'subsample':[0.6,0.7,0.75,0.8,0.85,0.9]}\n",
    "gsearch5 = GridSearchCV(estimator = GradientBoostingRegressor(learning_rate=0.1, n_estimators=60,max_depth=9,min_samples_split=1200, min_samples_leaf=60, subsample=0.8, random_state=10,max_features=7),param_grid = param_test5,n_jobs=4,iid=False, cv=5)\n",
    "gsearch5.fit(xtrain,ytrain)\n",
    "gsearch5.grid_scores_, gsearch5.best_params_, gsearch5.best_score_"
   ]
  },
  {
   "cell_type": "code",
   "execution_count": 17,
   "metadata": {
    "collapsed": false
   },
   "outputs": [
    {
     "name": "stdout",
     "output_type": "stream",
     "text": [
      "0.688999695458\n",
      "0.664467980352\n",
      "10.8333901071\n"
     ]
    }
   ],
   "source": [
    "gsearch5_pred = gsearch5.predict(xtest)\n",
    "print(gsearch5.score(xtrain,ytrain))\n",
    "print(gsearch5.score(xtest,ytest))\n",
    "print(np.sqrt(mean_squared_error(ytest,gsearch5_pred)))"
   ]
  },
  {
   "cell_type": "code",
   "execution_count": 18,
   "metadata": {
    "collapsed": true
   },
   "outputs": [],
   "source": [
    "gbm_tuned_1 = GradientBoostingRegressor(learning_rate=0.05, n_estimators=600,max_depth=5, min_samples_split=1200,min_samples_leaf=40, subsample=0.75, random_state=10, max_features=7)\n",
    "gbm_tuned_1.fit(xtrain,ytrain)\n",
    "gbm_tuned_pred = gbm_tuned_1.predict(xtest)"
   ]
  },
  {
   "cell_type": "code",
   "execution_count": 19,
   "metadata": {
    "collapsed": false
   },
   "outputs": [
    {
     "name": "stdout",
     "output_type": "stream",
     "text": [
      "0.717250030106\n",
      "0.661391850924\n",
      "10.8829366128\n"
     ]
    }
   ],
   "source": [
    "print(gbm_tuned_1.score(xtrain,ytrain))\n",
    "print(gbm_tuned_1.score(xtest,ytest))\n",
    "print(np.sqrt(mean_squared_error(ytest,gbm_tuned_pred)))"
   ]
  },
  {
   "cell_type": "code",
   "execution_count": 24,
   "metadata": {
    "collapsed": false
   },
   "outputs": [
    {
     "name": "stdout",
     "output_type": "stream",
     "text": [
      "0.693418931545\n",
      "0.666326872996\n",
      "10.8033392066\n"
     ]
    }
   ],
   "source": [
    "gbm_tuned_2 = GradientBoostingRegressor(learning_rate=0.01, n_estimators=600,max_depth=9, min_samples_split=1000,min_samples_leaf=40, subsample=0.75, random_state=10, max_features=8)\n",
    "gbm_tuned_2.fit(xtrain,ytrain)\n",
    "gbm_tuned_pred2 = gbm_tuned_2.predict(xtest)\n",
    "print(gbm_tuned_2.score(xtrain,ytrain))\n",
    "print(gbm_tuned_2.score(xtest,ytest))\n",
    "print(np.sqrt(mean_squared_error(ytest,gbm_tuned_pred2)))"
   ]
  },
  {
   "cell_type": "code",
   "execution_count": 29,
   "metadata": {
    "collapsed": false
   },
   "outputs": [
    {
     "name": "stdout",
     "output_type": "stream",
     "text": [
      "0.710328474196\n",
      "0.665270391595\n",
      "10.8204285463\n"
     ]
    }
   ],
   "source": [
    "gbm_tuned_3 = GradientBoostingRegressor(learning_rate=0.01, n_estimators=1200,max_depth=9, min_samples_split=1000,min_samples_leaf=40, subsample=0.75, random_state=10, max_features=8)\n",
    "gbm_tuned_3.fit(xtrain,ytrain)\n",
    "gbm_tuned_pred3 = gbm_tuned_3.predict(xtest)\n",
    "print(gbm_tuned_3.score(xtrain,ytrain))\n",
    "print(gbm_tuned_3.score(xtest,ytest))\n",
    "print(np.sqrt(mean_squared_error(ytest,gbm_tuned_pred3)))"
   ]
  },
  {
   "cell_type": "code",
   "execution_count": 26,
   "metadata": {
    "collapsed": false
   },
   "outputs": [
    {
     "name": "stdout",
     "output_type": "stream",
     "text": [
      "0.709311132039\n",
      "0.66564518715\n",
      "10.8143690519\n"
     ]
    }
   ],
   "source": [
    "gbm_tuned_4 = GradientBoostingRegressor(learning_rate=0.01, n_estimators=1500,max_depth=9, min_samples_split=1200,min_samples_leaf=40, subsample=0.75, random_state=10, max_features=7)\n",
    "gbm_tuned_4.fit(xtrain,ytrain)\n",
    "gbm_tuned_pred4 = gbm_tuned_4.predict(xtest)\n",
    "print(gbm_tuned_4.score(xtrain,ytrain))\n",
    "print(gbm_tuned_4.score(xtest,ytest))\n",
    "print(np.sqrt(mean_squared_error(ytest,gbm_tuned_pred4)))"
   ]
  },
  {
   "cell_type": "code",
   "execution_count": null,
   "metadata": {
    "collapsed": true
   },
   "outputs": [],
   "source": []
  }
 ],
 "metadata": {
  "anaconda-cloud": {},
  "kernelspec": {
   "display_name": "Python [default]",
   "language": "python",
   "name": "python3"
  },
  "language_info": {
   "codemirror_mode": {
    "name": "ipython",
    "version": 3
   },
   "file_extension": ".py",
   "mimetype": "text/x-python",
   "name": "python",
   "nbconvert_exporter": "python",
   "pygments_lexer": "ipython3",
   "version": "3.5.2"
  }
 },
 "nbformat": 4,
 "nbformat_minor": 2
}
