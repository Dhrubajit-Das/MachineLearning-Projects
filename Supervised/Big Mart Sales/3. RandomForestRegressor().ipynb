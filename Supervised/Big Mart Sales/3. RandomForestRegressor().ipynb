{
 "cells": [
  {
   "cell_type": "code",
   "execution_count": 1,
   "metadata": {
    "collapsed": true
   },
   "outputs": [],
   "source": [
    "import numpy as np\n",
    "import pandas as pd\n",
    "import matplotlib.pyplot as plt\n",
    "%matplotlib inline"
   ]
  },
  {
   "cell_type": "raw",
   "metadata": {},
   "source": [
    "The below cell contains everything that we have done in Notebook 1."
   ]
  },
  {
   "cell_type": "code",
   "execution_count": 2,
   "metadata": {
    "collapsed": false
   },
   "outputs": [
    {
     "name": "stderr",
     "output_type": "stream",
     "text": [
      "C:\\Users\\DHRUBAJIT\\Anaconda3\\lib\\site-packages\\ipykernel\\__main__.py:6: SettingWithCopyWarning: \n",
      "A value is trying to be set on a copy of a slice from a DataFrame.\n",
      "Try using .loc[row_indexer,col_indexer] = value instead\n",
      "\n",
      "See the caveats in the documentation: http://pandas.pydata.org/pandas-docs/stable/indexing.html#indexing-view-versus-copy\n"
     ]
    },
    {
     "data": {
      "text/html": [
       "<div>\n",
       "<table border=\"1\" class=\"dataframe\">\n",
       "  <thead>\n",
       "    <tr style=\"text-align: right;\">\n",
       "      <th></th>\n",
       "      <th>Item_Identifier</th>\n",
       "      <th>Item_Weight</th>\n",
       "      <th>Item_Fat_Content</th>\n",
       "      <th>Item_Visibility</th>\n",
       "      <th>Item_Type</th>\n",
       "      <th>Item_MRP</th>\n",
       "      <th>Outlet_Identifier</th>\n",
       "      <th>Outlet_Establishment_Year</th>\n",
       "      <th>Outlet_Size</th>\n",
       "      <th>Outlet_Location_Type</th>\n",
       "      <th>Outlet_Type</th>\n",
       "      <th>Item_Outlet_Sales</th>\n",
       "    </tr>\n",
       "  </thead>\n",
       "  <tbody>\n",
       "    <tr>\n",
       "      <th>0</th>\n",
       "      <td>FDA15</td>\n",
       "      <td>9.30</td>\n",
       "      <td>0</td>\n",
       "      <td>0.126678</td>\n",
       "      <td>0</td>\n",
       "      <td>15.805354</td>\n",
       "      <td>OUT049</td>\n",
       "      <td>1999</td>\n",
       "      <td>1</td>\n",
       "      <td>0</td>\n",
       "      <td>1</td>\n",
       "      <td>61.115775</td>\n",
       "    </tr>\n",
       "    <tr>\n",
       "      <th>1</th>\n",
       "      <td>DRC01</td>\n",
       "      <td>5.92</td>\n",
       "      <td>1</td>\n",
       "      <td>0.138846</td>\n",
       "      <td>1</td>\n",
       "      <td>6.947604</td>\n",
       "      <td>OUT018</td>\n",
       "      <td>2009</td>\n",
       "      <td>1</td>\n",
       "      <td>2</td>\n",
       "      <td>2</td>\n",
       "      <td>21.057607</td>\n",
       "    </tr>\n",
       "    <tr>\n",
       "      <th>2</th>\n",
       "      <td>FDN15</td>\n",
       "      <td>17.50</td>\n",
       "      <td>0</td>\n",
       "      <td>0.129461</td>\n",
       "      <td>2</td>\n",
       "      <td>11.900336</td>\n",
       "      <td>OUT049</td>\n",
       "      <td>1999</td>\n",
       "      <td>1</td>\n",
       "      <td>0</td>\n",
       "      <td>1</td>\n",
       "      <td>45.795961</td>\n",
       "    </tr>\n",
       "    <tr>\n",
       "      <th>3</th>\n",
       "      <td>FDX07</td>\n",
       "      <td>19.20</td>\n",
       "      <td>1</td>\n",
       "      <td>0.000000</td>\n",
       "      <td>3</td>\n",
       "      <td>13.494258</td>\n",
       "      <td>OUT010</td>\n",
       "      <td>1998</td>\n",
       "      <td>1</td>\n",
       "      <td>2</td>\n",
       "      <td>0</td>\n",
       "      <td>27.062520</td>\n",
       "    </tr>\n",
       "    <tr>\n",
       "      <th>4</th>\n",
       "      <td>NCD19</td>\n",
       "      <td>8.93</td>\n",
       "      <td>0</td>\n",
       "      <td>0.000000</td>\n",
       "      <td>4</td>\n",
       "      <td>7.339033</td>\n",
       "      <td>OUT013</td>\n",
       "      <td>1987</td>\n",
       "      <td>2</td>\n",
       "      <td>2</td>\n",
       "      <td>1</td>\n",
       "      <td>31.538947</td>\n",
       "    </tr>\n",
       "  </tbody>\n",
       "</table>\n",
       "</div>"
      ],
      "text/plain": [
       "  Item_Identifier  Item_Weight  Item_Fat_Content  Item_Visibility  Item_Type  \\\n",
       "0           FDA15         9.30                 0         0.126678          0   \n",
       "1           DRC01         5.92                 1         0.138846          1   \n",
       "2           FDN15        17.50                 0         0.129461          2   \n",
       "3           FDX07        19.20                 1         0.000000          3   \n",
       "4           NCD19         8.93                 0         0.000000          4   \n",
       "\n",
       "    Item_MRP Outlet_Identifier  Outlet_Establishment_Year  Outlet_Size  \\\n",
       "0  15.805354            OUT049                       1999            1   \n",
       "1   6.947604            OUT018                       2009            1   \n",
       "2  11.900336            OUT049                       1999            1   \n",
       "3  13.494258            OUT010                       1998            1   \n",
       "4   7.339033            OUT013                       1987            2   \n",
       "\n",
       "   Outlet_Location_Type  Outlet_Type  Item_Outlet_Sales  \n",
       "0                     0            1          61.115775  \n",
       "1                     2            2          21.057607  \n",
       "2                     0            1          45.795961  \n",
       "3                     2            0          27.062520  \n",
       "4                     2            1          31.538947  "
      ]
     },
     "execution_count": 2,
     "metadata": {},
     "output_type": "execute_result"
    }
   ],
   "source": [
    "sales = pd.read_csv(\"C:\\\\Users\\\\DHRUBAJIT\\\\Desktop\\\\AnalyticsVidhya\\\\Big Mart Sales\\\\Big_Mart_Sales_train.csv\")\n",
    "\n",
    "for i in sales.Item_Type.unique():\n",
    "    group1 = sales[sales['Item_Type'] == i]\n",
    "    ave = group1['Item_Weight'].mean()\n",
    "    group1['Item_Weight'] = group1['Item_Weight'].fillna(ave)\n",
    "   \n",
    "    sales.loc[sales['Item_Weight'].isnull(),'Item_Weight'] = group1['Item_Weight']\n",
    "    \n",
    "    \n",
    "outlet_size_mode = sales['Outlet_Size'].mode()[0]\n",
    "sales['Outlet_Size'] = sales['Outlet_Size'].fillna(outlet_size_mode)\n",
    "\n",
    "sales['Item_Visibility'] = np.sqrt(sales['Item_Visibility'])\n",
    "\n",
    "sales['Item_MRP'] = np.sqrt(sales['Item_MRP'])\n",
    "\n",
    "sales['Item_Outlet_Sales'] = np.sqrt(sales['Item_Outlet_Sales'])\n",
    "\n",
    "sales = sales.replace({'Item_Fat_Content' : { 'low fat' : 'Low Fat', 'LF' : 'Low Fat', 'reg' : 'Regular' }})\n",
    "fat_content = {'Low Fat':0,'Regular':1}\n",
    "sales['Item_Fat_Content'] = sales['Item_Fat_Content'].map(fat_content)\n",
    "\n",
    "out_size = {'Small':0,'Medium':1, 'High':2}\n",
    "sales['Outlet_Size'] = sales['Outlet_Size'].map(out_size)\n",
    "\n",
    "out_loctype = {'Tier 1':0,'Tier 2':1, 'Tier 3':2}\n",
    "sales['Outlet_Location_Type'] = sales['Outlet_Location_Type'].map(out_loctype)\n",
    "\n",
    "out_type = {'Grocery Store':0,'Supermarket Type1':1, 'Supermarket Type2':2, 'Supermarket Type3':3}\n",
    "sales['Outlet_Type'] = sales['Outlet_Type'].map(out_type)\n",
    "\n",
    "i_type = {'Dairy':0, 'Soft Drinks':1, 'Meat':2, 'Fruits and Vegetables':3,\n",
    "       'Household':4, 'Baking Goods':5, 'Snack Foods':6, 'Frozen Foods':7,\n",
    "       'Breakfast':8, 'Health and Hygiene':9, 'Hard Drinks':10, 'Canned':11,\n",
    "       'Breads':12, 'Starchy Foods':13, 'Seafood':14,'Others':15}\n",
    "sales['Item_Type'] = sales['Item_Type'].map(i_type)\n",
    "\n",
    "sales.head()"
   ]
  },
  {
   "cell_type": "code",
   "execution_count": 3,
   "metadata": {
    "collapsed": true
   },
   "outputs": [],
   "source": [
    "X = sales.drop(['Item_Identifier','Outlet_Identifier','Item_Outlet_Sales'], axis=1)\n",
    "y = sales.Item_Outlet_Sales"
   ]
  },
  {
   "cell_type": "code",
   "execution_count": 4,
   "metadata": {
    "collapsed": true
   },
   "outputs": [],
   "source": [
    "from sklearn.model_selection import train_test_split\n",
    "xtrain,xtest,ytrain,ytest = train_test_split(X,y, random_state=0, test_size=0.3)"
   ]
  },
  {
   "cell_type": "markdown",
   "metadata": {
    "collapsed": true
   },
   "source": [
    "### Trial 1"
   ]
  },
  {
   "cell_type": "code",
   "execution_count": 6,
   "metadata": {
    "collapsed": false
   },
   "outputs": [
    {
     "name": "stdout",
     "output_type": "stream",
     "text": [
      "0.928409864018\n",
      "0.607356131157\n",
      "11.7191687226\n"
     ]
    }
   ],
   "source": [
    "# Default Random Forest\n",
    "from sklearn.ensemble import RandomForestRegressor\n",
    "from sklearn.metrics import mean_squared_error\n",
    "rf = RandomForestRegressor()\n",
    "rf.fit(xtrain, ytrain)\n",
    "rf_pred = rf.predict(xtest)\n",
    "print(rf.score(xtrain,ytrain))\n",
    "print(rf.score(xtest,ytest))\n",
    "print(np.sqrt(mean_squared_error(ytest,rf_pred)))"
   ]
  },
  {
   "cell_type": "markdown",
   "metadata": {},
   "source": [
    "RandomForest is overfitting the data.\n",
    "\n",
    "Lets tune the model."
   ]
  },
  {
   "cell_type": "code",
   "execution_count": 13,
   "metadata": {
    "collapsed": false
   },
   "outputs": [
    {
     "name": "stdout",
     "output_type": "stream",
     "text": [
      "0.672390075512\n",
      "{'n_estimators': 300, 'max_features': 'auto', 'min_samples_leaf': 50}\n"
     ]
    }
   ],
   "source": [
    "tuned_param = {'min_samples_leaf': [1,5,10,50,100,200,500], 'n_estimators' : range(100,1000,100),\n",
    "                    'max_features':['auto','sqrt','log2']}\n",
    "\n",
    "from sklearn.model_selection import GridSearchCV, RandomizedSearchCV\n",
    "RR_model= RandomizedSearchCV(rf, tuned_param,cv=10,n_iter=20,n_jobs= -1)\n",
    "RR_model.fit(xtrain,ytrain)\n",
    "print(RR_model.best_score_)\n",
    "print(RR_model.best_params_)"
   ]
  },
  {
   "cell_type": "code",
   "execution_count": 14,
   "metadata": {
    "collapsed": false
   },
   "outputs": [
    {
     "name": "stdout",
     "output_type": "stream",
     "text": [
      "0.699262794247\n",
      "0.665293797164\n",
      "10.8200502369\n"
     ]
    }
   ],
   "source": [
    "RR_pred = RR_model.predict(xtest)\n",
    "print(RR_model.score(xtrain,ytrain))\n",
    "print(RR_model.score(xtest,ytest))\n",
    "print(np.sqrt(mean_squared_error(ytest,RR_pred)))"
   ]
  },
  {
   "cell_type": "markdown",
   "metadata": {},
   "source": [
    "### Trial 2 "
   ]
  },
  {
   "cell_type": "code",
   "execution_count": 15,
   "metadata": {
    "collapsed": false
   },
   "outputs": [
    {
     "name": "stdout",
     "output_type": "stream",
     "text": [
      "[  6.30347725e-01   1.61750696e-01   1.22442686e-01   6.86851592e-02\n",
      "   9.38733497e-03   3.86245526e-03   2.04776482e-03   1.37656594e-03\n",
      "   9.96119638e-05]\n"
     ]
    }
   ],
   "source": [
    "# applying PCA\n",
    "from sklearn.decomposition import PCA\n",
    "pca = PCA()\n",
    "pca.fit_transform(X)\n",
    "print(pca.explained_variance_ratio_)"
   ]
  },
  {
   "cell_type": "code",
   "execution_count": 20,
   "metadata": {
    "collapsed": false
   },
   "outputs": [
    {
     "data": {
      "image/png": "[encoded data removed]",
      "text/plain": [
       "<matplotlib.figure.Figure at 0xf2926f9f98>"
      ]
     },
     "metadata": {},
     "output_type": "display_data"
    }
   ],
   "source": [
    "with plt.style.context('dark_background'):\n",
    "    plt.figure(figsize=(6, 4))\n",
    "    \n",
    "    plt.bar(range(9), pca.explained_variance_, alpha=0.5, align='center',\n",
    "            label='individual explained variance')\n",
    "    plt.ylabel('Explained variance ratio')\n",
    "    plt.xlabel('Principal components')\n",
    "    plt.legend(loc='best')\n",
    "    plt.tight_layout()"
   ]
  },
  {
   "cell_type": "markdown",
   "metadata": {},
   "source": [
    "The 1st 5 components retains more than 95% of the data."
   ]
  },
  {
   "cell_type": "code",
   "execution_count": 26,
   "metadata": {
    "collapsed": false
   },
   "outputs": [
    {
     "name": "stdout",
     "output_type": "stream",
     "text": [
      "0.934224125316\n",
      "0.604286231561\n",
      "11.7648928846\n"
     ]
    }
   ],
   "source": [
    "# Taking PCA with 5 components\n",
    "pca_modified = PCA(n_components=5)\n",
    "pca_modified.fit_transform(X)\n",
    "X_train, X_test, y_train, y_test = train_test_split(X,y,test_size=0.3,random_state=0)\n",
    "rf_pca = RandomForestRegressor()\n",
    "rf_pca.fit(X_train,y_train)\n",
    "rf_pca_pred = rf_pca.predict(X_test)\n",
    "print(rf_pca.score(X_train,y_train))\n",
    "print(rf_pca.score(X_test,y_test))\n",
    "print(np.sqrt(mean_squared_error(y_test,rf_pca_pred)))"
   ]
  },
  {
   "cell_type": "code",
   "execution_count": 30,
   "metadata": {
    "collapsed": false
   },
   "outputs": [
    {
     "name": "stdout",
     "output_type": "stream",
     "text": [
      "0.657343068274\n",
      "{'n_estimators': 500, 'max_features': 'log2', 'min_samples_leaf': 5}\n"
     ]
    }
   ],
   "source": [
    "#Tuning the model\n",
    "X_copy = pca_modified.fit_transform(X)\n",
    "X_train1, X_test1, y_train1, y_test1 = train_test_split(X_copy,y,test_size=0.3,random_state=0)\n",
    "tuned_param1 = {'min_samples_leaf': [1,5,10,50,100,200,500], 'n_estimators' : range(100,1000,100),\n",
    "                    'max_features':['auto','sqrt','log2']}\n",
    "\n",
    "from sklearn.model_selection import GridSearchCV, RandomizedSearchCV\n",
    "RR_model1= RandomizedSearchCV(rf_pca, tuned_param1,cv=10,n_iter=20,n_jobs= -1)\n",
    "RR_model1.fit(X_train1,y_train1)\n",
    "print(RR_model1.best_score_)\n",
    "print(RR_model1.best_params_)"
   ]
  },
  {
   "cell_type": "code",
   "execution_count": 32,
   "metadata": {
    "collapsed": false
   },
   "outputs": [
    {
     "name": "stdout",
     "output_type": "stream",
     "text": [
      "0.814499278251\n",
      "0.658296978866\n",
      "10.9325584023\n"
     ]
    }
   ],
   "source": [
    "RR_pred1 = RR_model1.predict(X_test1)\n",
    "print(RR_model1.score(X_train1,y_train1))\n",
    "print(RR_model1.score(X_test1,y_test1))\n",
    "print(np.sqrt(mean_squared_error(y_test1,RR_pred1)))"
   ]
  },
  {
   "cell_type": "markdown",
   "metadata": {},
   "source": [
    "### Trial 3"
   ]
  },
  {
   "cell_type": "code",
   "execution_count": 34,
   "metadata": {
    "collapsed": false
   },
   "outputs": [
    {
     "name": "stdout",
     "output_type": "stream",
     "text": [
      "0.932710403323\n",
      "0.60693223899\n",
      "11.7254929316\n"
     ]
    }
   ],
   "source": [
    "# taking KernelPCA\n",
    "from sklearn.decomposition import KernelPCA\n",
    "kpca = KernelPCA(kernel='rbf', n_components=5)\n",
    "kpca.fit_transform(X)\n",
    "X_train, X_test, y_train, y_test = train_test_split(X,y,test_size=0.3,random_state=0)\n",
    "rf_kpca = RandomForestRegressor()\n",
    "rf_kpca.fit(X_train,y_train)\n",
    "rf_kpca_pred = rf_kpca.predict(X_test)\n",
    "print(rf_kpca.score(X_train,y_train))\n",
    "print(rf_kpca.score(X_test,y_test))\n",
    "print(np.sqrt(mean_squared_error(y_test,rf_kpca_pred)))"
   ]
  },
  {
   "cell_type": "code",
   "execution_count": 38,
   "metadata": {
    "collapsed": false
   },
   "outputs": [
    {
     "name": "stdout",
     "output_type": "stream",
     "text": [
      "0.301603671819\n",
      "{'n_estimators': 800, 'max_features': 'log2', 'min_samples_leaf': 10}\n"
     ]
    }
   ],
   "source": [
    "# tuning the model\n",
    "X_copy2 = kpca.fit_transform(X)\n",
    "X_train2, X_test2, y_train2, y_test2 = train_test_split(X_copy2,y,test_size=0.3,random_state=0)\n",
    "tuned_param2 = {'min_samples_leaf': [1,5,10,50,100,200,500], 'n_estimators' : range(100,1000,100),\n",
    "                    'max_features':['auto','sqrt','log2']}\n",
    "\n",
    "from sklearn.model_selection import GridSearchCV, RandomizedSearchCV\n",
    "RR_model2= RandomizedSearchCV(rf_kpca, tuned_param2,cv=10,n_iter=20,n_jobs= -1)\n",
    "RR_model2.fit(X_train2,y_train2)\n",
    "print(RR_model2.best_score_)\n",
    "print(RR_model2.best_params_)"
   ]
  },
  {
   "cell_type": "code",
   "execution_count": 39,
   "metadata": {
    "collapsed": false
   },
   "outputs": [
    {
     "name": "stdout",
     "output_type": "stream",
     "text": [
      "0.504538069394\n",
      "0.328492676532\n",
      "15.3257865801\n"
     ]
    }
   ],
   "source": [
    "RR_pred2 = RR_model2.predict(X_test2)\n",
    "print(RR_model2.score(X_train2,y_train2))\n",
    "print(RR_model2.score(X_test2,y_test2))\n",
    "print(np.sqrt(mean_squared_error(y_test2,RR_pred2)))"
   ]
  },
  {
   "cell_type": "markdown",
   "metadata": {},
   "source": [
    "### Trial 4"
   ]
  },
  {
   "cell_type": "code",
   "execution_count": 50,
   "metadata": {
    "collapsed": false
   },
   "outputs": [
    {
     "name": "stdout",
     "output_type": "stream",
     "text": [
      "                            OLS Regression Results                            \n",
      "==============================================================================\n",
      "Dep. Variable:      Item_Outlet_Sales   R-squared:                       0.341\n",
      "Model:                            OLS   Adj. R-squared:                  0.340\n",
      "Method:                 Least Squares   F-statistic:                     879.6\n",
      "Date:                Wed, 26 Apr 2017   Prob (F-statistic):               0.00\n",
      "Time:                        14:06:12   Log-Likelihood:                -35122.\n",
      "No. Observations:                8523   AIC:                         7.026e+04\n",
      "Df Residuals:                    8517   BIC:                         7.030e+04\n",
      "Df Model:                           5                                         \n",
      "Covariance Type:            nonrobust                                         \n",
      "==============================================================================\n",
      "                 coef    std err          t      P>|t|      [95.0% Conf. Int.]\n",
      "------------------------------------------------------------------------------\n",
      "const          0.8248      0.193      4.283      0.000         0.447     1.202\n",
      "x1             0.8248      0.193      4.283      0.000         0.447     1.202\n",
      "x2             0.8248      0.193      4.283      0.000         0.447     1.202\n",
      "x3             0.8248      0.193      4.283      0.000         0.447     1.202\n",
      "x4             0.8248      0.193      4.283      0.000         0.447     1.202\n",
      "x5            -0.0150      0.038     -0.392      0.695        -0.090     0.060\n",
      "x6             0.7621      0.339      2.249      0.025         0.098     1.426\n",
      "x7           -22.0976      1.507    -14.660      0.000       -25.052   -19.143\n",
      "x8             0.0532      0.044      1.217      0.224        -0.033     0.139\n",
      "x9             3.7765      0.058     64.654      0.000         3.662     3.891\n",
      "==============================================================================\n",
      "Omnibus:                      125.192   Durbin-Watson:                   1.987\n",
      "Prob(Omnibus):                  0.000   Jarque-Bera (JB):              130.407\n",
      "Skew:                          -0.300   Prob(JB):                     4.81e-29\n",
      "Kurtosis:                       3.081   Cond. No.                     5.76e+18\n",
      "==============================================================================\n",
      "\n",
      "Warnings:\n",
      "[1] Standard Errors assume that the covariance matrix of the errors is correctly specified.\n",
      "[2] The smallest eigenvalue is 8.96e-32. This might indicate that there are\n",
      "strong multicollinearity problems or that the design matrix is singular.\n"
     ]
    }
   ],
   "source": [
    "# Using statsmodels to select features: Backward Elimination\n",
    "import statsmodels.formula.api as sn\n",
    "X = np.append(arr = np.ones((8523,1)).astype(int), values = X, axis=1)\n",
    "X_opt = X[:,[0,1,2,3,4,5,6,7,8,9]]\n",
    "model = sn.OLS(endog = y, exog = X_opt).fit()\n",
    "print(model.summary()) "
   ]
  },
  {
   "cell_type": "code",
   "execution_count": 51,
   "metadata": {
    "collapsed": false
   },
   "outputs": [
    {
     "name": "stdout",
     "output_type": "stream",
     "text": [
      "                            OLS Regression Results                            \n",
      "==============================================================================\n",
      "Dep. Variable:      Item_Outlet_Sales   R-squared:                       0.341\n",
      "Model:                            OLS   Adj. R-squared:                  0.340\n",
      "Method:                 Least Squares   F-statistic:                     1100.\n",
      "Date:                Wed, 26 Apr 2017   Prob (F-statistic):               0.00\n",
      "Time:                        14:07:56   Log-Likelihood:                -35122.\n",
      "No. Observations:                8523   AIC:                         7.025e+04\n",
      "Df Residuals:                    8518   BIC:                         7.029e+04\n",
      "Df Model:                           4                                         \n",
      "Covariance Type:            nonrobust                                         \n",
      "==============================================================================\n",
      "                 coef    std err          t      P>|t|      [95.0% Conf. Int.]\n",
      "------------------------------------------------------------------------------\n",
      "const        6.07e+11   2.75e+12      0.220      0.826     -4.79e+12  6.01e+12\n",
      "x1          -6.35e+11   2.88e+12     -0.220      0.826     -6.28e+12  5.01e+12\n",
      "x2         -6.279e+11   2.85e+12     -0.220      0.826     -6.21e+12  4.96e+12\n",
      "x3         -6.399e+11    2.9e+12     -0.220      0.826     -6.33e+12  5.05e+12\n",
      "x4          1.296e+12   5.88e+12      0.220      0.826     -1.02e+13  1.28e+13\n",
      "x5             0.7662      0.339      2.262      0.024         0.102     1.430\n",
      "x6           -22.0914      1.507    -14.656      0.000       -25.046   -19.137\n",
      "x7             0.0540      0.044      1.234      0.217        -0.032     0.140\n",
      "x8             3.7757      0.058     64.656      0.000         3.661     3.890\n",
      "==============================================================================\n",
      "Omnibus:                      124.929   Durbin-Watson:                   1.987\n",
      "Prob(Omnibus):                  0.000   Jarque-Bera (JB):              130.120\n",
      "Skew:                          -0.300   Prob(JB):                     5.56e-29\n",
      "Kurtosis:                       3.080   Cond. No.                     1.26e+19\n",
      "==============================================================================\n",
      "\n",
      "Warnings:\n",
      "[1] Standard Errors assume that the covariance matrix of the errors is correctly specified.\n",
      "[2] The smallest eigenvalue is 9.65e-33. This might indicate that there are\n",
      "strong multicollinearity problems or that the design matrix is singular.\n"
     ]
    }
   ],
   "source": [
    "X_opt = X[:,[0,1,2,3,4,6,7,8,9]]\n",
    "model = sn.OLS(endog = y, exog = X_opt).fit()\n",
    "print(model.summary()) "
   ]
  },
  {
   "cell_type": "code",
   "execution_count": 59,
   "metadata": {
    "collapsed": false
   },
   "outputs": [
    {
     "name": "stdout",
     "output_type": "stream",
     "text": [
      "                            OLS Regression Results                            \n",
      "==============================================================================\n",
      "Dep. Variable:      Item_Outlet_Sales   R-squared:                       0.341\n",
      "Model:                            OLS   Adj. R-squared:                  0.340\n",
      "Method:                 Least Squares   F-statistic:                     1100.\n",
      "Date:                Wed, 26 Apr 2017   Prob (F-statistic):               0.00\n",
      "Time:                        14:17:13   Log-Likelihood:                -35122.\n",
      "No. Observations:                8523   AIC:                         7.025e+04\n",
      "Df Residuals:                    8518   BIC:                         7.029e+04\n",
      "Df Model:                           4                                         \n",
      "Covariance Type:            nonrobust                                         \n",
      "==============================================================================\n",
      "                 coef    std err          t      P>|t|      [95.0% Conf. Int.]\n",
      "------------------------------------------------------------------------------\n",
      "const          3.9326      0.830      4.739      0.000         2.306     5.559\n",
      "x1             0.7652      0.339      2.259      0.024         0.101     1.429\n",
      "x2           -22.0939      1.507    -14.659      0.000       -25.048   -19.139\n",
      "x3             0.0538      0.044      1.231      0.218        -0.032     0.140\n",
      "x4             3.7759      0.058     64.667      0.000         3.661     3.890\n",
      "==============================================================================\n",
      "Omnibus:                      124.965   Durbin-Watson:                   1.987\n",
      "Prob(Omnibus):                  0.000   Jarque-Bera (JB):              130.159\n",
      "Skew:                          -0.300   Prob(JB):                     5.45e-29\n",
      "Kurtosis:                       3.080   Cond. No.                         128.\n",
      "==============================================================================\n",
      "\n",
      "Warnings:\n",
      "[1] Standard Errors assume that the covariance matrix of the errors is correctly specified.\n"
     ]
    }
   ],
   "source": [
    "X_opt = X[:,[0,6,7,8,9]]\n",
    "model = sn.OLS(endog = y, exog = X_opt).fit()\n",
    "print(model.summary())"
   ]
  },
  {
   "cell_type": "code",
   "execution_count": 60,
   "metadata": {
    "collapsed": false
   },
   "outputs": [
    {
     "name": "stdout",
     "output_type": "stream",
     "text": [
      "                            OLS Regression Results                            \n",
      "==============================================================================\n",
      "Dep. Variable:      Item_Outlet_Sales   R-squared:                       0.340\n",
      "Model:                            OLS   Adj. R-squared:                  0.340\n",
      "Method:                 Least Squares   F-statistic:                     1466.\n",
      "Date:                Wed, 26 Apr 2017   Prob (F-statistic):               0.00\n",
      "Time:                        14:17:51   Log-Likelihood:                -35123.\n",
      "No. Observations:                8523   AIC:                         7.025e+04\n",
      "Df Residuals:                    8519   BIC:                         7.028e+04\n",
      "Df Model:                           3                                         \n",
      "Covariance Type:            nonrobust                                         \n",
      "==============================================================================\n",
      "                 coef    std err          t      P>|t|      [95.0% Conf. Int.]\n",
      "------------------------------------------------------------------------------\n",
      "const          4.2710      0.783      5.455      0.000         2.736     5.806\n",
      "x1             0.7477      0.338      2.209      0.027         0.084     1.411\n",
      "x2           -22.1186      1.507    -14.676      0.000       -25.073   -19.164\n",
      "x3             3.7741      0.058     64.655      0.000         3.660     3.889\n",
      "==============================================================================\n",
      "Omnibus:                      125.541   Durbin-Watson:                   1.988\n",
      "Prob(Omnibus):                  0.000   Jarque-Bera (JB):              130.785\n",
      "Skew:                          -0.301   Prob(JB):                     3.98e-29\n",
      "Kurtosis:                       3.078   Cond. No.                         115.\n",
      "==============================================================================\n",
      "\n",
      "Warnings:\n",
      "[1] Standard Errors assume that the covariance matrix of the errors is correctly specified.\n"
     ]
    }
   ],
   "source": [
    "X_opt = X[:,[0,6,7,9]]\n",
    "model = sn.OLS(endog = y, exog = X_opt).fit()\n",
    "print(model.summary())"
   ]
  },
  {
   "cell_type": "code",
   "execution_count": 61,
   "metadata": {
    "collapsed": false
   },
   "outputs": [
    {
     "name": "stdout",
     "output_type": "stream",
     "text": [
      "0.871189214802\n",
      "0.252258076743\n",
      "16.1723548554\n"
     ]
    }
   ],
   "source": [
    "rf_new = RandomForestRegressor()\n",
    "xtr,xte,ytr,yte = train_test_split(X_opt,y, test_size=0.3, random_state=0)\n",
    "rf_new.fit(xtr,ytr)\n",
    "rf_new_pred = rf_new.predict(xte)\n",
    "print(rf_new.score(xtr,ytr))\n",
    "print(rf_new.score(xte,yte))\n",
    "print(np.sqrt(mean_squared_error(yte,rf_new_pred)))"
   ]
  },
  {
   "cell_type": "code",
   "execution_count": 63,
   "metadata": {
    "collapsed": false
   },
   "outputs": [
    {
     "data": {
      "text/plain": [
       "RandomizedSearchCV(cv=10, error_score='raise',\n",
       "          estimator=RandomForestRegressor(bootstrap=True, criterion='mse', max_depth=None,\n",
       "           max_features='auto', max_leaf_nodes=None,\n",
       "           min_impurity_split=1e-07, min_samples_leaf=1,\n",
       "           min_samples_split=2, min_weight_fraction_leaf=0.0,\n",
       "           n_estimators=10, n_jobs=1, oob_score=False, random_state=None,\n",
       "           verbose=0, warm_start=False),\n",
       "          fit_params={}, iid=True, n_iter=20, n_jobs=-1,\n",
       "          param_distributions={'n_estimators': range(100, 1000, 100), 'max_features': ['auto', 'sqrt', 'log2'], 'min_samples_leaf': [1, 5, 10, 50, 100, 200, 500]},\n",
       "          pre_dispatch='2*n_jobs', random_state=None, refit=True,\n",
       "          return_train_score=True, scoring=None, verbose=0)"
      ]
     },
     "execution_count": 63,
     "metadata": {},
     "output_type": "execute_result"
    }
   ],
   "source": [
    "# tuning the model\n",
    "tuned_param4 = {'min_samples_leaf': [1,5,10,50,100,200,500], 'n_estimators' : range(100,1000,100),\n",
    "                    'max_features':['auto','sqrt','log2']}\n",
    "\n",
    "from sklearn.model_selection import GridSearchCV, RandomizedSearchCV\n",
    "RR_model4= RandomizedSearchCV(rf_new, tuned_param4,cv=10,n_iter=20,n_jobs= -1)\n",
    "RR_model4.fit(xtr,ytr)"
   ]
  },
  {
   "cell_type": "code",
   "execution_count": 65,
   "metadata": {
    "collapsed": false
   },
   "outputs": [
    {
     "name": "stdout",
     "output_type": "stream",
     "text": [
      "0.405857478204\n",
      "0.352800795541\n",
      "15.0458380942\n"
     ]
    }
   ],
   "source": [
    "RR_pred4 = RR_model4.predict(xte)\n",
    "print(RR_model4.score(xtr,ytr))\n",
    "print(RR_model4.score(xte,yte))\n",
    "print(np.sqrt(mean_squared_error(yte,RR_pred4)))"
   ]
  },
  {
   "cell_type": "markdown",
   "metadata": {},
   "source": [
    "### Trial 5"
   ]
  },
  {
   "cell_type": "code",
   "execution_count": 67,
   "metadata": {
    "collapsed": true
   },
   "outputs": [],
   "source": [
    "XX = sales.drop(['Item_Identifier','Outlet_Identifier','Item_Outlet_Sales'], axis=1)"
   ]
  },
  {
   "cell_type": "code",
   "execution_count": 73,
   "metadata": {
    "collapsed": false
   },
   "outputs": [
    {
     "name": "stdout",
     "output_type": "stream",
     "text": [
      "[ -0.00000000e+00   0.00000000e+00  -0.00000000e+00   5.71595127e-03\n",
      "   3.71565338e+00   1.31717514e-01   2.16401808e+00  -3.36553306e+00\n",
      "   1.09434818e+01]\n"
     ]
    }
   ],
   "source": [
    "# Apply L1 regularization penalty\n",
    "from sklearn.linear_model import Lasso\n",
    "lsso = Lasso(alpha=0.5)\n",
    "lsso.fit(XX,y)\n",
    "print(lsso.coef_)"
   ]
  },
  {
   "cell_type": "code",
   "execution_count": 75,
   "metadata": {
    "collapsed": false
   },
   "outputs": [
    {
     "data": {
      "text/html": [
       "<div>\n",
       "<table border=\"1\" class=\"dataframe\">\n",
       "  <thead>\n",
       "    <tr style=\"text-align: right;\">\n",
       "      <th></th>\n",
       "      <th>Item_Type</th>\n",
       "      <th>Item_MRP</th>\n",
       "      <th>Outlet_Establishment_Year</th>\n",
       "      <th>Outlet_Size</th>\n",
       "      <th>Outlet_Location_Type</th>\n",
       "      <th>Outlet_Type</th>\n",
       "    </tr>\n",
       "  </thead>\n",
       "  <tbody>\n",
       "    <tr>\n",
       "      <th>0</th>\n",
       "      <td>0</td>\n",
       "      <td>15.805354</td>\n",
       "      <td>1999</td>\n",
       "      <td>1</td>\n",
       "      <td>0</td>\n",
       "      <td>1</td>\n",
       "    </tr>\n",
       "    <tr>\n",
       "      <th>1</th>\n",
       "      <td>1</td>\n",
       "      <td>6.947604</td>\n",
       "      <td>2009</td>\n",
       "      <td>1</td>\n",
       "      <td>2</td>\n",
       "      <td>2</td>\n",
       "    </tr>\n",
       "    <tr>\n",
       "      <th>2</th>\n",
       "      <td>2</td>\n",
       "      <td>11.900336</td>\n",
       "      <td>1999</td>\n",
       "      <td>1</td>\n",
       "      <td>0</td>\n",
       "      <td>1</td>\n",
       "    </tr>\n",
       "    <tr>\n",
       "      <th>3</th>\n",
       "      <td>3</td>\n",
       "      <td>13.494258</td>\n",
       "      <td>1998</td>\n",
       "      <td>1</td>\n",
       "      <td>2</td>\n",
       "      <td>0</td>\n",
       "    </tr>\n",
       "    <tr>\n",
       "      <th>4</th>\n",
       "      <td>4</td>\n",
       "      <td>7.339033</td>\n",
       "      <td>1987</td>\n",
       "      <td>2</td>\n",
       "      <td>2</td>\n",
       "      <td>1</td>\n",
       "    </tr>\n",
       "  </tbody>\n",
       "</table>\n",
       "</div>"
      ],
      "text/plain": [
       "   Item_Type   Item_MRP  Outlet_Establishment_Year  Outlet_Size  \\\n",
       "0          0  15.805354                       1999            1   \n",
       "1          1   6.947604                       2009            1   \n",
       "2          2  11.900336                       1999            1   \n",
       "3          3  13.494258                       1998            1   \n",
       "4          4   7.339033                       1987            2   \n",
       "\n",
       "   Outlet_Location_Type  Outlet_Type  \n",
       "0                     0            1  \n",
       "1                     2            2  \n",
       "2                     0            1  \n",
       "3                     2            0  \n",
       "4                     2            1  "
      ]
     },
     "execution_count": 75,
     "metadata": {},
     "output_type": "execute_result"
    }
   ],
   "source": [
    "XX = XX.drop(['Item_Weight','Item_Fat_Content','Item_Visibility'], axis=1)"
   ]
  },
  {
   "cell_type": "code",
   "execution_count": 76,
   "metadata": {
    "collapsed": false
   },
   "outputs": [
    {
     "name": "stdout",
     "output_type": "stream",
     "text": [
      "0.928497214924\n",
      "0.579290266058\n",
      "12.1307786138\n"
     ]
    }
   ],
   "source": [
    "new_rf = RandomForestRegressor()\n",
    "xtra,xtes,ytra,ytes = train_test_split(XX,y, random_state=0,test_size=0.3)\n",
    "new_rf.fit(xtra,ytra)\n",
    "new_rf_pred = new_rf.predict(xtes)\n",
    "print(new_rf.score(xtra,ytra))\n",
    "print(new_rf.score(xtes,ytes))\n",
    "print(np.sqrt(mean_squared_error(yte,new_rf_pred)))"
   ]
  },
  {
   "cell_type": "code",
   "execution_count": 77,
   "metadata": {
    "collapsed": false
   },
   "outputs": [
    {
     "data": {
      "text/plain": [
       "RandomizedSearchCV(cv=10, error_score='raise',\n",
       "          estimator=RandomForestRegressor(bootstrap=True, criterion='mse', max_depth=None,\n",
       "           max_features='auto', max_leaf_nodes=None,\n",
       "           min_impurity_split=1e-07, min_samples_leaf=1,\n",
       "           min_samples_split=2, min_weight_fraction_leaf=0.0,\n",
       "           n_estimators=10, n_jobs=1, oob_score=False, random_state=None,\n",
       "           verbose=0, warm_start=False),\n",
       "          fit_params={}, iid=True, n_iter=20, n_jobs=-1,\n",
       "          param_distributions={'n_estimators': range(100, 1000, 100), 'max_features': ['auto', 'sqrt', 'log2'], 'min_samples_leaf': [1, 5, 10, 50, 100, 200, 500]},\n",
       "          pre_dispatch='2*n_jobs', random_state=None, refit=True,\n",
       "          return_train_score=True, scoring=None, verbose=0)"
      ]
     },
     "execution_count": 77,
     "metadata": {},
     "output_type": "execute_result"
    }
   ],
   "source": [
    "#tuning the model\n",
    "tuned_param5 = {'min_samples_leaf': [1,5,10,50,100,200,500], 'n_estimators' : range(100,1000,100),\n",
    "                    'max_features':['auto','sqrt','log2']}\n",
    "\n",
    "from sklearn.model_selection import GridSearchCV, RandomizedSearchCV\n",
    "RR_model5= RandomizedSearchCV(new_rf, tuned_param5,cv=10,n_iter=20,n_jobs= -1)\n",
    "RR_model5.fit(xtra,ytra)"
   ]
  },
  {
   "cell_type": "code",
   "execution_count": 78,
   "metadata": {
    "collapsed": false
   },
   "outputs": [
    {
     "name": "stdout",
     "output_type": "stream",
     "text": [
      "0.694183586955\n",
      "0.667329424282\n",
      "10.7870971892\n"
     ]
    }
   ],
   "source": [
    "RR_pred5 = RR_model5.predict(xtes)\n",
    "print(RR_model5.score(xtra,ytra))\n",
    "print(RR_model5.score(xtes,ytes))\n",
    "print(np.sqrt(mean_squared_error(ytes,RR_pred5)))"
   ]
  },
  {
   "cell_type": "markdown",
   "metadata": {},
   "source": [
    "### Trial 6"
   ]
  },
  {
   "cell_type": "code",
   "execution_count": 82,
   "metadata": {
    "collapsed": false
   },
   "outputs": [
    {
     "name": "stdout",
     "output_type": "stream",
     "text": [
      "[ 0.75328378  0.14708009  0.0821605   0.0112173   0.00461483  0.0016435 ]\n"
     ]
    }
   ],
   "source": [
    "# Combining L1 regularized penalty with PCA\n",
    "pca_new = PCA()\n",
    "pca_new.fit_transform(XX)\n",
    "print(pca_new.explained_variance_ratio_)"
   ]
  },
  {
   "cell_type": "code",
   "execution_count": 83,
   "metadata": {
    "collapsed": false
   },
   "outputs": [
    {
     "data": {
      "image/png": "[encoded data removed]",
      "text/plain": [
       "<matplotlib.figure.Figure at 0xf29bd28e10>"
      ]
     },
     "metadata": {},
     "output_type": "display_data"
    }
   ],
   "source": [
    "with plt.style.context('dark_background'):\n",
    "    plt.figure(figsize=(6, 4))\n",
    "    \n",
    "    plt.bar(range(6), pca_new.explained_variance_, alpha=0.5, align='center',\n",
    "            label='individual explained variance')\n",
    "    plt.ylabel('Explained variance ratio')\n",
    "    plt.xlabel('Principal components')\n",
    "    plt.legend(loc='best')\n",
    "    plt.tight_layout()"
   ]
  },
  {
   "cell_type": "markdown",
   "metadata": {},
   "source": [
    "The 1st 3 components retains more than 95% of the data."
   ]
  },
  {
   "cell_type": "code",
   "execution_count": 87,
   "metadata": {
    "collapsed": false
   },
   "outputs": [
    {
     "name": "stdout",
     "output_type": "stream",
     "text": [
      "0.927259280857\n",
      "0.579572293271\n",
      "12.1267119344\n"
     ]
    }
   ],
   "source": [
    "# Taking PCA with 5 components\n",
    "pca_modified1 = PCA(n_components=3)\n",
    "pca_modified1.fit_transform(XX)\n",
    "x_train, x_test, yy_train, yy_test = train_test_split(XX,y,test_size=0.3,random_state=0)\n",
    "rf_pca_lasso = RandomForestRegressor()\n",
    "rf_pca_lasso.fit(x_train,yy_train)\n",
    "rf_pca_pred = rf_pca_lasso.predict(x_test)\n",
    "print(rf_pca_lasso.score(x_train,yy_train))\n",
    "print(rf_pca_lasso.score(x_test,yy_test))\n",
    "print(np.sqrt(mean_squared_error(yy_test,rf_pca_pred)))"
   ]
  },
  {
   "cell_type": "code",
   "execution_count": 89,
   "metadata": {
    "collapsed": false
   },
   "outputs": [
    {
     "name": "stdout",
     "output_type": "stream",
     "text": [
      "0.653169804869\n",
      "{'n_estimators': 900, 'max_features': 'auto', 'min_samples_leaf': 10}\n"
     ]
    }
   ],
   "source": [
    "#Tuning the model\n",
    "X_co = pca_modified1.fit_transform(XX)\n",
    "X_train11, X_test11, y_train11, y_test11 = train_test_split(X_co,y,test_size=0.3,random_state=0)\n",
    "tuned_param1 = {'min_samples_leaf': [1,5,10,50,100,200,500], 'n_estimators' : range(100,1000,100),\n",
    "                    'max_features':['auto','sqrt','log2']}\n",
    "\n",
    "from sklearn.model_selection import GridSearchCV, RandomizedSearchCV\n",
    "RR_model11= RandomizedSearchCV(rf_pca, tuned_param1,cv=10,n_iter=20,n_jobs= -1)\n",
    "RR_model11.fit(X_train11,y_train11)\n",
    "print(RR_model11.best_score_)\n",
    "print(RR_model11.best_params_)"
   ]
  },
  {
   "cell_type": "code",
   "execution_count": 90,
   "metadata": {
    "collapsed": false
   },
   "outputs": [
    {
     "name": "stdout",
     "output_type": "stream",
     "text": [
      "0.754978556187\n",
      "0.651285248414\n",
      "11.0441566125\n"
     ]
    }
   ],
   "source": [
    "RR_pred11 = RR_model11.predict(X_test11)\n",
    "print(RR_model11.score(X_train11,y_train11))\n",
    "print(RR_model11.score(X_test11,y_test11))\n",
    "print(np.sqrt(mean_squared_error(y_test11,RR_pred11)))"
   ]
  },
  {
   "cell_type": "code",
   "execution_count": null,
   "metadata": {
    "collapsed": true
   },
   "outputs": [],
   "source": []
  },
  {
   "cell_type": "code",
   "execution_count": null,
   "metadata": {
    "collapsed": true
   },
   "outputs": [],
   "source": []
  },
  {
   "cell_type": "raw",
   "metadata": {},
   "source": [
    "Trial 5 gave the best results for the test set:\n",
    "Training accuracy: 0.694183586955\n",
    "Testing accuracy : 0.667329424282\n",
    "Test RMSE        : 10.7870971892"
   ]
  },
  {
   "cell_type": "code",
   "execution_count": null,
   "metadata": {
    "collapsed": true
   },
   "outputs": [],
   "source": []
  }
 ],
 "metadata": {
  "anaconda-cloud": {},
  "kernelspec": {
   "display_name": "Python [default]",
   "language": "python",
   "name": "python3"
  },
  "language_info": {
   "codemirror_mode": {
    "name": "ipython",
    "version": 3
   },
   "file_extension": ".py",
   "mimetype": "text/x-python",
   "name": "python",
   "nbconvert_exporter": "python",
   "pygments_lexer": "ipython3",
   "version": "3.5.2"
  }
 },
 "nbformat": 4,
 "nbformat_minor": 2
}
