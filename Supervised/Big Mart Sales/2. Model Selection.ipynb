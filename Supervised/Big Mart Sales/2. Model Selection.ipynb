{
 "cells": [
  {
   "cell_type": "code",
   "execution_count": 1,
   "metadata": {
    "collapsed": true
   },
   "outputs": [],
   "source": [
    "import numpy as np\n",
    "import pandas as pd\n",
    "import matplotlib.pyplot as plt\n",
    "%matplotlib inline"
   ]
  },
  {
   "cell_type": "code",
   "execution_count": 2,
   "metadata": {
    "collapsed": false
   },
   "outputs": [
    {
     "data": {
      "text/html": [
       "<div>\n",
       "<table border=\"1\" class=\"dataframe\">\n",
       "  <thead>\n",
       "    <tr style=\"text-align: right;\">\n",
       "      <th></th>\n",
       "      <th>Item_Weight</th>\n",
       "      <th>Item_Visibility</th>\n",
       "      <th>Item_MRP</th>\n",
       "      <th>Outlet_Establishment_Year</th>\n",
       "      <th>Item_Outlet_Sales</th>\n",
       "      <th>Item_Fat_Content_0</th>\n",
       "      <th>Item_Fat_Content_1</th>\n",
       "      <th>Outlet_Size_0</th>\n",
       "      <th>Outlet_Size_1</th>\n",
       "      <th>Outlet_Size_2</th>\n",
       "      <th>Outlet_Location_Type_0</th>\n",
       "      <th>Outlet_Location_Type_1</th>\n",
       "      <th>Outlet_Location_Type_2</th>\n",
       "      <th>Outlet_Type_0</th>\n",
       "      <th>Outlet_Type_1</th>\n",
       "      <th>Outlet_Type_2</th>\n",
       "      <th>Outlet_Type_3</th>\n",
       "      <th>Item_type_new_0</th>\n",
       "      <th>Item_type_new_1</th>\n",
       "      <th>Item_type_new_2</th>\n",
       "    </tr>\n",
       "  </thead>\n",
       "  <tbody>\n",
       "    <tr>\n",
       "      <th>0</th>\n",
       "      <td>9.30</td>\n",
       "      <td>0.126678</td>\n",
       "      <td>15.805354</td>\n",
       "      <td>18</td>\n",
       "      <td>61.115775</td>\n",
       "      <td>1</td>\n",
       "      <td>0</td>\n",
       "      <td>0</td>\n",
       "      <td>1</td>\n",
       "      <td>0</td>\n",
       "      <td>1</td>\n",
       "      <td>0</td>\n",
       "      <td>0</td>\n",
       "      <td>0</td>\n",
       "      <td>1</td>\n",
       "      <td>0</td>\n",
       "      <td>0</td>\n",
       "      <td>0</td>\n",
       "      <td>1</td>\n",
       "      <td>0</td>\n",
       "    </tr>\n",
       "    <tr>\n",
       "      <th>1</th>\n",
       "      <td>5.92</td>\n",
       "      <td>0.138846</td>\n",
       "      <td>6.947604</td>\n",
       "      <td>8</td>\n",
       "      <td>21.057607</td>\n",
       "      <td>0</td>\n",
       "      <td>1</td>\n",
       "      <td>0</td>\n",
       "      <td>1</td>\n",
       "      <td>0</td>\n",
       "      <td>0</td>\n",
       "      <td>0</td>\n",
       "      <td>1</td>\n",
       "      <td>0</td>\n",
       "      <td>0</td>\n",
       "      <td>1</td>\n",
       "      <td>0</td>\n",
       "      <td>1</td>\n",
       "      <td>0</td>\n",
       "      <td>0</td>\n",
       "    </tr>\n",
       "    <tr>\n",
       "      <th>2</th>\n",
       "      <td>17.50</td>\n",
       "      <td>0.129461</td>\n",
       "      <td>11.900336</td>\n",
       "      <td>18</td>\n",
       "      <td>45.795961</td>\n",
       "      <td>1</td>\n",
       "      <td>0</td>\n",
       "      <td>0</td>\n",
       "      <td>1</td>\n",
       "      <td>0</td>\n",
       "      <td>1</td>\n",
       "      <td>0</td>\n",
       "      <td>0</td>\n",
       "      <td>0</td>\n",
       "      <td>1</td>\n",
       "      <td>0</td>\n",
       "      <td>0</td>\n",
       "      <td>0</td>\n",
       "      <td>1</td>\n",
       "      <td>0</td>\n",
       "    </tr>\n",
       "    <tr>\n",
       "      <th>3</th>\n",
       "      <td>19.20</td>\n",
       "      <td>0.000000</td>\n",
       "      <td>13.494258</td>\n",
       "      <td>19</td>\n",
       "      <td>27.062520</td>\n",
       "      <td>0</td>\n",
       "      <td>1</td>\n",
       "      <td>0</td>\n",
       "      <td>1</td>\n",
       "      <td>0</td>\n",
       "      <td>0</td>\n",
       "      <td>0</td>\n",
       "      <td>1</td>\n",
       "      <td>1</td>\n",
       "      <td>0</td>\n",
       "      <td>0</td>\n",
       "      <td>0</td>\n",
       "      <td>0</td>\n",
       "      <td>1</td>\n",
       "      <td>0</td>\n",
       "    </tr>\n",
       "    <tr>\n",
       "      <th>4</th>\n",
       "      <td>8.93</td>\n",
       "      <td>0.000000</td>\n",
       "      <td>7.339033</td>\n",
       "      <td>30</td>\n",
       "      <td>31.538947</td>\n",
       "      <td>1</td>\n",
       "      <td>0</td>\n",
       "      <td>1</td>\n",
       "      <td>0</td>\n",
       "      <td>0</td>\n",
       "      <td>0</td>\n",
       "      <td>0</td>\n",
       "      <td>1</td>\n",
       "      <td>0</td>\n",
       "      <td>1</td>\n",
       "      <td>0</td>\n",
       "      <td>0</td>\n",
       "      <td>0</td>\n",
       "      <td>0</td>\n",
       "      <td>1</td>\n",
       "    </tr>\n",
       "  </tbody>\n",
       "</table>\n",
       "</div>"
      ],
      "text/plain": [
       "   Item_Weight  Item_Visibility   Item_MRP  Outlet_Establishment_Year  \\\n",
       "0         9.30         0.126678  15.805354                         18   \n",
       "1         5.92         0.138846   6.947604                          8   \n",
       "2        17.50         0.129461  11.900336                         18   \n",
       "3        19.20         0.000000  13.494258                         19   \n",
       "4         8.93         0.000000   7.339033                         30   \n",
       "\n",
       "   Item_Outlet_Sales  Item_Fat_Content_0  Item_Fat_Content_1  Outlet_Size_0  \\\n",
       "0          61.115775                   1                   0              0   \n",
       "1          21.057607                   0                   1              0   \n",
       "2          45.795961                   1                   0              0   \n",
       "3          27.062520                   0                   1              0   \n",
       "4          31.538947                   1                   0              1   \n",
       "\n",
       "   Outlet_Size_1  Outlet_Size_2  Outlet_Location_Type_0  \\\n",
       "0              1              0                       1   \n",
       "1              1              0                       0   \n",
       "2              1              0                       1   \n",
       "3              1              0                       0   \n",
       "4              0              0                       0   \n",
       "\n",
       "   Outlet_Location_Type_1  Outlet_Location_Type_2  Outlet_Type_0  \\\n",
       "0                       0                       0              0   \n",
       "1                       0                       1              0   \n",
       "2                       0                       0              0   \n",
       "3                       0                       1              1   \n",
       "4                       0                       1              0   \n",
       "\n",
       "   Outlet_Type_1  Outlet_Type_2  Outlet_Type_3  Item_type_new_0  \\\n",
       "0              1              0              0                0   \n",
       "1              0              1              0                1   \n",
       "2              1              0              0                0   \n",
       "3              0              0              0                0   \n",
       "4              1              0              0                0   \n",
       "\n",
       "   Item_type_new_1  Item_type_new_2  \n",
       "0                1                0  \n",
       "1                0                0  \n",
       "2                1                0  \n",
       "3                1                0  \n",
       "4                0                1  "
      ]
     },
     "execution_count": 2,
     "metadata": {},
     "output_type": "execute_result"
    }
   ],
   "source": [
    "data = pd.read_csv(\"C:\\\\Users\\\\DHRUBAJIT\\\\Desktop\\\\AnalyticsVidhya\\\\Big Mart Sales\\\\New_dataset.csv\")\n",
    "data.head()"
   ]
  },
  {
   "cell_type": "code",
   "execution_count": 3,
   "metadata": {
    "collapsed": false
   },
   "outputs": [],
   "source": [
    "X = data.drop(['Item_Outlet_Sales'], axis=1)\n",
    "y = data.Item_Outlet_Sales"
   ]
  },
  {
   "cell_type": "code",
   "execution_count": 4,
   "metadata": {
    "collapsed": false
   },
   "outputs": [
    {
     "data": {
      "text/plain": [
       "Index(['Item_Weight', 'Item_Visibility', 'Item_MRP',\n",
       "       'Outlet_Establishment_Year', 'Item_Fat_Content_0', 'Item_Fat_Content_1',\n",
       "       'Outlet_Size_0', 'Outlet_Size_1', 'Outlet_Size_2',\n",
       "       'Outlet_Location_Type_0', 'Outlet_Location_Type_1',\n",
       "       'Outlet_Location_Type_2', 'Outlet_Type_0', 'Outlet_Type_1',\n",
       "       'Outlet_Type_2', 'Outlet_Type_3', 'Item_type_new_0', 'Item_type_new_1',\n",
       "       'Item_type_new_2'],\n",
       "      dtype='object')"
      ]
     },
     "execution_count": 4,
     "metadata": {},
     "output_type": "execute_result"
    }
   ],
   "source": [
    "X.columns"
   ]
  },
  {
   "cell_type": "code",
   "execution_count": 6,
   "metadata": {
    "collapsed": false
   },
   "outputs": [
    {
     "name": "stdout",
     "output_type": "stream",
     "text": [
      "[ -2.79684605e-03  -0.00000000e+00   3.76340029e+00  -5.50712998e-03\n",
      "  -2.48619648e-01   0.00000000e+00  -0.00000000e+00  -0.00000000e+00\n",
      "   2.79882972e-02   0.00000000e+00   0.00000000e+00  -8.51207540e-02\n",
      "  -2.76248303e+01   0.00000000e+00  -3.01592826e+00   1.26375607e+01\n",
      "  -0.00000000e+00   0.00000000e+00  -0.00000000e+00]\n"
     ]
    }
   ],
   "source": [
    "from sklearn.linear_model import Lasso\n",
    "lsso = Lasso(alpha=0.05)\n",
    "lsso.fit(X,y)\n",
    "#names = [\"x%s\" % i for i in range(1,19)]\n",
    "print(lsso.coef_)"
   ]
  },
  {
   "cell_type": "code",
   "execution_count": null,
   "metadata": {
    "collapsed": true
   },
   "outputs": [],
   "source": [
    "X = X[['Item_MRP','Outlet_Establishment_Year','Outlet_Location_Type_1','Outlet_Type_0','Outlet_Type_3']]"
   ]
  },
  {
   "cell_type": "raw",
   "metadata": {},
   "source": [
    "In the first notebook, we saw that LinearRegression and SVR(kernel='rbf') performed similar. So I will try to build all models and check which model performs best for this data."
   ]
  },
  {
   "cell_type": "code",
   "execution_count": null,
   "metadata": {
    "collapsed": true
   },
   "outputs": [],
   "source": [
    "# Importing all necessary models:\n",
    "from sklearn.linear_model import LinearRegression, HuberRegressor\n",
    "from sklearn.svm import SVR\n",
    "from sklearn.tree import DecisionTreeRegressor\n",
    "from sklearn.ensemble import RandomForestRegressor, GradientBoostingRegressor, BaggingRegressor\n",
    "from sklearn.neighbors import KNeighborsRegressor\n",
    "from xgboost import XGBRegressor"
   ]
  },
  {
   "cell_type": "code",
   "execution_count": null,
   "metadata": {
    "collapsed": false
   },
   "outputs": [],
   "source": [
    "models = []\n",
    "models.append(('LinearReg', LinearRegression()))\n",
    "models.append(('Huber', HuberRegressor()))\n",
    "models.append(('DecisionTree', DecisionTreeRegressor()))\n",
    "models.append(('RandomForest', RandomForestRegressor()))\n",
    "models.append(('Boosting', GradientBoostingRegressor()))\n",
    "models.append(('Bagging', BaggingRegressor()))\n",
    "models.append(('KNN', KNeighborsRegressor()))\n",
    "models.append(('SVR(Linear)', SVR(kernel='linear')))\n",
    "models.append(('SVR-rbf', SVR(kernel='rbf')))\n",
    "models.append((\"XGB\", XGBRegressor()))"
   ]
  },
  {
   "cell_type": "code",
   "execution_count": null,
   "metadata": {
    "collapsed": false
   },
   "outputs": [],
   "source": [
    "from sklearn.metrics import mean_squared_error\n",
    "from sklearn.model_selection import train_test_split\n",
    "train_accuracy = []\n",
    "test_accuracy = []\n",
    "rmse = []\n",
    "names = []\n",
    "for name, model in models:\n",
    "    xtrain,xtest,ytrain,ytest = train_test_split(X,y,random_state=0, test_size=0.3)\n",
    "    model.fit(xtrain,ytrain)\n",
    "    model_pred = model.predict(xtest)\n",
    "    train_accu = model.score(xtrain,ytrain)\n",
    "    test_accu = model.score(xtest,ytest)\n",
    "    test_rmse = np.sqrt(mean_squared_error(ytest,model_pred))\n",
    "    train_accuracy.append(train_accu)\n",
    "    test_accuracy.append(test_accu)\n",
    "    rmse.append(test_rmse)\n",
    "    names.append(name)\n",
    "    a = pd.DataFrame(train_accuracy)\n",
    "    b = pd.DataFrame(test_accuracy)\n",
    "    c = pd.DataFrame(rmse)\n",
    "\n",
    "    print(\"%s - %f\" %(name,test_accu))\n",
    "    \n",
    "#plot train accuracy\n",
    "plt.figure(figsize=[7,7])\n",
    "a.plot(kind='barh', alpha=0.6, rot=0, color='g')\n",
    "plt.yticks([0,1,2,3,4,5,6,7,8,9],names)\n",
    "plt.xlabel(\"Training Accuracy Score\")\n",
    "plt.ylabel(\"Models\")\n",
    "plt.legend(\"\")\n",
    "plt.show()\n",
    "\n",
    "#plot test accuracy\n",
    "plt.figure(figsize=[7,7])\n",
    "b.plot(kind='barh', alpha=0.6, rot=0, color='g')\n",
    "plt.yticks([0,1,2,3,4,5,6,7,8,9],names)\n",
    "plt.xlabel(\"Testing Accuracy Score\")\n",
    "plt.ylabel(\"Models\")\n",
    "plt.legend(\"\")\n",
    "plt.show()\n",
    "\n",
    "#plot rmse\n",
    "plt.figure(figsize=[7,7])\n",
    "c.plot(kind='barh', alpha=0.6, rot=0, color='g')\n",
    "plt.yticks([0,1,2,3,4,5,6,7,8,9],names)\n",
    "plt.xlabel(\"RMSE\")\n",
    "plt.ylabel(\"Models\")\n",
    "plt.legend(\"\")\n",
    "plt.show()"
   ]
  },
  {
   "cell_type": "raw",
   "metadata": {},
   "source": [
    "By Looking at the Test-Accuracy Score and the RMSE of the above models, top 2 models which are fitting the data well are:\n",
    "\n",
    "1. GradientBoostingRegressor\n",
    "2. XGBRegressor"
   ]
  },
  {
   "cell_type": "raw",
   "metadata": {},
   "source": [
    "So, from now onwards we will only deal with these 2 models."
   ]
  },
  {
   "cell_type": "code",
   "execution_count": 9,
   "metadata": {
    "collapsed": false
   },
   "outputs": [
    {
     "data": {
      "text/plain": [
       "RFE(estimator=XGBRegressor(base_score=0.5, colsample_bylevel=1, colsample_bytree=1, gamma=0,\n",
       "       learning_rate=0.1, max_delta_step=0, max_depth=3,\n",
       "       min_child_weight=1, missing=None, n_estimators=100, nthread=-1,\n",
       "       objective='reg:linear', reg_alpha=0, reg_lambda=1,\n",
       "       scale_pos_weight=1, seed=0, silent=True, subsample=1),\n",
       "  n_features_to_select=None, step=1, verbose=0)"
      ]
     },
     "execution_count": 9,
     "metadata": {},
     "output_type": "execute_result"
    }
   ],
   "source": [
    "from sklearn.feature_selection import RFE\n",
    "from xgboost import XGBRegressor\n",
    "xg = XGBRegressor()\n",
    "rfe = RFE(xg)\n",
    "rfe.fit(X,y)"
   ]
  },
  {
   "cell_type": "code",
   "execution_count": 10,
   "metadata": {
    "collapsed": false
   },
   "outputs": [
    {
     "data": {
      "text/plain": [
       "array([ 1,  1,  1,  1,  1, 10,  1,  7,  3,  6,  8,  5,  1,  1, 11,  1,  2,\n",
       "        9,  4])"
      ]
     },
     "execution_count": 10,
     "metadata": {},
     "output_type": "execute_result"
    }
   ],
   "source": [
    "rfe.ranking_"
   ]
  },
  {
   "cell_type": "code",
   "execution_count": 11,
   "metadata": {
    "collapsed": false
   },
   "outputs": [
    {
     "data": {
      "text/plain": [
       "Index(['Item_Weight', 'Item_Visibility', 'Item_MRP',\n",
       "       'Outlet_Establishment_Year', 'Item_Fat_Content_0', 'Item_Fat_Content_1',\n",
       "       'Outlet_Size_0', 'Outlet_Size_1', 'Outlet_Size_2',\n",
       "       'Outlet_Location_Type_0', 'Outlet_Location_Type_1',\n",
       "       'Outlet_Location_Type_2', 'Outlet_Type_0', 'Outlet_Type_1',\n",
       "       'Outlet_Type_2', 'Outlet_Type_3', 'Item_type_new_0', 'Item_type_new_1',\n",
       "       'Item_type_new_2'],\n",
       "      dtype='object')"
      ]
     },
     "execution_count": 11,
     "metadata": {},
     "output_type": "execute_result"
    }
   ],
   "source": [
    "X.columns"
   ]
  },
  {
   "cell_type": "code",
   "execution_count": 12,
   "metadata": {
    "collapsed": true
   },
   "outputs": [],
   "source": [
    "XX = X[['Item_Weight','Item_Visibility','Item_MRP','Outlet_Establishment_Year','Item_Fat_Content_0','Outlet_Size_0','Outlet_Type_0','Outlet_Type_1','Outlet_Type_3']]"
   ]
  },
  {
   "cell_type": "code",
   "execution_count": 14,
   "metadata": {
    "collapsed": false
   },
   "outputs": [
    {
     "name": "stdout",
     "output_type": "stream",
     "text": [
      "0.66729737042\n"
     ]
    }
   ],
   "source": [
    "from sklearn.model_selection import train_test_split\n",
    "xtr,xte,ytr,yte = train_test_split(XX,y,random_state=0,test_size=0.3)\n",
    "xg.fit(xtr,ytr)\n",
    "xg_pred = xg.predict(xte)\n",
    "print(xg.score(xte,yte))"
   ]
  },
  {
   "cell_type": "code",
   "execution_count": 15,
   "metadata": {
    "collapsed": false
   },
   "outputs": [
    {
     "name": "stdout",
     "output_type": "stream",
     "text": [
      "10.7876168622\n"
     ]
    }
   ],
   "source": [
    "from sklearn.metrics import mean_squared_error\n",
    "print(np.sqrt(mean_squared_error(yte,xg_pred)))"
   ]
  },
  {
   "cell_type": "code",
   "execution_count": null,
   "metadata": {
    "collapsed": true
   },
   "outputs": [],
   "source": []
  }
 ],
 "metadata": {
  "anaconda-cloud": {},
  "kernelspec": {
   "display_name": "Python [default]",
   "language": "python",
   "name": "python3"
  },
  "language_info": {
   "codemirror_mode": {
    "name": "ipython",
    "version": 3
   },
   "file_extension": ".py",
   "mimetype": "text/x-python",
   "name": "python",
   "nbconvert_exporter": "python",
   "pygments_lexer": "ipython3",
   "version": "3.5.2"
  }
 },
 "nbformat": 4,
 "nbformat_minor": 2
}
