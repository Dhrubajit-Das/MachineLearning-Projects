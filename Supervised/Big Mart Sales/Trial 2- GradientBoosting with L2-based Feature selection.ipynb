{
 "cells": [
  {
   "cell_type": "code",
   "execution_count": 1,
   "metadata": {
    "collapsed": true
   },
   "outputs": [],
   "source": [
    "import numpy as np\n",
    "import pandas as pd\n",
    "import matplotlib.pyplot as plt\n",
    "%matplotlib inline\n",
    "import seaborn\n",
    "from sklearn.model_selection import GridSearchCV, RandomizedSearchCV"
   ]
  },
  {
   "cell_type": "code",
   "execution_count": 2,
   "metadata": {
    "collapsed": false
   },
   "outputs": [
    {
     "data": {
      "text/html": [
       "<div>\n",
       "<table border=\"1\" class=\"dataframe\">\n",
       "  <thead>\n",
       "    <tr style=\"text-align: right;\">\n",
       "      <th></th>\n",
       "      <th>Item_Identifier</th>\n",
       "      <th>Item_Weight</th>\n",
       "      <th>Item_Fat_Content</th>\n",
       "      <th>Item_Visibility</th>\n",
       "      <th>Item_Type</th>\n",
       "      <th>Item_MRP</th>\n",
       "      <th>Outlet_Identifier</th>\n",
       "      <th>Outlet_Establishment_Year</th>\n",
       "      <th>Outlet_Size</th>\n",
       "      <th>Outlet_Location_Type</th>\n",
       "      <th>Outlet_Type</th>\n",
       "      <th>Item_Outlet_Sales</th>\n",
       "      <th>Item_type_new</th>\n",
       "    </tr>\n",
       "  </thead>\n",
       "  <tbody>\n",
       "    <tr>\n",
       "      <th>0</th>\n",
       "      <td>FDA15</td>\n",
       "      <td>weights2</td>\n",
       "      <td>Low Fat</td>\n",
       "      <td>low</td>\n",
       "      <td>Dairy</td>\n",
       "      <td>249.8092</td>\n",
       "      <td>OUT049</td>\n",
       "      <td>med</td>\n",
       "      <td>High</td>\n",
       "      <td>Tier 1</td>\n",
       "      <td>Supermarket Type1</td>\n",
       "      <td>3735.1380</td>\n",
       "      <td>other</td>\n",
       "    </tr>\n",
       "    <tr>\n",
       "      <th>1</th>\n",
       "      <td>DRC01</td>\n",
       "      <td>weights1</td>\n",
       "      <td>Regular</td>\n",
       "      <td>low</td>\n",
       "      <td>Soft Drinks</td>\n",
       "      <td>48.2692</td>\n",
       "      <td>OUT018</td>\n",
       "      <td>low</td>\n",
       "      <td>High</td>\n",
       "      <td>Tier 2</td>\n",
       "      <td>Supermarket Type2</td>\n",
       "      <td>443.4228</td>\n",
       "      <td>Drinks</td>\n",
       "    </tr>\n",
       "    <tr>\n",
       "      <th>2</th>\n",
       "      <td>FDN15</td>\n",
       "      <td>weights1</td>\n",
       "      <td>Low Fat</td>\n",
       "      <td>low</td>\n",
       "      <td>Meat</td>\n",
       "      <td>141.6180</td>\n",
       "      <td>OUT049</td>\n",
       "      <td>med</td>\n",
       "      <td>High</td>\n",
       "      <td>Tier 1</td>\n",
       "      <td>Supermarket Type1</td>\n",
       "      <td>2097.2700</td>\n",
       "      <td>other</td>\n",
       "    </tr>\n",
       "    <tr>\n",
       "      <th>3</th>\n",
       "      <td>FDX07</td>\n",
       "      <td>weights1</td>\n",
       "      <td>Regular</td>\n",
       "      <td>low</td>\n",
       "      <td>Fruits and Vegetables</td>\n",
       "      <td>182.0950</td>\n",
       "      <td>OUT010</td>\n",
       "      <td>med</td>\n",
       "      <td>High</td>\n",
       "      <td>Tier 2</td>\n",
       "      <td>Grocery Store</td>\n",
       "      <td>732.3800</td>\n",
       "      <td>other</td>\n",
       "    </tr>\n",
       "    <tr>\n",
       "      <th>4</th>\n",
       "      <td>NCD19</td>\n",
       "      <td>weights1</td>\n",
       "      <td>Low Fat</td>\n",
       "      <td>low</td>\n",
       "      <td>Household</td>\n",
       "      <td>53.8614</td>\n",
       "      <td>OUT013</td>\n",
       "      <td>med</td>\n",
       "      <td>High</td>\n",
       "      <td>Tier 2</td>\n",
       "      <td>Supermarket Type1</td>\n",
       "      <td>994.7052</td>\n",
       "      <td>other</td>\n",
       "    </tr>\n",
       "  </tbody>\n",
       "</table>\n",
       "</div>"
      ],
      "text/plain": [
       "  Item_Identifier Item_Weight Item_Fat_Content Item_Visibility  \\\n",
       "0           FDA15    weights2          Low Fat             low   \n",
       "1           DRC01    weights1          Regular             low   \n",
       "2           FDN15    weights1          Low Fat             low   \n",
       "3           FDX07    weights1          Regular             low   \n",
       "4           NCD19    weights1          Low Fat             low   \n",
       "\n",
       "               Item_Type  Item_MRP Outlet_Identifier  \\\n",
       "0                  Dairy  249.8092            OUT049   \n",
       "1            Soft Drinks   48.2692            OUT018   \n",
       "2                   Meat  141.6180            OUT049   \n",
       "3  Fruits and Vegetables  182.0950            OUT010   \n",
       "4              Household   53.8614            OUT013   \n",
       "\n",
       "  Outlet_Establishment_Year Outlet_Size Outlet_Location_Type  \\\n",
       "0                       med        High               Tier 1   \n",
       "1                       low        High               Tier 2   \n",
       "2                       med        High               Tier 1   \n",
       "3                       med        High               Tier 2   \n",
       "4                       med        High               Tier 2   \n",
       "\n",
       "         Outlet_Type  Item_Outlet_Sales Item_type_new  \n",
       "0  Supermarket Type1          3735.1380         other  \n",
       "1  Supermarket Type2           443.4228        Drinks  \n",
       "2  Supermarket Type1          2097.2700         other  \n",
       "3      Grocery Store           732.3800         other  \n",
       "4  Supermarket Type1           994.7052         other  "
      ]
     },
     "execution_count": 2,
     "metadata": {},
     "output_type": "execute_result"
    }
   ],
   "source": [
    "sales = pd.read_csv(\"C:\\\\Users\\\\DHRUBAJIT\\\\Desktop\\\\AnalyticsVidhya\\\\Big Mart Sales\\\\new_sales_csv.csv\")\n",
    "sales.head()"
   ]
  },
  {
   "cell_type": "code",
   "execution_count": 3,
   "metadata": {
    "collapsed": true
   },
   "outputs": [],
   "source": [
    "#deleting unwanted features \n",
    "#also deleted Item_Fat_Content because from hypothesis testing,we found that there is no difference in the means.\n",
    "sales = sales.drop(['Item_Identifier','Item_Type','Outlet_Identifier','Item_Fat_Content'], axis=1)"
   ]
  },
  {
   "cell_type": "code",
   "execution_count": 4,
   "metadata": {
    "collapsed": false
   },
   "outputs": [],
   "source": [
    "from sklearn.preprocessing import LabelEncoder\n",
    "le = LabelEncoder()\n",
    "\n",
    "encoder_list = ['Item_Weight', 'Item_Visibility',\n",
    "       'Outlet_Establishment_Year', 'Outlet_Size',\n",
    "       'Outlet_Location_Type', 'Outlet_Type', \n",
    "       'Item_type_new']\n",
    "\n",
    "for i in encoder_list:\n",
    "    sales[i] = le.fit_transform(sales[i])"
   ]
  },
  {
   "cell_type": "code",
   "execution_count": 5,
   "metadata": {
    "collapsed": false
   },
   "outputs": [],
   "source": [
    "sales = pd.get_dummies(sales, columns=encoder_list)"
   ]
  },
  {
   "cell_type": "code",
   "execution_count": 6,
   "metadata": {
    "collapsed": true
   },
   "outputs": [],
   "source": [
    "#avoiding dummy variable trap\n",
    "sales = sales.drop(['Item_Weight_0','Item_Visibility_0','Outlet_Establishment_Year_0','Outlet_Size_0',\n",
    "                   'Outlet_Location_Type_0','Outlet_Type_0','Item_type_new_0'], axis=1)"
   ]
  },
  {
   "cell_type": "code",
   "execution_count": 7,
   "metadata": {
    "collapsed": true
   },
   "outputs": [],
   "source": [
    "X = sales.drop(['Item_Outlet_Sales'], axis=1)\n",
    "y = sales.Item_Outlet_Sales"
   ]
  },
  {
   "cell_type": "code",
   "execution_count": 8,
   "metadata": {
    "collapsed": false
   },
   "outputs": [],
   "source": [
    "from sklearn.preprocessing import StandardScaler\n",
    "from sklearn.model_selection import train_test_split\n",
    "sc = StandardScaler()\n",
    "XX = sc.fit_transform(X)"
   ]
  },
  {
   "cell_type": "code",
   "execution_count": 9,
   "metadata": {
    "collapsed": false
   },
   "outputs": [
    {
     "name": "stdout",
     "output_type": "stream",
     "text": [
      "Original number of features : 11\n",
      "Selected number of features : 4\n"
     ]
    },
    {
     "name": "stderr",
     "output_type": "stream",
     "text": [
      "C:\\Users\\DHRUBAJIT\\Anaconda3\\lib\\site-packages\\sklearn\\linear_model\\stochastic_gradient.py:84: FutureWarning: max_iter and tol parameters have been added in <class 'sklearn.linear_model.stochastic_gradient.SGDRegressor'> in 0.19. If both are left unset, they default to max_iter=5 and tol=None. If tol is not None, max_iter defaults to max_iter=1000. From 0.21, default max_iter will be 1000, and default tol will be 1e-3.\n",
      "  \"and default tol will be 1e-3.\" % type(self), FutureWarning)\n"
     ]
    }
   ],
   "source": [
    "from sklearn.linear_model import SGDRegressor\n",
    "from sklearn.feature_selection import SelectFromModel\n",
    "\n",
    "lsvc = SGDRegressor(penalty=\"l2\").fit(XX, y)\n",
    "model = SelectFromModel(lsvc, prefit=True)\n",
    "XXX = model.transform(XX)\n",
    "print(\"Original number of features : %d\" %XX.shape[1])\n",
    "print(\"Selected number of features : %d\" %XXX.shape[1])"
   ]
  },
  {
   "cell_type": "markdown",
   "metadata": {},
   "source": [
    "#### Test dataset"
   ]
  },
  {
   "cell_type": "code",
   "execution_count": 11,
   "metadata": {
    "collapsed": true
   },
   "outputs": [],
   "source": [
    "test = pd.read_csv(\"C:\\\\Users\\\\DHRUBAJIT\\\\Desktop\\\\AnalyticsVidhya\\\\Big Mart Sales\\\\new_testsales_csv.csv\")\n",
    "\n",
    "item_id = test['Item_Identifier']\n",
    "out_id = test['Outlet_Identifier']\n",
    "\n",
    "test = test.drop(['Item_Identifier','Item_Type','Outlet_Identifier','Item_Fat_Content'], axis=1)\n",
    "\n",
    "for i in encoder_list:\n",
    "    test[i] = le.fit_transform(test[i])\n",
    "    \n",
    "test = pd.get_dummies(test, columns=encoder_list)\n",
    "\n",
    "test = test.drop(['Item_Weight_0','Item_Visibility_0','Outlet_Establishment_Year_0','Outlet_Size_0',\n",
    "                   'Outlet_Location_Type_0','Outlet_Type_0','Item_type_new_0'], axis=1)\n",
    "\n",
    "test = sc.fit_transform(test)"
   ]
  },
  {
   "cell_type": "code",
   "execution_count": 12,
   "metadata": {
    "collapsed": true
   },
   "outputs": [],
   "source": [
    "test = model.transform(test)"
   ]
  },
  {
   "cell_type": "code",
   "execution_count": null,
   "metadata": {
    "collapsed": true
   },
   "outputs": [],
   "source": []
  },
  {
   "cell_type": "code",
   "execution_count": 11,
   "metadata": {
    "collapsed": false
   },
   "outputs": [],
   "source": [
    "from sklearn.model_selection import cross_val_score\n",
    "from sklearn.metrics import mean_squared_error\n",
    "\n",
    "def validation_cross(model, x,y):\n",
    "    model.fit(x, y)\n",
    "\n",
    "    #Predict training set:\n",
    "    pred = model.predict(x)\n",
    "\n",
    "    #Perform cross-validation:\n",
    "    cv_score = cross_val_score(model, x, y, cv=10, scoring='neg_mean_squared_error')\n",
    "    cv_score = np.sqrt(np.abs(cv_score))\n",
    "\n",
    "    #Print model report:\n",
    "    print (\"\\nModel Report\")\n",
    "    print (\"RMSE : %.4g\" % np.sqrt(mean_squared_error(y.values, pred)))\n",
    "    print (\"CV Score : Mean - %.4g | Std - %.4g\" % (np.mean(cv_score),np.std(cv_score)))\n",
    "    \n",
    "\n",
    "def validation_cross1(model, x,y):\n",
    "    model.fit(x, y)\n",
    "\n",
    "    #Predict training set:\n",
    "    pred = model.predict(x)\n",
    "\n",
    "    #Perform cross-validation:\n",
    "    cv_score = cross_val_score(model, x, y, cv=10, scoring=None)\n",
    "    cv_score = np.sqrt(np.abs(cv_score))\n",
    "\n",
    "    #Print model report:\n",
    "    print (\"\\nModel Report\")\n",
    "    print (\"RMSE : %.4g\" % np.sqrt(mean_squared_error(y.values, pred)))\n",
    "    print (\"CV Score : Mean - %.4g | Std - %.4g\" % (np.mean(cv_score),np.std(cv_score)))"
   ]
  },
  {
   "cell_type": "markdown",
   "metadata": {},
   "source": [
    "### Baseline Model with l2-based feature selection"
   ]
  },
  {
   "cell_type": "code",
   "execution_count": 12,
   "metadata": {
    "collapsed": false
   },
   "outputs": [
    {
     "name": "stdout",
     "output_type": "stream",
     "text": [
      "\n",
      "Model Report\n",
      "RMSE : 1052\n",
      "CV Score : Mean - 0.7674 | Std - 0.01833\n"
     ]
    }
   ],
   "source": [
    "from sklearn.ensemble import GradientBoostingRegressor\n",
    "gbr = GradientBoostingRegressor()\n",
    "validation_cross1(gbr, XXX, y)"
   ]
  },
  {
   "cell_type": "markdown",
   "metadata": {},
   "source": [
    "#### Model Tuning"
   ]
  },
  {
   "cell_type": "code",
   "execution_count": 13,
   "metadata": {
    "collapsed": false
   },
   "outputs": [
    {
     "name": "stderr",
     "output_type": "stream",
     "text": [
      "C:\\Users\\DHRUBAJIT\\Anaconda3\\lib\\site-packages\\sklearn\\model_selection\\_search.py:747: DeprecationWarning: The grid_scores_ attribute was deprecated in version 0.18 in favor of the more elaborate cv_results_ attribute. The grid_scores_ attribute will not be available from 0.20\n",
      "  DeprecationWarning)\n"
     ]
    },
    {
     "data": {
      "text/plain": [
       "([mean: 0.59126, std: 0.02739, params: {'n_estimators': 50},\n",
       "  mean: 0.58913, std: 0.02794, params: {'n_estimators': 100},\n",
       "  mean: 0.58483, std: 0.02795, params: {'n_estimators': 150},\n",
       "  mean: 0.58052, std: 0.02769, params: {'n_estimators': 200},\n",
       "  mean: 0.57581, std: 0.02849, params: {'n_estimators': 250},\n",
       "  mean: 0.57158, std: 0.02879, params: {'n_estimators': 300},\n",
       "  mean: 0.56796, std: 0.02916, params: {'n_estimators': 350},\n",
       "  mean: 0.56494, std: 0.03097, params: {'n_estimators': 400},\n",
       "  mean: 0.56187, std: 0.03047, params: {'n_estimators': 450},\n",
       "  mean: 0.55844, std: 0.03084, params: {'n_estimators': 500},\n",
       "  mean: 0.55509, std: 0.03029, params: {'n_estimators': 550},\n",
       "  mean: 0.55245, std: 0.03043, params: {'n_estimators': 600},\n",
       "  mean: 0.55001, std: 0.03113, params: {'n_estimators': 650},\n",
       "  mean: 0.54824, std: 0.03076, params: {'n_estimators': 700},\n",
       "  mean: 0.54600, std: 0.03115, params: {'n_estimators': 750},\n",
       "  mean: 0.54409, std: 0.03192, params: {'n_estimators': 800},\n",
       "  mean: 0.54217, std: 0.03223, params: {'n_estimators': 850},\n",
       "  mean: 0.53924, std: 0.03250, params: {'n_estimators': 900},\n",
       "  mean: 0.53768, std: 0.03309, params: {'n_estimators': 950},\n",
       "  mean: 0.53548, std: 0.03417, params: {'n_estimators': 1000}],\n",
       " {'n_estimators': 50},\n",
       " 0.59126489657975545)"
      ]
     },
     "execution_count": 13,
     "metadata": {},
     "output_type": "execute_result"
    }
   ],
   "source": [
    "# 1. n_estimators\n",
    "\n",
    "param_test1 = {'n_estimators':range(50,1050,50)}\n",
    "gsearch1 = GridSearchCV(estimator = GradientBoostingRegressor(), param_grid = param_test1, n_jobs=-1, iid=False, cv=10)\n",
    "gsearch1.fit(XXX,y)\n",
    "gsearch1.grid_scores_, gsearch1.best_params_, gsearch1.best_score_"
   ]
  },
  {
   "cell_type": "code",
   "execution_count": 14,
   "metadata": {
    "collapsed": false
   },
   "outputs": [
    {
     "name": "stdout",
     "output_type": "stream",
     "text": [
      "\n",
      "Model Report\n",
      "RMSE : 1066\n",
      "CV Score : Mean - 0.7687 | Std - 0.01788\n"
     ]
    }
   ],
   "source": [
    "gbr1 = GradientBoostingRegressor(n_estimators = 50)\n",
    "validation_cross1(gbr1, XXX, y)"
   ]
  },
  {
   "cell_type": "code",
   "execution_count": null,
   "metadata": {
    "collapsed": true
   },
   "outputs": [],
   "source": []
  },
  {
   "cell_type": "code",
   "execution_count": 16,
   "metadata": {
    "collapsed": false
   },
   "outputs": [
    {
     "name": "stderr",
     "output_type": "stream",
     "text": [
      "C:\\Users\\DHRUBAJIT\\Anaconda3\\lib\\site-packages\\sklearn\\model_selection\\_search.py:747: DeprecationWarning: The grid_scores_ attribute was deprecated in version 0.18 in favor of the more elaborate cv_results_ attribute. The grid_scores_ attribute will not be available from 0.20\n",
      "  DeprecationWarning)\n"
     ]
    },
    {
     "data": {
      "text/plain": [
       "([mean: 0.50672, std: 0.01936, params: {'max_depth': 1},\n",
       "  mean: 0.58588, std: 0.02668, params: {'max_depth': 2},\n",
       "  mean: 0.58922, std: 0.02804, params: {'max_depth': 3},\n",
       "  mean: 0.58529, std: 0.02766, params: {'max_depth': 4},\n",
       "  mean: 0.57477, std: 0.02923, params: {'max_depth': 5},\n",
       "  mean: 0.56432, std: 0.03004, params: {'max_depth': 6},\n",
       "  mean: 0.54888, std: 0.03209, params: {'max_depth': 7},\n",
       "  mean: 0.53518, std: 0.03380, params: {'max_depth': 8},\n",
       "  mean: 0.51602, std: 0.03772, params: {'max_depth': 9}],\n",
       " {'max_depth': 3},\n",
       " 0.5892210987917601)"
      ]
     },
     "execution_count": 16,
     "metadata": {},
     "output_type": "execute_result"
    }
   ],
   "source": [
    "# 2. max_depth\n",
    "\n",
    "param_test2 = {'max_depth':range(1,10,1)}\n",
    "gsearch2 = GridSearchCV(estimator = GradientBoostingRegressor(), param_grid = param_test2,n_jobs=-1,iid=False, cv=10)\n",
    "gsearch2.fit(XXX,y)\n",
    "gsearch2.grid_scores_, gsearch2.best_params_, gsearch2.best_score_"
   ]
  },
  {
   "cell_type": "code",
   "execution_count": 17,
   "metadata": {
    "collapsed": false
   },
   "outputs": [
    {
     "name": "stdout",
     "output_type": "stream",
     "text": [
      "\n",
      "Model Report\n",
      "RMSE : 1052\n",
      "CV Score : Mean - 0.7673 | Std - 0.01839\n"
     ]
    }
   ],
   "source": [
    "gbr2 = GradientBoostingRegressor(max_depth = 3)\n",
    "validation_cross1(gbr2, XXX, y)"
   ]
  },
  {
   "cell_type": "code",
   "execution_count": null,
   "metadata": {
    "collapsed": true
   },
   "outputs": [],
   "source": []
  },
  {
   "cell_type": "code",
   "execution_count": 19,
   "metadata": {
    "collapsed": false
   },
   "outputs": [
    {
     "name": "stderr",
     "output_type": "stream",
     "text": [
      "C:\\Users\\DHRUBAJIT\\Anaconda3\\lib\\site-packages\\sklearn\\model_selection\\_search.py:747: DeprecationWarning: The grid_scores_ attribute was deprecated in version 0.18 in favor of the more elaborate cv_results_ attribute. The grid_scores_ attribute will not be available from 0.20\n",
      "  DeprecationWarning)\n"
     ]
    },
    {
     "data": {
      "text/plain": [
       "([mean: 0.58915, std: 0.02797, params: {'min_samples_leaf': 1, 'min_samples_split': 2},\n",
       "  mean: 0.58947, std: 0.02807, params: {'min_samples_leaf': 1, 'min_samples_split': 3},\n",
       "  mean: 0.58970, std: 0.02810, params: {'min_samples_leaf': 1, 'min_samples_split': 4},\n",
       "  mean: 0.58934, std: 0.02761, params: {'min_samples_leaf': 1, 'min_samples_split': 5},\n",
       "  mean: 0.58946, std: 0.02762, params: {'min_samples_leaf': 1, 'min_samples_split': 6},\n",
       "  mean: 0.58970, std: 0.02744, params: {'min_samples_leaf': 1, 'min_samples_split': 7},\n",
       "  mean: 0.58981, std: 0.02760, params: {'min_samples_leaf': 1, 'min_samples_split': 8},\n",
       "  mean: 0.58975, std: 0.02759, params: {'min_samples_leaf': 1, 'min_samples_split': 9},\n",
       "  mean: 0.58944, std: 0.02758, params: {'min_samples_leaf': 1, 'min_samples_split': 10},\n",
       "  mean: 0.58971, std: 0.02766, params: {'min_samples_leaf': 1, 'min_samples_split': 11},\n",
       "  mean: 0.58971, std: 0.02772, params: {'min_samples_leaf': 1, 'min_samples_split': 12},\n",
       "  mean: 0.59009, std: 0.02786, params: {'min_samples_leaf': 1, 'min_samples_split': 13},\n",
       "  mean: 0.59013, std: 0.02788, params: {'min_samples_leaf': 1, 'min_samples_split': 14},\n",
       "  mean: 0.59047, std: 0.02780, params: {'min_samples_leaf': 1, 'min_samples_split': 15},\n",
       "  mean: 0.59015, std: 0.02745, params: {'min_samples_leaf': 1, 'min_samples_split': 16},\n",
       "  mean: 0.59003, std: 0.02757, params: {'min_samples_leaf': 1, 'min_samples_split': 17},\n",
       "  mean: 0.59026, std: 0.02748, params: {'min_samples_leaf': 1, 'min_samples_split': 18},\n",
       "  mean: 0.59026, std: 0.02747, params: {'min_samples_leaf': 1, 'min_samples_split': 19},\n",
       "  mean: 0.59014, std: 0.02735, params: {'min_samples_leaf': 2, 'min_samples_split': 2},\n",
       "  mean: 0.59013, std: 0.02735, params: {'min_samples_leaf': 2, 'min_samples_split': 3},\n",
       "  mean: 0.59014, std: 0.02735, params: {'min_samples_leaf': 2, 'min_samples_split': 4},\n",
       "  mean: 0.58984, std: 0.02728, params: {'min_samples_leaf': 2, 'min_samples_split': 5},\n",
       "  mean: 0.58919, std: 0.02689, params: {'min_samples_leaf': 2, 'min_samples_split': 6},\n",
       "  mean: 0.58941, std: 0.02678, params: {'min_samples_leaf': 2, 'min_samples_split': 7},\n",
       "  mean: 0.58964, std: 0.02703, params: {'min_samples_leaf': 2, 'min_samples_split': 8},\n",
       "  mean: 0.58989, std: 0.02716, params: {'min_samples_leaf': 2, 'min_samples_split': 9},\n",
       "  mean: 0.58976, std: 0.02757, params: {'min_samples_leaf': 2, 'min_samples_split': 10},\n",
       "  mean: 0.59003, std: 0.02753, params: {'min_samples_leaf': 2, 'min_samples_split': 11},\n",
       "  mean: 0.59021, std: 0.02724, params: {'min_samples_leaf': 2, 'min_samples_split': 12},\n",
       "  mean: 0.59025, std: 0.02728, params: {'min_samples_leaf': 2, 'min_samples_split': 13},\n",
       "  mean: 0.59073, std: 0.02740, params: {'min_samples_leaf': 2, 'min_samples_split': 14},\n",
       "  mean: 0.59068, std: 0.02736, params: {'min_samples_leaf': 2, 'min_samples_split': 15},\n",
       "  mean: 0.59097, std: 0.02732, params: {'min_samples_leaf': 2, 'min_samples_split': 16},\n",
       "  mean: 0.59124, std: 0.02751, params: {'min_samples_leaf': 2, 'min_samples_split': 17},\n",
       "  mean: 0.59100, std: 0.02748, params: {'min_samples_leaf': 2, 'min_samples_split': 18},\n",
       "  mean: 0.59093, std: 0.02758, params: {'min_samples_leaf': 2, 'min_samples_split': 19},\n",
       "  mean: 0.59127, std: 0.02758, params: {'min_samples_leaf': 3, 'min_samples_split': 2},\n",
       "  mean: 0.59127, std: 0.02758, params: {'min_samples_leaf': 3, 'min_samples_split': 3},\n",
       "  mean: 0.59127, std: 0.02758, params: {'min_samples_leaf': 3, 'min_samples_split': 4},\n",
       "  mean: 0.59127, std: 0.02758, params: {'min_samples_leaf': 3, 'min_samples_split': 5},\n",
       "  mean: 0.59127, std: 0.02758, params: {'min_samples_leaf': 3, 'min_samples_split': 6},\n",
       "  mean: 0.59109, std: 0.02746, params: {'min_samples_leaf': 3, 'min_samples_split': 7},\n",
       "  mean: 0.59128, std: 0.02750, params: {'min_samples_leaf': 3, 'min_samples_split': 8},\n",
       "  mean: 0.59121, std: 0.02743, params: {'min_samples_leaf': 3, 'min_samples_split': 9},\n",
       "  mean: 0.59123, std: 0.02765, params: {'min_samples_leaf': 3, 'min_samples_split': 10},\n",
       "  mean: 0.59078, std: 0.02809, params: {'min_samples_leaf': 3, 'min_samples_split': 11},\n",
       "  mean: 0.59064, std: 0.02800, params: {'min_samples_leaf': 3, 'min_samples_split': 12},\n",
       "  mean: 0.59065, std: 0.02790, params: {'min_samples_leaf': 3, 'min_samples_split': 13},\n",
       "  mean: 0.59074, std: 0.02789, params: {'min_samples_leaf': 3, 'min_samples_split': 14},\n",
       "  mean: 0.59084, std: 0.02785, params: {'min_samples_leaf': 3, 'min_samples_split': 15},\n",
       "  mean: 0.59099, std: 0.02805, params: {'min_samples_leaf': 3, 'min_samples_split': 16},\n",
       "  mean: 0.59086, std: 0.02800, params: {'min_samples_leaf': 3, 'min_samples_split': 17},\n",
       "  mean: 0.59117, std: 0.02797, params: {'min_samples_leaf': 3, 'min_samples_split': 18},\n",
       "  mean: 0.59112, std: 0.02786, params: {'min_samples_leaf': 3, 'min_samples_split': 19},\n",
       "  mean: 0.59182, std: 0.02783, params: {'min_samples_leaf': 4, 'min_samples_split': 2},\n",
       "  mean: 0.59182, std: 0.02783, params: {'min_samples_leaf': 4, 'min_samples_split': 3},\n",
       "  mean: 0.59182, std: 0.02783, params: {'min_samples_leaf': 4, 'min_samples_split': 4},\n",
       "  mean: 0.59182, std: 0.02783, params: {'min_samples_leaf': 4, 'min_samples_split': 5},\n",
       "  mean: 0.59182, std: 0.02783, params: {'min_samples_leaf': 4, 'min_samples_split': 6},\n",
       "  mean: 0.59182, std: 0.02783, params: {'min_samples_leaf': 4, 'min_samples_split': 7},\n",
       "  mean: 0.59182, std: 0.02783, params: {'min_samples_leaf': 4, 'min_samples_split': 8},\n",
       "  mean: 0.59198, std: 0.02791, params: {'min_samples_leaf': 4, 'min_samples_split': 9},\n",
       "  mean: 0.59192, std: 0.02783, params: {'min_samples_leaf': 4, 'min_samples_split': 10},\n",
       "  mean: 0.59189, std: 0.02796, params: {'min_samples_leaf': 4, 'min_samples_split': 11},\n",
       "  mean: 0.59207, std: 0.02799, params: {'min_samples_leaf': 4, 'min_samples_split': 12},\n",
       "  mean: 0.59203, std: 0.02824, params: {'min_samples_leaf': 4, 'min_samples_split': 13},\n",
       "  mean: 0.59215, std: 0.02829, params: {'min_samples_leaf': 4, 'min_samples_split': 14},\n",
       "  mean: 0.59202, std: 0.02830, params: {'min_samples_leaf': 4, 'min_samples_split': 15},\n",
       "  mean: 0.59226, std: 0.02817, params: {'min_samples_leaf': 4, 'min_samples_split': 16},\n",
       "  mean: 0.59232, std: 0.02781, params: {'min_samples_leaf': 4, 'min_samples_split': 17},\n",
       "  mean: 0.59234, std: 0.02813, params: {'min_samples_leaf': 4, 'min_samples_split': 18},\n",
       "  mean: 0.59236, std: 0.02813, params: {'min_samples_leaf': 4, 'min_samples_split': 19},\n",
       "  mean: 0.59245, std: 0.02728, params: {'min_samples_leaf': 5, 'min_samples_split': 2},\n",
       "  mean: 0.59245, std: 0.02728, params: {'min_samples_leaf': 5, 'min_samples_split': 3},\n",
       "  mean: 0.59245, std: 0.02728, params: {'min_samples_leaf': 5, 'min_samples_split': 4},\n",
       "  mean: 0.59245, std: 0.02728, params: {'min_samples_leaf': 5, 'min_samples_split': 5},\n",
       "  mean: 0.59245, std: 0.02728, params: {'min_samples_leaf': 5, 'min_samples_split': 6},\n",
       "  mean: 0.59245, std: 0.02728, params: {'min_samples_leaf': 5, 'min_samples_split': 7},\n",
       "  mean: 0.59245, std: 0.02728, params: {'min_samples_leaf': 5, 'min_samples_split': 8},\n",
       "  mean: 0.59245, std: 0.02728, params: {'min_samples_leaf': 5, 'min_samples_split': 9},\n",
       "  mean: 0.59245, std: 0.02728, params: {'min_samples_leaf': 5, 'min_samples_split': 10},\n",
       "  mean: 0.59230, std: 0.02742, params: {'min_samples_leaf': 5, 'min_samples_split': 11},\n",
       "  mean: 0.59232, std: 0.02747, params: {'min_samples_leaf': 5, 'min_samples_split': 12},\n",
       "  mean: 0.59219, std: 0.02749, params: {'min_samples_leaf': 5, 'min_samples_split': 13},\n",
       "  mean: 0.59223, std: 0.02749, params: {'min_samples_leaf': 5, 'min_samples_split': 14},\n",
       "  mean: 0.59236, std: 0.02739, params: {'min_samples_leaf': 5, 'min_samples_split': 15},\n",
       "  mean: 0.59261, std: 0.02730, params: {'min_samples_leaf': 5, 'min_samples_split': 16},\n",
       "  mean: 0.59241, std: 0.02757, params: {'min_samples_leaf': 5, 'min_samples_split': 17},\n",
       "  mean: 0.59251, std: 0.02743, params: {'min_samples_leaf': 5, 'min_samples_split': 18},\n",
       "  mean: 0.59268, std: 0.02725, params: {'min_samples_leaf': 5, 'min_samples_split': 19},\n",
       "  mean: 0.59278, std: 0.02745, params: {'min_samples_leaf': 6, 'min_samples_split': 2},\n",
       "  mean: 0.59278, std: 0.02745, params: {'min_samples_leaf': 6, 'min_samples_split': 3},\n",
       "  mean: 0.59278, std: 0.02745, params: {'min_samples_leaf': 6, 'min_samples_split': 4},\n",
       "  mean: 0.59278, std: 0.02745, params: {'min_samples_leaf': 6, 'min_samples_split': 5},\n",
       "  mean: 0.59278, std: 0.02745, params: {'min_samples_leaf': 6, 'min_samples_split': 6},\n",
       "  mean: 0.59278, std: 0.02745, params: {'min_samples_leaf': 6, 'min_samples_split': 7},\n",
       "  mean: 0.59278, std: 0.02745, params: {'min_samples_leaf': 6, 'min_samples_split': 8},\n",
       "  mean: 0.59278, std: 0.02745, params: {'min_samples_leaf': 6, 'min_samples_split': 9},\n",
       "  mean: 0.59278, std: 0.02745, params: {'min_samples_leaf': 6, 'min_samples_split': 10},\n",
       "  mean: 0.59278, std: 0.02745, params: {'min_samples_leaf': 6, 'min_samples_split': 11},\n",
       "  mean: 0.59278, std: 0.02745, params: {'min_samples_leaf': 6, 'min_samples_split': 12},\n",
       "  mean: 0.59251, std: 0.02747, params: {'min_samples_leaf': 6, 'min_samples_split': 13},\n",
       "  mean: 0.59280, std: 0.02770, params: {'min_samples_leaf': 6, 'min_samples_split': 14},\n",
       "  mean: 0.59302, std: 0.02778, params: {'min_samples_leaf': 6, 'min_samples_split': 15},\n",
       "  mean: 0.59305, std: 0.02762, params: {'min_samples_leaf': 6, 'min_samples_split': 16},\n",
       "  mean: 0.59306, std: 0.02769, params: {'min_samples_leaf': 6, 'min_samples_split': 17},\n",
       "  mean: 0.59313, std: 0.02757, params: {'min_samples_leaf': 6, 'min_samples_split': 18},\n",
       "  mean: 0.59342, std: 0.02750, params: {'min_samples_leaf': 6, 'min_samples_split': 19},\n",
       "  mean: 0.59309, std: 0.02745, params: {'min_samples_leaf': 7, 'min_samples_split': 2},\n",
       "  mean: 0.59309, std: 0.02745, params: {'min_samples_leaf': 7, 'min_samples_split': 3},\n",
       "  mean: 0.59309, std: 0.02745, params: {'min_samples_leaf': 7, 'min_samples_split': 4},\n",
       "  mean: 0.59309, std: 0.02745, params: {'min_samples_leaf': 7, 'min_samples_split': 5},\n",
       "  mean: 0.59309, std: 0.02745, params: {'min_samples_leaf': 7, 'min_samples_split': 6},\n",
       "  mean: 0.59309, std: 0.02745, params: {'min_samples_leaf': 7, 'min_samples_split': 7},\n",
       "  mean: 0.59309, std: 0.02745, params: {'min_samples_leaf': 7, 'min_samples_split': 8},\n",
       "  mean: 0.59309, std: 0.02745, params: {'min_samples_leaf': 7, 'min_samples_split': 9},\n",
       "  mean: 0.59309, std: 0.02745, params: {'min_samples_leaf': 7, 'min_samples_split': 10},\n",
       "  mean: 0.59309, std: 0.02745, params: {'min_samples_leaf': 7, 'min_samples_split': 11},\n",
       "  mean: 0.59309, std: 0.02745, params: {'min_samples_leaf': 7, 'min_samples_split': 12},\n",
       "  mean: 0.59309, std: 0.02745, params: {'min_samples_leaf': 7, 'min_samples_split': 13},\n",
       "  mean: 0.59309, std: 0.02745, params: {'min_samples_leaf': 7, 'min_samples_split': 14},\n",
       "  mean: 0.59333, std: 0.02748, params: {'min_samples_leaf': 7, 'min_samples_split': 15},\n",
       "  mean: 0.59329, std: 0.02753, params: {'min_samples_leaf': 7, 'min_samples_split': 16},\n",
       "  mean: 0.59332, std: 0.02763, params: {'min_samples_leaf': 7, 'min_samples_split': 17},\n",
       "  mean: 0.59322, std: 0.02767, params: {'min_samples_leaf': 7, 'min_samples_split': 18},\n",
       "  mean: 0.59340, std: 0.02745, params: {'min_samples_leaf': 7, 'min_samples_split': 19},\n",
       "  mean: 0.59405, std: 0.02761, params: {'min_samples_leaf': 8, 'min_samples_split': 2},\n",
       "  mean: 0.59405, std: 0.02761, params: {'min_samples_leaf': 8, 'min_samples_split': 3},\n",
       "  mean: 0.59405, std: 0.02761, params: {'min_samples_leaf': 8, 'min_samples_split': 4},\n",
       "  mean: 0.59405, std: 0.02761, params: {'min_samples_leaf': 8, 'min_samples_split': 5},\n",
       "  mean: 0.59405, std: 0.02761, params: {'min_samples_leaf': 8, 'min_samples_split': 6},\n",
       "  mean: 0.59405, std: 0.02761, params: {'min_samples_leaf': 8, 'min_samples_split': 7},\n",
       "  mean: 0.59405, std: 0.02761, params: {'min_samples_leaf': 8, 'min_samples_split': 8},\n",
       "  mean: 0.59405, std: 0.02761, params: {'min_samples_leaf': 8, 'min_samples_split': 9},\n",
       "  mean: 0.59405, std: 0.02761, params: {'min_samples_leaf': 8, 'min_samples_split': 10},\n",
       "  mean: 0.59405, std: 0.02761, params: {'min_samples_leaf': 8, 'min_samples_split': 11},\n",
       "  mean: 0.59405, std: 0.02761, params: {'min_samples_leaf': 8, 'min_samples_split': 12},\n",
       "  mean: 0.59405, std: 0.02761, params: {'min_samples_leaf': 8, 'min_samples_split': 13},\n",
       "  mean: 0.59405, std: 0.02761, params: {'min_samples_leaf': 8, 'min_samples_split': 14},\n",
       "  mean: 0.59405, std: 0.02761, params: {'min_samples_leaf': 8, 'min_samples_split': 15},\n",
       "  mean: 0.59405, std: 0.02761, params: {'min_samples_leaf': 8, 'min_samples_split': 16},\n",
       "  mean: 0.59410, std: 0.02758, params: {'min_samples_leaf': 8, 'min_samples_split': 17},\n",
       "  mean: 0.59401, std: 0.02749, params: {'min_samples_leaf': 8, 'min_samples_split': 18},\n",
       "  mean: 0.59375, std: 0.02731, params: {'min_samples_leaf': 8, 'min_samples_split': 19},\n",
       "  mean: 0.59345, std: 0.02741, params: {'min_samples_leaf': 9, 'min_samples_split': 2},\n",
       "  mean: 0.59345, std: 0.02741, params: {'min_samples_leaf': 9, 'min_samples_split': 3},\n",
       "  mean: 0.59345, std: 0.02741, params: {'min_samples_leaf': 9, 'min_samples_split': 4},\n",
       "  mean: 0.59345, std: 0.02741, params: {'min_samples_leaf': 9, 'min_samples_split': 5},\n",
       "  mean: 0.59345, std: 0.02741, params: {'min_samples_leaf': 9, 'min_samples_split': 6},\n",
       "  mean: 0.59345, std: 0.02741, params: {'min_samples_leaf': 9, 'min_samples_split': 7},\n",
       "  mean: 0.59345, std: 0.02741, params: {'min_samples_leaf': 9, 'min_samples_split': 8},\n",
       "  mean: 0.59345, std: 0.02741, params: {'min_samples_leaf': 9, 'min_samples_split': 9},\n",
       "  mean: 0.59345, std: 0.02741, params: {'min_samples_leaf': 9, 'min_samples_split': 10},\n",
       "  mean: 0.59345, std: 0.02741, params: {'min_samples_leaf': 9, 'min_samples_split': 11},\n",
       "  mean: 0.59345, std: 0.02741, params: {'min_samples_leaf': 9, 'min_samples_split': 12},\n",
       "  mean: 0.59345, std: 0.02741, params: {'min_samples_leaf': 9, 'min_samples_split': 13},\n",
       "  mean: 0.59345, std: 0.02741, params: {'min_samples_leaf': 9, 'min_samples_split': 14},\n",
       "  mean: 0.59345, std: 0.02741, params: {'min_samples_leaf': 9, 'min_samples_split': 15},\n",
       "  mean: 0.59345, std: 0.02741, params: {'min_samples_leaf': 9, 'min_samples_split': 16},\n",
       "  mean: 0.59345, std: 0.02741, params: {'min_samples_leaf': 9, 'min_samples_split': 17},\n",
       "  mean: 0.59345, std: 0.02741, params: {'min_samples_leaf': 9, 'min_samples_split': 18},\n",
       "  mean: 0.59360, std: 0.02714, params: {'min_samples_leaf': 9, 'min_samples_split': 19},\n",
       "  mean: 0.59401, std: 0.02751, params: {'min_samples_leaf': 10, 'min_samples_split': 2},\n",
       "  mean: 0.59401, std: 0.02751, params: {'min_samples_leaf': 10, 'min_samples_split': 3},\n",
       "  mean: 0.59401, std: 0.02751, params: {'min_samples_leaf': 10, 'min_samples_split': 4},\n",
       "  mean: 0.59401, std: 0.02751, params: {'min_samples_leaf': 10, 'min_samples_split': 5},\n",
       "  mean: 0.59401, std: 0.02751, params: {'min_samples_leaf': 10, 'min_samples_split': 6},\n",
       "  mean: 0.59401, std: 0.02751, params: {'min_samples_leaf': 10, 'min_samples_split': 7},\n",
       "  mean: 0.59401, std: 0.02751, params: {'min_samples_leaf': 10, 'min_samples_split': 8},\n",
       "  mean: 0.59401, std: 0.02751, params: {'min_samples_leaf': 10, 'min_samples_split': 9},\n",
       "  mean: 0.59401, std: 0.02751, params: {'min_samples_leaf': 10, 'min_samples_split': 10},\n",
       "  mean: 0.59401, std: 0.02751, params: {'min_samples_leaf': 10, 'min_samples_split': 11},\n",
       "  mean: 0.59401, std: 0.02751, params: {'min_samples_leaf': 10, 'min_samples_split': 12},\n",
       "  mean: 0.59401, std: 0.02751, params: {'min_samples_leaf': 10, 'min_samples_split': 13},\n",
       "  mean: 0.59401, std: 0.02751, params: {'min_samples_leaf': 10, 'min_samples_split': 14},\n",
       "  mean: 0.59401, std: 0.02751, params: {'min_samples_leaf': 10, 'min_samples_split': 15},\n",
       "  mean: 0.59401, std: 0.02751, params: {'min_samples_leaf': 10, 'min_samples_split': 16},\n",
       "  mean: 0.59401, std: 0.02751, params: {'min_samples_leaf': 10, 'min_samples_split': 17},\n",
       "  mean: 0.59401, std: 0.02751, params: {'min_samples_leaf': 10, 'min_samples_split': 18},\n",
       "  mean: 0.59401, std: 0.02751, params: {'min_samples_leaf': 10, 'min_samples_split': 19},\n",
       "  mean: 0.59399, std: 0.02786, params: {'min_samples_leaf': 11, 'min_samples_split': 2},\n",
       "  mean: 0.59399, std: 0.02786, params: {'min_samples_leaf': 11, 'min_samples_split': 3},\n",
       "  mean: 0.59399, std: 0.02786, params: {'min_samples_leaf': 11, 'min_samples_split': 4},\n",
       "  mean: 0.59399, std: 0.02786, params: {'min_samples_leaf': 11, 'min_samples_split': 5},\n",
       "  mean: 0.59399, std: 0.02786, params: {'min_samples_leaf': 11, 'min_samples_split': 6},\n",
       "  mean: 0.59399, std: 0.02786, params: {'min_samples_leaf': 11, 'min_samples_split': 7},\n",
       "  mean: 0.59399, std: 0.02786, params: {'min_samples_leaf': 11, 'min_samples_split': 8},\n",
       "  mean: 0.59399, std: 0.02786, params: {'min_samples_leaf': 11, 'min_samples_split': 9},\n",
       "  mean: 0.59399, std: 0.02786, params: {'min_samples_leaf': 11, 'min_samples_split': 10},\n",
       "  mean: 0.59399, std: 0.02786, params: {'min_samples_leaf': 11, 'min_samples_split': 11},\n",
       "  mean: 0.59399, std: 0.02786, params: {'min_samples_leaf': 11, 'min_samples_split': 12},\n",
       "  mean: 0.59399, std: 0.02786, params: {'min_samples_leaf': 11, 'min_samples_split': 13},\n",
       "  mean: 0.59399, std: 0.02786, params: {'min_samples_leaf': 11, 'min_samples_split': 14},\n",
       "  mean: 0.59399, std: 0.02786, params: {'min_samples_leaf': 11, 'min_samples_split': 15},\n",
       "  mean: 0.59399, std: 0.02786, params: {'min_samples_leaf': 11, 'min_samples_split': 16},\n",
       "  mean: 0.59399, std: 0.02786, params: {'min_samples_leaf': 11, 'min_samples_split': 17},\n",
       "  mean: 0.59399, std: 0.02786, params: {'min_samples_leaf': 11, 'min_samples_split': 18},\n",
       "  mean: 0.59399, std: 0.02786, params: {'min_samples_leaf': 11, 'min_samples_split': 19},\n",
       "  mean: 0.59367, std: 0.02804, params: {'min_samples_leaf': 12, 'min_samples_split': 2},\n",
       "  mean: 0.59367, std: 0.02804, params: {'min_samples_leaf': 12, 'min_samples_split': 3},\n",
       "  mean: 0.59367, std: 0.02804, params: {'min_samples_leaf': 12, 'min_samples_split': 4},\n",
       "  mean: 0.59367, std: 0.02804, params: {'min_samples_leaf': 12, 'min_samples_split': 5},\n",
       "  mean: 0.59367, std: 0.02804, params: {'min_samples_leaf': 12, 'min_samples_split': 6},\n",
       "  mean: 0.59367, std: 0.02804, params: {'min_samples_leaf': 12, 'min_samples_split': 7},\n",
       "  mean: 0.59367, std: 0.02804, params: {'min_samples_leaf': 12, 'min_samples_split': 8},\n",
       "  mean: 0.59367, std: 0.02804, params: {'min_samples_leaf': 12, 'min_samples_split': 9},\n",
       "  mean: 0.59367, std: 0.02804, params: {'min_samples_leaf': 12, 'min_samples_split': 10},\n",
       "  mean: 0.59367, std: 0.02804, params: {'min_samples_leaf': 12, 'min_samples_split': 11},\n",
       "  mean: 0.59367, std: 0.02804, params: {'min_samples_leaf': 12, 'min_samples_split': 12},\n",
       "  mean: 0.59367, std: 0.02804, params: {'min_samples_leaf': 12, 'min_samples_split': 13},\n",
       "  mean: 0.59367, std: 0.02804, params: {'min_samples_leaf': 12, 'min_samples_split': 14},\n",
       "  mean: 0.59367, std: 0.02804, params: {'min_samples_leaf': 12, 'min_samples_split': 15},\n",
       "  mean: 0.59367, std: 0.02804, params: {'min_samples_leaf': 12, 'min_samples_split': 16},\n",
       "  mean: 0.59367, std: 0.02804, params: {'min_samples_leaf': 12, 'min_samples_split': 17},\n",
       "  mean: 0.59367, std: 0.02804, params: {'min_samples_leaf': 12, 'min_samples_split': 18},\n",
       "  mean: 0.59367, std: 0.02804, params: {'min_samples_leaf': 12, 'min_samples_split': 19},\n",
       "  mean: 0.59376, std: 0.02802, params: {'min_samples_leaf': 13, 'min_samples_split': 2},\n",
       "  mean: 0.59376, std: 0.02802, params: {'min_samples_leaf': 13, 'min_samples_split': 3},\n",
       "  mean: 0.59376, std: 0.02802, params: {'min_samples_leaf': 13, 'min_samples_split': 4},\n",
       "  mean: 0.59376, std: 0.02802, params: {'min_samples_leaf': 13, 'min_samples_split': 5},\n",
       "  mean: 0.59376, std: 0.02802, params: {'min_samples_leaf': 13, 'min_samples_split': 6},\n",
       "  mean: 0.59376, std: 0.02802, params: {'min_samples_leaf': 13, 'min_samples_split': 7},\n",
       "  mean: 0.59376, std: 0.02802, params: {'min_samples_leaf': 13, 'min_samples_split': 8},\n",
       "  mean: 0.59376, std: 0.02802, params: {'min_samples_leaf': 13, 'min_samples_split': 9},\n",
       "  mean: 0.59376, std: 0.02802, params: {'min_samples_leaf': 13, 'min_samples_split': 10},\n",
       "  mean: 0.59376, std: 0.02802, params: {'min_samples_leaf': 13, 'min_samples_split': 11},\n",
       "  mean: 0.59376, std: 0.02802, params: {'min_samples_leaf': 13, 'min_samples_split': 12},\n",
       "  mean: 0.59376, std: 0.02802, params: {'min_samples_leaf': 13, 'min_samples_split': 13},\n",
       "  mean: 0.59376, std: 0.02802, params: {'min_samples_leaf': 13, 'min_samples_split': 14},\n",
       "  mean: 0.59376, std: 0.02802, params: {'min_samples_leaf': 13, 'min_samples_split': 15},\n",
       "  mean: 0.59376, std: 0.02802, params: {'min_samples_leaf': 13, 'min_samples_split': 16},\n",
       "  mean: 0.59376, std: 0.02802, params: {'min_samples_leaf': 13, 'min_samples_split': 17},\n",
       "  mean: 0.59376, std: 0.02802, params: {'min_samples_leaf': 13, 'min_samples_split': 18},\n",
       "  mean: 0.59376, std: 0.02802, params: {'min_samples_leaf': 13, 'min_samples_split': 19},\n",
       "  mean: 0.59389, std: 0.02826, params: {'min_samples_leaf': 14, 'min_samples_split': 2},\n",
       "  mean: 0.59389, std: 0.02826, params: {'min_samples_leaf': 14, 'min_samples_split': 3},\n",
       "  mean: 0.59389, std: 0.02826, params: {'min_samples_leaf': 14, 'min_samples_split': 4},\n",
       "  mean: 0.59389, std: 0.02826, params: {'min_samples_leaf': 14, 'min_samples_split': 5},\n",
       "  mean: 0.59389, std: 0.02826, params: {'min_samples_leaf': 14, 'min_samples_split': 6},\n",
       "  mean: 0.59389, std: 0.02826, params: {'min_samples_leaf': 14, 'min_samples_split': 7},\n",
       "  mean: 0.59389, std: 0.02826, params: {'min_samples_leaf': 14, 'min_samples_split': 8},\n",
       "  mean: 0.59389, std: 0.02826, params: {'min_samples_leaf': 14, 'min_samples_split': 9},\n",
       "  mean: 0.59389, std: 0.02826, params: {'min_samples_leaf': 14, 'min_samples_split': 10},\n",
       "  mean: 0.59389, std: 0.02826, params: {'min_samples_leaf': 14, 'min_samples_split': 11},\n",
       "  mean: 0.59389, std: 0.02826, params: {'min_samples_leaf': 14, 'min_samples_split': 12},\n",
       "  mean: 0.59389, std: 0.02826, params: {'min_samples_leaf': 14, 'min_samples_split': 13},\n",
       "  mean: 0.59389, std: 0.02826, params: {'min_samples_leaf': 14, 'min_samples_split': 14},\n",
       "  mean: 0.59389, std: 0.02826, params: {'min_samples_leaf': 14, 'min_samples_split': 15},\n",
       "  mean: 0.59389, std: 0.02826, params: {'min_samples_leaf': 14, 'min_samples_split': 16},\n",
       "  mean: 0.59389, std: 0.02826, params: {'min_samples_leaf': 14, 'min_samples_split': 17},\n",
       "  mean: 0.59389, std: 0.02826, params: {'min_samples_leaf': 14, 'min_samples_split': 18},\n",
       "  mean: 0.59389, std: 0.02826, params: {'min_samples_leaf': 14, 'min_samples_split': 19},\n",
       "  mean: 0.59369, std: 0.02793, params: {'min_samples_leaf': 15, 'min_samples_split': 2},\n",
       "  mean: 0.59369, std: 0.02793, params: {'min_samples_leaf': 15, 'min_samples_split': 3},\n",
       "  mean: 0.59369, std: 0.02793, params: {'min_samples_leaf': 15, 'min_samples_split': 4},\n",
       "  mean: 0.59369, std: 0.02793, params: {'min_samples_leaf': 15, 'min_samples_split': 5},\n",
       "  mean: 0.59369, std: 0.02793, params: {'min_samples_leaf': 15, 'min_samples_split': 6},\n",
       "  mean: 0.59369, std: 0.02793, params: {'min_samples_leaf': 15, 'min_samples_split': 7},\n",
       "  mean: 0.59369, std: 0.02793, params: {'min_samples_leaf': 15, 'min_samples_split': 8},\n",
       "  mean: 0.59369, std: 0.02793, params: {'min_samples_leaf': 15, 'min_samples_split': 9},\n",
       "  mean: 0.59369, std: 0.02793, params: {'min_samples_leaf': 15, 'min_samples_split': 10},\n",
       "  mean: 0.59369, std: 0.02793, params: {'min_samples_leaf': 15, 'min_samples_split': 11},\n",
       "  mean: 0.59369, std: 0.02793, params: {'min_samples_leaf': 15, 'min_samples_split': 12},\n",
       "  mean: 0.59369, std: 0.02793, params: {'min_samples_leaf': 15, 'min_samples_split': 13},\n",
       "  mean: 0.59369, std: 0.02793, params: {'min_samples_leaf': 15, 'min_samples_split': 14},\n",
       "  mean: 0.59369, std: 0.02793, params: {'min_samples_leaf': 15, 'min_samples_split': 15},\n",
       "  mean: 0.59369, std: 0.02793, params: {'min_samples_leaf': 15, 'min_samples_split': 16},\n",
       "  mean: 0.59369, std: 0.02793, params: {'min_samples_leaf': 15, 'min_samples_split': 17},\n",
       "  mean: 0.59369, std: 0.02793, params: {'min_samples_leaf': 15, 'min_samples_split': 18},\n",
       "  mean: 0.59369, std: 0.02793, params: {'min_samples_leaf': 15, 'min_samples_split': 19},\n",
       "  mean: 0.59403, std: 0.02790, params: {'min_samples_leaf': 16, 'min_samples_split': 2},\n",
       "  mean: 0.59403, std: 0.02790, params: {'min_samples_leaf': 16, 'min_samples_split': 3},\n",
       "  mean: 0.59403, std: 0.02790, params: {'min_samples_leaf': 16, 'min_samples_split': 4},\n",
       "  mean: 0.59403, std: 0.02790, params: {'min_samples_leaf': 16, 'min_samples_split': 5},\n",
       "  mean: 0.59403, std: 0.02790, params: {'min_samples_leaf': 16, 'min_samples_split': 6},\n",
       "  mean: 0.59403, std: 0.02790, params: {'min_samples_leaf': 16, 'min_samples_split': 7},\n",
       "  mean: 0.59403, std: 0.02790, params: {'min_samples_leaf': 16, 'min_samples_split': 8},\n",
       "  mean: 0.59403, std: 0.02790, params: {'min_samples_leaf': 16, 'min_samples_split': 9},\n",
       "  mean: 0.59403, std: 0.02790, params: {'min_samples_leaf': 16, 'min_samples_split': 10},\n",
       "  mean: 0.59403, std: 0.02790, params: {'min_samples_leaf': 16, 'min_samples_split': 11},\n",
       "  mean: 0.59403, std: 0.02790, params: {'min_samples_leaf': 16, 'min_samples_split': 12},\n",
       "  mean: 0.59403, std: 0.02790, params: {'min_samples_leaf': 16, 'min_samples_split': 13},\n",
       "  mean: 0.59403, std: 0.02790, params: {'min_samples_leaf': 16, 'min_samples_split': 14},\n",
       "  mean: 0.59403, std: 0.02790, params: {'min_samples_leaf': 16, 'min_samples_split': 15},\n",
       "  mean: 0.59403, std: 0.02790, params: {'min_samples_leaf': 16, 'min_samples_split': 16},\n",
       "  mean: 0.59403, std: 0.02790, params: {'min_samples_leaf': 16, 'min_samples_split': 17},\n",
       "  mean: 0.59403, std: 0.02790, params: {'min_samples_leaf': 16, 'min_samples_split': 18},\n",
       "  mean: 0.59403, std: 0.02790, params: {'min_samples_leaf': 16, 'min_samples_split': 19},\n",
       "  mean: 0.59370, std: 0.02783, params: {'min_samples_leaf': 17, 'min_samples_split': 2},\n",
       "  mean: 0.59370, std: 0.02783, params: {'min_samples_leaf': 17, 'min_samples_split': 3},\n",
       "  mean: 0.59370, std: 0.02783, params: {'min_samples_leaf': 17, 'min_samples_split': 4},\n",
       "  mean: 0.59370, std: 0.02783, params: {'min_samples_leaf': 17, 'min_samples_split': 5},\n",
       "  mean: 0.59370, std: 0.02783, params: {'min_samples_leaf': 17, 'min_samples_split': 6},\n",
       "  mean: 0.59370, std: 0.02783, params: {'min_samples_leaf': 17, 'min_samples_split': 7},\n",
       "  mean: 0.59370, std: 0.02783, params: {'min_samples_leaf': 17, 'min_samples_split': 8},\n",
       "  mean: 0.59370, std: 0.02783, params: {'min_samples_leaf': 17, 'min_samples_split': 9},\n",
       "  mean: 0.59370, std: 0.02783, params: {'min_samples_leaf': 17, 'min_samples_split': 10},\n",
       "  mean: 0.59370, std: 0.02783, params: {'min_samples_leaf': 17, 'min_samples_split': 11},\n",
       "  mean: 0.59370, std: 0.02783, params: {'min_samples_leaf': 17, 'min_samples_split': 12},\n",
       "  mean: 0.59370, std: 0.02783, params: {'min_samples_leaf': 17, 'min_samples_split': 13},\n",
       "  mean: 0.59370, std: 0.02783, params: {'min_samples_leaf': 17, 'min_samples_split': 14},\n",
       "  mean: 0.59370, std: 0.02783, params: {'min_samples_leaf': 17, 'min_samples_split': 15},\n",
       "  mean: 0.59370, std: 0.02783, params: {'min_samples_leaf': 17, 'min_samples_split': 16},\n",
       "  mean: 0.59370, std: 0.02783, params: {'min_samples_leaf': 17, 'min_samples_split': 17},\n",
       "  mean: 0.59370, std: 0.02783, params: {'min_samples_leaf': 17, 'min_samples_split': 18},\n",
       "  mean: 0.59370, std: 0.02783, params: {'min_samples_leaf': 17, 'min_samples_split': 19},\n",
       "  mean: 0.59387, std: 0.02783, params: {'min_samples_leaf': 18, 'min_samples_split': 2},\n",
       "  mean: 0.59387, std: 0.02783, params: {'min_samples_leaf': 18, 'min_samples_split': 3},\n",
       "  mean: 0.59387, std: 0.02783, params: {'min_samples_leaf': 18, 'min_samples_split': 4},\n",
       "  mean: 0.59387, std: 0.02783, params: {'min_samples_leaf': 18, 'min_samples_split': 5},\n",
       "  mean: 0.59387, std: 0.02783, params: {'min_samples_leaf': 18, 'min_samples_split': 6},\n",
       "  mean: 0.59387, std: 0.02783, params: {'min_samples_leaf': 18, 'min_samples_split': 7},\n",
       "  mean: 0.59387, std: 0.02783, params: {'min_samples_leaf': 18, 'min_samples_split': 8},\n",
       "  mean: 0.59387, std: 0.02783, params: {'min_samples_leaf': 18, 'min_samples_split': 9},\n",
       "  mean: 0.59387, std: 0.02783, params: {'min_samples_leaf': 18, 'min_samples_split': 10},\n",
       "  mean: 0.59387, std: 0.02783, params: {'min_samples_leaf': 18, 'min_samples_split': 11},\n",
       "  mean: 0.59387, std: 0.02783, params: {'min_samples_leaf': 18, 'min_samples_split': 12},\n",
       "  mean: 0.59387, std: 0.02783, params: {'min_samples_leaf': 18, 'min_samples_split': 13},\n",
       "  mean: 0.59387, std: 0.02783, params: {'min_samples_leaf': 18, 'min_samples_split': 14},\n",
       "  mean: 0.59387, std: 0.02783, params: {'min_samples_leaf': 18, 'min_samples_split': 15},\n",
       "  mean: 0.59387, std: 0.02783, params: {'min_samples_leaf': 18, 'min_samples_split': 16},\n",
       "  mean: 0.59387, std: 0.02783, params: {'min_samples_leaf': 18, 'min_samples_split': 17},\n",
       "  mean: 0.59387, std: 0.02783, params: {'min_samples_leaf': 18, 'min_samples_split': 18},\n",
       "  mean: 0.59387, std: 0.02783, params: {'min_samples_leaf': 18, 'min_samples_split': 19},\n",
       "  mean: 0.59403, std: 0.02772, params: {'min_samples_leaf': 19, 'min_samples_split': 2},\n",
       "  mean: 0.59403, std: 0.02772, params: {'min_samples_leaf': 19, 'min_samples_split': 3},\n",
       "  mean: 0.59403, std: 0.02772, params: {'min_samples_leaf': 19, 'min_samples_split': 4},\n",
       "  mean: 0.59403, std: 0.02772, params: {'min_samples_leaf': 19, 'min_samples_split': 5},\n",
       "  mean: 0.59403, std: 0.02772, params: {'min_samples_leaf': 19, 'min_samples_split': 6},\n",
       "  mean: 0.59403, std: 0.02772, params: {'min_samples_leaf': 19, 'min_samples_split': 7},\n",
       "  mean: 0.59403, std: 0.02772, params: {'min_samples_leaf': 19, 'min_samples_split': 8},\n",
       "  mean: 0.59403, std: 0.02772, params: {'min_samples_leaf': 19, 'min_samples_split': 9},\n",
       "  mean: 0.59403, std: 0.02772, params: {'min_samples_leaf': 19, 'min_samples_split': 10},\n",
       "  mean: 0.59403, std: 0.02772, params: {'min_samples_leaf': 19, 'min_samples_split': 11},\n",
       "  mean: 0.59403, std: 0.02772, params: {'min_samples_leaf': 19, 'min_samples_split': 12},\n",
       "  mean: 0.59403, std: 0.02772, params: {'min_samples_leaf': 19, 'min_samples_split': 13},\n",
       "  mean: 0.59403, std: 0.02772, params: {'min_samples_leaf': 19, 'min_samples_split': 14},\n",
       "  mean: 0.59403, std: 0.02772, params: {'min_samples_leaf': 19, 'min_samples_split': 15},\n",
       "  mean: 0.59403, std: 0.02772, params: {'min_samples_leaf': 19, 'min_samples_split': 16},\n",
       "  mean: 0.59403, std: 0.02772, params: {'min_samples_leaf': 19, 'min_samples_split': 17},\n",
       "  mean: 0.59403, std: 0.02772, params: {'min_samples_leaf': 19, 'min_samples_split': 18},\n",
       "  mean: 0.59403, std: 0.02772, params: {'min_samples_leaf': 19, 'min_samples_split': 19}],\n",
       " {'min_samples_leaf': 8, 'min_samples_split': 17},\n",
       " 0.59409855678446954)"
      ]
     },
     "execution_count": 19,
     "metadata": {},
     "output_type": "execute_result"
    }
   ],
   "source": [
    "# 3. min_samples_split & min_samples_leaf\n",
    "\n",
    "param_test3 = {'min_samples_split':range(2,20,1), 'min_samples_leaf':range(1,20,1)}\n",
    "gsearch3 = GridSearchCV(estimator = GradientBoostingRegressor(), param_grid = param_test3,n_jobs=-1,iid=False, cv=10)\n",
    "gsearch3.fit(XXX,y)\n",
    "gsearch3.grid_scores_, gsearch3.best_params_, gsearch3.best_score_"
   ]
  },
  {
   "cell_type": "code",
   "execution_count": 20,
   "metadata": {
    "collapsed": false
   },
   "outputs": [
    {
     "name": "stdout",
     "output_type": "stream",
     "text": [
      "\n",
      "Model Report\n",
      "RMSE : 1055\n",
      "CV Score : Mean - 0.7706 | Std - 0.01806\n"
     ]
    }
   ],
   "source": [
    "gbr3 = GradientBoostingRegressor(min_samples_split = 17, min_samples_leaf = 8)\n",
    "validation_cross1(gbr3, XXX, y)"
   ]
  },
  {
   "cell_type": "code",
   "execution_count": null,
   "metadata": {
    "collapsed": true
   },
   "outputs": [],
   "source": []
  },
  {
   "cell_type": "code",
   "execution_count": 24,
   "metadata": {
    "collapsed": false
   },
   "outputs": [
    {
     "name": "stderr",
     "output_type": "stream",
     "text": [
      "C:\\Users\\DHRUBAJIT\\Anaconda3\\lib\\site-packages\\sklearn\\model_selection\\_search.py:747: DeprecationWarning: The grid_scores_ attribute was deprecated in version 0.18 in favor of the more elaborate cv_results_ attribute. The grid_scores_ attribute will not be available from 0.20\n",
      "  DeprecationWarning)\n"
     ]
    },
    {
     "data": {
      "text/plain": [
       "([mean: 0.59452, std: 0.02760, params: {'max_features': 1},\n",
       "  mean: 0.59357, std: 0.02731, params: {'max_features': 2},\n",
       "  mean: 0.59140, std: 0.02747, params: {'max_features': 3}],\n",
       " {'max_features': 1},\n",
       " 0.59452386539240731)"
      ]
     },
     "execution_count": 24,
     "metadata": {},
     "output_type": "execute_result"
    }
   ],
   "source": [
    "# 4. max_features\n",
    "\n",
    "param_test4 = {'max_features':range(1,4,1)}\n",
    "gsearch4 = GridSearchCV(estimator = GradientBoostingRegressor(),param_grid = param_test4,n_jobs=4,iid=False, cv=10)\n",
    "gsearch4.fit(XXX,y)\n",
    "gsearch4.grid_scores_, gsearch4.best_params_, gsearch4.best_score_"
   ]
  },
  {
   "cell_type": "code",
   "execution_count": 25,
   "metadata": {
    "collapsed": false
   },
   "outputs": [
    {
     "name": "stdout",
     "output_type": "stream",
     "text": [
      "\n",
      "Model Report\n",
      "RMSE : 1053\n",
      "CV Score : Mean - 0.7705 | Std - 0.01792\n"
     ]
    }
   ],
   "source": [
    "gbr4 = GradientBoostingRegressor(max_features = 1)\n",
    "validation_cross1(gbr4, XXX, y)"
   ]
  },
  {
   "cell_type": "code",
   "execution_count": null,
   "metadata": {
    "collapsed": true
   },
   "outputs": [],
   "source": []
  },
  {
   "cell_type": "code",
   "execution_count": 27,
   "metadata": {
    "collapsed": false
   },
   "outputs": [
    {
     "name": "stderr",
     "output_type": "stream",
     "text": [
      "C:\\Users\\DHRUBAJIT\\Anaconda3\\lib\\site-packages\\sklearn\\model_selection\\_search.py:747: DeprecationWarning: The grid_scores_ attribute was deprecated in version 0.18 in favor of the more elaborate cv_results_ attribute. The grid_scores_ attribute will not be available from 0.20\n",
      "  DeprecationWarning)\n"
     ]
    },
    {
     "data": {
      "text/plain": [
       "([mean: 0.58914, std: 0.02805, params: {'max_features': 'auto'},\n",
       "  mean: 0.59374, std: 0.02713, params: {'max_features': 'sqrt'},\n",
       "  mean: 0.59322, std: 0.02700, params: {'max_features': 'log2'}],\n",
       " {'max_features': 'sqrt'},\n",
       " 0.59373891795703515)"
      ]
     },
     "execution_count": 27,
     "metadata": {},
     "output_type": "execute_result"
    }
   ],
   "source": [
    "# 4. max_features - strings\n",
    "\n",
    "param_test4 = {'max_features':['auto','sqrt','log2']}\n",
    "gsearch4 = GridSearchCV(estimator = GradientBoostingRegressor(),param_grid = param_test4,n_jobs=4,iid=False, cv=10)\n",
    "gsearch4.fit(XXX,y)\n",
    "gsearch4.grid_scores_, gsearch4.best_params_, gsearch4.best_score_"
   ]
  },
  {
   "cell_type": "code",
   "execution_count": 28,
   "metadata": {
    "collapsed": false
   },
   "outputs": [
    {
     "name": "stdout",
     "output_type": "stream",
     "text": [
      "\n",
      "Model Report\n",
      "RMSE : 1053\n",
      "CV Score : Mean - 0.7698 | Std - 0.0179\n"
     ]
    }
   ],
   "source": [
    "gbr4 = GradientBoostingRegressor(max_features = 'sqrt')\n",
    "validation_cross1(gbr4, XXX, y)"
   ]
  },
  {
   "cell_type": "code",
   "execution_count": null,
   "metadata": {
    "collapsed": true
   },
   "outputs": [],
   "source": []
  },
  {
   "cell_type": "code",
   "execution_count": 33,
   "metadata": {
    "collapsed": false
   },
   "outputs": [
    {
     "name": "stderr",
     "output_type": "stream",
     "text": [
      "C:\\Users\\DHRUBAJIT\\Anaconda3\\lib\\site-packages\\sklearn\\model_selection\\_search.py:747: DeprecationWarning: The grid_scores_ attribute was deprecated in version 0.18 in favor of the more elaborate cv_results_ attribute. The grid_scores_ attribute will not be available from 0.20\n",
      "  DeprecationWarning)\n"
     ]
    },
    {
     "data": {
      "text/plain": [
       "([mean: 0.59221, std: 0.02794, params: {'subsample': 0.6},\n",
       "  mean: 0.59302, std: 0.02685, params: {'subsample': 0.65},\n",
       "  mean: 0.59292, std: 0.02950, params: {'subsample': 0.7},\n",
       "  mean: 0.59201, std: 0.02831, params: {'subsample': 0.75},\n",
       "  mean: 0.59253, std: 0.02670, params: {'subsample': 0.8},\n",
       "  mean: 0.59444, std: 0.02761, params: {'subsample': 0.85},\n",
       "  mean: 0.59346, std: 0.02796, params: {'subsample': 0.9},\n",
       "  mean: 0.59368, std: 0.02783, params: {'subsample': 0.95},\n",
       "  mean: 0.59443, std: 0.02694, params: {'subsample': 1.0}],\n",
       " {'subsample': 0.85},\n",
       " 0.59443636156738844)"
      ]
     },
     "execution_count": 33,
     "metadata": {},
     "output_type": "execute_result"
    }
   ],
   "source": [
    "# 5. subsample\n",
    "\n",
    "param_test5 = {'subsample': [0.6,0.65,0.7,0.75,0.8,0.85,0.9,0.95,1.0]}\n",
    "gsearch5 = GridSearchCV(estimator = GradientBoostingRegressor(max_features = 1),param_grid = param_test5,n_jobs=-1,iid=False, cv=10)\n",
    "gsearch5.fit(XXX,y)\n",
    "gsearch5.grid_scores_, gsearch5.best_params_, gsearch5.best_score_"
   ]
  },
  {
   "cell_type": "code",
   "execution_count": 34,
   "metadata": {
    "collapsed": false
   },
   "outputs": [
    {
     "name": "stdout",
     "output_type": "stream",
     "text": [
      "\n",
      "Model Report\n",
      "RMSE : 1054\n",
      "CV Score : Mean - 0.7701 | Std - 0.0182\n"
     ]
    }
   ],
   "source": [
    "gbr5 = GradientBoostingRegressor(max_features = 1, subsample = 0.85)\n",
    "validation_cross1(gbr5, XXX, y)"
   ]
  },
  {
   "cell_type": "code",
   "execution_count": null,
   "metadata": {
    "collapsed": true
   },
   "outputs": [],
   "source": []
  },
  {
   "cell_type": "code",
   "execution_count": 36,
   "metadata": {
    "collapsed": false
   },
   "outputs": [
    {
     "name": "stderr",
     "output_type": "stream",
     "text": [
      "C:\\Users\\DHRUBAJIT\\Anaconda3\\lib\\site-packages\\sklearn\\model_selection\\_search.py:747: DeprecationWarning: The grid_scores_ attribute was deprecated in version 0.18 in favor of the more elaborate cv_results_ attribute. The grid_scores_ attribute will not be available from 0.20\n",
      "  DeprecationWarning)\n"
     ]
    },
    {
     "data": {
      "text/plain": [
       "([mean: 0.00696, std: 0.00076, params: {'learning_rate': 0.0001},\n",
       "  mean: 0.06964, std: 0.00227, params: {'learning_rate': 0.001},\n",
       "  mean: 0.07102, std: 0.00164, params: {'learning_rate': 0.001},\n",
       "  mean: 0.27439, std: 0.01014, params: {'learning_rate': 0.005},\n",
       "  mean: 0.41673, std: 0.00918, params: {'learning_rate': 0.01},\n",
       "  mean: 0.59103, std: 0.02473, params: {'learning_rate': 0.05},\n",
       "  mean: 0.59379, std: 0.02896, params: {'learning_rate': 0.1},\n",
       "  mean: 0.58516, std: 0.02774, params: {'learning_rate': 0.2},\n",
       "  mean: 0.57864, std: 0.03138, params: {'learning_rate': 0.3},\n",
       "  mean: 0.57067, std: 0.03375, params: {'learning_rate': 0.4}],\n",
       " {'learning_rate': 0.1},\n",
       " 0.59379177357654567)"
      ]
     },
     "execution_count": 36,
     "metadata": {},
     "output_type": "execute_result"
    }
   ],
   "source": [
    "# 6. learning_rate\n",
    "\n",
    "param_test6 = {'learning_rate':[0.0001,0.001,0.001,0.005,0.01,0.05,0.1,0.2,0.3,0.4]}\n",
    "gsearch6 = GridSearchCV(estimator = GradientBoostingRegressor(max_features = 1, subsample = 0.85),param_grid = param_test6,n_jobs=-1,iid=False, cv=10)\n",
    "gsearch6.fit(XXX,y)\n",
    "gsearch6.grid_scores_, gsearch6.best_params_, gsearch6.best_score_"
   ]
  },
  {
   "cell_type": "code",
   "execution_count": 38,
   "metadata": {
    "collapsed": false
   },
   "outputs": [
    {
     "name": "stdout",
     "output_type": "stream",
     "text": [
      "\n",
      "Model Report\n",
      "RMSE : 1051\n",
      "CV Score : Mean - 0.7701 | Std - 0.01826\n"
     ]
    }
   ],
   "source": [
    "gbr6 = GradientBoostingRegressor(max_features = 1, subsample = 0.85,learning_rate= 0.1)\n",
    "validation_cross1(gbr6, XXX, y)"
   ]
  },
  {
   "cell_type": "code",
   "execution_count": null,
   "metadata": {
    "collapsed": true
   },
   "outputs": [],
   "source": []
  },
  {
   "cell_type": "code",
   "execution_count": 40,
   "metadata": {
    "collapsed": false
   },
   "outputs": [
    {
     "name": "stderr",
     "output_type": "stream",
     "text": [
      "C:\\Users\\DHRUBAJIT\\Anaconda3\\lib\\site-packages\\sklearn\\model_selection\\_search.py:747: DeprecationWarning: The grid_scores_ attribute was deprecated in version 0.18 in favor of the more elaborate cv_results_ attribute. The grid_scores_ attribute will not be available from 0.20\n",
      "  DeprecationWarning)\n"
     ]
    },
    {
     "data": {
      "text/plain": [
       "([mean: 0.59471, std: 0.02779, params: {'loss': 'ls'},\n",
       "  mean: 0.59335, std: 0.02354, params: {'loss': 'lad'},\n",
       "  mean: 0.59338, std: 0.02524, params: {'loss': 'huber'},\n",
       "  mean: -0.09399, std: 0.16519, params: {'loss': 'quantile'}],\n",
       " {'loss': 'ls'},\n",
       " 0.59470687483435847)"
      ]
     },
     "execution_count": 40,
     "metadata": {},
     "output_type": "execute_result"
    }
   ],
   "source": [
    "# 7. loss\n",
    "param_test7 = {'loss':['ls','lad','huber','quantile']}\n",
    "gsearch7 = GridSearchCV(estimator = GradientBoostingRegressor(max_features = 1, subsample = 0.85),param_grid = param_test7,n_jobs=-1,iid=False, cv=10)\n",
    "gsearch7.fit(XXX,y)\n",
    "gsearch7.grid_scores_, gsearch7.best_params_, gsearch7.best_score_"
   ]
  },
  {
   "cell_type": "code",
   "execution_count": 13,
   "metadata": {
    "collapsed": false
   },
   "outputs": [
    {
     "name": "stdout",
     "output_type": "stream",
     "text": [
      "\n",
      "Model Report\n",
      "RMSE : 1052\n",
      "CV Score : Mean - 0.7709 | Std - 0.01847\n"
     ]
    }
   ],
   "source": [
    "gbr7 = GradientBoostingRegressor(max_features = 1, subsample = 0.85,loss= 'ls')\n",
    "validation_cross1(gbr7, XXX, y)"
   ]
  },
  {
   "cell_type": "code",
   "execution_count": null,
   "metadata": {
    "collapsed": true
   },
   "outputs": [],
   "source": []
  }
 ],
 "metadata": {
  "anaconda-cloud": {},
  "kernelspec": {
   "display_name": "Python [default]",
   "language": "python",
   "name": "python3"
  },
  "language_info": {
   "codemirror_mode": {
    "name": "ipython",
    "version": 3
   },
   "file_extension": ".py",
   "mimetype": "text/x-python",
   "name": "python",
   "nbconvert_exporter": "python",
   "pygments_lexer": "ipython3",
   "version": "3.5.2"
  }
 },
 "nbformat": 4,
 "nbformat_minor": 2
}
