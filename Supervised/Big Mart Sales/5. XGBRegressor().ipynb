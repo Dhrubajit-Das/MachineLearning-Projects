{
 "cells": [
  {
   "cell_type": "code",
   "execution_count": 1,
   "metadata": {
    "collapsed": true
   },
   "outputs": [],
   "source": [
    "import numpy as np\n",
    "import pandas as pd\n",
    "import matplotlib.pyplot as plt\n",
    "%matplotlib inline"
   ]
  },
  {
   "cell_type": "code",
   "execution_count": 2,
   "metadata": {
    "collapsed": false
   },
   "outputs": [
    {
     "data": {
      "text/html": [
       "<div>\n",
       "<table border=\"1\" class=\"dataframe\">\n",
       "  <thead>\n",
       "    <tr style=\"text-align: right;\">\n",
       "      <th></th>\n",
       "      <th>Item_Weight</th>\n",
       "      <th>Item_Visibility</th>\n",
       "      <th>Item_MRP</th>\n",
       "      <th>Outlet_Establishment_Year</th>\n",
       "      <th>Item_Outlet_Sales</th>\n",
       "      <th>Item_Fat_Content_0</th>\n",
       "      <th>Item_Fat_Content_1</th>\n",
       "      <th>Outlet_Size_0</th>\n",
       "      <th>Outlet_Size_1</th>\n",
       "      <th>Outlet_Size_2</th>\n",
       "      <th>Outlet_Location_Type_0</th>\n",
       "      <th>Outlet_Location_Type_1</th>\n",
       "      <th>Outlet_Location_Type_2</th>\n",
       "      <th>Outlet_Type_0</th>\n",
       "      <th>Outlet_Type_1</th>\n",
       "      <th>Outlet_Type_2</th>\n",
       "      <th>Outlet_Type_3</th>\n",
       "      <th>Item_type_new_0</th>\n",
       "      <th>Item_type_new_1</th>\n",
       "      <th>Item_type_new_2</th>\n",
       "    </tr>\n",
       "  </thead>\n",
       "  <tbody>\n",
       "    <tr>\n",
       "      <th>0</th>\n",
       "      <td>9.30</td>\n",
       "      <td>0.126678</td>\n",
       "      <td>15.805354</td>\n",
       "      <td>18</td>\n",
       "      <td>61.115775</td>\n",
       "      <td>1</td>\n",
       "      <td>0</td>\n",
       "      <td>0</td>\n",
       "      <td>1</td>\n",
       "      <td>0</td>\n",
       "      <td>1</td>\n",
       "      <td>0</td>\n",
       "      <td>0</td>\n",
       "      <td>0</td>\n",
       "      <td>1</td>\n",
       "      <td>0</td>\n",
       "      <td>0</td>\n",
       "      <td>0</td>\n",
       "      <td>1</td>\n",
       "      <td>0</td>\n",
       "    </tr>\n",
       "    <tr>\n",
       "      <th>1</th>\n",
       "      <td>5.92</td>\n",
       "      <td>0.138846</td>\n",
       "      <td>6.947604</td>\n",
       "      <td>8</td>\n",
       "      <td>21.057607</td>\n",
       "      <td>0</td>\n",
       "      <td>1</td>\n",
       "      <td>0</td>\n",
       "      <td>1</td>\n",
       "      <td>0</td>\n",
       "      <td>0</td>\n",
       "      <td>0</td>\n",
       "      <td>1</td>\n",
       "      <td>0</td>\n",
       "      <td>0</td>\n",
       "      <td>1</td>\n",
       "      <td>0</td>\n",
       "      <td>1</td>\n",
       "      <td>0</td>\n",
       "      <td>0</td>\n",
       "    </tr>\n",
       "    <tr>\n",
       "      <th>2</th>\n",
       "      <td>17.50</td>\n",
       "      <td>0.129461</td>\n",
       "      <td>11.900336</td>\n",
       "      <td>18</td>\n",
       "      <td>45.795961</td>\n",
       "      <td>1</td>\n",
       "      <td>0</td>\n",
       "      <td>0</td>\n",
       "      <td>1</td>\n",
       "      <td>0</td>\n",
       "      <td>1</td>\n",
       "      <td>0</td>\n",
       "      <td>0</td>\n",
       "      <td>0</td>\n",
       "      <td>1</td>\n",
       "      <td>0</td>\n",
       "      <td>0</td>\n",
       "      <td>0</td>\n",
       "      <td>1</td>\n",
       "      <td>0</td>\n",
       "    </tr>\n",
       "    <tr>\n",
       "      <th>3</th>\n",
       "      <td>19.20</td>\n",
       "      <td>0.000000</td>\n",
       "      <td>13.494258</td>\n",
       "      <td>19</td>\n",
       "      <td>27.062520</td>\n",
       "      <td>0</td>\n",
       "      <td>1</td>\n",
       "      <td>0</td>\n",
       "      <td>1</td>\n",
       "      <td>0</td>\n",
       "      <td>0</td>\n",
       "      <td>0</td>\n",
       "      <td>1</td>\n",
       "      <td>1</td>\n",
       "      <td>0</td>\n",
       "      <td>0</td>\n",
       "      <td>0</td>\n",
       "      <td>0</td>\n",
       "      <td>1</td>\n",
       "      <td>0</td>\n",
       "    </tr>\n",
       "    <tr>\n",
       "      <th>4</th>\n",
       "      <td>8.93</td>\n",
       "      <td>0.000000</td>\n",
       "      <td>7.339033</td>\n",
       "      <td>30</td>\n",
       "      <td>31.538947</td>\n",
       "      <td>1</td>\n",
       "      <td>0</td>\n",
       "      <td>1</td>\n",
       "      <td>0</td>\n",
       "      <td>0</td>\n",
       "      <td>0</td>\n",
       "      <td>0</td>\n",
       "      <td>1</td>\n",
       "      <td>0</td>\n",
       "      <td>1</td>\n",
       "      <td>0</td>\n",
       "      <td>0</td>\n",
       "      <td>0</td>\n",
       "      <td>0</td>\n",
       "      <td>1</td>\n",
       "    </tr>\n",
       "  </tbody>\n",
       "</table>\n",
       "</div>"
      ],
      "text/plain": [
       "   Item_Weight  Item_Visibility   Item_MRP  Outlet_Establishment_Year  \\\n",
       "0         9.30         0.126678  15.805354                         18   \n",
       "1         5.92         0.138846   6.947604                          8   \n",
       "2        17.50         0.129461  11.900336                         18   \n",
       "3        19.20         0.000000  13.494258                         19   \n",
       "4         8.93         0.000000   7.339033                         30   \n",
       "\n",
       "   Item_Outlet_Sales  Item_Fat_Content_0  Item_Fat_Content_1  Outlet_Size_0  \\\n",
       "0          61.115775                   1                   0              0   \n",
       "1          21.057607                   0                   1              0   \n",
       "2          45.795961                   1                   0              0   \n",
       "3          27.062520                   0                   1              0   \n",
       "4          31.538947                   1                   0              1   \n",
       "\n",
       "   Outlet_Size_1  Outlet_Size_2  Outlet_Location_Type_0  \\\n",
       "0              1              0                       1   \n",
       "1              1              0                       0   \n",
       "2              1              0                       1   \n",
       "3              1              0                       0   \n",
       "4              0              0                       0   \n",
       "\n",
       "   Outlet_Location_Type_1  Outlet_Location_Type_2  Outlet_Type_0  \\\n",
       "0                       0                       0              0   \n",
       "1                       0                       1              0   \n",
       "2                       0                       0              0   \n",
       "3                       0                       1              1   \n",
       "4                       0                       1              0   \n",
       "\n",
       "   Outlet_Type_1  Outlet_Type_2  Outlet_Type_3  Item_type_new_0  \\\n",
       "0              1              0              0                0   \n",
       "1              0              1              0                1   \n",
       "2              1              0              0                0   \n",
       "3              0              0              0                0   \n",
       "4              1              0              0                0   \n",
       "\n",
       "   Item_type_new_1  Item_type_new_2  \n",
       "0                1                0  \n",
       "1                0                0  \n",
       "2                1                0  \n",
       "3                1                0  \n",
       "4                0                1  "
      ]
     },
     "execution_count": 2,
     "metadata": {},
     "output_type": "execute_result"
    }
   ],
   "source": [
    "data = pd.read_csv(\"C:\\\\Users\\\\DHRUBAJIT\\\\Desktop\\\\AnalyticsVidhya\\\\Big Mart Sales\\\\New_dataset.csv\")\n",
    "data.head()"
   ]
  },
  {
   "cell_type": "code",
   "execution_count": 3,
   "metadata": {
    "collapsed": true
   },
   "outputs": [],
   "source": [
    "X = data.drop(['Item_Outlet_Sales'], axis=1)\n",
    "y = data.Item_Outlet_Sales"
   ]
  },
  {
   "cell_type": "code",
   "execution_count": 4,
   "metadata": {
    "collapsed": true
   },
   "outputs": [],
   "source": [
    "XX = X[['Item_Weight','Item_Visibility','Item_MRP','Outlet_Establishment_Year','Item_Fat_Content_0','Outlet_Size_0','Outlet_Type_0','Outlet_Type_1','Outlet_Type_3']]"
   ]
  },
  {
   "cell_type": "code",
   "execution_count": 5,
   "metadata": {
    "collapsed": false
   },
   "outputs": [],
   "source": [
    "from sklearn.model_selection import train_test_split\n",
    "xtrain,xtest,ytrain,ytest = train_test_split(XX,y, random_state=0, test_size=0.3)"
   ]
  },
  {
   "cell_type": "code",
   "execution_count": 6,
   "metadata": {
    "collapsed": false
   },
   "outputs": [
    {
     "name": "stdout",
     "output_type": "stream",
     "text": [
      "0.703122777313\n",
      "0.66729737042\n",
      "10.7876168622\n"
     ]
    }
   ],
   "source": [
    "# default model\n",
    "from xgboost import XGBRegressor\n",
    "from sklearn.metrics import mean_squared_error\n",
    "xgboost = XGBRegressor()\n",
    "xgboost.fit(xtrain,ytrain)\n",
    "xgboost_pred = xgboost.predict(xtest)\n",
    "print(xgboost.score(xtrain,ytrain))\n",
    "print(xgboost.score(xtest,ytest))\n",
    "print(np.sqrt(mean_squared_error(ytest,xgboost_pred)))"
   ]
  },
  {
   "cell_type": "code",
   "execution_count": 7,
   "metadata": {
    "collapsed": false
   },
   "outputs": [
    {
     "data": {
      "text/plain": [
       "array([ 0.15895954,  0.16329479,  0.44508672,  0.07369942,  0.01445087,\n",
       "        0.00433526,  0.05780347,  0.033237  ,  0.04913295], dtype=float32)"
      ]
     },
     "execution_count": 7,
     "metadata": {},
     "output_type": "execute_result"
    }
   ],
   "source": [
    "xgboost.feature_importances_"
   ]
  },
  {
   "cell_type": "code",
   "execution_count": 10,
   "metadata": {
    "collapsed": false
   },
   "outputs": [
    {
     "data": {
      "image/png": "[encoded data removed]",
      "text/plain": [
       "<matplotlib.figure.Figure at 0xb36e1b67f0>"
      ]
     },
     "metadata": {},
     "output_type": "display_data"
    }
   ],
   "source": [
    "with plt.style.context('dark_background'):\n",
    "    plt.figure(figsize=(6, 4))\n",
    "    \n",
    "    plt.bar(range(9), xgboost.feature_importances_, alpha=0.5, align='center',\n",
    "            label='individual feature imp. score')\n",
    "    plt.ylabel('Feature Importances score')\n",
    "    plt.xlabel('Features')\n",
    "    plt.legend(loc='best')\n",
    "    plt.tight_layout()"
   ]
  },
  {
   "cell_type": "code",
   "execution_count": 11,
   "metadata": {
    "collapsed": false
   },
   "outputs": [
    {
     "name": "stderr",
     "output_type": "stream",
     "text": [
      "C:\\Users\\DHRUBAJIT\\Anaconda3\\lib\\site-packages\\sklearn\\model_selection\\_search.py:667: DeprecationWarning: The grid_scores_ attribute was deprecated in version 0.18 in favor of the more elaborate cv_results_ attribute. The grid_scores_ attribute will not be available from 0.20\n",
      "  DeprecationWarning)\n"
     ]
    },
    {
     "data": {
      "text/plain": [
       "([mean: 0.65896, std: 0.01751, params: {'min_child_weight': 1, 'max_depth': 1},\n",
       "  mean: 0.65896, std: 0.01751, params: {'min_child_weight': 3, 'max_depth': 1},\n",
       "  mean: 0.65914, std: 0.01743, params: {'min_child_weight': 5, 'max_depth': 1},\n",
       "  mean: 0.67176, std: 0.01487, params: {'min_child_weight': 1, 'max_depth': 3},\n",
       "  mean: 0.67208, std: 0.01409, params: {'min_child_weight': 3, 'max_depth': 3},\n",
       "  mean: 0.67222, std: 0.01459, params: {'min_child_weight': 5, 'max_depth': 3},\n",
       "  mean: 0.66021, std: 0.01390, params: {'min_child_weight': 1, 'max_depth': 5},\n",
       "  mean: 0.65929, std: 0.01170, params: {'min_child_weight': 3, 'max_depth': 5},\n",
       "  mean: 0.65875, std: 0.01255, params: {'min_child_weight': 5, 'max_depth': 5},\n",
       "  mean: 0.63886, std: 0.01335, params: {'min_child_weight': 1, 'max_depth': 7},\n",
       "  mean: 0.64058, std: 0.01376, params: {'min_child_weight': 3, 'max_depth': 7},\n",
       "  mean: 0.64097, std: 0.01439, params: {'min_child_weight': 5, 'max_depth': 7},\n",
       "  mean: 0.62519, std: 0.01565, params: {'min_child_weight': 1, 'max_depth': 9},\n",
       "  mean: 0.62390, std: 0.01675, params: {'min_child_weight': 3, 'max_depth': 9},\n",
       "  mean: 0.62508, std: 0.01409, params: {'min_child_weight': 5, 'max_depth': 9},\n",
       "  mean: 0.61152, std: 0.01570, params: {'min_child_weight': 1, 'max_depth': 11},\n",
       "  mean: 0.60731, std: 0.01455, params: {'min_child_weight': 3, 'max_depth': 11},\n",
       "  mean: 0.60808, std: 0.01471, params: {'min_child_weight': 5, 'max_depth': 11},\n",
       "  mean: 0.60270, std: 0.01601, params: {'min_child_weight': 1, 'max_depth': 13},\n",
       "  mean: 0.60392, std: 0.01238, params: {'min_child_weight': 3, 'max_depth': 13},\n",
       "  mean: 0.60011, std: 0.01495, params: {'min_child_weight': 5, 'max_depth': 13},\n",
       "  mean: 0.60080, std: 0.01560, params: {'min_child_weight': 1, 'max_depth': 15},\n",
       "  mean: 0.59418, std: 0.01289, params: {'min_child_weight': 3, 'max_depth': 15},\n",
       "  mean: 0.59493, std: 0.01247, params: {'min_child_weight': 5, 'max_depth': 15},\n",
       "  mean: 0.59623, std: 0.01576, params: {'min_child_weight': 1, 'max_depth': 17},\n",
       "  mean: 0.59086, std: 0.01323, params: {'min_child_weight': 3, 'max_depth': 17},\n",
       "  mean: 0.59391, std: 0.01374, params: {'min_child_weight': 5, 'max_depth': 17},\n",
       "  mean: 0.59638, std: 0.01822, params: {'min_child_weight': 1, 'max_depth': 19},\n",
       "  mean: 0.58924, std: 0.01677, params: {'min_child_weight': 3, 'max_depth': 19},\n",
       "  mean: 0.58810, std: 0.01512, params: {'min_child_weight': 5, 'max_depth': 19},\n",
       "  mean: 0.59744, std: 0.01652, params: {'min_child_weight': 1, 'max_depth': 21},\n",
       "  mean: 0.58832, std: 0.01622, params: {'min_child_weight': 3, 'max_depth': 21},\n",
       "  mean: 0.58587, std: 0.01473, params: {'min_child_weight': 5, 'max_depth': 21},\n",
       "  mean: 0.59919, std: 0.01402, params: {'min_child_weight': 1, 'max_depth': 23},\n",
       "  mean: 0.58716, std: 0.01654, params: {'min_child_weight': 3, 'max_depth': 23},\n",
       "  mean: 0.58352, std: 0.01599, params: {'min_child_weight': 5, 'max_depth': 23},\n",
       "  mean: 0.59480, std: 0.01548, params: {'min_child_weight': 1, 'max_depth': 25},\n",
       "  mean: 0.58783, std: 0.01701, params: {'min_child_weight': 3, 'max_depth': 25},\n",
       "  mean: 0.58193, std: 0.01676, params: {'min_child_weight': 5, 'max_depth': 25},\n",
       "  mean: 0.59539, std: 0.01506, params: {'min_child_weight': 1, 'max_depth': 27},\n",
       "  mean: 0.58905, std: 0.01651, params: {'min_child_weight': 3, 'max_depth': 27},\n",
       "  mean: 0.58550, std: 0.01346, params: {'min_child_weight': 5, 'max_depth': 27},\n",
       "  mean: 0.59706, std: 0.01624, params: {'min_child_weight': 1, 'max_depth': 29},\n",
       "  mean: 0.58940, std: 0.01671, params: {'min_child_weight': 3, 'max_depth': 29},\n",
       "  mean: 0.58504, std: 0.01599, params: {'min_child_weight': 5, 'max_depth': 29},\n",
       "  mean: 0.59835, std: 0.01789, params: {'min_child_weight': 1, 'max_depth': 31},\n",
       "  mean: 0.58835, std: 0.01734, params: {'min_child_weight': 3, 'max_depth': 31},\n",
       "  mean: 0.58425, std: 0.01625, params: {'min_child_weight': 5, 'max_depth': 31},\n",
       "  mean: 0.59727, std: 0.01671, params: {'min_child_weight': 1, 'max_depth': 33},\n",
       "  mean: 0.58863, std: 0.01631, params: {'min_child_weight': 3, 'max_depth': 33},\n",
       "  mean: 0.58189, std: 0.01696, params: {'min_child_weight': 5, 'max_depth': 33},\n",
       "  mean: 0.59501, std: 0.01488, params: {'min_child_weight': 1, 'max_depth': 35},\n",
       "  mean: 0.58874, std: 0.01696, params: {'min_child_weight': 3, 'max_depth': 35},\n",
       "  mean: 0.58292, std: 0.01668, params: {'min_child_weight': 5, 'max_depth': 35},\n",
       "  mean: 0.59630, std: 0.01552, params: {'min_child_weight': 1, 'max_depth': 37},\n",
       "  mean: 0.58944, std: 0.01528, params: {'min_child_weight': 3, 'max_depth': 37},\n",
       "  mean: 0.58340, std: 0.01671, params: {'min_child_weight': 5, 'max_depth': 37},\n",
       "  mean: 0.59684, std: 0.01640, params: {'min_child_weight': 1, 'max_depth': 39},\n",
       "  mean: 0.58818, std: 0.01537, params: {'min_child_weight': 3, 'max_depth': 39},\n",
       "  mean: 0.58365, std: 0.01599, params: {'min_child_weight': 5, 'max_depth': 39},\n",
       "  mean: 0.59757, std: 0.01429, params: {'min_child_weight': 1, 'max_depth': 41},\n",
       "  mean: 0.58673, std: 0.01709, params: {'min_child_weight': 3, 'max_depth': 41},\n",
       "  mean: 0.58291, std: 0.01700, params: {'min_child_weight': 5, 'max_depth': 41},\n",
       "  mean: 0.59777, std: 0.01634, params: {'min_child_weight': 1, 'max_depth': 43},\n",
       "  mean: 0.58646, std: 0.01751, params: {'min_child_weight': 3, 'max_depth': 43},\n",
       "  mean: 0.58430, std: 0.01694, params: {'min_child_weight': 5, 'max_depth': 43},\n",
       "  mean: 0.59900, std: 0.01602, params: {'min_child_weight': 1, 'max_depth': 45},\n",
       "  mean: 0.58678, std: 0.01573, params: {'min_child_weight': 3, 'max_depth': 45},\n",
       "  mean: 0.58412, std: 0.01812, params: {'min_child_weight': 5, 'max_depth': 45},\n",
       "  mean: 0.59835, std: 0.01552, params: {'min_child_weight': 1, 'max_depth': 47},\n",
       "  mean: 0.58573, std: 0.01554, params: {'min_child_weight': 3, 'max_depth': 47},\n",
       "  mean: 0.58394, std: 0.01621, params: {'min_child_weight': 5, 'max_depth': 47},\n",
       "  mean: 0.59775, std: 0.01550, params: {'min_child_weight': 1, 'max_depth': 49},\n",
       "  mean: 0.58714, std: 0.01526, params: {'min_child_weight': 3, 'max_depth': 49},\n",
       "  mean: 0.58379, std: 0.01597, params: {'min_child_weight': 5, 'max_depth': 49}],\n",
       " {'max_depth': 3, 'min_child_weight': 5},\n",
       " 0.67221518332910379)"
      ]
     },
     "execution_count": 11,
     "metadata": {},
     "output_type": "execute_result"
    }
   ],
   "source": [
    "param_test1 = {\n",
    " 'max_depth':range(1,50,2),\n",
    " 'min_child_weight':range(1,6,2)\n",
    "}\n",
    "from sklearn.model_selection import GridSearchCV\n",
    "gsearch1 = GridSearchCV(estimator = XGBRegressor( learning_rate =0.1, n_estimators=140, max_depth=5,\n",
    " min_child_weight=1, gamma=0, subsample=0.8, colsample_bytree=0.8,\n",
    " nthread=4, scale_pos_weight=1, seed=27), \n",
    " param_grid = param_test1,n_jobs=4,iid=False, cv=5)\n",
    "gsearch1.fit(xtrain,ytrain)\n",
    "gsearch1.grid_scores_, gsearch1.best_params_, gsearch1.best_score_"
   ]
  },
  {
   "cell_type": "code",
   "execution_count": 12,
   "metadata": {
    "collapsed": false
   },
   "outputs": [
    {
     "name": "stderr",
     "output_type": "stream",
     "text": [
      "C:\\Users\\DHRUBAJIT\\Anaconda3\\lib\\site-packages\\sklearn\\model_selection\\_search.py:667: DeprecationWarning: The grid_scores_ attribute was deprecated in version 0.18 in favor of the more elaborate cv_results_ attribute. The grid_scores_ attribute will not be available from 0.20\n",
      "  DeprecationWarning)\n"
     ]
    },
    {
     "data": {
      "text/plain": [
       "([mean: 0.65896, std: 0.01751, params: {'min_child_weight': 1, 'max_depth': 1},\n",
       "  mean: 0.65896, std: 0.01751, params: {'min_child_weight': 2, 'max_depth': 1},\n",
       "  mean: 0.65896, std: 0.01751, params: {'min_child_weight': 3, 'max_depth': 1},\n",
       "  mean: 0.65913, std: 0.01743, params: {'min_child_weight': 4, 'max_depth': 1},\n",
       "  mean: 0.65914, std: 0.01743, params: {'min_child_weight': 5, 'max_depth': 1},\n",
       "  mean: 0.65911, std: 0.01739, params: {'min_child_weight': 6, 'max_depth': 1},\n",
       "  mean: 0.65911, std: 0.01739, params: {'min_child_weight': 7, 'max_depth': 1},\n",
       "  mean: 0.65917, std: 0.01738, params: {'min_child_weight': 8, 'max_depth': 1},\n",
       "  mean: 0.65917, std: 0.01738, params: {'min_child_weight': 9, 'max_depth': 1},\n",
       "  mean: 0.65917, std: 0.01738, params: {'min_child_weight': 10, 'max_depth': 1},\n",
       "  mean: 0.65917, std: 0.01738, params: {'min_child_weight': 11, 'max_depth': 1},\n",
       "  mean: 0.65917, std: 0.01738, params: {'min_child_weight': 12, 'max_depth': 1},\n",
       "  mean: 0.65921, std: 0.01741, params: {'min_child_weight': 13, 'max_depth': 1},\n",
       "  mean: 0.65921, std: 0.01741, params: {'min_child_weight': 14, 'max_depth': 1},\n",
       "  mean: 0.67401, std: 0.01442, params: {'min_child_weight': 1, 'max_depth': 2},\n",
       "  mean: 0.67433, std: 0.01474, params: {'min_child_weight': 2, 'max_depth': 2},\n",
       "  mean: 0.67409, std: 0.01419, params: {'min_child_weight': 3, 'max_depth': 2},\n",
       "  mean: 0.67433, std: 0.01448, params: {'min_child_weight': 4, 'max_depth': 2},\n",
       "  mean: 0.67426, std: 0.01461, params: {'min_child_weight': 5, 'max_depth': 2},\n",
       "  mean: 0.67423, std: 0.01433, params: {'min_child_weight': 6, 'max_depth': 2},\n",
       "  mean: 0.67468, std: 0.01434, params: {'min_child_weight': 7, 'max_depth': 2},\n",
       "  mean: 0.67434, std: 0.01460, params: {'min_child_weight': 8, 'max_depth': 2},\n",
       "  mean: 0.67441, std: 0.01425, params: {'min_child_weight': 9, 'max_depth': 2},\n",
       "  mean: 0.67411, std: 0.01458, params: {'min_child_weight': 10, 'max_depth': 2},\n",
       "  mean: 0.67439, std: 0.01468, params: {'min_child_weight': 11, 'max_depth': 2},\n",
       "  mean: 0.67421, std: 0.01418, params: {'min_child_weight': 12, 'max_depth': 2},\n",
       "  mean: 0.67489, std: 0.01455, params: {'min_child_weight': 13, 'max_depth': 2},\n",
       "  mean: 0.67510, std: 0.01447, params: {'min_child_weight': 14, 'max_depth': 2},\n",
       "  mean: 0.67176, std: 0.01487, params: {'min_child_weight': 1, 'max_depth': 3},\n",
       "  mean: 0.67219, std: 0.01469, params: {'min_child_weight': 2, 'max_depth': 3},\n",
       "  mean: 0.67208, std: 0.01409, params: {'min_child_weight': 3, 'max_depth': 3},\n",
       "  mean: 0.67116, std: 0.01365, params: {'min_child_weight': 4, 'max_depth': 3},\n",
       "  mean: 0.67222, std: 0.01459, params: {'min_child_weight': 5, 'max_depth': 3},\n",
       "  mean: 0.67211, std: 0.01367, params: {'min_child_weight': 6, 'max_depth': 3},\n",
       "  mean: 0.67165, std: 0.01361, params: {'min_child_weight': 7, 'max_depth': 3},\n",
       "  mean: 0.67165, std: 0.01375, params: {'min_child_weight': 8, 'max_depth': 3},\n",
       "  mean: 0.67243, std: 0.01408, params: {'min_child_weight': 9, 'max_depth': 3},\n",
       "  mean: 0.67235, std: 0.01446, params: {'min_child_weight': 10, 'max_depth': 3},\n",
       "  mean: 0.67185, std: 0.01464, params: {'min_child_weight': 11, 'max_depth': 3},\n",
       "  mean: 0.67162, std: 0.01436, params: {'min_child_weight': 12, 'max_depth': 3},\n",
       "  mean: 0.67183, std: 0.01467, params: {'min_child_weight': 13, 'max_depth': 3},\n",
       "  mean: 0.67209, std: 0.01437, params: {'min_child_weight': 14, 'max_depth': 3},\n",
       "  mean: 0.66561, std: 0.01366, params: {'min_child_weight': 1, 'max_depth': 4},\n",
       "  mean: 0.66608, std: 0.01299, params: {'min_child_weight': 2, 'max_depth': 4},\n",
       "  mean: 0.66451, std: 0.01370, params: {'min_child_weight': 3, 'max_depth': 4},\n",
       "  mean: 0.66679, std: 0.01431, params: {'min_child_weight': 4, 'max_depth': 4},\n",
       "  mean: 0.66612, std: 0.01321, params: {'min_child_weight': 5, 'max_depth': 4},\n",
       "  mean: 0.66585, std: 0.01413, params: {'min_child_weight': 6, 'max_depth': 4},\n",
       "  mean: 0.66646, std: 0.01251, params: {'min_child_weight': 7, 'max_depth': 4},\n",
       "  mean: 0.66740, std: 0.01270, params: {'min_child_weight': 8, 'max_depth': 4},\n",
       "  mean: 0.66769, std: 0.01233, params: {'min_child_weight': 9, 'max_depth': 4},\n",
       "  mean: 0.66789, std: 0.01369, params: {'min_child_weight': 10, 'max_depth': 4},\n",
       "  mean: 0.66699, std: 0.01288, params: {'min_child_weight': 11, 'max_depth': 4},\n",
       "  mean: 0.66612, std: 0.01404, params: {'min_child_weight': 12, 'max_depth': 4},\n",
       "  mean: 0.66640, std: 0.01301, params: {'min_child_weight': 13, 'max_depth': 4},\n",
       "  mean: 0.66633, std: 0.01278, params: {'min_child_weight': 14, 'max_depth': 4},\n",
       "  mean: 0.66021, std: 0.01390, params: {'min_child_weight': 1, 'max_depth': 5},\n",
       "  mean: 0.65964, std: 0.01425, params: {'min_child_weight': 2, 'max_depth': 5},\n",
       "  mean: 0.65929, std: 0.01170, params: {'min_child_weight': 3, 'max_depth': 5},\n",
       "  mean: 0.65885, std: 0.01292, params: {'min_child_weight': 4, 'max_depth': 5},\n",
       "  mean: 0.65875, std: 0.01255, params: {'min_child_weight': 5, 'max_depth': 5},\n",
       "  mean: 0.65867, std: 0.01201, params: {'min_child_weight': 6, 'max_depth': 5},\n",
       "  mean: 0.65884, std: 0.01418, params: {'min_child_weight': 7, 'max_depth': 5},\n",
       "  mean: 0.65955, std: 0.01396, params: {'min_child_weight': 8, 'max_depth': 5},\n",
       "  mean: 0.65879, std: 0.01471, params: {'min_child_weight': 9, 'max_depth': 5},\n",
       "  mean: 0.66139, std: 0.01386, params: {'min_child_weight': 10, 'max_depth': 5},\n",
       "  mean: 0.65936, std: 0.01418, params: {'min_child_weight': 11, 'max_depth': 5},\n",
       "  mean: 0.66045, std: 0.01553, params: {'min_child_weight': 12, 'max_depth': 5},\n",
       "  mean: 0.65967, std: 0.01455, params: {'min_child_weight': 13, 'max_depth': 5},\n",
       "  mean: 0.66077, std: 0.01532, params: {'min_child_weight': 14, 'max_depth': 5}],\n",
       " {'max_depth': 2, 'min_child_weight': 14},\n",
       " 0.6751016299352014)"
      ]
     },
     "execution_count": 12,
     "metadata": {},
     "output_type": "execute_result"
    }
   ],
   "source": [
    "param_test2 = {\n",
    " 'max_depth':[1,2,3,4,5],\n",
    " 'min_child_weight':range(1,15,1)\n",
    "}\n",
    "from sklearn.model_selection import GridSearchCV\n",
    "gsearch2 = GridSearchCV(estimator = XGBRegressor( learning_rate =0.1, n_estimators=140, max_depth=5,\n",
    " min_child_weight=1, gamma=0, subsample=0.8, colsample_bytree=0.8,\n",
    " nthread=4, scale_pos_weight=1, seed=27), \n",
    " param_grid = param_test2,n_jobs=4,iid=False, cv=5)\n",
    "gsearch2.fit(xtrain,ytrain)\n",
    "gsearch2.grid_scores_, gsearch2.best_params_, gsearch2.best_score_"
   ]
  },
  {
   "cell_type": "code",
   "execution_count": 13,
   "metadata": {
    "collapsed": false
   },
   "outputs": [
    {
     "name": "stderr",
     "output_type": "stream",
     "text": [
      "C:\\Users\\DHRUBAJIT\\Anaconda3\\lib\\site-packages\\sklearn\\model_selection\\_search.py:667: DeprecationWarning: The grid_scores_ attribute was deprecated in version 0.18 in favor of the more elaborate cv_results_ attribute. The grid_scores_ attribute will not be available from 0.20\n",
      "  DeprecationWarning)\n"
     ]
    },
    {
     "data": {
      "text/plain": [
       "([mean: 0.67434, std: 0.01460, params: {'min_child_weight': 8},\n",
       "  mean: 0.67441, std: 0.01425, params: {'min_child_weight': 9},\n",
       "  mean: 0.67411, std: 0.01458, params: {'min_child_weight': 10},\n",
       "  mean: 0.67439, std: 0.01468, params: {'min_child_weight': 11},\n",
       "  mean: 0.67421, std: 0.01418, params: {'min_child_weight': 12},\n",
       "  mean: 0.67489, std: 0.01455, params: {'min_child_weight': 13},\n",
       "  mean: 0.67510, std: 0.01447, params: {'min_child_weight': 14},\n",
       "  mean: 0.67460, std: 0.01488, params: {'min_child_weight': 15},\n",
       "  mean: 0.67489, std: 0.01490, params: {'min_child_weight': 16},\n",
       "  mean: 0.67460, std: 0.01461, params: {'min_child_weight': 17},\n",
       "  mean: 0.67475, std: 0.01475, params: {'min_child_weight': 18},\n",
       "  mean: 0.67488, std: 0.01509, params: {'min_child_weight': 19}],\n",
       " {'min_child_weight': 14},\n",
       " 0.6751016299352014)"
      ]
     },
     "execution_count": 13,
     "metadata": {},
     "output_type": "execute_result"
    }
   ],
   "source": [
    "param_test2b = {\n",
    " 'min_child_weight':range(8,20,1)\n",
    "}\n",
    "gsearch2b = GridSearchCV(estimator = XGBRegressor( learning_rate=0.1, n_estimators=140, max_depth=2,\n",
    " min_child_weight=2, gamma=0, subsample=0.8, colsample_bytree=0.8,\n",
    " nthread=4, scale_pos_weight=1,seed=27), \n",
    " param_grid = param_test2b,n_jobs=4,iid=False, cv=5)\n",
    "gsearch2b.fit(xtrain,ytrain)\n",
    "gsearch2b.grid_scores_, gsearch2b.best_params_, gsearch2b.best_score_"
   ]
  },
  {
   "cell_type": "code",
   "execution_count": 14,
   "metadata": {
    "collapsed": false
   },
   "outputs": [
    {
     "name": "stderr",
     "output_type": "stream",
     "text": [
      "C:\\Users\\DHRUBAJIT\\Anaconda3\\lib\\site-packages\\sklearn\\model_selection\\_search.py:667: DeprecationWarning: The grid_scores_ attribute was deprecated in version 0.18 in favor of the more elaborate cv_results_ attribute. The grid_scores_ attribute will not be available from 0.20\n",
      "  DeprecationWarning)\n"
     ]
    },
    {
     "data": {
      "text/plain": [
       "([mean: 0.67510, std: 0.01447, params: {'gamma': 0.0},\n",
       "  mean: 0.67510, std: 0.01447, params: {'gamma': 0.1},\n",
       "  mean: 0.67510, std: 0.01447, params: {'gamma': 0.2},\n",
       "  mean: 0.67510, std: 0.01447, params: {'gamma': 0.3},\n",
       "  mean: 0.67510, std: 0.01447, params: {'gamma': 0.4},\n",
       "  mean: 0.67510, std: 0.01447, params: {'gamma': 0.5},\n",
       "  mean: 0.67510, std: 0.01447, params: {'gamma': 0.6},\n",
       "  mean: 0.67510, std: 0.01447, params: {'gamma': 0.7},\n",
       "  mean: 0.67510, std: 0.01447, params: {'gamma': 0.8},\n",
       "  mean: 0.67510, std: 0.01447, params: {'gamma': 0.9}],\n",
       " {'gamma': 0.0},\n",
       " 0.6751016299352014)"
      ]
     },
     "execution_count": 14,
     "metadata": {},
     "output_type": "execute_result"
    }
   ],
   "source": [
    "param_test3 = {\n",
    " 'gamma':[i/10.0 for i in range(0,10)]\n",
    "}\n",
    "gsearch3 = GridSearchCV(estimator = XGBRegressor( learning_rate =0.1, n_estimators=140, max_depth=2,\n",
    " min_child_weight=14, subsample=0.8, colsample_bytree=0.8,\n",
    " nthread=4, scale_pos_weight=1,seed=27), \n",
    " param_grid = param_test3,n_jobs=4,iid=False, cv=5)\n",
    "gsearch3.fit(xtrain,ytrain)\n",
    "gsearch3.grid_scores_, gsearch3.best_params_, gsearch3.best_score_"
   ]
  },
  {
   "cell_type": "code",
   "execution_count": 15,
   "metadata": {
    "collapsed": false
   },
   "outputs": [
    {
     "name": "stderr",
     "output_type": "stream",
     "text": [
      "C:\\Users\\DHRUBAJIT\\Anaconda3\\lib\\site-packages\\sklearn\\model_selection\\_search.py:667: DeprecationWarning: The grid_scores_ attribute was deprecated in version 0.18 in favor of the more elaborate cv_results_ attribute. The grid_scores_ attribute will not be available from 0.20\n",
      "  DeprecationWarning)\n"
     ]
    },
    {
     "data": {
      "text/plain": [
       "([mean: -5.41571, std: 0.13789, params: {'n_estimators': 0},\n",
       "  mean: 0.67371, std: 0.01417, params: {'n_estimators': 50},\n",
       "  mean: 0.67592, std: 0.01456, params: {'n_estimators': 100},\n",
       "  mean: 0.67463, std: 0.01453, params: {'n_estimators': 150},\n",
       "  mean: 0.67289, std: 0.01502, params: {'n_estimators': 200},\n",
       "  mean: 0.67208, std: 0.01515, params: {'n_estimators': 250},\n",
       "  mean: 0.67037, std: 0.01531, params: {'n_estimators': 300},\n",
       "  mean: 0.66851, std: 0.01519, params: {'n_estimators': 350},\n",
       "  mean: 0.66757, std: 0.01528, params: {'n_estimators': 400},\n",
       "  mean: 0.66685, std: 0.01479, params: {'n_estimators': 450},\n",
       "  mean: 0.66554, std: 0.01485, params: {'n_estimators': 500},\n",
       "  mean: 0.66432, std: 0.01513, params: {'n_estimators': 550},\n",
       "  mean: 0.66296, std: 0.01511, params: {'n_estimators': 600},\n",
       "  mean: 0.66194, std: 0.01453, params: {'n_estimators': 650},\n",
       "  mean: 0.66118, std: 0.01448, params: {'n_estimators': 700},\n",
       "  mean: 0.66015, std: 0.01473, params: {'n_estimators': 750},\n",
       "  mean: 0.65882, std: 0.01475, params: {'n_estimators': 800},\n",
       "  mean: 0.65842, std: 0.01426, params: {'n_estimators': 850},\n",
       "  mean: 0.65734, std: 0.01421, params: {'n_estimators': 900},\n",
       "  mean: 0.65618, std: 0.01433, params: {'n_estimators': 950},\n",
       "  mean: 0.65539, std: 0.01427, params: {'n_estimators': 1000},\n",
       "  mean: 0.65444, std: 0.01413, params: {'n_estimators': 1050}],\n",
       " {'n_estimators': 100},\n",
       " 0.67591807074270649)"
      ]
     },
     "execution_count": 15,
     "metadata": {},
     "output_type": "execute_result"
    }
   ],
   "source": [
    "param_test4 = {\n",
    " 'n_estimators' : range(0,1100,50)\n",
    "}\n",
    "gsearch4 = GridSearchCV(estimator = XGBRegressor( learning_rate =0.1,max_depth=2,\n",
    " min_child_weight=14, gamma=0.0, subsample=0.8, colsample_bytree=0.8,\n",
    " nthread=4, scale_pos_weight=1,seed=27), \n",
    " param_grid = param_test4,n_jobs=4,iid=False, cv=5)\n",
    "gsearch4.fit(xtrain,ytrain)\n",
    "gsearch4.grid_scores_, gsearch4.best_params_, gsearch4.best_score_"
   ]
  },
  {
   "cell_type": "code",
   "execution_count": 17,
   "metadata": {
    "collapsed": false
   },
   "outputs": [
    {
     "name": "stderr",
     "output_type": "stream",
     "text": [
      "C:\\Users\\DHRUBAJIT\\Anaconda3\\lib\\site-packages\\sklearn\\model_selection\\_search.py:667: DeprecationWarning: The grid_scores_ attribute was deprecated in version 0.18 in favor of the more elaborate cv_results_ attribute. The grid_scores_ attribute will not be available from 0.20\n",
      "  DeprecationWarning)\n"
     ]
    },
    {
     "data": {
      "text/plain": [
       "([mean: 0.67077, std: 0.01548, params: {'subsample': 0.4, 'colsample_bytree': 0.4},\n",
       "  mean: 0.67025, std: 0.01419, params: {'subsample': 0.5, 'colsample_bytree': 0.4},\n",
       "  mean: 0.67064, std: 0.01466, params: {'subsample': 0.6, 'colsample_bytree': 0.4},\n",
       "  mean: 0.67075, std: 0.01477, params: {'subsample': 0.7, 'colsample_bytree': 0.4},\n",
       "  mean: 0.67114, std: 0.01495, params: {'subsample': 0.8, 'colsample_bytree': 0.4},\n",
       "  mean: 0.67067, std: 0.01493, params: {'subsample': 0.9, 'colsample_bytree': 0.4},\n",
       "  mean: 0.67434, std: 0.01582, params: {'subsample': 0.4, 'colsample_bytree': 0.5},\n",
       "  mean: 0.67368, std: 0.01501, params: {'subsample': 0.5, 'colsample_bytree': 0.5},\n",
       "  mean: 0.67414, std: 0.01522, params: {'subsample': 0.6, 'colsample_bytree': 0.5},\n",
       "  mean: 0.67435, std: 0.01420, params: {'subsample': 0.7, 'colsample_bytree': 0.5},\n",
       "  mean: 0.67412, std: 0.01477, params: {'subsample': 0.8, 'colsample_bytree': 0.5},\n",
       "  mean: 0.67462, std: 0.01489, params: {'subsample': 0.9, 'colsample_bytree': 0.5},\n",
       "  mean: 0.67468, std: 0.01570, params: {'subsample': 0.4, 'colsample_bytree': 0.6},\n",
       "  mean: 0.67427, std: 0.01567, params: {'subsample': 0.5, 'colsample_bytree': 0.6},\n",
       "  mean: 0.67554, std: 0.01446, params: {'subsample': 0.6, 'colsample_bytree': 0.6},\n",
       "  mean: 0.67515, std: 0.01454, params: {'subsample': 0.7, 'colsample_bytree': 0.6},\n",
       "  mean: 0.67476, std: 0.01448, params: {'subsample': 0.8, 'colsample_bytree': 0.6},\n",
       "  mean: 0.67460, std: 0.01454, params: {'subsample': 0.9, 'colsample_bytree': 0.6},\n",
       "  mean: 0.67467, std: 0.01560, params: {'subsample': 0.4, 'colsample_bytree': 0.7},\n",
       "  mean: 0.67414, std: 0.01515, params: {'subsample': 0.5, 'colsample_bytree': 0.7},\n",
       "  mean: 0.67540, std: 0.01465, params: {'subsample': 0.6, 'colsample_bytree': 0.7},\n",
       "  mean: 0.67495, std: 0.01443, params: {'subsample': 0.7, 'colsample_bytree': 0.7},\n",
       "  mean: 0.67553, std: 0.01385, params: {'subsample': 0.8, 'colsample_bytree': 0.7},\n",
       "  mean: 0.67528, std: 0.01435, params: {'subsample': 0.9, 'colsample_bytree': 0.7},\n",
       "  mean: 0.67415, std: 0.01567, params: {'subsample': 0.4, 'colsample_bytree': 0.8},\n",
       "  mean: 0.67479, std: 0.01587, params: {'subsample': 0.5, 'colsample_bytree': 0.8},\n",
       "  mean: 0.67466, std: 0.01491, params: {'subsample': 0.6, 'colsample_bytree': 0.8},\n",
       "  mean: 0.67463, std: 0.01488, params: {'subsample': 0.7, 'colsample_bytree': 0.8},\n",
       "  mean: 0.67592, std: 0.01456, params: {'subsample': 0.8, 'colsample_bytree': 0.8},\n",
       "  mean: 0.67522, std: 0.01455, params: {'subsample': 0.9, 'colsample_bytree': 0.8},\n",
       "  mean: 0.67416, std: 0.01587, params: {'subsample': 0.4, 'colsample_bytree': 0.9},\n",
       "  mean: 0.67444, std: 0.01590, params: {'subsample': 0.5, 'colsample_bytree': 0.9},\n",
       "  mean: 0.67557, std: 0.01459, params: {'subsample': 0.6, 'colsample_bytree': 0.9},\n",
       "  mean: 0.67524, std: 0.01469, params: {'subsample': 0.7, 'colsample_bytree': 0.9},\n",
       "  mean: 0.67560, std: 0.01481, params: {'subsample': 0.8, 'colsample_bytree': 0.9},\n",
       "  mean: 0.67493, std: 0.01509, params: {'subsample': 0.9, 'colsample_bytree': 0.9}],\n",
       " {'colsample_bytree': 0.8, 'subsample': 0.8},\n",
       " 0.67591807074270649)"
      ]
     },
     "execution_count": 17,
     "metadata": {},
     "output_type": "execute_result"
    }
   ],
   "source": [
    "param_test5 = {\n",
    " 'subsample':[i/10.0 for i in range(4,10)],\n",
    " 'colsample_bytree':[i/10.0 for i in range(4,10)]\n",
    "}\n",
    "gsearch5 = GridSearchCV(estimator = XGBRegressor( learning_rate =0.1, n_estimators=100, max_depth=2,\n",
    " min_child_weight=14, gamma=0.0, subsample=0.8, colsample_bytree=0.8,\n",
    " nthread=4, scale_pos_weight=1,seed=27), \n",
    " param_grid = param_test5,n_jobs=4,iid=False, cv=5)\n",
    "gsearch5.fit(xtrain,ytrain)\n",
    "gsearch5.grid_scores_, gsearch5.best_params_, gsearch5.best_score_"
   ]
  },
  {
   "cell_type": "code",
   "execution_count": 19,
   "metadata": {
    "collapsed": false
   },
   "outputs": [
    {
     "name": "stderr",
     "output_type": "stream",
     "text": [
      "C:\\Users\\DHRUBAJIT\\Anaconda3\\lib\\site-packages\\sklearn\\model_selection\\_search.py:667: DeprecationWarning: The grid_scores_ attribute was deprecated in version 0.18 in favor of the more elaborate cv_results_ attribute. The grid_scores_ attribute will not be available from 0.20\n",
      "  DeprecationWarning)\n"
     ]
    },
    {
     "data": {
      "text/plain": [
       "([mean: 0.67545, std: 0.01365, params: {'subsample': 0.75, 'colsample_bytree': 0.75},\n",
       "  mean: 0.67553, std: 0.01385, params: {'subsample': 0.8, 'colsample_bytree': 0.75},\n",
       "  mean: 0.67568, std: 0.01406, params: {'subsample': 0.85, 'colsample_bytree': 0.75},\n",
       "  mean: 0.67528, std: 0.01435, params: {'subsample': 0.9, 'colsample_bytree': 0.75},\n",
       "  mean: 0.67533, std: 0.01455, params: {'subsample': 0.75, 'colsample_bytree': 0.8},\n",
       "  mean: 0.67592, std: 0.01456, params: {'subsample': 0.8, 'colsample_bytree': 0.8},\n",
       "  mean: 0.67541, std: 0.01420, params: {'subsample': 0.85, 'colsample_bytree': 0.8},\n",
       "  mean: 0.67522, std: 0.01455, params: {'subsample': 0.9, 'colsample_bytree': 0.8},\n",
       "  mean: 0.67533, std: 0.01455, params: {'subsample': 0.75, 'colsample_bytree': 0.85},\n",
       "  mean: 0.67592, std: 0.01456, params: {'subsample': 0.8, 'colsample_bytree': 0.85},\n",
       "  mean: 0.67541, std: 0.01420, params: {'subsample': 0.85, 'colsample_bytree': 0.85},\n",
       "  mean: 0.67522, std: 0.01455, params: {'subsample': 0.9, 'colsample_bytree': 0.85},\n",
       "  mean: 0.67538, std: 0.01460, params: {'subsample': 0.75, 'colsample_bytree': 0.9},\n",
       "  mean: 0.67560, std: 0.01481, params: {'subsample': 0.8, 'colsample_bytree': 0.9},\n",
       "  mean: 0.67537, std: 0.01456, params: {'subsample': 0.85, 'colsample_bytree': 0.9},\n",
       "  mean: 0.67493, std: 0.01509, params: {'subsample': 0.9, 'colsample_bytree': 0.9}],\n",
       " {'colsample_bytree': 0.8, 'subsample': 0.8},\n",
       " 0.67591807074270649)"
      ]
     },
     "execution_count": 19,
     "metadata": {},
     "output_type": "execute_result"
    }
   ],
   "source": [
    "param_test6 = {\n",
    " 'subsample':[i/100.0 for i in range(75,95,5)],\n",
    " 'colsample_bytree':[i/100.0 for i in range(75,95,5)]\n",
    "}\n",
    "gsearch6 = GridSearchCV(estimator = XGBRegressor( learning_rate =0.1, n_estimators=100, max_depth=2,\n",
    " min_child_weight=14, gamma=0.0, subsample=0.8, colsample_bytree=0.8,\n",
    " nthread=4, scale_pos_weight=1,seed=27), \n",
    " param_grid = param_test6, n_jobs=4,iid=False, cv=5)\n",
    "gsearch6.fit(xtrain,ytrain)\n",
    "gsearch6.grid_scores_, gsearch6.best_params_, gsearch6.best_score_"
   ]
  },
  {
   "cell_type": "code",
   "execution_count": 20,
   "metadata": {
    "collapsed": false
   },
   "outputs": [
    {
     "name": "stderr",
     "output_type": "stream",
     "text": [
      "C:\\Users\\DHRUBAJIT\\Anaconda3\\lib\\site-packages\\sklearn\\model_selection\\_search.py:667: DeprecationWarning: The grid_scores_ attribute was deprecated in version 0.18 in favor of the more elaborate cv_results_ attribute. The grid_scores_ attribute will not be available from 0.20\n",
      "  DeprecationWarning)\n"
     ]
    },
    {
     "data": {
      "text/plain": [
       "([mean: 0.67592, std: 0.01456, params: {'reg_alpha': 1e-05},\n",
       "  mean: 0.67592, std: 0.01456, params: {'reg_alpha': 0.01},\n",
       "  mean: 0.67592, std: 0.01456, params: {'reg_alpha': 0.1},\n",
       "  mean: 0.67570, std: 0.01472, params: {'reg_alpha': 1},\n",
       "  mean: 0.67551, std: 0.01473, params: {'reg_alpha': 100}],\n",
       " {'reg_alpha': 0.1},\n",
       " 0.67591883731754021)"
      ]
     },
     "execution_count": 20,
     "metadata": {},
     "output_type": "execute_result"
    }
   ],
   "source": [
    "param_test7 = {\n",
    " 'reg_alpha':[1e-5, 1e-2, 0.1, 1, 100]\n",
    "}\n",
    "gsearch7 = GridSearchCV(estimator = XGBRegressor( learning_rate =0.1, n_estimators=100, max_depth=2,\n",
    " min_child_weight=14, gamma=0.0, subsample=0.8, colsample_bytree=0.8,\n",
    " nthread=4, scale_pos_weight=1,seed=27), \n",
    " param_grid = param_test7, n_jobs=4,iid=False, cv=5)\n",
    "gsearch7.fit(xtrain,ytrain)\n",
    "gsearch7.grid_scores_, gsearch7.best_params_, gsearch7.best_score_"
   ]
  },
  {
   "cell_type": "code",
   "execution_count": 21,
   "metadata": {
    "collapsed": false
   },
   "outputs": [
    {
     "name": "stderr",
     "output_type": "stream",
     "text": [
      "C:\\Users\\DHRUBAJIT\\Anaconda3\\lib\\site-packages\\sklearn\\model_selection\\_search.py:667: DeprecationWarning: The grid_scores_ attribute was deprecated in version 0.18 in favor of the more elaborate cv_results_ attribute. The grid_scores_ attribute will not be available from 0.20\n",
      "  DeprecationWarning)\n"
     ]
    },
    {
     "data": {
      "text/plain": [
       "([mean: 0.67560, std: 0.01481, params: {'reg_alpha': 0},\n",
       "  mean: 0.67560, std: 0.01481, params: {'reg_alpha': 0.001},\n",
       "  mean: 0.67560, std: 0.01481, params: {'reg_alpha': 0.005},\n",
       "  mean: 0.67560, std: 0.01481, params: {'reg_alpha': 0.01},\n",
       "  mean: 0.67560, std: 0.01481, params: {'reg_alpha': 0.05},\n",
       "  mean: 0.67560, std: 0.01481, params: {'reg_alpha': 0.1}],\n",
       " {'reg_alpha': 0.1},\n",
       " 0.67560062963010936)"
      ]
     },
     "execution_count": 21,
     "metadata": {},
     "output_type": "execute_result"
    }
   ],
   "source": [
    "param_test8 = {\n",
    " 'reg_alpha':[0, 0.001, 0.005, 0.01, 0.05,0.1]\n",
    "}\n",
    "gsearch8 = GridSearchCV(estimator = XGBRegressor( learning_rate =0.1, n_estimators=100, max_depth=2,\n",
    " min_child_weight=14, gamma=0.0, subsample=0.8, colsample_bytree=0.9,\n",
    " nthread=4, scale_pos_weight=1,seed=27), \n",
    " param_grid = param_test8,n_jobs=4,iid=False, cv=5)\n",
    "gsearch8.fit(xtrain,ytrain)\n",
    "gsearch8.grid_scores_, gsearch8.best_params_, gsearch8.best_score_"
   ]
  },
  {
   "cell_type": "code",
   "execution_count": 131,
   "metadata": {
    "collapsed": false
   },
   "outputs": [
    {
     "name": "stdout",
     "output_type": "stream",
     "text": [
      "0.689173632319\n",
      "0.67061297433\n",
      "10.7337293664\n"
     ]
    }
   ],
   "source": [
    "xgb3 = XGBRegressor(\n",
    " learning_rate =0.1,\n",
    " n_estimators=100,\n",
    " max_depth=2,\n",
    " min_child_weight=17,\n",
    " gamma=0.0,\n",
    " subsample=0.8,\n",
    " colsample_bytree=0.9,\n",
    " reg_alpha=100,\n",
    " nthread=4,\n",
    " scale_pos_weight=1,\n",
    " seed=27)\n",
    "xgb3.fit(xtrain,ytrain)\n",
    "xgb3_pred = xgb3.predict(xtest)\n",
    "print(xgb3.score(xtrain,ytrain))\n",
    "print(xgb3.score(xtest,ytest))\n",
    "print(np.sqrt(mean_squared_error(ytest,xgb3_pred)))"
   ]
  },
  {
   "cell_type": "code",
   "execution_count": null,
   "metadata": {
    "collapsed": true
   },
   "outputs": [],
   "source": [
    "'''\n",
    "xgb3 = XGBRegressor(\n",
    " learning_rate =0.1,\n",
    " n_estimators=105,\n",
    " max_depth=2,\n",
    " min_child_weight=19,\n",
    " gamma=0.0,\n",
    " subsample=0.75,\n",
    " colsample_bytree=0.98,\n",
    " reg_alpha=95,\n",
    " nthread=4,\n",
    " scale_pos_weight=1,\n",
    " seed=27)\n",
    "xgb3.fit(xtrain,ytrain)\n",
    "xgb3_pred = xgb3.predict(xtest)\n",
    "print(xgb3.score(xtrain,ytrain))\n",
    "print(xgb3.score(xtest,ytest))\n",
    "print(np.sqrt(mean_squared_error(ytest,xgb3_pred)))\n",
    "\n",
    "0.689157140563\n",
    "0.67102367623\n",
    "10.7270355112\n",
    "'''"
   ]
  },
  {
   "cell_type": "code",
   "execution_count": 99,
   "metadata": {
    "collapsed": false
   },
   "outputs": [
    {
     "name": "stdout",
     "output_type": "stream",
     "text": [
      "0.700458817749\n",
      "0.666416071643\n",
      "10.8018951172\n"
     ]
    }
   ],
   "source": [
    "xgb4 = XGBRegressor(\n",
    " learning_rate =0.01,\n",
    " n_estimators=1000,\n",
    " max_depth=3,\n",
    " min_child_weight=13,\n",
    " gamma=0.6,\n",
    " subsample=0.8,\n",
    " colsample_bytree=0.8,\n",
    " reg_alpha=0.01,\n",
    " nthread=4,\n",
    " scale_pos_weight=1,\n",
    " seed=27)\n",
    "xgb4.fit(xtrain,ytrain)\n",
    "xgb4_pred = xgb4.predict(xtest)\n",
    "print(xgb4.score(xtrain,ytrain))\n",
    "print(xgb4.score(xtest,ytest))\n",
    "print(np.sqrt(mean_squared_error(ytest,xgb4_pred)))"
   ]
  },
  {
   "cell_type": "code",
   "execution_count": 41,
   "metadata": {
    "collapsed": false
   },
   "outputs": [
    {
     "name": "stderr",
     "output_type": "stream",
     "text": [
      "C:\\Users\\DHRUBAJIT\\Anaconda3\\lib\\site-packages\\ipykernel\\__main__.py:6: SettingWithCopyWarning: \n",
      "A value is trying to be set on a copy of a slice from a DataFrame.\n",
      "Try using .loc[row_indexer,col_indexer] = value instead\n",
      "\n",
      "See the caveats in the documentation: http://pandas.pydata.org/pandas-docs/stable/indexing.html#indexing-view-versus-copy\n"
     ]
    },
    {
     "data": {
      "text/html": [
       "<div>\n",
       "<table border=\"1\" class=\"dataframe\">\n",
       "  <thead>\n",
       "    <tr style=\"text-align: right;\">\n",
       "      <th></th>\n",
       "      <th>Item_Identifier</th>\n",
       "      <th>Item_Weight</th>\n",
       "      <th>Item_Visibility</th>\n",
       "      <th>Item_Type</th>\n",
       "      <th>Item_MRP</th>\n",
       "      <th>Outlet_Identifier</th>\n",
       "      <th>Outlet_Establishment_Year</th>\n",
       "      <th>Item_Fat_Content_0</th>\n",
       "      <th>Item_Fat_Content_1</th>\n",
       "      <th>Outlet_Size_0</th>\n",
       "      <th>...</th>\n",
       "      <th>Outlet_Location_Type_0</th>\n",
       "      <th>Outlet_Location_Type_1</th>\n",
       "      <th>Outlet_Location_Type_2</th>\n",
       "      <th>Outlet_Type_0</th>\n",
       "      <th>Outlet_Type_1</th>\n",
       "      <th>Outlet_Type_2</th>\n",
       "      <th>Outlet_Type_3</th>\n",
       "      <th>Item_type_new_0</th>\n",
       "      <th>Item_type_new_1</th>\n",
       "      <th>Item_type_new_2</th>\n",
       "    </tr>\n",
       "  </thead>\n",
       "  <tbody>\n",
       "    <tr>\n",
       "      <th>0</th>\n",
       "      <td>FDW58</td>\n",
       "      <td>20.75000</td>\n",
       "      <td>0.086976</td>\n",
       "      <td>Snack Foods</td>\n",
       "      <td>10.385673</td>\n",
       "      <td>OUT049</td>\n",
       "      <td>18</td>\n",
       "      <td>1</td>\n",
       "      <td>0</td>\n",
       "      <td>0</td>\n",
       "      <td>...</td>\n",
       "      <td>1</td>\n",
       "      <td>0</td>\n",
       "      <td>0</td>\n",
       "      <td>0</td>\n",
       "      <td>1</td>\n",
       "      <td>0</td>\n",
       "      <td>0</td>\n",
       "      <td>0</td>\n",
       "      <td>1</td>\n",
       "      <td>0</td>\n",
       "    </tr>\n",
       "    <tr>\n",
       "      <th>1</th>\n",
       "      <td>FDW14</td>\n",
       "      <td>8.30000</td>\n",
       "      <td>0.196030</td>\n",
       "      <td>Dairy</td>\n",
       "      <td>9.344506</td>\n",
       "      <td>OUT017</td>\n",
       "      <td>10</td>\n",
       "      <td>0</td>\n",
       "      <td>1</td>\n",
       "      <td>0</td>\n",
       "      <td>...</td>\n",
       "      <td>0</td>\n",
       "      <td>1</td>\n",
       "      <td>0</td>\n",
       "      <td>0</td>\n",
       "      <td>1</td>\n",
       "      <td>0</td>\n",
       "      <td>0</td>\n",
       "      <td>0</td>\n",
       "      <td>1</td>\n",
       "      <td>0</td>\n",
       "    </tr>\n",
       "    <tr>\n",
       "      <th>2</th>\n",
       "      <td>NCN55</td>\n",
       "      <td>14.60000</td>\n",
       "      <td>0.315555</td>\n",
       "      <td>Others</td>\n",
       "      <td>15.548434</td>\n",
       "      <td>OUT010</td>\n",
       "      <td>19</td>\n",
       "      <td>1</td>\n",
       "      <td>0</td>\n",
       "      <td>0</td>\n",
       "      <td>...</td>\n",
       "      <td>0</td>\n",
       "      <td>0</td>\n",
       "      <td>1</td>\n",
       "      <td>1</td>\n",
       "      <td>0</td>\n",
       "      <td>0</td>\n",
       "      <td>0</td>\n",
       "      <td>0</td>\n",
       "      <td>0</td>\n",
       "      <td>1</td>\n",
       "    </tr>\n",
       "    <tr>\n",
       "      <th>3</th>\n",
       "      <td>FDQ58</td>\n",
       "      <td>7.31500</td>\n",
       "      <td>0.124050</td>\n",
       "      <td>Snack Foods</td>\n",
       "      <td>12.451265</td>\n",
       "      <td>OUT017</td>\n",
       "      <td>10</td>\n",
       "      <td>1</td>\n",
       "      <td>0</td>\n",
       "      <td>0</td>\n",
       "      <td>...</td>\n",
       "      <td>0</td>\n",
       "      <td>1</td>\n",
       "      <td>0</td>\n",
       "      <td>0</td>\n",
       "      <td>1</td>\n",
       "      <td>0</td>\n",
       "      <td>0</td>\n",
       "      <td>0</td>\n",
       "      <td>1</td>\n",
       "      <td>0</td>\n",
       "    </tr>\n",
       "    <tr>\n",
       "      <th>4</th>\n",
       "      <td>FDY38</td>\n",
       "      <td>12.95504</td>\n",
       "      <td>0.344383</td>\n",
       "      <td>Dairy</td>\n",
       "      <td>15.304574</td>\n",
       "      <td>OUT027</td>\n",
       "      <td>32</td>\n",
       "      <td>0</td>\n",
       "      <td>1</td>\n",
       "      <td>0</td>\n",
       "      <td>...</td>\n",
       "      <td>0</td>\n",
       "      <td>0</td>\n",
       "      <td>1</td>\n",
       "      <td>0</td>\n",
       "      <td>0</td>\n",
       "      <td>0</td>\n",
       "      <td>1</td>\n",
       "      <td>0</td>\n",
       "      <td>1</td>\n",
       "      <td>0</td>\n",
       "    </tr>\n",
       "  </tbody>\n",
       "</table>\n",
       "<p>5 rows × 22 columns</p>\n",
       "</div>"
      ],
      "text/plain": [
       "  Item_Identifier  Item_Weight  Item_Visibility    Item_Type   Item_MRP  \\\n",
       "0           FDW58     20.75000         0.086976  Snack Foods  10.385673   \n",
       "1           FDW14      8.30000         0.196030        Dairy   9.344506   \n",
       "2           NCN55     14.60000         0.315555       Others  15.548434   \n",
       "3           FDQ58      7.31500         0.124050  Snack Foods  12.451265   \n",
       "4           FDY38     12.95504         0.344383        Dairy  15.304574   \n",
       "\n",
       "  Outlet_Identifier  Outlet_Establishment_Year  Item_Fat_Content_0  \\\n",
       "0            OUT049                         18                   1   \n",
       "1            OUT017                         10                   0   \n",
       "2            OUT010                         19                   1   \n",
       "3            OUT017                         10                   1   \n",
       "4            OUT027                         32                   0   \n",
       "\n",
       "   Item_Fat_Content_1  Outlet_Size_0       ...         Outlet_Location_Type_0  \\\n",
       "0                   0              0       ...                              1   \n",
       "1                   1              0       ...                              0   \n",
       "2                   0              0       ...                              0   \n",
       "3                   0              0       ...                              0   \n",
       "4                   1              0       ...                              0   \n",
       "\n",
       "   Outlet_Location_Type_1  Outlet_Location_Type_2  Outlet_Type_0  \\\n",
       "0                       0                       0              0   \n",
       "1                       1                       0              0   \n",
       "2                       0                       1              1   \n",
       "3                       1                       0              0   \n",
       "4                       0                       1              0   \n",
       "\n",
       "   Outlet_Type_1  Outlet_Type_2  Outlet_Type_3  Item_type_new_0  \\\n",
       "0              1              0              0                0   \n",
       "1              1              0              0                0   \n",
       "2              0              0              0                0   \n",
       "3              1              0              0                0   \n",
       "4              0              0              1                0   \n",
       "\n",
       "   Item_type_new_1  Item_type_new_2  \n",
       "0                1                0  \n",
       "1                1                0  \n",
       "2                0                1  \n",
       "3                1                0  \n",
       "4                1                0  \n",
       "\n",
       "[5 rows x 22 columns]"
      ]
     },
     "execution_count": 41,
     "metadata": {},
     "output_type": "execute_result"
    }
   ],
   "source": [
    "sales_test = pd.read_csv(\"C:\\\\Users\\\\DHRUBAJIT\\\\Desktop\\\\AnalyticsVidhya\\\\Big Mart Sales\\\\Big_Mart_Sales_test.csv\")\n",
    "\n",
    "for i in sales_test.Item_Type.unique():\n",
    "    group1 = sales_test[sales_test['Item_Type'] == i]\n",
    "    ave = group1['Item_Weight'].mean()\n",
    "    group1['Item_Weight'] = group1['Item_Weight'].fillna(ave)\n",
    "   \n",
    "    sales_test.loc[sales_test['Item_Weight'].isnull(),'Item_Weight'] = group1['Item_Weight']\n",
    "    \n",
    "    \n",
    "outlet_size_mode = sales_test['Outlet_Size'].mode()[0]\n",
    "sales_test['Outlet_Size'] = sales_test['Outlet_Size'].fillna(outlet_size_mode)\n",
    "\n",
    "sales_test['Item_Visibility'] = np.sqrt(sales_test['Item_Visibility'])\n",
    "\n",
    "sales_test['Item_MRP'] = np.sqrt(sales_test['Item_MRP'])\n",
    "\n",
    "\n",
    "sales_test = sales_test.replace({'Item_Fat_Content' : { 'low fat' : 'Low Fat', 'LF' : 'Low Fat', 'reg' : 'Regular' }})\n",
    "\n",
    "\n",
    "sales_test['Item_Identifier'].value_counts()\n",
    "sales_test['Item_type_new'] = sales_test['Item_Identifier'].apply(lambda x: x[0:2])\n",
    "sales_test['Item_type_new'] = sales_test['Item_type_new'].map({'FD': 'Food', 'NC':'Non-consumable','DR':'Drinks'})\n",
    "sales_test['Item_type_new'].value_counts()\n",
    "\n",
    "sales_test['Outlet_Establishment_Year'] = 2017 - sales_test['Outlet_Establishment_Year']\n",
    "\n",
    "sales_test = sales_test.replace({'Item_Fat_Content' : { 'low fat' : 'Low Fat', 'LF' : 'Low Fat', 'reg' : 'Regular' }})\n",
    "\n",
    "from sklearn.preprocessing import LabelEncoder\n",
    "label = LabelEncoder()\n",
    "var_i = ['Item_Fat_Content','Outlet_Size','Outlet_Location_Type','Outlet_Type','Item_type_new']\n",
    "for i in var_i:\n",
    "    sales_test[i] = label.fit_transform(sales_test[i])\n",
    "    \n",
    "sales_test = pd.get_dummies(sales_test, columns=['Item_Fat_Content','Outlet_Size','Outlet_Location_Type','Outlet_Type','Item_type_new'])\n",
    "\n",
    "sales_test.head()"
   ]
  },
  {
   "cell_type": "code",
   "execution_count": 42,
   "metadata": {
    "collapsed": false
   },
   "outputs": [
    {
     "data": {
      "text/html": [
       "<div>\n",
       "<table border=\"1\" class=\"dataframe\">\n",
       "  <thead>\n",
       "    <tr style=\"text-align: right;\">\n",
       "      <th></th>\n",
       "      <th>Item_Weight</th>\n",
       "      <th>Item_Visibility</th>\n",
       "      <th>Item_Type</th>\n",
       "      <th>Item_MRP</th>\n",
       "      <th>Outlet_Establishment_Year</th>\n",
       "      <th>Item_Fat_Content_0</th>\n",
       "      <th>Item_Fat_Content_1</th>\n",
       "      <th>Outlet_Size_0</th>\n",
       "      <th>Outlet_Size_1</th>\n",
       "      <th>Outlet_Size_2</th>\n",
       "      <th>Outlet_Location_Type_0</th>\n",
       "      <th>Outlet_Location_Type_1</th>\n",
       "      <th>Outlet_Location_Type_2</th>\n",
       "      <th>Outlet_Type_0</th>\n",
       "      <th>Outlet_Type_1</th>\n",
       "      <th>Outlet_Type_2</th>\n",
       "      <th>Outlet_Type_3</th>\n",
       "      <th>Item_type_new_0</th>\n",
       "      <th>Item_type_new_1</th>\n",
       "      <th>Item_type_new_2</th>\n",
       "    </tr>\n",
       "  </thead>\n",
       "  <tbody>\n",
       "    <tr>\n",
       "      <th>0</th>\n",
       "      <td>20.75000</td>\n",
       "      <td>0.086976</td>\n",
       "      <td>Snack Foods</td>\n",
       "      <td>10.385673</td>\n",
       "      <td>18</td>\n",
       "      <td>1</td>\n",
       "      <td>0</td>\n",
       "      <td>0</td>\n",
       "      <td>1</td>\n",
       "      <td>0</td>\n",
       "      <td>1</td>\n",
       "      <td>0</td>\n",
       "      <td>0</td>\n",
       "      <td>0</td>\n",
       "      <td>1</td>\n",
       "      <td>0</td>\n",
       "      <td>0</td>\n",
       "      <td>0</td>\n",
       "      <td>1</td>\n",
       "      <td>0</td>\n",
       "    </tr>\n",
       "    <tr>\n",
       "      <th>1</th>\n",
       "      <td>8.30000</td>\n",
       "      <td>0.196030</td>\n",
       "      <td>Dairy</td>\n",
       "      <td>9.344506</td>\n",
       "      <td>10</td>\n",
       "      <td>0</td>\n",
       "      <td>1</td>\n",
       "      <td>0</td>\n",
       "      <td>1</td>\n",
       "      <td>0</td>\n",
       "      <td>0</td>\n",
       "      <td>1</td>\n",
       "      <td>0</td>\n",
       "      <td>0</td>\n",
       "      <td>1</td>\n",
       "      <td>0</td>\n",
       "      <td>0</td>\n",
       "      <td>0</td>\n",
       "      <td>1</td>\n",
       "      <td>0</td>\n",
       "    </tr>\n",
       "    <tr>\n",
       "      <th>2</th>\n",
       "      <td>14.60000</td>\n",
       "      <td>0.315555</td>\n",
       "      <td>Others</td>\n",
       "      <td>15.548434</td>\n",
       "      <td>19</td>\n",
       "      <td>1</td>\n",
       "      <td>0</td>\n",
       "      <td>0</td>\n",
       "      <td>1</td>\n",
       "      <td>0</td>\n",
       "      <td>0</td>\n",
       "      <td>0</td>\n",
       "      <td>1</td>\n",
       "      <td>1</td>\n",
       "      <td>0</td>\n",
       "      <td>0</td>\n",
       "      <td>0</td>\n",
       "      <td>0</td>\n",
       "      <td>0</td>\n",
       "      <td>1</td>\n",
       "    </tr>\n",
       "    <tr>\n",
       "      <th>3</th>\n",
       "      <td>7.31500</td>\n",
       "      <td>0.124050</td>\n",
       "      <td>Snack Foods</td>\n",
       "      <td>12.451265</td>\n",
       "      <td>10</td>\n",
       "      <td>1</td>\n",
       "      <td>0</td>\n",
       "      <td>0</td>\n",
       "      <td>1</td>\n",
       "      <td>0</td>\n",
       "      <td>0</td>\n",
       "      <td>1</td>\n",
       "      <td>0</td>\n",
       "      <td>0</td>\n",
       "      <td>1</td>\n",
       "      <td>0</td>\n",
       "      <td>0</td>\n",
       "      <td>0</td>\n",
       "      <td>1</td>\n",
       "      <td>0</td>\n",
       "    </tr>\n",
       "    <tr>\n",
       "      <th>4</th>\n",
       "      <td>12.95504</td>\n",
       "      <td>0.344383</td>\n",
       "      <td>Dairy</td>\n",
       "      <td>15.304574</td>\n",
       "      <td>32</td>\n",
       "      <td>0</td>\n",
       "      <td>1</td>\n",
       "      <td>0</td>\n",
       "      <td>1</td>\n",
       "      <td>0</td>\n",
       "      <td>0</td>\n",
       "      <td>0</td>\n",
       "      <td>1</td>\n",
       "      <td>0</td>\n",
       "      <td>0</td>\n",
       "      <td>0</td>\n",
       "      <td>1</td>\n",
       "      <td>0</td>\n",
       "      <td>1</td>\n",
       "      <td>0</td>\n",
       "    </tr>\n",
       "  </tbody>\n",
       "</table>\n",
       "</div>"
      ],
      "text/plain": [
       "   Item_Weight  Item_Visibility    Item_Type   Item_MRP  \\\n",
       "0     20.75000         0.086976  Snack Foods  10.385673   \n",
       "1      8.30000         0.196030        Dairy   9.344506   \n",
       "2     14.60000         0.315555       Others  15.548434   \n",
       "3      7.31500         0.124050  Snack Foods  12.451265   \n",
       "4     12.95504         0.344383        Dairy  15.304574   \n",
       "\n",
       "   Outlet_Establishment_Year  Item_Fat_Content_0  Item_Fat_Content_1  \\\n",
       "0                         18                   1                   0   \n",
       "1                         10                   0                   1   \n",
       "2                         19                   1                   0   \n",
       "3                         10                   1                   0   \n",
       "4                         32                   0                   1   \n",
       "\n",
       "   Outlet_Size_0  Outlet_Size_1  Outlet_Size_2  Outlet_Location_Type_0  \\\n",
       "0              0              1              0                       1   \n",
       "1              0              1              0                       0   \n",
       "2              0              1              0                       0   \n",
       "3              0              1              0                       0   \n",
       "4              0              1              0                       0   \n",
       "\n",
       "   Outlet_Location_Type_1  Outlet_Location_Type_2  Outlet_Type_0  \\\n",
       "0                       0                       0              0   \n",
       "1                       1                       0              0   \n",
       "2                       0                       1              1   \n",
       "3                       1                       0              0   \n",
       "4                       0                       1              0   \n",
       "\n",
       "   Outlet_Type_1  Outlet_Type_2  Outlet_Type_3  Item_type_new_0  \\\n",
       "0              1              0              0                0   \n",
       "1              1              0              0                0   \n",
       "2              0              0              0                0   \n",
       "3              1              0              0                0   \n",
       "4              0              0              1                0   \n",
       "\n",
       "   Item_type_new_1  Item_type_new_2  \n",
       "0                1                0  \n",
       "1                1                0  \n",
       "2                0                1  \n",
       "3                1                0  \n",
       "4                1                0  "
      ]
     },
     "execution_count": 42,
     "metadata": {},
     "output_type": "execute_result"
    }
   ],
   "source": [
    "Submission_ids = sales_test[['Item_Identifier','Outlet_Identifier']]\n",
    "\n",
    "\n",
    "test_set = sales_test.drop(['Item_Identifier','Outlet_Identifier'], axis=1)\n",
    "test_set.head()"
   ]
  },
  {
   "cell_type": "code",
   "execution_count": 43,
   "metadata": {
    "collapsed": true
   },
   "outputs": [],
   "source": [
    "test_set = test_set.drop(['Item_Type'], axis=1)"
   ]
  },
  {
   "cell_type": "code",
   "execution_count": 46,
   "metadata": {
    "collapsed": true
   },
   "outputs": [],
   "source": [
    "test_set = test_set[['Item_Weight','Item_Visibility','Item_MRP','Outlet_Establishment_Year','Item_Fat_Content_0','Outlet_Size_0','Outlet_Type_0','Outlet_Type_1','Outlet_Type_3']]"
   ]
  },
  {
   "cell_type": "code",
   "execution_count": 47,
   "metadata": {
    "collapsed": false
   },
   "outputs": [
    {
     "data": {
      "text/html": [
       "<div>\n",
       "<table border=\"1\" class=\"dataframe\">\n",
       "  <thead>\n",
       "    <tr style=\"text-align: right;\">\n",
       "      <th></th>\n",
       "      <th>Item_Identifier</th>\n",
       "      <th>Outlet_Identifier</th>\n",
       "    </tr>\n",
       "  </thead>\n",
       "  <tbody>\n",
       "    <tr>\n",
       "      <th>0</th>\n",
       "      <td>FDW58</td>\n",
       "      <td>OUT049</td>\n",
       "    </tr>\n",
       "    <tr>\n",
       "      <th>1</th>\n",
       "      <td>FDW14</td>\n",
       "      <td>OUT017</td>\n",
       "    </tr>\n",
       "    <tr>\n",
       "      <th>2</th>\n",
       "      <td>NCN55</td>\n",
       "      <td>OUT010</td>\n",
       "    </tr>\n",
       "    <tr>\n",
       "      <th>3</th>\n",
       "      <td>FDQ58</td>\n",
       "      <td>OUT017</td>\n",
       "    </tr>\n",
       "    <tr>\n",
       "      <th>4</th>\n",
       "      <td>FDY38</td>\n",
       "      <td>OUT027</td>\n",
       "    </tr>\n",
       "  </tbody>\n",
       "</table>\n",
       "</div>"
      ],
      "text/plain": [
       "  Item_Identifier Outlet_Identifier\n",
       "0           FDW58            OUT049\n",
       "1           FDW14            OUT017\n",
       "2           NCN55            OUT010\n",
       "3           FDQ58            OUT017\n",
       "4           FDY38            OUT027"
      ]
     },
     "execution_count": 47,
     "metadata": {},
     "output_type": "execute_result"
    }
   ],
   "source": [
    "Submission_ids.head()"
   ]
  },
  {
   "cell_type": "code",
   "execution_count": 132,
   "metadata": {
    "collapsed": false
   },
   "outputs": [
    {
     "data": {
      "text/plain": [
       "array([ 39.09128952,  36.54697418,  24.114048  , ...,  42.31335831,\n",
       "        59.9099884 ,  35.17843246], dtype=float32)"
      ]
     },
     "execution_count": 132,
     "metadata": {},
     "output_type": "execute_result"
    }
   ],
   "source": [
    "prediction = xgb3.predict(test_set)\n",
    "prediction"
   ]
  },
  {
   "cell_type": "code",
   "execution_count": 133,
   "metadata": {
    "collapsed": false
   },
   "outputs": [
    {
     "data": {
      "text/plain": [
       "array([ 1528.12890625,  1335.68127441,   581.48730469, ...,  1790.42028809,\n",
       "        3589.20678711,  1237.52209473], dtype=float32)"
      ]
     },
     "execution_count": 133,
     "metadata": {},
     "output_type": "execute_result"
    }
   ],
   "source": [
    "prediction = np.square(prediction)\n",
    "prediction"
   ]
  },
  {
   "cell_type": "code",
   "execution_count": 134,
   "metadata": {
    "collapsed": false
   },
   "outputs": [],
   "source": [
    "id1 = Submission_ids['Item_Identifier']\n",
    "id2 = Submission_ids['Outlet_Identifier']"
   ]
  },
  {
   "cell_type": "code",
   "execution_count": 135,
   "metadata": {
    "collapsed": true
   },
   "outputs": [],
   "source": [
    "df = pd.DataFrame({'Item_Identifier':id1,'Outlet_Identifier':id2, 'Item_Outlet_Sales':prediction})"
   ]
  },
  {
   "cell_type": "code",
   "execution_count": 136,
   "metadata": {
    "collapsed": false
   },
   "outputs": [
    {
     "data": {
      "text/html": [
       "<div>\n",
       "<table border=\"1\" class=\"dataframe\">\n",
       "  <thead>\n",
       "    <tr style=\"text-align: right;\">\n",
       "      <th></th>\n",
       "      <th>Item_Identifier</th>\n",
       "      <th>Outlet_Identifier</th>\n",
       "      <th>Item_Outlet_Sales</th>\n",
       "    </tr>\n",
       "  </thead>\n",
       "  <tbody>\n",
       "    <tr>\n",
       "      <th>0</th>\n",
       "      <td>FDW58</td>\n",
       "      <td>OUT049</td>\n",
       "      <td>1528.128906</td>\n",
       "    </tr>\n",
       "    <tr>\n",
       "      <th>1</th>\n",
       "      <td>FDW14</td>\n",
       "      <td>OUT017</td>\n",
       "      <td>1335.681274</td>\n",
       "    </tr>\n",
       "    <tr>\n",
       "      <th>2</th>\n",
       "      <td>NCN55</td>\n",
       "      <td>OUT010</td>\n",
       "      <td>581.487305</td>\n",
       "    </tr>\n",
       "    <tr>\n",
       "      <th>3</th>\n",
       "      <td>FDQ58</td>\n",
       "      <td>OUT017</td>\n",
       "      <td>2313.862061</td>\n",
       "    </tr>\n",
       "    <tr>\n",
       "      <th>4</th>\n",
       "      <td>FDY38</td>\n",
       "      <td>OUT027</td>\n",
       "      <td>5254.934570</td>\n",
       "    </tr>\n",
       "  </tbody>\n",
       "</table>\n",
       "</div>"
      ],
      "text/plain": [
       "  Item_Identifier Outlet_Identifier  Item_Outlet_Sales\n",
       "0           FDW58            OUT049        1528.128906\n",
       "1           FDW14            OUT017        1335.681274\n",
       "2           NCN55            OUT010         581.487305\n",
       "3           FDQ58            OUT017        2313.862061\n",
       "4           FDY38            OUT027        5254.934570"
      ]
     },
     "execution_count": 136,
     "metadata": {},
     "output_type": "execute_result"
    }
   ],
   "source": [
    "df1 = df[['Item_Identifier','Outlet_Identifier','Item_Outlet_Sales']]\n",
    "df1.head()"
   ]
  },
  {
   "cell_type": "code",
   "execution_count": 137,
   "metadata": {
    "collapsed": true
   },
   "outputs": [],
   "source": [
    "submission_csv = df1.to_csv('final_submission36.csv', index=False)"
   ]
  },
  {
   "cell_type": "code",
   "execution_count": null,
   "metadata": {
    "collapsed": true
   },
   "outputs": [],
   "source": []
  }
 ],
 "metadata": {
  "anaconda-cloud": {},
  "kernelspec": {
   "display_name": "Python [default]",
   "language": "python",
   "name": "python3"
  },
  "language_info": {
   "codemirror_mode": {
    "name": "ipython",
    "version": 3
   },
   "file_extension": ".py",
   "mimetype": "text/x-python",
   "name": "python",
   "nbconvert_exporter": "python",
   "pygments_lexer": "ipython3",
   "version": "3.5.2"
  }
 },
 "nbformat": 4,
 "nbformat_minor": 2
}
