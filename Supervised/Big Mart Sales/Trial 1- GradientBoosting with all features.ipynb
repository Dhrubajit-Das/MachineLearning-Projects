{
 "cells": [
  {
   "cell_type": "code",
   "execution_count": 12,
   "metadata": {
    "collapsed": true
   },
   "outputs": [],
   "source": [
    "import numpy as np\n",
    "import pandas as pd\n",
    "import matplotlib.pyplot as plt\n",
    "%matplotlib inline\n",
    "import seaborn\n",
    "from sklearn.model_selection import GridSearchCV, RandomizedSearchCV"
   ]
  },
  {
   "cell_type": "code",
   "execution_count": 2,
   "metadata": {
    "collapsed": false
   },
   "outputs": [
    {
     "data": {
      "text/html": [
       "<div>\n",
       "<table border=\"1\" class=\"dataframe\">\n",
       "  <thead>\n",
       "    <tr style=\"text-align: right;\">\n",
       "      <th></th>\n",
       "      <th>Item_Identifier</th>\n",
       "      <th>Item_Weight</th>\n",
       "      <th>Item_Fat_Content</th>\n",
       "      <th>Item_Visibility</th>\n",
       "      <th>Item_Type</th>\n",
       "      <th>Item_MRP</th>\n",
       "      <th>Outlet_Identifier</th>\n",
       "      <th>Outlet_Establishment_Year</th>\n",
       "      <th>Outlet_Size</th>\n",
       "      <th>Outlet_Location_Type</th>\n",
       "      <th>Outlet_Type</th>\n",
       "      <th>Item_Outlet_Sales</th>\n",
       "      <th>Item_type_new</th>\n",
       "    </tr>\n",
       "  </thead>\n",
       "  <tbody>\n",
       "    <tr>\n",
       "      <th>0</th>\n",
       "      <td>FDA15</td>\n",
       "      <td>weights2</td>\n",
       "      <td>Low Fat</td>\n",
       "      <td>low</td>\n",
       "      <td>Dairy</td>\n",
       "      <td>249.8092</td>\n",
       "      <td>OUT049</td>\n",
       "      <td>med</td>\n",
       "      <td>High</td>\n",
       "      <td>Tier 1</td>\n",
       "      <td>Supermarket Type1</td>\n",
       "      <td>3735.1380</td>\n",
       "      <td>other</td>\n",
       "    </tr>\n",
       "    <tr>\n",
       "      <th>1</th>\n",
       "      <td>DRC01</td>\n",
       "      <td>weights1</td>\n",
       "      <td>Regular</td>\n",
       "      <td>low</td>\n",
       "      <td>Soft Drinks</td>\n",
       "      <td>48.2692</td>\n",
       "      <td>OUT018</td>\n",
       "      <td>low</td>\n",
       "      <td>High</td>\n",
       "      <td>Tier 2</td>\n",
       "      <td>Supermarket Type2</td>\n",
       "      <td>443.4228</td>\n",
       "      <td>Drinks</td>\n",
       "    </tr>\n",
       "    <tr>\n",
       "      <th>2</th>\n",
       "      <td>FDN15</td>\n",
       "      <td>weights1</td>\n",
       "      <td>Low Fat</td>\n",
       "      <td>low</td>\n",
       "      <td>Meat</td>\n",
       "      <td>141.6180</td>\n",
       "      <td>OUT049</td>\n",
       "      <td>med</td>\n",
       "      <td>High</td>\n",
       "      <td>Tier 1</td>\n",
       "      <td>Supermarket Type1</td>\n",
       "      <td>2097.2700</td>\n",
       "      <td>other</td>\n",
       "    </tr>\n",
       "    <tr>\n",
       "      <th>3</th>\n",
       "      <td>FDX07</td>\n",
       "      <td>weights1</td>\n",
       "      <td>Regular</td>\n",
       "      <td>low</td>\n",
       "      <td>Fruits and Vegetables</td>\n",
       "      <td>182.0950</td>\n",
       "      <td>OUT010</td>\n",
       "      <td>med</td>\n",
       "      <td>High</td>\n",
       "      <td>Tier 2</td>\n",
       "      <td>Grocery Store</td>\n",
       "      <td>732.3800</td>\n",
       "      <td>other</td>\n",
       "    </tr>\n",
       "    <tr>\n",
       "      <th>4</th>\n",
       "      <td>NCD19</td>\n",
       "      <td>weights1</td>\n",
       "      <td>Low Fat</td>\n",
       "      <td>low</td>\n",
       "      <td>Household</td>\n",
       "      <td>53.8614</td>\n",
       "      <td>OUT013</td>\n",
       "      <td>med</td>\n",
       "      <td>High</td>\n",
       "      <td>Tier 2</td>\n",
       "      <td>Supermarket Type1</td>\n",
       "      <td>994.7052</td>\n",
       "      <td>other</td>\n",
       "    </tr>\n",
       "  </tbody>\n",
       "</table>\n",
       "</div>"
      ],
      "text/plain": [
       "  Item_Identifier Item_Weight Item_Fat_Content Item_Visibility  \\\n",
       "0           FDA15    weights2          Low Fat             low   \n",
       "1           DRC01    weights1          Regular             low   \n",
       "2           FDN15    weights1          Low Fat             low   \n",
       "3           FDX07    weights1          Regular             low   \n",
       "4           NCD19    weights1          Low Fat             low   \n",
       "\n",
       "               Item_Type  Item_MRP Outlet_Identifier  \\\n",
       "0                  Dairy  249.8092            OUT049   \n",
       "1            Soft Drinks   48.2692            OUT018   \n",
       "2                   Meat  141.6180            OUT049   \n",
       "3  Fruits and Vegetables  182.0950            OUT010   \n",
       "4              Household   53.8614            OUT013   \n",
       "\n",
       "  Outlet_Establishment_Year Outlet_Size Outlet_Location_Type  \\\n",
       "0                       med        High               Tier 1   \n",
       "1                       low        High               Tier 2   \n",
       "2                       med        High               Tier 1   \n",
       "3                       med        High               Tier 2   \n",
       "4                       med        High               Tier 2   \n",
       "\n",
       "         Outlet_Type  Item_Outlet_Sales Item_type_new  \n",
       "0  Supermarket Type1          3735.1380         other  \n",
       "1  Supermarket Type2           443.4228        Drinks  \n",
       "2  Supermarket Type1          2097.2700         other  \n",
       "3      Grocery Store           732.3800         other  \n",
       "4  Supermarket Type1           994.7052         other  "
      ]
     },
     "execution_count": 2,
     "metadata": {},
     "output_type": "execute_result"
    }
   ],
   "source": [
    "sales = pd.read_csv(\"C:\\\\Users\\\\DHRUBAJIT\\\\Desktop\\\\AnalyticsVidhya\\\\Big Mart Sales\\\\new_sales_csv.csv\")\n",
    "sales.head()"
   ]
  },
  {
   "cell_type": "code",
   "execution_count": 3,
   "metadata": {
    "collapsed": true
   },
   "outputs": [],
   "source": [
    "#deleting unwanted features \n",
    "#also deleted Item_Fat_Content because from hypothesis testing,we found that there is no difference in the means.\n",
    "sales = sales.drop(['Item_Identifier','Item_Type','Outlet_Identifier','Item_Fat_Content'], axis=1)"
   ]
  },
  {
   "cell_type": "code",
   "execution_count": 4,
   "metadata": {
    "collapsed": false
   },
   "outputs": [],
   "source": [
    "from sklearn.preprocessing import LabelEncoder\n",
    "le = LabelEncoder()\n",
    "\n",
    "encoder_list = ['Item_Weight', 'Item_Visibility',\n",
    "       'Outlet_Establishment_Year', 'Outlet_Size',\n",
    "       'Outlet_Location_Type', 'Outlet_Type', \n",
    "       'Item_type_new']\n",
    "\n",
    "for i in encoder_list:\n",
    "    sales[i] = le.fit_transform(sales[i])"
   ]
  },
  {
   "cell_type": "code",
   "execution_count": 5,
   "metadata": {
    "collapsed": false
   },
   "outputs": [],
   "source": [
    "sales = pd.get_dummies(sales, columns=encoder_list)"
   ]
  },
  {
   "cell_type": "code",
   "execution_count": 6,
   "metadata": {
    "collapsed": true
   },
   "outputs": [],
   "source": [
    "#avoiding dummy variable trap\n",
    "sales = sales.drop(['Item_Weight_0','Item_Visibility_0','Outlet_Establishment_Year_0','Outlet_Size_0',\n",
    "                   'Outlet_Location_Type_0','Outlet_Type_0','Item_type_new_0'], axis=1)"
   ]
  },
  {
   "cell_type": "code",
   "execution_count": 7,
   "metadata": {
    "collapsed": true
   },
   "outputs": [],
   "source": [
    "X = sales.drop(['Item_Outlet_Sales'], axis=1)\n",
    "y = sales.Item_Outlet_Sales"
   ]
  },
  {
   "cell_type": "code",
   "execution_count": 8,
   "metadata": {
    "collapsed": false
   },
   "outputs": [],
   "source": [
    "from sklearn.preprocessing import StandardScaler\n",
    "from sklearn.model_selection import train_test_split\n",
    "sc = StandardScaler()\n",
    "XX = sc.fit_transform(X)"
   ]
  },
  {
   "cell_type": "code",
   "execution_count": null,
   "metadata": {
    "collapsed": true
   },
   "outputs": [],
   "source": []
  },
  {
   "cell_type": "markdown",
   "metadata": {},
   "source": [
    "#### Test dataset"
   ]
  },
  {
   "cell_type": "code",
   "execution_count": 9,
   "metadata": {
    "collapsed": true
   },
   "outputs": [],
   "source": [
    "test = pd.read_csv(\"C:\\\\Users\\\\DHRUBAJIT\\\\Desktop\\\\AnalyticsVidhya\\\\Big Mart Sales\\\\new_testsales_csv.csv\")\n",
    "\n",
    "item_id = test['Item_Identifier']\n",
    "out_id = test['Outlet_Identifier']\n",
    "\n",
    "test = test.drop(['Item_Identifier','Item_Type','Outlet_Identifier','Item_Fat_Content'], axis=1)\n",
    "\n",
    "for i in encoder_list:\n",
    "    test[i] = le.fit_transform(test[i])\n",
    "    \n",
    "test = pd.get_dummies(test, columns=encoder_list)\n",
    "\n",
    "test = test.drop(['Item_Weight_0','Item_Visibility_0','Outlet_Establishment_Year_0','Outlet_Size_0',\n",
    "                   'Outlet_Location_Type_0','Outlet_Type_0','Item_type_new_0'], axis=1)\n",
    "\n",
    "test = sc.fit_transform(test)"
   ]
  },
  {
   "cell_type": "code",
   "execution_count": null,
   "metadata": {
    "collapsed": true
   },
   "outputs": [],
   "source": []
  },
  {
   "cell_type": "code",
   "execution_count": 77,
   "metadata": {
    "collapsed": false
   },
   "outputs": [],
   "source": [
    "from sklearn.model_selection import cross_val_score\n",
    "from sklearn.metrics import mean_squared_error\n",
    "\n",
    "def validation_cross(model, x,y):\n",
    "    model.fit(x, y)\n",
    "\n",
    "    #Predict training set:\n",
    "    pred = model.predict(x)\n",
    "\n",
    "    #Perform cross-validation:\n",
    "    cv_score = cross_val_score(model, x, y, cv=10, scoring='neg_mean_squared_error')\n",
    "    cv_score = np.sqrt(np.abs(cv_score))\n",
    "\n",
    "    #Print model report:\n",
    "    print (\"\\nModel Report\")\n",
    "    print (\"RMSE : %.4g\" % np.sqrt(mean_squared_error(y.values, pred)))\n",
    "    print (\"CV Score : Mean - %.4g | Std - %.4g\" % (np.mean(cv_score),np.std(cv_score)))\n",
    "    \n",
    "\n",
    "def validation_cross1(model, x,y):\n",
    "    model.fit(x, y)\n",
    "\n",
    "    #Predict training set:\n",
    "    pred = model.predict(x)\n",
    "\n",
    "    #Perform cross-validation:\n",
    "    cv_score = cross_val_score(model, x, y, cv=10, scoring=None)\n",
    "    cv_score = np.sqrt(np.abs(cv_score))\n",
    "\n",
    "    #Print model report:\n",
    "    print (\"\\nModel Report\")\n",
    "    print (\"RMSE : %.4g\" % np.sqrt(mean_squared_error(y.values, pred)))\n",
    "    print (\"CV Score : Mean - %.4g | Std - %.4g\" % (np.mean(cv_score),np.std(cv_score)))"
   ]
  },
  {
   "cell_type": "markdown",
   "metadata": {},
   "source": [
    "### Baseline Model"
   ]
  },
  {
   "cell_type": "code",
   "execution_count": 11,
   "metadata": {
    "collapsed": false
   },
   "outputs": [
    {
     "name": "stdout",
     "output_type": "stream",
     "text": [
      "\n",
      "Model Report\n",
      "RMSE : 1048\n",
      "CV Score : Mean - 1090 | Std - 19.42\n"
     ]
    }
   ],
   "source": [
    "from sklearn.ensemble import GradientBoostingRegressor\n",
    "gbr = GradientBoostingRegressor()\n",
    "validation_cross(gbr, XX, y)"
   ]
  },
  {
   "cell_type": "code",
   "execution_count": 78,
   "metadata": {
    "collapsed": false
   },
   "outputs": [
    {
     "name": "stdout",
     "output_type": "stream",
     "text": [
      "\n",
      "Model Report\n",
      "RMSE : 1048\n",
      "CV Score : Mean - 0.768 | Std - 0.0179\n"
     ]
    }
   ],
   "source": [
    "validation_cross1(gbr, XX, y)"
   ]
  },
  {
   "cell_type": "markdown",
   "metadata": {},
   "source": [
    "#### Model Tuning"
   ]
  },
  {
   "cell_type": "code",
   "execution_count": 43,
   "metadata": {
    "collapsed": false
   },
   "outputs": [
    {
     "name": "stderr",
     "output_type": "stream",
     "text": [
      "C:\\Users\\DHRUBAJIT\\Anaconda3\\lib\\site-packages\\sklearn\\model_selection\\_search.py:747: DeprecationWarning: The grid_scores_ attribute was deprecated in version 0.18 in favor of the more elaborate cv_results_ attribute. The grid_scores_ attribute will not be available from 0.20\n",
      "  DeprecationWarning)\n"
     ]
    },
    {
     "data": {
      "text/plain": [
       "([mean: 0.59199, std: 0.02675, params: {'n_estimators': 50},\n",
       "  mean: 0.59013, std: 0.02726, params: {'n_estimators': 100},\n",
       "  mean: 0.58529, std: 0.02745, params: {'n_estimators': 150},\n",
       "  mean: 0.58101, std: 0.02809, params: {'n_estimators': 200},\n",
       "  mean: 0.57580, std: 0.02860, params: {'n_estimators': 250},\n",
       "  mean: 0.57162, std: 0.02833, params: {'n_estimators': 300},\n",
       "  mean: 0.56776, std: 0.02889, params: {'n_estimators': 350},\n",
       "  mean: 0.56443, std: 0.03020, params: {'n_estimators': 400},\n",
       "  mean: 0.56089, std: 0.03073, params: {'n_estimators': 450},\n",
       "  mean: 0.55874, std: 0.03043, params: {'n_estimators': 500},\n",
       "  mean: 0.55705, std: 0.03100, params: {'n_estimators': 550},\n",
       "  mean: 0.55380, std: 0.03222, params: {'n_estimators': 600},\n",
       "  mean: 0.55107, std: 0.03204, params: {'n_estimators': 650},\n",
       "  mean: 0.54862, std: 0.03255, params: {'n_estimators': 700},\n",
       "  mean: 0.54641, std: 0.03320, params: {'n_estimators': 750},\n",
       "  mean: 0.54407, std: 0.03416, params: {'n_estimators': 800},\n",
       "  mean: 0.54121, std: 0.03567, params: {'n_estimators': 850},\n",
       "  mean: 0.53822, std: 0.03660, params: {'n_estimators': 900},\n",
       "  mean: 0.53596, std: 0.03636, params: {'n_estimators': 950},\n",
       "  mean: 0.53506, std: 0.03732, params: {'n_estimators': 1000}],\n",
       " {'n_estimators': 50},\n",
       " 0.59199453113793143)"
      ]
     },
     "execution_count": 43,
     "metadata": {},
     "output_type": "execute_result"
    }
   ],
   "source": [
    "# 1. n_estimators\n",
    "\n",
    "param_test1 = {'n_estimators':range(50,1050,50)}\n",
    "gsearch1 = GridSearchCV(estimator = GradientBoostingRegressor(), param_grid = param_test1, n_jobs=-1, iid=False, cv=10)\n",
    "gsearch1.fit(XX,y)\n",
    "gsearch1.grid_scores_, gsearch1.best_params_, gsearch1.best_score_"
   ]
  },
  {
   "cell_type": "code",
   "execution_count": 79,
   "metadata": {
    "collapsed": false
   },
   "outputs": [
    {
     "name": "stdout",
     "output_type": "stream",
     "text": [
      "\n",
      "Model Report\n",
      "RMSE : 1064\n",
      "CV Score : Mean - 0.7692 | Std - 0.0175\n"
     ]
    }
   ],
   "source": [
    "gbr1 = GradientBoostingRegressor(n_estimators = 50)\n",
    "validation_cross1(gbr1, XX, y)"
   ]
  },
  {
   "cell_type": "code",
   "execution_count": null,
   "metadata": {
    "collapsed": true
   },
   "outputs": [],
   "source": []
  },
  {
   "cell_type": "code",
   "execution_count": 46,
   "metadata": {
    "collapsed": false
   },
   "outputs": [
    {
     "name": "stderr",
     "output_type": "stream",
     "text": [
      "C:\\Users\\DHRUBAJIT\\Anaconda3\\lib\\site-packages\\sklearn\\model_selection\\_search.py:747: DeprecationWarning: The grid_scores_ attribute was deprecated in version 0.18 in favor of the more elaborate cv_results_ attribute. The grid_scores_ attribute will not be available from 0.20\n",
      "  DeprecationWarning)\n"
     ]
    },
    {
     "data": {
      "text/plain": [
       "([mean: 0.50768, std: 0.01922, params: {'max_depth': 1},\n",
       "  mean: 0.58662, std: 0.02593, params: {'max_depth': 2},\n",
       "  mean: 0.59027, std: 0.02736, params: {'max_depth': 3},\n",
       "  mean: 0.58352, std: 0.02760, params: {'max_depth': 4},\n",
       "  mean: 0.57495, std: 0.03059, params: {'max_depth': 5},\n",
       "  mean: 0.56191, std: 0.03133, params: {'max_depth': 6},\n",
       "  mean: 0.55268, std: 0.03259, params: {'max_depth': 7},\n",
       "  mean: 0.53706, std: 0.03367, params: {'max_depth': 8},\n",
       "  mean: 0.51473, std: 0.03653, params: {'max_depth': 9}],\n",
       " {'max_depth': 3},\n",
       " 0.59026669882689153)"
      ]
     },
     "execution_count": 46,
     "metadata": {},
     "output_type": "execute_result"
    }
   ],
   "source": [
    "# 2. max_depth\n",
    "\n",
    "param_test2 = {'max_depth':range(1,10,1)}\n",
    "gsearch2 = GridSearchCV(estimator = GradientBoostingRegressor(), param_grid = param_test2,n_jobs=-1,iid=False, cv=10)\n",
    "gsearch2.fit(XX,y)\n",
    "gsearch2.grid_scores_, gsearch2.best_params_, gsearch2.best_score_"
   ]
  },
  {
   "cell_type": "code",
   "execution_count": 80,
   "metadata": {
    "collapsed": false
   },
   "outputs": [
    {
     "name": "stdout",
     "output_type": "stream",
     "text": [
      "\n",
      "Model Report\n",
      "RMSE : 1048\n",
      "CV Score : Mean - 0.7679 | Std - 0.01779\n"
     ]
    }
   ],
   "source": [
    "gbr2 = GradientBoostingRegressor(max_depth = 3)\n",
    "validation_cross1(gbr2, XX, y)"
   ]
  },
  {
   "cell_type": "code",
   "execution_count": null,
   "metadata": {
    "collapsed": true
   },
   "outputs": [],
   "source": []
  },
  {
   "cell_type": "code",
   "execution_count": 50,
   "metadata": {
    "collapsed": false
   },
   "outputs": [
    {
     "name": "stderr",
     "output_type": "stream",
     "text": [
      "C:\\Users\\DHRUBAJIT\\Anaconda3\\lib\\site-packages\\sklearn\\model_selection\\_search.py:747: DeprecationWarning: The grid_scores_ attribute was deprecated in version 0.18 in favor of the more elaborate cv_results_ attribute. The grid_scores_ attribute will not be available from 0.20\n",
      "  DeprecationWarning)\n"
     ]
    },
    {
     "data": {
      "text/plain": [
       "([mean: 0.59018, std: 0.02732, params: {'min_samples_split': 2, 'min_samples_leaf': 1},\n",
       "  mean: 0.59020, std: 0.02718, params: {'min_samples_split': 3, 'min_samples_leaf': 1},\n",
       "  mean: 0.59025, std: 0.02710, params: {'min_samples_split': 4, 'min_samples_leaf': 1},\n",
       "  mean: 0.58952, std: 0.02678, params: {'min_samples_split': 5, 'min_samples_leaf': 1},\n",
       "  mean: 0.58968, std: 0.02724, params: {'min_samples_split': 6, 'min_samples_leaf': 1},\n",
       "  mean: 0.58983, std: 0.02696, params: {'min_samples_split': 7, 'min_samples_leaf': 1},\n",
       "  mean: 0.59018, std: 0.02715, params: {'min_samples_split': 8, 'min_samples_leaf': 1},\n",
       "  mean: 0.59022, std: 0.02709, params: {'min_samples_split': 9, 'min_samples_leaf': 1},\n",
       "  mean: 0.58969, std: 0.02715, params: {'min_samples_split': 10, 'min_samples_leaf': 1},\n",
       "  mean: 0.59030, std: 0.02678, params: {'min_samples_split': 11, 'min_samples_leaf': 1},\n",
       "  mean: 0.59022, std: 0.02684, params: {'min_samples_split': 12, 'min_samples_leaf': 1},\n",
       "  mean: 0.59033, std: 0.02670, params: {'min_samples_split': 13, 'min_samples_leaf': 1},\n",
       "  mean: 0.59037, std: 0.02670, params: {'min_samples_split': 14, 'min_samples_leaf': 1},\n",
       "  mean: 0.59050, std: 0.02674, params: {'min_samples_split': 15, 'min_samples_leaf': 1},\n",
       "  mean: 0.59073, std: 0.02658, params: {'min_samples_split': 16, 'min_samples_leaf': 1},\n",
       "  mean: 0.59084, std: 0.02682, params: {'min_samples_split': 17, 'min_samples_leaf': 1},\n",
       "  mean: 0.59115, std: 0.02659, params: {'min_samples_split': 18, 'min_samples_leaf': 1},\n",
       "  mean: 0.59116, std: 0.02662, params: {'min_samples_split': 19, 'min_samples_leaf': 1},\n",
       "  mean: 0.59052, std: 0.02719, params: {'min_samples_split': 2, 'min_samples_leaf': 2},\n",
       "  mean: 0.59062, std: 0.02718, params: {'min_samples_split': 3, 'min_samples_leaf': 2},\n",
       "  mean: 0.59068, std: 0.02711, params: {'min_samples_split': 4, 'min_samples_leaf': 2},\n",
       "  mean: 0.59068, std: 0.02748, params: {'min_samples_split': 5, 'min_samples_leaf': 2},\n",
       "  mean: 0.59018, std: 0.02760, params: {'min_samples_split': 6, 'min_samples_leaf': 2},\n",
       "  mean: 0.59058, std: 0.02736, params: {'min_samples_split': 7, 'min_samples_leaf': 2},\n",
       "  mean: 0.59053, std: 0.02752, params: {'min_samples_split': 8, 'min_samples_leaf': 2},\n",
       "  mean: 0.59080, std: 0.02757, params: {'min_samples_split': 9, 'min_samples_leaf': 2},\n",
       "  mean: 0.59064, std: 0.02688, params: {'min_samples_split': 10, 'min_samples_leaf': 2},\n",
       "  mean: 0.59072, std: 0.02654, params: {'min_samples_split': 11, 'min_samples_leaf': 2},\n",
       "  mean: 0.59077, std: 0.02646, params: {'min_samples_split': 12, 'min_samples_leaf': 2},\n",
       "  mean: 0.59077, std: 0.02651, params: {'min_samples_split': 13, 'min_samples_leaf': 2},\n",
       "  mean: 0.59098, std: 0.02662, params: {'min_samples_split': 14, 'min_samples_leaf': 2},\n",
       "  mean: 0.59093, std: 0.02667, params: {'min_samples_split': 15, 'min_samples_leaf': 2},\n",
       "  mean: 0.59091, std: 0.02647, params: {'min_samples_split': 16, 'min_samples_leaf': 2},\n",
       "  mean: 0.59147, std: 0.02658, params: {'min_samples_split': 17, 'min_samples_leaf': 2},\n",
       "  mean: 0.59124, std: 0.02625, params: {'min_samples_split': 18, 'min_samples_leaf': 2},\n",
       "  mean: 0.59124, std: 0.02618, params: {'min_samples_split': 19, 'min_samples_leaf': 2},\n",
       "  mean: 0.59155, std: 0.02640, params: {'min_samples_split': 2, 'min_samples_leaf': 3},\n",
       "  mean: 0.59159, std: 0.02642, params: {'min_samples_split': 3, 'min_samples_leaf': 3},\n",
       "  mean: 0.59158, std: 0.02642, params: {'min_samples_split': 4, 'min_samples_leaf': 3},\n",
       "  mean: 0.59159, std: 0.02643, params: {'min_samples_split': 5, 'min_samples_leaf': 3},\n",
       "  mean: 0.59156, std: 0.02641, params: {'min_samples_split': 6, 'min_samples_leaf': 3},\n",
       "  mean: 0.59106, std: 0.02648, params: {'min_samples_split': 7, 'min_samples_leaf': 3},\n",
       "  mean: 0.59141, std: 0.02652, params: {'min_samples_split': 8, 'min_samples_leaf': 3},\n",
       "  mean: 0.59175, std: 0.02685, params: {'min_samples_split': 9, 'min_samples_leaf': 3},\n",
       "  mean: 0.59174, std: 0.02690, params: {'min_samples_split': 10, 'min_samples_leaf': 3},\n",
       "  mean: 0.59187, std: 0.02715, params: {'min_samples_split': 11, 'min_samples_leaf': 3},\n",
       "  mean: 0.59221, std: 0.02702, params: {'min_samples_split': 12, 'min_samples_leaf': 3},\n",
       "  mean: 0.59243, std: 0.02693, params: {'min_samples_split': 13, 'min_samples_leaf': 3},\n",
       "  mean: 0.59246, std: 0.02684, params: {'min_samples_split': 14, 'min_samples_leaf': 3},\n",
       "  mean: 0.59260, std: 0.02650, params: {'min_samples_split': 15, 'min_samples_leaf': 3},\n",
       "  mean: 0.59247, std: 0.02631, params: {'min_samples_split': 16, 'min_samples_leaf': 3},\n",
       "  mean: 0.59239, std: 0.02648, params: {'min_samples_split': 17, 'min_samples_leaf': 3},\n",
       "  mean: 0.59231, std: 0.02636, params: {'min_samples_split': 18, 'min_samples_leaf': 3},\n",
       "  mean: 0.59231, std: 0.02634, params: {'min_samples_split': 19, 'min_samples_leaf': 3},\n",
       "  mean: 0.59237, std: 0.02724, params: {'min_samples_split': 2, 'min_samples_leaf': 4},\n",
       "  mean: 0.59237, std: 0.02724, params: {'min_samples_split': 3, 'min_samples_leaf': 4},\n",
       "  mean: 0.59237, std: 0.02724, params: {'min_samples_split': 4, 'min_samples_leaf': 4},\n",
       "  mean: 0.59237, std: 0.02724, params: {'min_samples_split': 5, 'min_samples_leaf': 4},\n",
       "  mean: 0.59237, std: 0.02724, params: {'min_samples_split': 6, 'min_samples_leaf': 4},\n",
       "  mean: 0.59237, std: 0.02724, params: {'min_samples_split': 7, 'min_samples_leaf': 4},\n",
       "  mean: 0.59237, std: 0.02724, params: {'min_samples_split': 8, 'min_samples_leaf': 4},\n",
       "  mean: 0.59249, std: 0.02722, params: {'min_samples_split': 9, 'min_samples_leaf': 4},\n",
       "  mean: 0.59262, std: 0.02728, params: {'min_samples_split': 10, 'min_samples_leaf': 4},\n",
       "  mean: 0.59243, std: 0.02724, params: {'min_samples_split': 11, 'min_samples_leaf': 4},\n",
       "  mean: 0.59261, std: 0.02741, params: {'min_samples_split': 12, 'min_samples_leaf': 4},\n",
       "  mean: 0.59265, std: 0.02714, params: {'min_samples_split': 13, 'min_samples_leaf': 4},\n",
       "  mean: 0.59215, std: 0.02704, params: {'min_samples_split': 14, 'min_samples_leaf': 4},\n",
       "  mean: 0.59266, std: 0.02721, params: {'min_samples_split': 15, 'min_samples_leaf': 4},\n",
       "  mean: 0.59279, std: 0.02731, params: {'min_samples_split': 16, 'min_samples_leaf': 4},\n",
       "  mean: 0.59253, std: 0.02704, params: {'min_samples_split': 17, 'min_samples_leaf': 4},\n",
       "  mean: 0.59276, std: 0.02676, params: {'min_samples_split': 18, 'min_samples_leaf': 4},\n",
       "  mean: 0.59290, std: 0.02686, params: {'min_samples_split': 19, 'min_samples_leaf': 4},\n",
       "  mean: 0.59225, std: 0.02779, params: {'min_samples_split': 2, 'min_samples_leaf': 5},\n",
       "  mean: 0.59225, std: 0.02779, params: {'min_samples_split': 3, 'min_samples_leaf': 5},\n",
       "  mean: 0.59225, std: 0.02779, params: {'min_samples_split': 4, 'min_samples_leaf': 5},\n",
       "  mean: 0.59225, std: 0.02779, params: {'min_samples_split': 5, 'min_samples_leaf': 5},\n",
       "  mean: 0.59225, std: 0.02779, params: {'min_samples_split': 6, 'min_samples_leaf': 5},\n",
       "  mean: 0.59225, std: 0.02779, params: {'min_samples_split': 7, 'min_samples_leaf': 5},\n",
       "  mean: 0.59225, std: 0.02779, params: {'min_samples_split': 8, 'min_samples_leaf': 5},\n",
       "  mean: 0.59225, std: 0.02779, params: {'min_samples_split': 9, 'min_samples_leaf': 5},\n",
       "  mean: 0.59225, std: 0.02779, params: {'min_samples_split': 10, 'min_samples_leaf': 5},\n",
       "  mean: 0.59252, std: 0.02774, params: {'min_samples_split': 11, 'min_samples_leaf': 5},\n",
       "  mean: 0.59248, std: 0.02773, params: {'min_samples_split': 12, 'min_samples_leaf': 5},\n",
       "  mean: 0.59274, std: 0.02707, params: {'min_samples_split': 13, 'min_samples_leaf': 5},\n",
       "  mean: 0.59259, std: 0.02698, params: {'min_samples_split': 14, 'min_samples_leaf': 5},\n",
       "  mean: 0.59282, std: 0.02695, params: {'min_samples_split': 15, 'min_samples_leaf': 5},\n",
       "  mean: 0.59269, std: 0.02699, params: {'min_samples_split': 16, 'min_samples_leaf': 5},\n",
       "  mean: 0.59251, std: 0.02708, params: {'min_samples_split': 17, 'min_samples_leaf': 5},\n",
       "  mean: 0.59241, std: 0.02715, params: {'min_samples_split': 18, 'min_samples_leaf': 5},\n",
       "  mean: 0.59241, std: 0.02704, params: {'min_samples_split': 19, 'min_samples_leaf': 5},\n",
       "  mean: 0.59251, std: 0.02768, params: {'min_samples_split': 2, 'min_samples_leaf': 6},\n",
       "  mean: 0.59251, std: 0.02768, params: {'min_samples_split': 3, 'min_samples_leaf': 6},\n",
       "  mean: 0.59251, std: 0.02768, params: {'min_samples_split': 4, 'min_samples_leaf': 6},\n",
       "  mean: 0.59251, std: 0.02768, params: {'min_samples_split': 5, 'min_samples_leaf': 6},\n",
       "  mean: 0.59251, std: 0.02768, params: {'min_samples_split': 6, 'min_samples_leaf': 6},\n",
       "  mean: 0.59251, std: 0.02768, params: {'min_samples_split': 7, 'min_samples_leaf': 6},\n",
       "  mean: 0.59251, std: 0.02768, params: {'min_samples_split': 8, 'min_samples_leaf': 6},\n",
       "  mean: 0.59251, std: 0.02768, params: {'min_samples_split': 9, 'min_samples_leaf': 6},\n",
       "  mean: 0.59251, std: 0.02768, params: {'min_samples_split': 10, 'min_samples_leaf': 6},\n",
       "  mean: 0.59251, std: 0.02768, params: {'min_samples_split': 11, 'min_samples_leaf': 6},\n",
       "  mean: 0.59251, std: 0.02768, params: {'min_samples_split': 12, 'min_samples_leaf': 6},\n",
       "  mean: 0.59242, std: 0.02750, params: {'min_samples_split': 13, 'min_samples_leaf': 6},\n",
       "  mean: 0.59240, std: 0.02736, params: {'min_samples_split': 14, 'min_samples_leaf': 6},\n",
       "  mean: 0.59221, std: 0.02735, params: {'min_samples_split': 15, 'min_samples_leaf': 6},\n",
       "  mean: 0.59196, std: 0.02742, params: {'min_samples_split': 16, 'min_samples_leaf': 6},\n",
       "  mean: 0.59232, std: 0.02755, params: {'min_samples_split': 17, 'min_samples_leaf': 6},\n",
       "  mean: 0.59251, std: 0.02757, params: {'min_samples_split': 18, 'min_samples_leaf': 6},\n",
       "  mean: 0.59246, std: 0.02744, params: {'min_samples_split': 19, 'min_samples_leaf': 6},\n",
       "  mean: 0.59363, std: 0.02738, params: {'min_samples_split': 2, 'min_samples_leaf': 7},\n",
       "  mean: 0.59363, std: 0.02738, params: {'min_samples_split': 3, 'min_samples_leaf': 7},\n",
       "  mean: 0.59363, std: 0.02738, params: {'min_samples_split': 4, 'min_samples_leaf': 7},\n",
       "  mean: 0.59363, std: 0.02738, params: {'min_samples_split': 5, 'min_samples_leaf': 7},\n",
       "  mean: 0.59363, std: 0.02738, params: {'min_samples_split': 6, 'min_samples_leaf': 7},\n",
       "  mean: 0.59363, std: 0.02738, params: {'min_samples_split': 7, 'min_samples_leaf': 7},\n",
       "  mean: 0.59363, std: 0.02738, params: {'min_samples_split': 8, 'min_samples_leaf': 7},\n",
       "  mean: 0.59363, std: 0.02738, params: {'min_samples_split': 9, 'min_samples_leaf': 7},\n",
       "  mean: 0.59363, std: 0.02738, params: {'min_samples_split': 10, 'min_samples_leaf': 7},\n",
       "  mean: 0.59363, std: 0.02738, params: {'min_samples_split': 11, 'min_samples_leaf': 7},\n",
       "  mean: 0.59363, std: 0.02738, params: {'min_samples_split': 12, 'min_samples_leaf': 7},\n",
       "  mean: 0.59363, std: 0.02738, params: {'min_samples_split': 13, 'min_samples_leaf': 7},\n",
       "  mean: 0.59363, std: 0.02738, params: {'min_samples_split': 14, 'min_samples_leaf': 7},\n",
       "  mean: 0.59385, std: 0.02744, params: {'min_samples_split': 15, 'min_samples_leaf': 7},\n",
       "  mean: 0.59368, std: 0.02768, params: {'min_samples_split': 16, 'min_samples_leaf': 7},\n",
       "  mean: 0.59329, std: 0.02755, params: {'min_samples_split': 17, 'min_samples_leaf': 7},\n",
       "  mean: 0.59360, std: 0.02737, params: {'min_samples_split': 18, 'min_samples_leaf': 7},\n",
       "  mean: 0.59370, std: 0.02746, params: {'min_samples_split': 19, 'min_samples_leaf': 7},\n",
       "  mean: 0.59306, std: 0.02724, params: {'min_samples_split': 2, 'min_samples_leaf': 8},\n",
       "  mean: 0.59306, std: 0.02724, params: {'min_samples_split': 3, 'min_samples_leaf': 8},\n",
       "  mean: 0.59306, std: 0.02724, params: {'min_samples_split': 4, 'min_samples_leaf': 8},\n",
       "  mean: 0.59306, std: 0.02724, params: {'min_samples_split': 5, 'min_samples_leaf': 8},\n",
       "  mean: 0.59306, std: 0.02724, params: {'min_samples_split': 6, 'min_samples_leaf': 8},\n",
       "  mean: 0.59306, std: 0.02724, params: {'min_samples_split': 7, 'min_samples_leaf': 8},\n",
       "  mean: 0.59306, std: 0.02724, params: {'min_samples_split': 8, 'min_samples_leaf': 8},\n",
       "  mean: 0.59306, std: 0.02724, params: {'min_samples_split': 9, 'min_samples_leaf': 8},\n",
       "  mean: 0.59306, std: 0.02724, params: {'min_samples_split': 10, 'min_samples_leaf': 8},\n",
       "  mean: 0.59306, std: 0.02724, params: {'min_samples_split': 11, 'min_samples_leaf': 8},\n",
       "  mean: 0.59306, std: 0.02724, params: {'min_samples_split': 12, 'min_samples_leaf': 8},\n",
       "  mean: 0.59306, std: 0.02724, params: {'min_samples_split': 13, 'min_samples_leaf': 8},\n",
       "  mean: 0.59306, std: 0.02724, params: {'min_samples_split': 14, 'min_samples_leaf': 8},\n",
       "  mean: 0.59306, std: 0.02724, params: {'min_samples_split': 15, 'min_samples_leaf': 8},\n",
       "  mean: 0.59306, std: 0.02724, params: {'min_samples_split': 16, 'min_samples_leaf': 8},\n",
       "  mean: 0.59317, std: 0.02739, params: {'min_samples_split': 17, 'min_samples_leaf': 8},\n",
       "  mean: 0.59329, std: 0.02764, params: {'min_samples_split': 18, 'min_samples_leaf': 8},\n",
       "  mean: 0.59353, std: 0.02760, params: {'min_samples_split': 19, 'min_samples_leaf': 8},\n",
       "  mean: 0.59372, std: 0.02696, params: {'min_samples_split': 2, 'min_samples_leaf': 9},\n",
       "  mean: 0.59372, std: 0.02696, params: {'min_samples_split': 3, 'min_samples_leaf': 9},\n",
       "  mean: 0.59372, std: 0.02696, params: {'min_samples_split': 4, 'min_samples_leaf': 9},\n",
       "  mean: 0.59372, std: 0.02696, params: {'min_samples_split': 5, 'min_samples_leaf': 9},\n",
       "  mean: 0.59372, std: 0.02696, params: {'min_samples_split': 6, 'min_samples_leaf': 9},\n",
       "  mean: 0.59372, std: 0.02696, params: {'min_samples_split': 7, 'min_samples_leaf': 9},\n",
       "  mean: 0.59372, std: 0.02696, params: {'min_samples_split': 8, 'min_samples_leaf': 9},\n",
       "  mean: 0.59372, std: 0.02696, params: {'min_samples_split': 9, 'min_samples_leaf': 9},\n",
       "  mean: 0.59372, std: 0.02696, params: {'min_samples_split': 10, 'min_samples_leaf': 9},\n",
       "  mean: 0.59372, std: 0.02696, params: {'min_samples_split': 11, 'min_samples_leaf': 9},\n",
       "  mean: 0.59372, std: 0.02696, params: {'min_samples_split': 12, 'min_samples_leaf': 9},\n",
       "  mean: 0.59372, std: 0.02696, params: {'min_samples_split': 13, 'min_samples_leaf': 9},\n",
       "  mean: 0.59372, std: 0.02696, params: {'min_samples_split': 14, 'min_samples_leaf': 9},\n",
       "  mean: 0.59372, std: 0.02696, params: {'min_samples_split': 15, 'min_samples_leaf': 9},\n",
       "  mean: 0.59372, std: 0.02696, params: {'min_samples_split': 16, 'min_samples_leaf': 9},\n",
       "  mean: 0.59372, std: 0.02696, params: {'min_samples_split': 17, 'min_samples_leaf': 9},\n",
       "  mean: 0.59372, std: 0.02696, params: {'min_samples_split': 18, 'min_samples_leaf': 9},\n",
       "  mean: 0.59408, std: 0.02725, params: {'min_samples_split': 19, 'min_samples_leaf': 9},\n",
       "  mean: 0.59381, std: 0.02771, params: {'min_samples_split': 2, 'min_samples_leaf': 10},\n",
       "  mean: 0.59381, std: 0.02771, params: {'min_samples_split': 3, 'min_samples_leaf': 10},\n",
       "  mean: 0.59381, std: 0.02771, params: {'min_samples_split': 4, 'min_samples_leaf': 10},\n",
       "  mean: 0.59381, std: 0.02771, params: {'min_samples_split': 5, 'min_samples_leaf': 10},\n",
       "  mean: 0.59381, std: 0.02771, params: {'min_samples_split': 6, 'min_samples_leaf': 10},\n",
       "  mean: 0.59381, std: 0.02771, params: {'min_samples_split': 7, 'min_samples_leaf': 10},\n",
       "  mean: 0.59381, std: 0.02771, params: {'min_samples_split': 8, 'min_samples_leaf': 10},\n",
       "  mean: 0.59381, std: 0.02771, params: {'min_samples_split': 9, 'min_samples_leaf': 10},\n",
       "  mean: 0.59381, std: 0.02771, params: {'min_samples_split': 10, 'min_samples_leaf': 10},\n",
       "  mean: 0.59381, std: 0.02771, params: {'min_samples_split': 11, 'min_samples_leaf': 10},\n",
       "  mean: 0.59381, std: 0.02771, params: {'min_samples_split': 12, 'min_samples_leaf': 10},\n",
       "  mean: 0.59381, std: 0.02771, params: {'min_samples_split': 13, 'min_samples_leaf': 10},\n",
       "  mean: 0.59381, std: 0.02771, params: {'min_samples_split': 14, 'min_samples_leaf': 10},\n",
       "  mean: 0.59381, std: 0.02771, params: {'min_samples_split': 15, 'min_samples_leaf': 10},\n",
       "  mean: 0.59381, std: 0.02771, params: {'min_samples_split': 16, 'min_samples_leaf': 10},\n",
       "  mean: 0.59381, std: 0.02771, params: {'min_samples_split': 17, 'min_samples_leaf': 10},\n",
       "  mean: 0.59381, std: 0.02771, params: {'min_samples_split': 18, 'min_samples_leaf': 10},\n",
       "  mean: 0.59381, std: 0.02771, params: {'min_samples_split': 19, 'min_samples_leaf': 10},\n",
       "  mean: 0.59336, std: 0.02829, params: {'min_samples_split': 2, 'min_samples_leaf': 11},\n",
       "  mean: 0.59336, std: 0.02829, params: {'min_samples_split': 3, 'min_samples_leaf': 11},\n",
       "  mean: 0.59336, std: 0.02829, params: {'min_samples_split': 4, 'min_samples_leaf': 11},\n",
       "  mean: 0.59336, std: 0.02829, params: {'min_samples_split': 5, 'min_samples_leaf': 11},\n",
       "  mean: 0.59336, std: 0.02829, params: {'min_samples_split': 6, 'min_samples_leaf': 11},\n",
       "  mean: 0.59336, std: 0.02829, params: {'min_samples_split': 7, 'min_samples_leaf': 11},\n",
       "  mean: 0.59336, std: 0.02829, params: {'min_samples_split': 8, 'min_samples_leaf': 11},\n",
       "  mean: 0.59336, std: 0.02829, params: {'min_samples_split': 9, 'min_samples_leaf': 11},\n",
       "  mean: 0.59336, std: 0.02829, params: {'min_samples_split': 10, 'min_samples_leaf': 11},\n",
       "  mean: 0.59336, std: 0.02829, params: {'min_samples_split': 11, 'min_samples_leaf': 11},\n",
       "  mean: 0.59336, std: 0.02829, params: {'min_samples_split': 12, 'min_samples_leaf': 11},\n",
       "  mean: 0.59336, std: 0.02829, params: {'min_samples_split': 13, 'min_samples_leaf': 11},\n",
       "  mean: 0.59336, std: 0.02829, params: {'min_samples_split': 14, 'min_samples_leaf': 11},\n",
       "  mean: 0.59336, std: 0.02829, params: {'min_samples_split': 15, 'min_samples_leaf': 11},\n",
       "  mean: 0.59336, std: 0.02829, params: {'min_samples_split': 16, 'min_samples_leaf': 11},\n",
       "  mean: 0.59336, std: 0.02829, params: {'min_samples_split': 17, 'min_samples_leaf': 11},\n",
       "  mean: 0.59336, std: 0.02829, params: {'min_samples_split': 18, 'min_samples_leaf': 11},\n",
       "  mean: 0.59336, std: 0.02829, params: {'min_samples_split': 19, 'min_samples_leaf': 11},\n",
       "  mean: 0.59325, std: 0.02775, params: {'min_samples_split': 2, 'min_samples_leaf': 12},\n",
       "  mean: 0.59325, std: 0.02775, params: {'min_samples_split': 3, 'min_samples_leaf': 12},\n",
       "  mean: 0.59325, std: 0.02775, params: {'min_samples_split': 4, 'min_samples_leaf': 12},\n",
       "  mean: 0.59325, std: 0.02775, params: {'min_samples_split': 5, 'min_samples_leaf': 12},\n",
       "  mean: 0.59325, std: 0.02775, params: {'min_samples_split': 6, 'min_samples_leaf': 12},\n",
       "  mean: 0.59325, std: 0.02775, params: {'min_samples_split': 7, 'min_samples_leaf': 12},\n",
       "  mean: 0.59325, std: 0.02775, params: {'min_samples_split': 8, 'min_samples_leaf': 12},\n",
       "  mean: 0.59325, std: 0.02775, params: {'min_samples_split': 9, 'min_samples_leaf': 12},\n",
       "  mean: 0.59325, std: 0.02775, params: {'min_samples_split': 10, 'min_samples_leaf': 12},\n",
       "  mean: 0.59325, std: 0.02775, params: {'min_samples_split': 11, 'min_samples_leaf': 12},\n",
       "  mean: 0.59325, std: 0.02775, params: {'min_samples_split': 12, 'min_samples_leaf': 12},\n",
       "  mean: 0.59325, std: 0.02775, params: {'min_samples_split': 13, 'min_samples_leaf': 12},\n",
       "  mean: 0.59325, std: 0.02775, params: {'min_samples_split': 14, 'min_samples_leaf': 12},\n",
       "  mean: 0.59325, std: 0.02775, params: {'min_samples_split': 15, 'min_samples_leaf': 12},\n",
       "  mean: 0.59325, std: 0.02775, params: {'min_samples_split': 16, 'min_samples_leaf': 12},\n",
       "  mean: 0.59325, std: 0.02775, params: {'min_samples_split': 17, 'min_samples_leaf': 12},\n",
       "  mean: 0.59325, std: 0.02775, params: {'min_samples_split': 18, 'min_samples_leaf': 12},\n",
       "  mean: 0.59325, std: 0.02775, params: {'min_samples_split': 19, 'min_samples_leaf': 12},\n",
       "  mean: 0.59340, std: 0.02787, params: {'min_samples_split': 2, 'min_samples_leaf': 13},\n",
       "  mean: 0.59340, std: 0.02787, params: {'min_samples_split': 3, 'min_samples_leaf': 13},\n",
       "  mean: 0.59340, std: 0.02787, params: {'min_samples_split': 4, 'min_samples_leaf': 13},\n",
       "  mean: 0.59340, std: 0.02787, params: {'min_samples_split': 5, 'min_samples_leaf': 13},\n",
       "  mean: 0.59340, std: 0.02787, params: {'min_samples_split': 6, 'min_samples_leaf': 13},\n",
       "  mean: 0.59340, std: 0.02787, params: {'min_samples_split': 7, 'min_samples_leaf': 13},\n",
       "  mean: 0.59340, std: 0.02787, params: {'min_samples_split': 8, 'min_samples_leaf': 13},\n",
       "  mean: 0.59340, std: 0.02787, params: {'min_samples_split': 9, 'min_samples_leaf': 13},\n",
       "  mean: 0.59340, std: 0.02787, params: {'min_samples_split': 10, 'min_samples_leaf': 13},\n",
       "  mean: 0.59340, std: 0.02787, params: {'min_samples_split': 11, 'min_samples_leaf': 13},\n",
       "  mean: 0.59340, std: 0.02787, params: {'min_samples_split': 12, 'min_samples_leaf': 13},\n",
       "  mean: 0.59340, std: 0.02787, params: {'min_samples_split': 13, 'min_samples_leaf': 13},\n",
       "  mean: 0.59340, std: 0.02787, params: {'min_samples_split': 14, 'min_samples_leaf': 13},\n",
       "  mean: 0.59340, std: 0.02787, params: {'min_samples_split': 15, 'min_samples_leaf': 13},\n",
       "  mean: 0.59340, std: 0.02787, params: {'min_samples_split': 16, 'min_samples_leaf': 13},\n",
       "  mean: 0.59340, std: 0.02787, params: {'min_samples_split': 17, 'min_samples_leaf': 13},\n",
       "  mean: 0.59340, std: 0.02787, params: {'min_samples_split': 18, 'min_samples_leaf': 13},\n",
       "  mean: 0.59340, std: 0.02787, params: {'min_samples_split': 19, 'min_samples_leaf': 13},\n",
       "  mean: 0.59384, std: 0.02754, params: {'min_samples_split': 2, 'min_samples_leaf': 14},\n",
       "  mean: 0.59384, std: 0.02754, params: {'min_samples_split': 3, 'min_samples_leaf': 14},\n",
       "  mean: 0.59384, std: 0.02754, params: {'min_samples_split': 4, 'min_samples_leaf': 14},\n",
       "  mean: 0.59384, std: 0.02754, params: {'min_samples_split': 5, 'min_samples_leaf': 14},\n",
       "  mean: 0.59384, std: 0.02754, params: {'min_samples_split': 6, 'min_samples_leaf': 14},\n",
       "  mean: 0.59384, std: 0.02754, params: {'min_samples_split': 7, 'min_samples_leaf': 14},\n",
       "  mean: 0.59384, std: 0.02754, params: {'min_samples_split': 8, 'min_samples_leaf': 14},\n",
       "  mean: 0.59384, std: 0.02754, params: {'min_samples_split': 9, 'min_samples_leaf': 14},\n",
       "  mean: 0.59384, std: 0.02754, params: {'min_samples_split': 10, 'min_samples_leaf': 14},\n",
       "  mean: 0.59384, std: 0.02754, params: {'min_samples_split': 11, 'min_samples_leaf': 14},\n",
       "  mean: 0.59384, std: 0.02754, params: {'min_samples_split': 12, 'min_samples_leaf': 14},\n",
       "  mean: 0.59384, std: 0.02754, params: {'min_samples_split': 13, 'min_samples_leaf': 14},\n",
       "  mean: 0.59384, std: 0.02754, params: {'min_samples_split': 14, 'min_samples_leaf': 14},\n",
       "  mean: 0.59384, std: 0.02754, params: {'min_samples_split': 15, 'min_samples_leaf': 14},\n",
       "  mean: 0.59384, std: 0.02754, params: {'min_samples_split': 16, 'min_samples_leaf': 14},\n",
       "  mean: 0.59384, std: 0.02754, params: {'min_samples_split': 17, 'min_samples_leaf': 14},\n",
       "  mean: 0.59384, std: 0.02754, params: {'min_samples_split': 18, 'min_samples_leaf': 14},\n",
       "  mean: 0.59384, std: 0.02754, params: {'min_samples_split': 19, 'min_samples_leaf': 14},\n",
       "  mean: 0.59373, std: 0.02720, params: {'min_samples_split': 2, 'min_samples_leaf': 15},\n",
       "  mean: 0.59373, std: 0.02720, params: {'min_samples_split': 3, 'min_samples_leaf': 15},\n",
       "  mean: 0.59373, std: 0.02720, params: {'min_samples_split': 4, 'min_samples_leaf': 15},\n",
       "  mean: 0.59373, std: 0.02720, params: {'min_samples_split': 5, 'min_samples_leaf': 15},\n",
       "  mean: 0.59373, std: 0.02720, params: {'min_samples_split': 6, 'min_samples_leaf': 15},\n",
       "  mean: 0.59373, std: 0.02720, params: {'min_samples_split': 7, 'min_samples_leaf': 15},\n",
       "  mean: 0.59373, std: 0.02720, params: {'min_samples_split': 8, 'min_samples_leaf': 15},\n",
       "  mean: 0.59373, std: 0.02720, params: {'min_samples_split': 9, 'min_samples_leaf': 15},\n",
       "  mean: 0.59373, std: 0.02720, params: {'min_samples_split': 10, 'min_samples_leaf': 15},\n",
       "  mean: 0.59373, std: 0.02720, params: {'min_samples_split': 11, 'min_samples_leaf': 15},\n",
       "  mean: 0.59373, std: 0.02720, params: {'min_samples_split': 12, 'min_samples_leaf': 15},\n",
       "  mean: 0.59373, std: 0.02720, params: {'min_samples_split': 13, 'min_samples_leaf': 15},\n",
       "  mean: 0.59373, std: 0.02720, params: {'min_samples_split': 14, 'min_samples_leaf': 15},\n",
       "  mean: 0.59373, std: 0.02720, params: {'min_samples_split': 15, 'min_samples_leaf': 15},\n",
       "  mean: 0.59373, std: 0.02720, params: {'min_samples_split': 16, 'min_samples_leaf': 15},\n",
       "  mean: 0.59373, std: 0.02720, params: {'min_samples_split': 17, 'min_samples_leaf': 15},\n",
       "  mean: 0.59373, std: 0.02720, params: {'min_samples_split': 18, 'min_samples_leaf': 15},\n",
       "  mean: 0.59373, std: 0.02720, params: {'min_samples_split': 19, 'min_samples_leaf': 15},\n",
       "  mean: 0.59383, std: 0.02733, params: {'min_samples_split': 2, 'min_samples_leaf': 16},\n",
       "  mean: 0.59383, std: 0.02733, params: {'min_samples_split': 3, 'min_samples_leaf': 16},\n",
       "  mean: 0.59383, std: 0.02733, params: {'min_samples_split': 4, 'min_samples_leaf': 16},\n",
       "  mean: 0.59383, std: 0.02733, params: {'min_samples_split': 5, 'min_samples_leaf': 16},\n",
       "  mean: 0.59383, std: 0.02733, params: {'min_samples_split': 6, 'min_samples_leaf': 16},\n",
       "  mean: 0.59383, std: 0.02733, params: {'min_samples_split': 7, 'min_samples_leaf': 16},\n",
       "  mean: 0.59383, std: 0.02733, params: {'min_samples_split': 8, 'min_samples_leaf': 16},\n",
       "  mean: 0.59383, std: 0.02733, params: {'min_samples_split': 9, 'min_samples_leaf': 16},\n",
       "  mean: 0.59383, std: 0.02733, params: {'min_samples_split': 10, 'min_samples_leaf': 16},\n",
       "  mean: 0.59383, std: 0.02733, params: {'min_samples_split': 11, 'min_samples_leaf': 16},\n",
       "  mean: 0.59383, std: 0.02733, params: {'min_samples_split': 12, 'min_samples_leaf': 16},\n",
       "  mean: 0.59383, std: 0.02733, params: {'min_samples_split': 13, 'min_samples_leaf': 16},\n",
       "  mean: 0.59383, std: 0.02733, params: {'min_samples_split': 14, 'min_samples_leaf': 16},\n",
       "  mean: 0.59383, std: 0.02733, params: {'min_samples_split': 15, 'min_samples_leaf': 16},\n",
       "  mean: 0.59383, std: 0.02733, params: {'min_samples_split': 16, 'min_samples_leaf': 16},\n",
       "  mean: 0.59383, std: 0.02733, params: {'min_samples_split': 17, 'min_samples_leaf': 16},\n",
       "  mean: 0.59383, std: 0.02733, params: {'min_samples_split': 18, 'min_samples_leaf': 16},\n",
       "  mean: 0.59383, std: 0.02733, params: {'min_samples_split': 19, 'min_samples_leaf': 16},\n",
       "  mean: 0.59341, std: 0.02703, params: {'min_samples_split': 2, 'min_samples_leaf': 17},\n",
       "  mean: 0.59341, std: 0.02703, params: {'min_samples_split': 3, 'min_samples_leaf': 17},\n",
       "  mean: 0.59341, std: 0.02703, params: {'min_samples_split': 4, 'min_samples_leaf': 17},\n",
       "  mean: 0.59341, std: 0.02703, params: {'min_samples_split': 5, 'min_samples_leaf': 17},\n",
       "  mean: 0.59341, std: 0.02703, params: {'min_samples_split': 6, 'min_samples_leaf': 17},\n",
       "  mean: 0.59341, std: 0.02703, params: {'min_samples_split': 7, 'min_samples_leaf': 17},\n",
       "  mean: 0.59341, std: 0.02703, params: {'min_samples_split': 8, 'min_samples_leaf': 17},\n",
       "  mean: 0.59341, std: 0.02703, params: {'min_samples_split': 9, 'min_samples_leaf': 17},\n",
       "  mean: 0.59341, std: 0.02703, params: {'min_samples_split': 10, 'min_samples_leaf': 17},\n",
       "  mean: 0.59341, std: 0.02703, params: {'min_samples_split': 11, 'min_samples_leaf': 17},\n",
       "  mean: 0.59341, std: 0.02703, params: {'min_samples_split': 12, 'min_samples_leaf': 17},\n",
       "  mean: 0.59341, std: 0.02703, params: {'min_samples_split': 13, 'min_samples_leaf': 17},\n",
       "  mean: 0.59341, std: 0.02703, params: {'min_samples_split': 14, 'min_samples_leaf': 17},\n",
       "  mean: 0.59341, std: 0.02703, params: {'min_samples_split': 15, 'min_samples_leaf': 17},\n",
       "  mean: 0.59341, std: 0.02703, params: {'min_samples_split': 16, 'min_samples_leaf': 17},\n",
       "  mean: 0.59341, std: 0.02703, params: {'min_samples_split': 17, 'min_samples_leaf': 17},\n",
       "  mean: 0.59341, std: 0.02703, params: {'min_samples_split': 18, 'min_samples_leaf': 17},\n",
       "  mean: 0.59341, std: 0.02703, params: {'min_samples_split': 19, 'min_samples_leaf': 17},\n",
       "  mean: 0.59377, std: 0.02652, params: {'min_samples_split': 2, 'min_samples_leaf': 18},\n",
       "  mean: 0.59377, std: 0.02652, params: {'min_samples_split': 3, 'min_samples_leaf': 18},\n",
       "  mean: 0.59377, std: 0.02652, params: {'min_samples_split': 4, 'min_samples_leaf': 18},\n",
       "  mean: 0.59377, std: 0.02652, params: {'min_samples_split': 5, 'min_samples_leaf': 18},\n",
       "  mean: 0.59377, std: 0.02652, params: {'min_samples_split': 6, 'min_samples_leaf': 18},\n",
       "  mean: 0.59377, std: 0.02652, params: {'min_samples_split': 7, 'min_samples_leaf': 18},\n",
       "  mean: 0.59377, std: 0.02652, params: {'min_samples_split': 8, 'min_samples_leaf': 18},\n",
       "  mean: 0.59377, std: 0.02652, params: {'min_samples_split': 9, 'min_samples_leaf': 18},\n",
       "  mean: 0.59377, std: 0.02652, params: {'min_samples_split': 10, 'min_samples_leaf': 18},\n",
       "  mean: 0.59377, std: 0.02652, params: {'min_samples_split': 11, 'min_samples_leaf': 18},\n",
       "  mean: 0.59377, std: 0.02652, params: {'min_samples_split': 12, 'min_samples_leaf': 18},\n",
       "  mean: 0.59377, std: 0.02652, params: {'min_samples_split': 13, 'min_samples_leaf': 18},\n",
       "  mean: 0.59377, std: 0.02652, params: {'min_samples_split': 14, 'min_samples_leaf': 18},\n",
       "  mean: 0.59377, std: 0.02652, params: {'min_samples_split': 15, 'min_samples_leaf': 18},\n",
       "  mean: 0.59377, std: 0.02652, params: {'min_samples_split': 16, 'min_samples_leaf': 18},\n",
       "  mean: 0.59377, std: 0.02652, params: {'min_samples_split': 17, 'min_samples_leaf': 18},\n",
       "  mean: 0.59377, std: 0.02652, params: {'min_samples_split': 18, 'min_samples_leaf': 18},\n",
       "  mean: 0.59377, std: 0.02652, params: {'min_samples_split': 19, 'min_samples_leaf': 18},\n",
       "  mean: 0.59350, std: 0.02722, params: {'min_samples_split': 2, 'min_samples_leaf': 19},\n",
       "  mean: 0.59350, std: 0.02722, params: {'min_samples_split': 3, 'min_samples_leaf': 19},\n",
       "  mean: 0.59350, std: 0.02722, params: {'min_samples_split': 4, 'min_samples_leaf': 19},\n",
       "  mean: 0.59350, std: 0.02722, params: {'min_samples_split': 5, 'min_samples_leaf': 19},\n",
       "  mean: 0.59350, std: 0.02722, params: {'min_samples_split': 6, 'min_samples_leaf': 19},\n",
       "  mean: 0.59350, std: 0.02722, params: {'min_samples_split': 7, 'min_samples_leaf': 19},\n",
       "  mean: 0.59350, std: 0.02722, params: {'min_samples_split': 8, 'min_samples_leaf': 19},\n",
       "  mean: 0.59350, std: 0.02722, params: {'min_samples_split': 9, 'min_samples_leaf': 19},\n",
       "  mean: 0.59350, std: 0.02722, params: {'min_samples_split': 10, 'min_samples_leaf': 19},\n",
       "  mean: 0.59350, std: 0.02722, params: {'min_samples_split': 11, 'min_samples_leaf': 19},\n",
       "  mean: 0.59350, std: 0.02722, params: {'min_samples_split': 12, 'min_samples_leaf': 19},\n",
       "  mean: 0.59350, std: 0.02722, params: {'min_samples_split': 13, 'min_samples_leaf': 19},\n",
       "  mean: 0.59350, std: 0.02722, params: {'min_samples_split': 14, 'min_samples_leaf': 19},\n",
       "  mean: 0.59350, std: 0.02722, params: {'min_samples_split': 15, 'min_samples_leaf': 19},\n",
       "  mean: 0.59350, std: 0.02722, params: {'min_samples_split': 16, 'min_samples_leaf': 19},\n",
       "  mean: 0.59350, std: 0.02722, params: {'min_samples_split': 17, 'min_samples_leaf': 19},\n",
       "  mean: 0.59350, std: 0.02722, params: {'min_samples_split': 18, 'min_samples_leaf': 19},\n",
       "  mean: 0.59350, std: 0.02722, params: {'min_samples_split': 19, 'min_samples_leaf': 19}],\n",
       " {'min_samples_leaf': 9, 'min_samples_split': 19},\n",
       " 0.5940800910075168)"
      ]
     },
     "execution_count": 50,
     "metadata": {},
     "output_type": "execute_result"
    }
   ],
   "source": [
    "# 3. min_samples_split & min_samples_leaf\n",
    "\n",
    "param_test3 = {'min_samples_split':range(2,20,1), 'min_samples_leaf':range(1,20,1)}\n",
    "gsearch3 = GridSearchCV(estimator = GradientBoostingRegressor(), param_grid = param_test3,n_jobs=-1,iid=False, cv=10)\n",
    "gsearch3.fit(XX,y)\n",
    "gsearch3.grid_scores_, gsearch3.best_params_, gsearch3.best_score_"
   ]
  },
  {
   "cell_type": "code",
   "execution_count": 81,
   "metadata": {
    "collapsed": false
   },
   "outputs": [
    {
     "name": "stdout",
     "output_type": "stream",
     "text": [
      "\n",
      "Model Report\n",
      "RMSE : 1051\n",
      "CV Score : Mean - 0.7706 | Std - 0.01783\n"
     ]
    }
   ],
   "source": [
    "gbr3 = GradientBoostingRegressor(min_samples_split = 19, min_samples_leaf = 9)\n",
    "validation_cross1(gbr3, XX, y)"
   ]
  },
  {
   "cell_type": "code",
   "execution_count": null,
   "metadata": {
    "collapsed": true
   },
   "outputs": [],
   "source": []
  },
  {
   "cell_type": "code",
   "execution_count": 53,
   "metadata": {
    "collapsed": false
   },
   "outputs": [
    {
     "name": "stderr",
     "output_type": "stream",
     "text": [
      "C:\\Users\\DHRUBAJIT\\Anaconda3\\lib\\site-packages\\sklearn\\model_selection\\_search.py:747: DeprecationWarning: The grid_scores_ attribute was deprecated in version 0.18 in favor of the more elaborate cv_results_ attribute. The grid_scores_ attribute will not be available from 0.20\n",
      "  DeprecationWarning)\n"
     ]
    },
    {
     "data": {
      "text/plain": [
       "([mean: 0.57044, std: 0.02599, params: {'max_features': 1},\n",
       "  mean: 0.58468, std: 0.02772, params: {'max_features': 2},\n",
       "  mean: 0.59249, std: 0.02749, params: {'max_features': 3},\n",
       "  mean: 0.59306, std: 0.02692, params: {'max_features': 4},\n",
       "  mean: 0.59371, std: 0.02590, params: {'max_features': 5},\n",
       "  mean: 0.59185, std: 0.02729, params: {'max_features': 6},\n",
       "  mean: 0.59207, std: 0.02697, params: {'max_features': 7},\n",
       "  mean: 0.59183, std: 0.02675, params: {'max_features': 8},\n",
       "  mean: 0.59118, std: 0.02599, params: {'max_features': 9}],\n",
       " {'max_features': 5},\n",
       " 0.59370527977650922)"
      ]
     },
     "execution_count": 53,
     "metadata": {},
     "output_type": "execute_result"
    }
   ],
   "source": [
    "# 4. max_features\n",
    "\n",
    "param_test4 = {'max_features':range(1,10,1)}\n",
    "gsearch4 = GridSearchCV(estimator = GradientBoostingRegressor(),param_grid = param_test4,n_jobs=4,iid=False, cv=10)\n",
    "gsearch4.fit(XX,y)\n",
    "gsearch4.grid_scores_, gsearch4.best_params_, gsearch4.best_score_"
   ]
  },
  {
   "cell_type": "code",
   "execution_count": 82,
   "metadata": {
    "collapsed": false
   },
   "outputs": [
    {
     "name": "stdout",
     "output_type": "stream",
     "text": [
      "\n",
      "Model Report\n",
      "RMSE : 1055\n",
      "CV Score : Mean - 0.7703 | Std - 0.01748\n"
     ]
    }
   ],
   "source": [
    "gbr4 = GradientBoostingRegressor(max_features = 5)\n",
    "validation_cross1(gbr4, XX, y)"
   ]
  },
  {
   "cell_type": "code",
   "execution_count": null,
   "metadata": {
    "collapsed": true
   },
   "outputs": [],
   "source": []
  },
  {
   "cell_type": "code",
   "execution_count": 57,
   "metadata": {
    "collapsed": false
   },
   "outputs": [
    {
     "name": "stderr",
     "output_type": "stream",
     "text": [
      "C:\\Users\\DHRUBAJIT\\Anaconda3\\lib\\site-packages\\sklearn\\model_selection\\_search.py:747: DeprecationWarning: The grid_scores_ attribute was deprecated in version 0.18 in favor of the more elaborate cv_results_ attribute. The grid_scores_ attribute will not be available from 0.20\n",
      "  DeprecationWarning)\n"
     ]
    },
    {
     "data": {
      "text/plain": [
       "([mean: 0.59017, std: 0.02731, params: {'max_features': 'auto'},\n",
       "  mean: 0.59238, std: 0.02754, params: {'max_features': 'sqrt'},\n",
       "  mean: 0.59205, std: 0.02561, params: {'max_features': 'log2'}],\n",
       " {'max_features': 'sqrt'},\n",
       " 0.59238410436769617)"
      ]
     },
     "execution_count": 57,
     "metadata": {},
     "output_type": "execute_result"
    }
   ],
   "source": [
    "# 4. max_features - strings\n",
    "\n",
    "param_test4 = {'max_features':['auto','sqrt','log2']}\n",
    "gsearch4 = GridSearchCV(estimator = GradientBoostingRegressor(),param_grid = param_test4,n_jobs=4,iid=False, cv=10)\n",
    "gsearch4.fit(XX,y)\n",
    "gsearch4.grid_scores_, gsearch4.best_params_, gsearch4.best_score_"
   ]
  },
  {
   "cell_type": "code",
   "execution_count": 83,
   "metadata": {
    "collapsed": false
   },
   "outputs": [
    {
     "name": "stdout",
     "output_type": "stream",
     "text": [
      "\n",
      "Model Report\n",
      "RMSE : 1063\n",
      "CV Score : Mean - 0.7698 | Std - 0.01797\n"
     ]
    }
   ],
   "source": [
    "gbr4 = GradientBoostingRegressor(max_features = 'sqrt')\n",
    "validation_cross1(gbr4, XX, y)"
   ]
  },
  {
   "cell_type": "code",
   "execution_count": null,
   "metadata": {
    "collapsed": true
   },
   "outputs": [],
   "source": []
  },
  {
   "cell_type": "code",
   "execution_count": 86,
   "metadata": {
    "collapsed": false
   },
   "outputs": [
    {
     "name": "stderr",
     "output_type": "stream",
     "text": [
      "C:\\Users\\DHRUBAJIT\\Anaconda3\\lib\\site-packages\\sklearn\\model_selection\\_search.py:747: DeprecationWarning: The grid_scores_ attribute was deprecated in version 0.18 in favor of the more elaborate cv_results_ attribute. The grid_scores_ attribute will not be available from 0.20\n",
      "  DeprecationWarning)\n"
     ]
    },
    {
     "data": {
      "text/plain": [
       "([mean: 0.58993, std: 0.02692, params: {'subsample': 0.6},\n",
       "  mean: 0.59002, std: 0.02705, params: {'subsample': 0.65},\n",
       "  mean: 0.58874, std: 0.02803, params: {'subsample': 0.7},\n",
       "  mean: 0.59038, std: 0.02813, params: {'subsample': 0.75},\n",
       "  mean: 0.59047, std: 0.02746, params: {'subsample': 0.8},\n",
       "  mean: 0.59076, std: 0.02533, params: {'subsample': 0.85},\n",
       "  mean: 0.59048, std: 0.02601, params: {'subsample': 0.9},\n",
       "  mean: 0.59134, std: 0.02674, params: {'subsample': 0.95},\n",
       "  mean: 0.59030, std: 0.02737, params: {'subsample': 1.0}],\n",
       " {'subsample': 0.95},\n",
       " 0.59133595051823284)"
      ]
     },
     "execution_count": 86,
     "metadata": {},
     "output_type": "execute_result"
    }
   ],
   "source": [
    "# 5. subsample\n",
    "\n",
    "param_test5 = {'subsample': [0.6,0.65,0.7,0.75,0.8,0.85,0.9,0.95,1.0]}\n",
    "gsearch5 = GridSearchCV(estimator = GradientBoostingRegressor(),param_grid = param_test5,n_jobs=-1,iid=False, cv=10)\n",
    "gsearch5.fit(XX,y)\n",
    "gsearch5.grid_scores_, gsearch5.best_params_, gsearch5.best_score_"
   ]
  },
  {
   "cell_type": "code",
   "execution_count": 87,
   "metadata": {
    "collapsed": false
   },
   "outputs": [
    {
     "name": "stdout",
     "output_type": "stream",
     "text": [
      "\n",
      "Model Report\n",
      "RMSE : 1044\n",
      "CV Score : Mean - 0.7675 | Std - 0.01837\n"
     ]
    }
   ],
   "source": [
    "gbr5 = GradientBoostingRegressor(subsample = 0.95)\n",
    "validation_cross1(gbr5, XX, y)"
   ]
  },
  {
   "cell_type": "code",
   "execution_count": null,
   "metadata": {
    "collapsed": true
   },
   "outputs": [],
   "source": []
  },
  {
   "cell_type": "code",
   "execution_count": 66,
   "metadata": {
    "collapsed": false
   },
   "outputs": [
    {
     "name": "stderr",
     "output_type": "stream",
     "text": [
      "C:\\Users\\DHRUBAJIT\\Anaconda3\\lib\\site-packages\\sklearn\\model_selection\\_search.py:747: DeprecationWarning: The grid_scores_ attribute was deprecated in version 0.18 in favor of the more elaborate cv_results_ attribute. The grid_scores_ attribute will not be available from 0.20\n",
      "  DeprecationWarning)\n"
     ]
    },
    {
     "data": {
      "text/plain": [
       "([mean: 0.00858, std: 0.00082, params: {'learning_rate': 0.0001},\n",
       "  mean: 0.08386, std: 0.00222, params: {'learning_rate': 0.001},\n",
       "  mean: 0.08386, std: 0.00222, params: {'learning_rate': 0.001},\n",
       "  mean: 0.29986, std: 0.00791, params: {'learning_rate': 0.005},\n",
       "  mean: 0.41970, std: 0.01404, params: {'learning_rate': 0.01},\n",
       "  mean: 0.59204, std: 0.02630, params: {'learning_rate': 0.05},\n",
       "  mean: 0.59015, std: 0.02728, params: {'learning_rate': 0.1},\n",
       "  mean: 0.57859, std: 0.02916, params: {'learning_rate': 0.2},\n",
       "  mean: 0.57076, std: 0.02512, params: {'learning_rate': 0.3},\n",
       "  mean: 0.55848, std: 0.03161, params: {'learning_rate': 0.4}],\n",
       " {'learning_rate': 0.05},\n",
       " 0.59204208778387091)"
      ]
     },
     "execution_count": 66,
     "metadata": {},
     "output_type": "execute_result"
    }
   ],
   "source": [
    "# 6. learning_rate\n",
    "\n",
    "param_test6 = {'learning_rate':[0.0001,0.001,0.001,0.005,0.01,0.05,0.1,0.2,0.3,0.4]}\n",
    "gsearch6 = GridSearchCV(estimator = GradientBoostingRegressor(),param_grid = param_test6,n_jobs=-1,iid=False, cv=10)\n",
    "gsearch6.fit(XX,y)\n",
    "gsearch6.grid_scores_, gsearch6.best_params_, gsearch6.best_score_"
   ]
  },
  {
   "cell_type": "code",
   "execution_count": 67,
   "metadata": {
    "collapsed": false
   },
   "outputs": [
    {
     "name": "stdout",
     "output_type": "stream",
     "text": [
      "\n",
      "Model Report\n",
      "RMSE : 1065\n",
      "CV Score : Mean - 1088 | Std - 20.54\n"
     ]
    }
   ],
   "source": [
    "gbr6 = GradientBoostingRegressor(learning_rate= 0.05)\n",
    "validation_cross(gbr6, XX, y)"
   ]
  },
  {
   "cell_type": "code",
   "execution_count": null,
   "metadata": {
    "collapsed": true
   },
   "outputs": [],
   "source": []
  },
  {
   "cell_type": "code",
   "execution_count": 70,
   "metadata": {
    "collapsed": false
   },
   "outputs": [
    {
     "name": "stderr",
     "output_type": "stream",
     "text": [
      "C:\\Users\\DHRUBAJIT\\Anaconda3\\lib\\site-packages\\sklearn\\model_selection\\_search.py:747: DeprecationWarning: The grid_scores_ attribute was deprecated in version 0.18 in favor of the more elaborate cv_results_ attribute. The grid_scores_ attribute will not be available from 0.20\n",
      "  DeprecationWarning)\n"
     ]
    },
    {
     "data": {
      "text/plain": [
       "([mean: 0.59017, std: 0.02723, params: {'loss': 'ls'},\n",
       "  mean: 0.59182, std: 0.02190, params: {'loss': 'lad'},\n",
       "  mean: 0.58998, std: 0.02626, params: {'loss': 'huber'},\n",
       "  mean: -0.09519, std: 0.14511, params: {'loss': 'quantile'}],\n",
       " {'loss': 'lad'},\n",
       " 0.59181739762075936)"
      ]
     },
     "execution_count": 70,
     "metadata": {},
     "output_type": "execute_result"
    }
   ],
   "source": [
    "\n",
    "param_test7 = {'loss':['ls','lad','huber','quantile']}\n",
    "gsearch7 = GridSearchCV(estimator = GradientBoostingRegressor(),param_grid = param_test7,n_jobs=-1,iid=False, cv=10)\n",
    "gsearch7.fit(XX,y)\n",
    "gsearch7.grid_scores_, gsearch7.best_params_, gsearch7.best_score_"
   ]
  },
  {
   "cell_type": "code",
   "execution_count": 73,
   "metadata": {
    "collapsed": false
   },
   "outputs": [
    {
     "name": "stdout",
     "output_type": "stream",
     "text": [
      "\n",
      "Model Report\n",
      "RMSE : 1069\n",
      "CV Score : Mean - 1089 | Std - 20.01\n"
     ]
    }
   ],
   "source": [
    "gbr7 = GradientBoostingRegressor(loss= 'lad')\n",
    "validation_cross(gbr7, XX, y)"
   ]
  },
  {
   "cell_type": "code",
   "execution_count": null,
   "metadata": {
    "collapsed": true
   },
   "outputs": [],
   "source": []
  }
 ],
 "metadata": {
  "anaconda-cloud": {},
  "kernelspec": {
   "display_name": "Python [default]",
   "language": "python",
   "name": "python3"
  },
  "language_info": {
   "codemirror_mode": {
    "name": "ipython",
    "version": 3
   },
   "file_extension": ".py",
   "mimetype": "text/x-python",
   "name": "python",
   "nbconvert_exporter": "python",
   "pygments_lexer": "ipython3",
   "version": "3.5.2"
  }
 },
 "nbformat": 4,
 "nbformat_minor": 2
}
