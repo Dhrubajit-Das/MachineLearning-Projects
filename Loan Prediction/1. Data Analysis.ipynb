{
 "cells": [
  {
   "cell_type": "code",
   "execution_count": 1,
   "metadata": {
    "collapsed": true
   },
   "outputs": [],
   "source": [
    "import numpy as np\n",
    "import pandas as pd\n",
    "import matplotlib.pyplot as plt\n",
    "import seaborn as sns\n",
    "%matplotlib inline"
   ]
  },
  {
   "cell_type": "code",
   "execution_count": 2,
   "metadata": {
    "collapsed": false
   },
   "outputs": [
    {
     "data": {
      "text/html": [
       "<div>\n",
       "<table border=\"1\" class=\"dataframe\">\n",
       "  <thead>\n",
       "    <tr style=\"text-align: right;\">\n",
       "      <th></th>\n",
       "      <th>Loan_ID</th>\n",
       "      <th>Gender</th>\n",
       "      <th>Married</th>\n",
       "      <th>Dependents</th>\n",
       "      <th>Education</th>\n",
       "      <th>Self_Employed</th>\n",
       "      <th>ApplicantIncome</th>\n",
       "      <th>CoapplicantIncome</th>\n",
       "      <th>LoanAmount</th>\n",
       "      <th>Loan_Amount_Term</th>\n",
       "      <th>Credit_History</th>\n",
       "      <th>Property_Area</th>\n",
       "      <th>Loan_Status</th>\n",
       "    </tr>\n",
       "  </thead>\n",
       "  <tbody>\n",
       "    <tr>\n",
       "      <th>0</th>\n",
       "      <td>LP001002</td>\n",
       "      <td>Male</td>\n",
       "      <td>No</td>\n",
       "      <td>0</td>\n",
       "      <td>Graduate</td>\n",
       "      <td>No</td>\n",
       "      <td>5849</td>\n",
       "      <td>0.0</td>\n",
       "      <td>NaN</td>\n",
       "      <td>360.0</td>\n",
       "      <td>1.0</td>\n",
       "      <td>Urban</td>\n",
       "      <td>Y</td>\n",
       "    </tr>\n",
       "    <tr>\n",
       "      <th>1</th>\n",
       "      <td>LP001003</td>\n",
       "      <td>Male</td>\n",
       "      <td>Yes</td>\n",
       "      <td>1</td>\n",
       "      <td>Graduate</td>\n",
       "      <td>No</td>\n",
       "      <td>4583</td>\n",
       "      <td>1508.0</td>\n",
       "      <td>128.0</td>\n",
       "      <td>360.0</td>\n",
       "      <td>1.0</td>\n",
       "      <td>Rural</td>\n",
       "      <td>N</td>\n",
       "    </tr>\n",
       "    <tr>\n",
       "      <th>2</th>\n",
       "      <td>LP001005</td>\n",
       "      <td>Male</td>\n",
       "      <td>Yes</td>\n",
       "      <td>0</td>\n",
       "      <td>Graduate</td>\n",
       "      <td>Yes</td>\n",
       "      <td>3000</td>\n",
       "      <td>0.0</td>\n",
       "      <td>66.0</td>\n",
       "      <td>360.0</td>\n",
       "      <td>1.0</td>\n",
       "      <td>Urban</td>\n",
       "      <td>Y</td>\n",
       "    </tr>\n",
       "    <tr>\n",
       "      <th>3</th>\n",
       "      <td>LP001006</td>\n",
       "      <td>Male</td>\n",
       "      <td>Yes</td>\n",
       "      <td>0</td>\n",
       "      <td>Not Graduate</td>\n",
       "      <td>No</td>\n",
       "      <td>2583</td>\n",
       "      <td>2358.0</td>\n",
       "      <td>120.0</td>\n",
       "      <td>360.0</td>\n",
       "      <td>1.0</td>\n",
       "      <td>Urban</td>\n",
       "      <td>Y</td>\n",
       "    </tr>\n",
       "    <tr>\n",
       "      <th>4</th>\n",
       "      <td>LP001008</td>\n",
       "      <td>Male</td>\n",
       "      <td>No</td>\n",
       "      <td>0</td>\n",
       "      <td>Graduate</td>\n",
       "      <td>No</td>\n",
       "      <td>6000</td>\n",
       "      <td>0.0</td>\n",
       "      <td>141.0</td>\n",
       "      <td>360.0</td>\n",
       "      <td>1.0</td>\n",
       "      <td>Urban</td>\n",
       "      <td>Y</td>\n",
       "    </tr>\n",
       "  </tbody>\n",
       "</table>\n",
       "</div>"
      ],
      "text/plain": [
       "    Loan_ID Gender Married Dependents     Education Self_Employed  \\\n",
       "0  LP001002   Male      No          0      Graduate            No   \n",
       "1  LP001003   Male     Yes          1      Graduate            No   \n",
       "2  LP001005   Male     Yes          0      Graduate           Yes   \n",
       "3  LP001006   Male     Yes          0  Not Graduate            No   \n",
       "4  LP001008   Male      No          0      Graduate            No   \n",
       "\n",
       "   ApplicantIncome  CoapplicantIncome  LoanAmount  Loan_Amount_Term  \\\n",
       "0             5849                0.0         NaN             360.0   \n",
       "1             4583             1508.0       128.0             360.0   \n",
       "2             3000                0.0        66.0             360.0   \n",
       "3             2583             2358.0       120.0             360.0   \n",
       "4             6000                0.0       141.0             360.0   \n",
       "\n",
       "   Credit_History Property_Area Loan_Status  \n",
       "0             1.0         Urban           Y  \n",
       "1             1.0         Rural           N  \n",
       "2             1.0         Urban           Y  \n",
       "3             1.0         Urban           Y  \n",
       "4             1.0         Urban           Y  "
      ]
     },
     "execution_count": 2,
     "metadata": {},
     "output_type": "execute_result"
    }
   ],
   "source": [
    "loan = pd.read_csv(\"C:\\\\Users\\\\DHRUBAJIT\\\\Desktop\\\\AnalyticsVidhya\\\\Loan Prediction 3\\\\train.csv\")\n",
    "loan.head()"
   ]
  },
  {
   "cell_type": "code",
   "execution_count": 3,
   "metadata": {
    "collapsed": true
   },
   "outputs": [],
   "source": [
    "#getting a copy of the dataset and adding a new column \"count\" = 1\n",
    "loan1 = loan.copy()\n",
    "loan1['count'] = 1"
   ]
  },
  {
   "cell_type": "markdown",
   "metadata": {},
   "source": [
    "### Univariate Analysis"
   ]
  },
  {
   "cell_type": "markdown",
   "metadata": {},
   "source": [
    "### Numerical\n",
    "#### 1. Applicant Income"
   ]
  },
  {
   "cell_type": "code",
   "execution_count": 4,
   "metadata": {
    "collapsed": false
   },
   "outputs": [
    {
     "name": "stdout",
     "output_type": "stream",
     "text": [
      "count      614.000000\n",
      "mean      5403.459283\n",
      "std       6109.041673\n",
      "min        150.000000\n",
      "25%       2877.500000\n",
      "50%       3812.500000\n",
      "75%       5795.000000\n",
      "max      81000.000000\n",
      "Name: ApplicantIncome, dtype: float64\n"
     ]
    },
    {
     "data": {
      "text/plain": [
       "<matplotlib.axes._subplots.AxesSubplot at 0x28bd606e48>"
      ]
     },
     "execution_count": 4,
     "metadata": {},
     "output_type": "execute_result"
    },
    {
     "data": {
      "image/png": "[encoded data removed]",
      "text/plain": [
       "<matplotlib.figure.Figure at 0x28bd58a6a0>"
      ]
     },
     "metadata": {},
     "output_type": "display_data"
    }
   ],
   "source": [
    "print(loan1.ApplicantIncome.describe())\n",
    "\n",
    "plt.figure(figsize=[12,4])\n",
    "plt.subplot(121)\n",
    "loan1.boxplot(column='ApplicantIncome')\n",
    "\n",
    "plt.subplot(122)\n",
    "loan1['ApplicantIncome'].hist()"
   ]
  },
  {
   "cell_type": "markdown",
   "metadata": {},
   "source": [
    "mean = 5403, standard deviation = 6109.\n",
    "\n",
    "The std is too much, due to the presence of extreme outliers as seen in the boxplot and the histogram.\n",
    "\n",
    "75% of the Income lies within 5800.\n",
    "\n",
    "As we can see from the boxplot, few points are beyond 30,000. Lets find their z-score:"
   ]
  },
  {
   "cell_type": "code",
   "execution_count": 5,
   "metadata": {
    "collapsed": false
   },
   "outputs": [
    {
     "data": {
      "text/html": [
       "<div>\n",
       "<table border=\"1\" class=\"dataframe\">\n",
       "  <thead>\n",
       "    <tr style=\"text-align: right;\">\n",
       "      <th></th>\n",
       "      <th>Loan_ID</th>\n",
       "      <th>Gender</th>\n",
       "      <th>Married</th>\n",
       "      <th>Dependents</th>\n",
       "      <th>Education</th>\n",
       "      <th>Self_Employed</th>\n",
       "      <th>ApplicantIncome</th>\n",
       "      <th>CoapplicantIncome</th>\n",
       "      <th>LoanAmount</th>\n",
       "      <th>Loan_Amount_Term</th>\n",
       "      <th>Credit_History</th>\n",
       "      <th>Property_Area</th>\n",
       "      <th>Loan_Status</th>\n",
       "      <th>count</th>\n",
       "    </tr>\n",
       "  </thead>\n",
       "  <tbody>\n",
       "    <tr>\n",
       "      <th>155</th>\n",
       "      <td>LP001536</td>\n",
       "      <td>Male</td>\n",
       "      <td>Yes</td>\n",
       "      <td>3+</td>\n",
       "      <td>Graduate</td>\n",
       "      <td>No</td>\n",
       "      <td>39999</td>\n",
       "      <td>0.0</td>\n",
       "      <td>600.0</td>\n",
       "      <td>180.0</td>\n",
       "      <td>0.0</td>\n",
       "      <td>Semiurban</td>\n",
       "      <td>Y</td>\n",
       "      <td>1</td>\n",
       "    </tr>\n",
       "    <tr>\n",
       "      <th>171</th>\n",
       "      <td>LP001585</td>\n",
       "      <td>NaN</td>\n",
       "      <td>Yes</td>\n",
       "      <td>3+</td>\n",
       "      <td>Graduate</td>\n",
       "      <td>No</td>\n",
       "      <td>51763</td>\n",
       "      <td>0.0</td>\n",
       "      <td>700.0</td>\n",
       "      <td>300.0</td>\n",
       "      <td>1.0</td>\n",
       "      <td>Urban</td>\n",
       "      <td>Y</td>\n",
       "      <td>1</td>\n",
       "    </tr>\n",
       "    <tr>\n",
       "      <th>183</th>\n",
       "      <td>LP001637</td>\n",
       "      <td>Male</td>\n",
       "      <td>Yes</td>\n",
       "      <td>1</td>\n",
       "      <td>Graduate</td>\n",
       "      <td>No</td>\n",
       "      <td>33846</td>\n",
       "      <td>0.0</td>\n",
       "      <td>260.0</td>\n",
       "      <td>360.0</td>\n",
       "      <td>1.0</td>\n",
       "      <td>Semiurban</td>\n",
       "      <td>N</td>\n",
       "      <td>1</td>\n",
       "    </tr>\n",
       "    <tr>\n",
       "      <th>185</th>\n",
       "      <td>LP001640</td>\n",
       "      <td>Male</td>\n",
       "      <td>Yes</td>\n",
       "      <td>0</td>\n",
       "      <td>Graduate</td>\n",
       "      <td>Yes</td>\n",
       "      <td>39147</td>\n",
       "      <td>4750.0</td>\n",
       "      <td>120.0</td>\n",
       "      <td>360.0</td>\n",
       "      <td>1.0</td>\n",
       "      <td>Semiurban</td>\n",
       "      <td>Y</td>\n",
       "      <td>1</td>\n",
       "    </tr>\n",
       "    <tr>\n",
       "      <th>333</th>\n",
       "      <td>LP002101</td>\n",
       "      <td>Male</td>\n",
       "      <td>Yes</td>\n",
       "      <td>0</td>\n",
       "      <td>Graduate</td>\n",
       "      <td>NaN</td>\n",
       "      <td>63337</td>\n",
       "      <td>0.0</td>\n",
       "      <td>490.0</td>\n",
       "      <td>180.0</td>\n",
       "      <td>1.0</td>\n",
       "      <td>Urban</td>\n",
       "      <td>Y</td>\n",
       "      <td>1</td>\n",
       "    </tr>\n",
       "    <tr>\n",
       "      <th>409</th>\n",
       "      <td>LP002317</td>\n",
       "      <td>Male</td>\n",
       "      <td>Yes</td>\n",
       "      <td>3+</td>\n",
       "      <td>Graduate</td>\n",
       "      <td>No</td>\n",
       "      <td>81000</td>\n",
       "      <td>0.0</td>\n",
       "      <td>360.0</td>\n",
       "      <td>360.0</td>\n",
       "      <td>0.0</td>\n",
       "      <td>Rural</td>\n",
       "      <td>N</td>\n",
       "      <td>1</td>\n",
       "    </tr>\n",
       "    <tr>\n",
       "      <th>443</th>\n",
       "      <td>LP002422</td>\n",
       "      <td>Male</td>\n",
       "      <td>No</td>\n",
       "      <td>1</td>\n",
       "      <td>Graduate</td>\n",
       "      <td>No</td>\n",
       "      <td>37719</td>\n",
       "      <td>0.0</td>\n",
       "      <td>152.0</td>\n",
       "      <td>360.0</td>\n",
       "      <td>1.0</td>\n",
       "      <td>Semiurban</td>\n",
       "      <td>Y</td>\n",
       "      <td>1</td>\n",
       "    </tr>\n",
       "  </tbody>\n",
       "</table>\n",
       "</div>"
      ],
      "text/plain": [
       "      Loan_ID Gender Married Dependents Education Self_Employed  \\\n",
       "155  LP001536   Male     Yes         3+  Graduate            No   \n",
       "171  LP001585    NaN     Yes         3+  Graduate            No   \n",
       "183  LP001637   Male     Yes          1  Graduate            No   \n",
       "185  LP001640   Male     Yes          0  Graduate           Yes   \n",
       "333  LP002101   Male     Yes          0  Graduate           NaN   \n",
       "409  LP002317   Male     Yes         3+  Graduate            No   \n",
       "443  LP002422   Male      No          1  Graduate            No   \n",
       "\n",
       "     ApplicantIncome  CoapplicantIncome  LoanAmount  Loan_Amount_Term  \\\n",
       "155            39999                0.0       600.0             180.0   \n",
       "171            51763                0.0       700.0             300.0   \n",
       "183            33846                0.0       260.0             360.0   \n",
       "185            39147             4750.0       120.0             360.0   \n",
       "333            63337                0.0       490.0             180.0   \n",
       "409            81000                0.0       360.0             360.0   \n",
       "443            37719                0.0       152.0             360.0   \n",
       "\n",
       "     Credit_History Property_Area Loan_Status  count  \n",
       "155             0.0     Semiurban           Y      1  \n",
       "171             1.0         Urban           Y      1  \n",
       "183             1.0     Semiurban           N      1  \n",
       "185             1.0     Semiurban           Y      1  \n",
       "333             1.0         Urban           Y      1  \n",
       "409             0.0         Rural           N      1  \n",
       "443             1.0     Semiurban           Y      1  "
      ]
     },
     "execution_count": 5,
     "metadata": {},
     "output_type": "execute_result"
    }
   ],
   "source": [
    "outlier_income = loan1[loan1['ApplicantIncome'] > 30000]\n",
    "outlier_income"
   ]
  },
  {
   "cell_type": "code",
   "execution_count": 6,
   "metadata": {
    "collapsed": false
   },
   "outputs": [
    {
     "data": {
      "text/html": [
       "<div>\n",
       "<table border=\"1\" class=\"dataframe\">\n",
       "  <thead>\n",
       "    <tr style=\"text-align: right;\">\n",
       "      <th></th>\n",
       "      <th>Applicant_income</th>\n",
       "      <th>ZScore</th>\n",
       "    </tr>\n",
       "  </thead>\n",
       "  <tbody>\n",
       "    <tr>\n",
       "      <th>155</th>\n",
       "      <td>39999</td>\n",
       "      <td>5.663006</td>\n",
       "    </tr>\n",
       "    <tr>\n",
       "      <th>171</th>\n",
       "      <td>51763</td>\n",
       "      <td>7.588676</td>\n",
       "    </tr>\n",
       "    <tr>\n",
       "      <th>183</th>\n",
       "      <td>33846</td>\n",
       "      <td>4.655811</td>\n",
       "    </tr>\n",
       "    <tr>\n",
       "      <th>185</th>\n",
       "      <td>39147</td>\n",
       "      <td>5.523541</td>\n",
       "    </tr>\n",
       "    <tr>\n",
       "      <th>333</th>\n",
       "      <td>63337</td>\n",
       "      <td>9.483245</td>\n",
       "    </tr>\n",
       "    <tr>\n",
       "      <th>409</th>\n",
       "      <td>81000</td>\n",
       "      <td>12.374533</td>\n",
       "    </tr>\n",
       "    <tr>\n",
       "      <th>443</th>\n",
       "      <td>37719</td>\n",
       "      <td>5.289789</td>\n",
       "    </tr>\n",
       "  </tbody>\n",
       "</table>\n",
       "</div>"
      ],
      "text/plain": [
       "     Applicant_income     ZScore\n",
       "155             39999   5.663006\n",
       "171             51763   7.588676\n",
       "183             33846   4.655811\n",
       "185             39147   5.523541\n",
       "333             63337   9.483245\n",
       "409             81000  12.374533\n",
       "443             37719   5.289789"
      ]
     },
     "execution_count": 6,
     "metadata": {},
     "output_type": "execute_result"
    }
   ],
   "source": [
    "outliers_df = outlier_income.ApplicantIncome\n",
    "score = []\n",
    "for i in outliers_df:\n",
    "    zscore = (i - 5403.459283)/(6109.041673)\n",
    "    score.append(zscore)\n",
    "\n",
    "applicantincome_score = pd.DataFrame({'Applicant_income': outlier_income.ApplicantIncome,\n",
    "                                     'ZScore': score})\n",
    "applicantincome_score"
   ]
  },
  {
   "cell_type": "markdown",
   "metadata": {},
   "source": [
    "These incomes are beyond 4 standard deviations from the mean. The highest point (i.e. 81000 income) is 12 standard deviations away.\n",
    "\n",
    "We can call these points as extreme outliers and can be deleted for our model."
   ]
  },
  {
   "cell_type": "raw",
   "metadata": {},
   "source": []
  },
  {
   "cell_type": "markdown",
   "metadata": {},
   "source": [
    "#### 2. Co-Applicant Income "
   ]
  },
  {
   "cell_type": "code",
   "execution_count": 7,
   "metadata": {
    "collapsed": false
   },
   "outputs": [
    {
     "name": "stdout",
     "output_type": "stream",
     "text": [
      "count      614.000000\n",
      "mean      1621.245798\n",
      "std       2926.248369\n",
      "min          0.000000\n",
      "25%          0.000000\n",
      "50%       1188.500000\n",
      "75%       2297.250000\n",
      "max      41667.000000\n",
      "Name: CoapplicantIncome, dtype: float64\n"
     ]
    },
    {
     "data": {
      "text/plain": [
       "<matplotlib.axes._subplots.AxesSubplot at 0x28bd6b3be0>"
      ]
     },
     "execution_count": 7,
     "metadata": {},
     "output_type": "execute_result"
    },
    {
     "data": {
      "image/png": "[encoded data removed]",
      "text/plain": [
       "<matplotlib.figure.Figure at 0x28bd8d6cc0>"
      ]
     },
     "metadata": {},
     "output_type": "display_data"
    }
   ],
   "source": [
    "print(loan1.CoapplicantIncome.describe())\n",
    "\n",
    "plt.figure(figsize=[12,4])\n",
    "plt.subplot(121)\n",
    "loan1.boxplot(column='CoapplicantIncome')\n",
    "\n",
    "plt.subplot(122)\n",
    "loan1['CoapplicantIncome'].hist()"
   ]
  },
  {
   "cell_type": "markdown",
   "metadata": {},
   "source": [
    "mean = 1621, standard deviation = 2926.\n",
    "\n",
    "The std of this column is too much, due to the presence of extreme outliers.\n",
    "\n",
    "75% of the data lies within 2300.\n",
    "\n",
    "Lets check the points which are beyond 10,000."
   ]
  },
  {
   "cell_type": "code",
   "execution_count": 8,
   "metadata": {
    "collapsed": false
   },
   "outputs": [
    {
     "data": {
      "text/html": [
       "<div>\n",
       "<table border=\"1\" class=\"dataframe\">\n",
       "  <thead>\n",
       "    <tr style=\"text-align: right;\">\n",
       "      <th></th>\n",
       "      <th>Loan_ID</th>\n",
       "      <th>Gender</th>\n",
       "      <th>Married</th>\n",
       "      <th>Dependents</th>\n",
       "      <th>Education</th>\n",
       "      <th>Self_Employed</th>\n",
       "      <th>ApplicantIncome</th>\n",
       "      <th>CoapplicantIncome</th>\n",
       "      <th>LoanAmount</th>\n",
       "      <th>Loan_Amount_Term</th>\n",
       "      <th>Credit_History</th>\n",
       "      <th>Property_Area</th>\n",
       "      <th>Loan_Status</th>\n",
       "      <th>count</th>\n",
       "    </tr>\n",
       "  </thead>\n",
       "  <tbody>\n",
       "    <tr>\n",
       "      <th>9</th>\n",
       "      <td>LP001020</td>\n",
       "      <td>Male</td>\n",
       "      <td>Yes</td>\n",
       "      <td>1</td>\n",
       "      <td>Graduate</td>\n",
       "      <td>No</td>\n",
       "      <td>12841</td>\n",
       "      <td>10968.0</td>\n",
       "      <td>349.0</td>\n",
       "      <td>360.0</td>\n",
       "      <td>1.0</td>\n",
       "      <td>Semiurban</td>\n",
       "      <td>N</td>\n",
       "      <td>1</td>\n",
       "    </tr>\n",
       "    <tr>\n",
       "      <th>177</th>\n",
       "      <td>LP001610</td>\n",
       "      <td>Male</td>\n",
       "      <td>Yes</td>\n",
       "      <td>3+</td>\n",
       "      <td>Graduate</td>\n",
       "      <td>No</td>\n",
       "      <td>5516</td>\n",
       "      <td>11300.0</td>\n",
       "      <td>495.0</td>\n",
       "      <td>360.0</td>\n",
       "      <td>0.0</td>\n",
       "      <td>Semiurban</td>\n",
       "      <td>N</td>\n",
       "      <td>1</td>\n",
       "    </tr>\n",
       "    <tr>\n",
       "      <th>402</th>\n",
       "      <td>LP002297</td>\n",
       "      <td>Male</td>\n",
       "      <td>No</td>\n",
       "      <td>0</td>\n",
       "      <td>Graduate</td>\n",
       "      <td>No</td>\n",
       "      <td>2500</td>\n",
       "      <td>20000.0</td>\n",
       "      <td>103.0</td>\n",
       "      <td>360.0</td>\n",
       "      <td>1.0</td>\n",
       "      <td>Semiurban</td>\n",
       "      <td>Y</td>\n",
       "      <td>1</td>\n",
       "    </tr>\n",
       "    <tr>\n",
       "      <th>417</th>\n",
       "      <td>LP002342</td>\n",
       "      <td>Male</td>\n",
       "      <td>Yes</td>\n",
       "      <td>2</td>\n",
       "      <td>Graduate</td>\n",
       "      <td>Yes</td>\n",
       "      <td>1600</td>\n",
       "      <td>20000.0</td>\n",
       "      <td>239.0</td>\n",
       "      <td>360.0</td>\n",
       "      <td>1.0</td>\n",
       "      <td>Urban</td>\n",
       "      <td>N</td>\n",
       "      <td>1</td>\n",
       "    </tr>\n",
       "    <tr>\n",
       "      <th>581</th>\n",
       "      <td>LP002893</td>\n",
       "      <td>Male</td>\n",
       "      <td>No</td>\n",
       "      <td>0</td>\n",
       "      <td>Graduate</td>\n",
       "      <td>No</td>\n",
       "      <td>1836</td>\n",
       "      <td>33837.0</td>\n",
       "      <td>90.0</td>\n",
       "      <td>360.0</td>\n",
       "      <td>1.0</td>\n",
       "      <td>Urban</td>\n",
       "      <td>N</td>\n",
       "      <td>1</td>\n",
       "    </tr>\n",
       "    <tr>\n",
       "      <th>600</th>\n",
       "      <td>LP002949</td>\n",
       "      <td>Female</td>\n",
       "      <td>No</td>\n",
       "      <td>3+</td>\n",
       "      <td>Graduate</td>\n",
       "      <td>NaN</td>\n",
       "      <td>416</td>\n",
       "      <td>41667.0</td>\n",
       "      <td>350.0</td>\n",
       "      <td>180.0</td>\n",
       "      <td>NaN</td>\n",
       "      <td>Urban</td>\n",
       "      <td>N</td>\n",
       "      <td>1</td>\n",
       "    </tr>\n",
       "  </tbody>\n",
       "</table>\n",
       "</div>"
      ],
      "text/plain": [
       "      Loan_ID  Gender Married Dependents Education Self_Employed  \\\n",
       "9    LP001020    Male     Yes          1  Graduate            No   \n",
       "177  LP001610    Male     Yes         3+  Graduate            No   \n",
       "402  LP002297    Male      No          0  Graduate            No   \n",
       "417  LP002342    Male     Yes          2  Graduate           Yes   \n",
       "581  LP002893    Male      No          0  Graduate            No   \n",
       "600  LP002949  Female      No         3+  Graduate           NaN   \n",
       "\n",
       "     ApplicantIncome  CoapplicantIncome  LoanAmount  Loan_Amount_Term  \\\n",
       "9              12841            10968.0       349.0             360.0   \n",
       "177             5516            11300.0       495.0             360.0   \n",
       "402             2500            20000.0       103.0             360.0   \n",
       "417             1600            20000.0       239.0             360.0   \n",
       "581             1836            33837.0        90.0             360.0   \n",
       "600              416            41667.0       350.0             180.0   \n",
       "\n",
       "     Credit_History Property_Area Loan_Status  count  \n",
       "9               1.0     Semiurban           N      1  \n",
       "177             0.0     Semiurban           N      1  \n",
       "402             1.0     Semiurban           Y      1  \n",
       "417             1.0         Urban           N      1  \n",
       "581             1.0         Urban           N      1  \n",
       "600             NaN         Urban           N      1  "
      ]
     },
     "execution_count": 8,
     "metadata": {},
     "output_type": "execute_result"
    }
   ],
   "source": [
    "outlier_income1 = loan1[loan1['CoapplicantIncome'] > 10000]\n",
    "outlier_income1"
   ]
  },
  {
   "cell_type": "code",
   "execution_count": 9,
   "metadata": {
    "collapsed": false
   },
   "outputs": [
    {
     "data": {
      "text/html": [
       "<div>\n",
       "<table border=\"1\" class=\"dataframe\">\n",
       "  <thead>\n",
       "    <tr style=\"text-align: right;\">\n",
       "      <th></th>\n",
       "      <th>Coapplicant_income</th>\n",
       "      <th>ZScore</th>\n",
       "    </tr>\n",
       "  </thead>\n",
       "  <tbody>\n",
       "    <tr>\n",
       "      <th>9</th>\n",
       "      <td>10968.0</td>\n",
       "      <td>3.194108</td>\n",
       "    </tr>\n",
       "    <tr>\n",
       "      <th>177</th>\n",
       "      <td>11300.0</td>\n",
       "      <td>3.307564</td>\n",
       "    </tr>\n",
       "    <tr>\n",
       "      <th>402</th>\n",
       "      <td>20000.0</td>\n",
       "      <td>6.280654</td>\n",
       "    </tr>\n",
       "    <tr>\n",
       "      <th>417</th>\n",
       "      <td>20000.0</td>\n",
       "      <td>6.280654</td>\n",
       "    </tr>\n",
       "    <tr>\n",
       "      <th>581</th>\n",
       "      <td>33837.0</td>\n",
       "      <td>11.009234</td>\n",
       "    </tr>\n",
       "    <tr>\n",
       "      <th>600</th>\n",
       "      <td>41667.0</td>\n",
       "      <td>13.685015</td>\n",
       "    </tr>\n",
       "  </tbody>\n",
       "</table>\n",
       "</div>"
      ],
      "text/plain": [
       "     Coapplicant_income     ZScore\n",
       "9               10968.0   3.194108\n",
       "177             11300.0   3.307564\n",
       "402             20000.0   6.280654\n",
       "417             20000.0   6.280654\n",
       "581             33837.0  11.009234\n",
       "600             41667.0  13.685015"
      ]
     },
     "execution_count": 9,
     "metadata": {},
     "output_type": "execute_result"
    }
   ],
   "source": [
    "outliers_df1 = outlier_income1.CoapplicantIncome\n",
    "score = []\n",
    "for i in outliers_df1:\n",
    "    zscore = (i - 1621.245798)/(2926.248369)\n",
    "    score.append(zscore)\n",
    "\n",
    "applicantincome_score1 = pd.DataFrame({'Coapplicant_income': outlier_income1.CoapplicantIncome,\n",
    "                                     'ZScore': score})\n",
    "applicantincome_score1"
   ]
  },
  {
   "cell_type": "markdown",
   "metadata": {},
   "source": [
    "The first 2 points are slightly above 3 standard deviations from the mean. They can be kept in our model.\n",
    "\n",
    "But the rest of them are much farther away, above 6 std."
   ]
  },
  {
   "cell_type": "code",
   "execution_count": null,
   "metadata": {
    "collapsed": true
   },
   "outputs": [],
   "source": []
  },
  {
   "cell_type": "markdown",
   "metadata": {},
   "source": [
    "#### 3. Loan Amount"
   ]
  },
  {
   "cell_type": "code",
   "execution_count": 10,
   "metadata": {
    "collapsed": false
   },
   "outputs": [
    {
     "name": "stdout",
     "output_type": "stream",
     "text": [
      "count    592.000000\n",
      "mean     146.412162\n",
      "std       85.587325\n",
      "min        9.000000\n",
      "25%      100.000000\n",
      "50%      128.000000\n",
      "75%      168.000000\n",
      "max      700.000000\n",
      "Name: LoanAmount, dtype: float64\n"
     ]
    },
    {
     "data": {
      "text/plain": [
       "<matplotlib.axes._subplots.AxesSubplot at 0x28bd7a5c18>"
      ]
     },
     "execution_count": 10,
     "metadata": {},
     "output_type": "execute_result"
    },
    {
     "data": {
      "image/png": "[encoded data removed]",
      "text/plain": [
       "<matplotlib.figure.Figure at 0x28bd72ed68>"
      ]
     },
     "metadata": {},
     "output_type": "display_data"
    }
   ],
   "source": [
    "print(loan1.LoanAmount.describe())\n",
    "\n",
    "plt.figure(figsize=[12,4])\n",
    "plt.subplot(121)\n",
    "loan1.boxplot(column='LoanAmount')\n",
    "\n",
    "plt.subplot(122)\n",
    "loan1['LoanAmount'].hist()"
   ]
  },
  {
   "cell_type": "markdown",
   "metadata": {},
   "source": [
    "mean = 146, std = 86.\n",
    "\n",
    "This distribution is positively skewed.\n",
    "\n",
    "From the histogram, i can say that 90% of the data falls under 450. Lets calculate the z-score for those points beyond 450."
   ]
  },
  {
   "cell_type": "code",
   "execution_count": 11,
   "metadata": {
    "collapsed": false
   },
   "outputs": [
    {
     "data": {
      "text/html": [
       "<div>\n",
       "<table border=\"1\" class=\"dataframe\">\n",
       "  <thead>\n",
       "    <tr style=\"text-align: right;\">\n",
       "      <th></th>\n",
       "      <th>Loan_ID</th>\n",
       "      <th>Gender</th>\n",
       "      <th>Married</th>\n",
       "      <th>Dependents</th>\n",
       "      <th>Education</th>\n",
       "      <th>Self_Employed</th>\n",
       "      <th>ApplicantIncome</th>\n",
       "      <th>CoapplicantIncome</th>\n",
       "      <th>LoanAmount</th>\n",
       "      <th>Loan_Amount_Term</th>\n",
       "      <th>Credit_History</th>\n",
       "      <th>Property_Area</th>\n",
       "      <th>Loan_Status</th>\n",
       "      <th>count</th>\n",
       "    </tr>\n",
       "  </thead>\n",
       "  <tbody>\n",
       "    <tr>\n",
       "      <th>130</th>\n",
       "      <td>LP001469</td>\n",
       "      <td>Male</td>\n",
       "      <td>No</td>\n",
       "      <td>0</td>\n",
       "      <td>Graduate</td>\n",
       "      <td>Yes</td>\n",
       "      <td>20166</td>\n",
       "      <td>0.0</td>\n",
       "      <td>650.0</td>\n",
       "      <td>480.0</td>\n",
       "      <td>NaN</td>\n",
       "      <td>Urban</td>\n",
       "      <td>Y</td>\n",
       "      <td>1</td>\n",
       "    </tr>\n",
       "    <tr>\n",
       "      <th>155</th>\n",
       "      <td>LP001536</td>\n",
       "      <td>Male</td>\n",
       "      <td>Yes</td>\n",
       "      <td>3+</td>\n",
       "      <td>Graduate</td>\n",
       "      <td>No</td>\n",
       "      <td>39999</td>\n",
       "      <td>0.0</td>\n",
       "      <td>600.0</td>\n",
       "      <td>180.0</td>\n",
       "      <td>0.0</td>\n",
       "      <td>Semiurban</td>\n",
       "      <td>Y</td>\n",
       "      <td>1</td>\n",
       "    </tr>\n",
       "    <tr>\n",
       "      <th>171</th>\n",
       "      <td>LP001585</td>\n",
       "      <td>NaN</td>\n",
       "      <td>Yes</td>\n",
       "      <td>3+</td>\n",
       "      <td>Graduate</td>\n",
       "      <td>No</td>\n",
       "      <td>51763</td>\n",
       "      <td>0.0</td>\n",
       "      <td>700.0</td>\n",
       "      <td>300.0</td>\n",
       "      <td>1.0</td>\n",
       "      <td>Urban</td>\n",
       "      <td>Y</td>\n",
       "      <td>1</td>\n",
       "    </tr>\n",
       "    <tr>\n",
       "      <th>177</th>\n",
       "      <td>LP001610</td>\n",
       "      <td>Male</td>\n",
       "      <td>Yes</td>\n",
       "      <td>3+</td>\n",
       "      <td>Graduate</td>\n",
       "      <td>No</td>\n",
       "      <td>5516</td>\n",
       "      <td>11300.0</td>\n",
       "      <td>495.0</td>\n",
       "      <td>360.0</td>\n",
       "      <td>0.0</td>\n",
       "      <td>Semiurban</td>\n",
       "      <td>N</td>\n",
       "      <td>1</td>\n",
       "    </tr>\n",
       "    <tr>\n",
       "      <th>308</th>\n",
       "      <td>LP001996</td>\n",
       "      <td>Male</td>\n",
       "      <td>No</td>\n",
       "      <td>0</td>\n",
       "      <td>Graduate</td>\n",
       "      <td>No</td>\n",
       "      <td>20233</td>\n",
       "      <td>0.0</td>\n",
       "      <td>480.0</td>\n",
       "      <td>360.0</td>\n",
       "      <td>1.0</td>\n",
       "      <td>Rural</td>\n",
       "      <td>N</td>\n",
       "      <td>1</td>\n",
       "    </tr>\n",
       "    <tr>\n",
       "      <th>333</th>\n",
       "      <td>LP002101</td>\n",
       "      <td>Male</td>\n",
       "      <td>Yes</td>\n",
       "      <td>0</td>\n",
       "      <td>Graduate</td>\n",
       "      <td>NaN</td>\n",
       "      <td>63337</td>\n",
       "      <td>0.0</td>\n",
       "      <td>490.0</td>\n",
       "      <td>180.0</td>\n",
       "      <td>1.0</td>\n",
       "      <td>Urban</td>\n",
       "      <td>Y</td>\n",
       "      <td>1</td>\n",
       "    </tr>\n",
       "    <tr>\n",
       "      <th>369</th>\n",
       "      <td>LP002191</td>\n",
       "      <td>Male</td>\n",
       "      <td>Yes</td>\n",
       "      <td>0</td>\n",
       "      <td>Graduate</td>\n",
       "      <td>No</td>\n",
       "      <td>19730</td>\n",
       "      <td>5266.0</td>\n",
       "      <td>570.0</td>\n",
       "      <td>360.0</td>\n",
       "      <td>1.0</td>\n",
       "      <td>Rural</td>\n",
       "      <td>N</td>\n",
       "      <td>1</td>\n",
       "    </tr>\n",
       "    <tr>\n",
       "      <th>487</th>\n",
       "      <td>LP002547</td>\n",
       "      <td>Male</td>\n",
       "      <td>Yes</td>\n",
       "      <td>1</td>\n",
       "      <td>Graduate</td>\n",
       "      <td>No</td>\n",
       "      <td>18333</td>\n",
       "      <td>0.0</td>\n",
       "      <td>500.0</td>\n",
       "      <td>360.0</td>\n",
       "      <td>1.0</td>\n",
       "      <td>Urban</td>\n",
       "      <td>N</td>\n",
       "      <td>1</td>\n",
       "    </tr>\n",
       "    <tr>\n",
       "      <th>506</th>\n",
       "      <td>LP002624</td>\n",
       "      <td>Male</td>\n",
       "      <td>Yes</td>\n",
       "      <td>0</td>\n",
       "      <td>Graduate</td>\n",
       "      <td>No</td>\n",
       "      <td>20833</td>\n",
       "      <td>6667.0</td>\n",
       "      <td>480.0</td>\n",
       "      <td>360.0</td>\n",
       "      <td>NaN</td>\n",
       "      <td>Urban</td>\n",
       "      <td>Y</td>\n",
       "      <td>1</td>\n",
       "    </tr>\n",
       "    <tr>\n",
       "      <th>523</th>\n",
       "      <td>LP002693</td>\n",
       "      <td>Male</td>\n",
       "      <td>Yes</td>\n",
       "      <td>2</td>\n",
       "      <td>Graduate</td>\n",
       "      <td>Yes</td>\n",
       "      <td>7948</td>\n",
       "      <td>7166.0</td>\n",
       "      <td>480.0</td>\n",
       "      <td>360.0</td>\n",
       "      <td>1.0</td>\n",
       "      <td>Rural</td>\n",
       "      <td>Y</td>\n",
       "      <td>1</td>\n",
       "    </tr>\n",
       "    <tr>\n",
       "      <th>561</th>\n",
       "      <td>LP002813</td>\n",
       "      <td>Female</td>\n",
       "      <td>Yes</td>\n",
       "      <td>1</td>\n",
       "      <td>Graduate</td>\n",
       "      <td>Yes</td>\n",
       "      <td>19484</td>\n",
       "      <td>0.0</td>\n",
       "      <td>600.0</td>\n",
       "      <td>360.0</td>\n",
       "      <td>1.0</td>\n",
       "      <td>Semiurban</td>\n",
       "      <td>Y</td>\n",
       "      <td>1</td>\n",
       "    </tr>\n",
       "    <tr>\n",
       "      <th>604</th>\n",
       "      <td>LP002959</td>\n",
       "      <td>Female</td>\n",
       "      <td>Yes</td>\n",
       "      <td>1</td>\n",
       "      <td>Graduate</td>\n",
       "      <td>No</td>\n",
       "      <td>12000</td>\n",
       "      <td>0.0</td>\n",
       "      <td>496.0</td>\n",
       "      <td>360.0</td>\n",
       "      <td>1.0</td>\n",
       "      <td>Semiurban</td>\n",
       "      <td>Y</td>\n",
       "      <td>1</td>\n",
       "    </tr>\n",
       "  </tbody>\n",
       "</table>\n",
       "</div>"
      ],
      "text/plain": [
       "      Loan_ID  Gender Married Dependents Education Self_Employed  \\\n",
       "130  LP001469    Male      No          0  Graduate           Yes   \n",
       "155  LP001536    Male     Yes         3+  Graduate            No   \n",
       "171  LP001585     NaN     Yes         3+  Graduate            No   \n",
       "177  LP001610    Male     Yes         3+  Graduate            No   \n",
       "308  LP001996    Male      No          0  Graduate            No   \n",
       "333  LP002101    Male     Yes          0  Graduate           NaN   \n",
       "369  LP002191    Male     Yes          0  Graduate            No   \n",
       "487  LP002547    Male     Yes          1  Graduate            No   \n",
       "506  LP002624    Male     Yes          0  Graduate            No   \n",
       "523  LP002693    Male     Yes          2  Graduate           Yes   \n",
       "561  LP002813  Female     Yes          1  Graduate           Yes   \n",
       "604  LP002959  Female     Yes          1  Graduate            No   \n",
       "\n",
       "     ApplicantIncome  CoapplicantIncome  LoanAmount  Loan_Amount_Term  \\\n",
       "130            20166                0.0       650.0             480.0   \n",
       "155            39999                0.0       600.0             180.0   \n",
       "171            51763                0.0       700.0             300.0   \n",
       "177             5516            11300.0       495.0             360.0   \n",
       "308            20233                0.0       480.0             360.0   \n",
       "333            63337                0.0       490.0             180.0   \n",
       "369            19730             5266.0       570.0             360.0   \n",
       "487            18333                0.0       500.0             360.0   \n",
       "506            20833             6667.0       480.0             360.0   \n",
       "523             7948             7166.0       480.0             360.0   \n",
       "561            19484                0.0       600.0             360.0   \n",
       "604            12000                0.0       496.0             360.0   \n",
       "\n",
       "     Credit_History Property_Area Loan_Status  count  \n",
       "130             NaN         Urban           Y      1  \n",
       "155             0.0     Semiurban           Y      1  \n",
       "171             1.0         Urban           Y      1  \n",
       "177             0.0     Semiurban           N      1  \n",
       "308             1.0         Rural           N      1  \n",
       "333             1.0         Urban           Y      1  \n",
       "369             1.0         Rural           N      1  \n",
       "487             1.0         Urban           N      1  \n",
       "506             NaN         Urban           Y      1  \n",
       "523             1.0         Rural           Y      1  \n",
       "561             1.0     Semiurban           Y      1  \n",
       "604             1.0     Semiurban           Y      1  "
      ]
     },
     "execution_count": 11,
     "metadata": {},
     "output_type": "execute_result"
    }
   ],
   "source": [
    "outlier_income2 = loan1[loan1['LoanAmount'] > 450]\n",
    "outlier_income2"
   ]
  },
  {
   "cell_type": "code",
   "execution_count": 12,
   "metadata": {
    "collapsed": false
   },
   "outputs": [
    {
     "data": {
      "text/html": [
       "<div>\n",
       "<table border=\"1\" class=\"dataframe\">\n",
       "  <thead>\n",
       "    <tr style=\"text-align: right;\">\n",
       "      <th></th>\n",
       "      <th>Loan_Amount</th>\n",
       "      <th>ZScore</th>\n",
       "    </tr>\n",
       "  </thead>\n",
       "  <tbody>\n",
       "    <tr>\n",
       "      <th>130</th>\n",
       "      <td>650.0</td>\n",
       "      <td>5.883907</td>\n",
       "    </tr>\n",
       "    <tr>\n",
       "      <th>155</th>\n",
       "      <td>600.0</td>\n",
       "      <td>5.299708</td>\n",
       "    </tr>\n",
       "    <tr>\n",
       "      <th>171</th>\n",
       "      <td>700.0</td>\n",
       "      <td>6.468105</td>\n",
       "    </tr>\n",
       "    <tr>\n",
       "      <th>177</th>\n",
       "      <td>495.0</td>\n",
       "      <td>4.072891</td>\n",
       "    </tr>\n",
       "    <tr>\n",
       "      <th>308</th>\n",
       "      <td>480.0</td>\n",
       "      <td>3.897631</td>\n",
       "    </tr>\n",
       "    <tr>\n",
       "      <th>333</th>\n",
       "      <td>490.0</td>\n",
       "      <td>4.014471</td>\n",
       "    </tr>\n",
       "    <tr>\n",
       "      <th>369</th>\n",
       "      <td>570.0</td>\n",
       "      <td>4.949189</td>\n",
       "    </tr>\n",
       "    <tr>\n",
       "      <th>487</th>\n",
       "      <td>500.0</td>\n",
       "      <td>4.131311</td>\n",
       "    </tr>\n",
       "    <tr>\n",
       "      <th>506</th>\n",
       "      <td>480.0</td>\n",
       "      <td>3.897631</td>\n",
       "    </tr>\n",
       "    <tr>\n",
       "      <th>523</th>\n",
       "      <td>480.0</td>\n",
       "      <td>3.897631</td>\n",
       "    </tr>\n",
       "    <tr>\n",
       "      <th>561</th>\n",
       "      <td>600.0</td>\n",
       "      <td>5.299708</td>\n",
       "    </tr>\n",
       "    <tr>\n",
       "      <th>604</th>\n",
       "      <td>496.0</td>\n",
       "      <td>4.084575</td>\n",
       "    </tr>\n",
       "  </tbody>\n",
       "</table>\n",
       "</div>"
      ],
      "text/plain": [
       "     Loan_Amount    ZScore\n",
       "130        650.0  5.883907\n",
       "155        600.0  5.299708\n",
       "171        700.0  6.468105\n",
       "177        495.0  4.072891\n",
       "308        480.0  3.897631\n",
       "333        490.0  4.014471\n",
       "369        570.0  4.949189\n",
       "487        500.0  4.131311\n",
       "506        480.0  3.897631\n",
       "523        480.0  3.897631\n",
       "561        600.0  5.299708\n",
       "604        496.0  4.084575"
      ]
     },
     "execution_count": 12,
     "metadata": {},
     "output_type": "execute_result"
    }
   ],
   "source": [
    "outliers_df2 = outlier_income2.LoanAmount\n",
    "score = []\n",
    "for i in outliers_df2:\n",
    "    zscore = (i - 146.412162)/(85.587325)\n",
    "    score.append(zscore)\n",
    "\n",
    "applicantincome_score2 = pd.DataFrame({'Loan_Amount': outlier_income2.LoanAmount,\n",
    "                                     'ZScore': score})\n",
    "applicantincome_score2"
   ]
  },
  {
   "cell_type": "markdown",
   "metadata": {},
   "source": [
    "Yes, these are extreme outliers with standard deviations > 3."
   ]
  },
  {
   "cell_type": "raw",
   "metadata": {},
   "source": []
  },
  {
   "cell_type": "markdown",
   "metadata": {},
   "source": [
    "### Categorical\n",
    "#### 1. Gender"
   ]
  },
  {
   "cell_type": "code",
   "execution_count": 13,
   "metadata": {
    "collapsed": false
   },
   "outputs": [
    {
     "data": {
      "text/plain": [
       "<matplotlib.text.Text at 0x28bde53160>"
      ]
     },
     "execution_count": 13,
     "metadata": {},
     "output_type": "execute_result"
    },
    {
     "data": {
      "image/png": "[encoded data removed]",
      "text/plain": [
       "<matplotlib.figure.Figure at 0x28bd708ba8>"
      ]
     },
     "metadata": {},
     "output_type": "display_data"
    }
   ],
   "source": [
    "gender_count = loan1[['Gender','count']].groupby('Gender').sum()\n",
    "gender_percent = gender_count.apply(lambda x: x/x.sum())\n",
    "\n",
    "gender_percent.plot(kind='bar', color='blue', alpha=0.4, rot=0, legend=False, figsize=[6,4], grid=True)\n",
    "plt.ylabel(\"Percentage\")\n",
    "plt.title(\"Gender Percentages\")"
   ]
  },
  {
   "cell_type": "markdown",
   "metadata": {},
   "source": [
    "#### 2. Married"
   ]
  },
  {
   "cell_type": "code",
   "execution_count": 14,
   "metadata": {
    "collapsed": false
   },
   "outputs": [
    {
     "data": {
      "text/plain": [
       "<matplotlib.text.Text at 0x28bdb1e198>"
      ]
     },
     "execution_count": 14,
     "metadata": {},
     "output_type": "execute_result"
    },
    {
     "data": {
      "image/png": "[encoded data removed]",
      "text/plain": [
       "<matplotlib.figure.Figure at 0x28bdad7588>"
      ]
     },
     "metadata": {},
     "output_type": "display_data"
    }
   ],
   "source": [
    "marr_count = loan1[['Married','count']].groupby('Married').sum()\n",
    "marr_percent = marr_count.apply(lambda x: x/x.sum())\n",
    "\n",
    "marr_percent.plot(kind='bar', color='purple', alpha=0.4, rot=0, legend=False, figsize=[6,4], grid=True)\n",
    "plt.ylabel(\"Percentage\")\n",
    "plt.title(\"Married Percentages\")"
   ]
  },
  {
   "cell_type": "markdown",
   "metadata": {},
   "source": [
    "#### 3. Dependents"
   ]
  },
  {
   "cell_type": "code",
   "execution_count": 15,
   "metadata": {
    "collapsed": false
   },
   "outputs": [
    {
     "data": {
      "text/plain": [
       "([<matplotlib.patches.Wedge at 0x28bdbae198>,\n",
       "  <matplotlib.patches.Wedge at 0x28bdbb4a20>,\n",
       "  <matplotlib.patches.Wedge at 0x28bdbc1320>,\n",
       "  <matplotlib.patches.Wedge at 0x28bdbc7be0>],\n",
       " [<matplotlib.text.Text at 0x28bdbaef28>,\n",
       "  <matplotlib.text.Text at 0x28bdbbc828>,\n",
       "  <matplotlib.text.Text at 0x28bdbc7128>,\n",
       "  <matplotlib.text.Text at 0x28bdbcc9e8>],\n",
       " [<matplotlib.text.Text at 0x28bdbb44e0>,\n",
       "  <matplotlib.text.Text at 0x28bdbbcda0>,\n",
       "  <matplotlib.text.Text at 0x28bdbc76a0>,\n",
       "  <matplotlib.text.Text at 0x28bdbccf60>])"
      ]
     },
     "execution_count": 15,
     "metadata": {},
     "output_type": "execute_result"
    },
    {
     "data": {
      "image/png": "[encoded data removed]",
      "text/plain": [
       "<matplotlib.figure.Figure at 0x28bdb4c358>"
      ]
     },
     "metadata": {},
     "output_type": "display_data"
    }
   ],
   "source": [
    "dep_count = loan1[['Dependents','count']].groupby('Dependents').sum()\n",
    "dep_percent = dep_count.apply(lambda x: x/x.sum())\n",
    "\n",
    "labels = ['0','1','2','3+']\n",
    "colors = ['lightcoral','lightskyblue','lightgreen','lightyellow']\n",
    "explode = (0.01,0,0,0)\n",
    "plt.pie(dep_percent, colors=colors,autopct='%1.1f%%', labels=labels,explode=explode, shadow=True)"
   ]
  },
  {
   "cell_type": "markdown",
   "metadata": {},
   "source": [
    "#### 4. Education"
   ]
  },
  {
   "cell_type": "code",
   "execution_count": 16,
   "metadata": {
    "collapsed": false
   },
   "outputs": [
    {
     "data": {
      "text/plain": [
       "<matplotlib.axes._subplots.AxesSubplot at 0x28bde28e80>"
      ]
     },
     "execution_count": 16,
     "metadata": {},
     "output_type": "execute_result"
    },
    {
     "data": {
      "image/png": "[encoded data removed]",
      "text/plain": [
       "<matplotlib.figure.Figure at 0x28bdb824a8>"
      ]
     },
     "metadata": {},
     "output_type": "display_data"
    }
   ],
   "source": [
    "edu_count = loan1[['Education','count']].groupby('Education').sum()\n",
    "edu_per = edu_count.apply(lambda x: x/x.sum())\n",
    "edu_per.plot(kind='bar', color='green', alpha=0.5, rot=0, legend=False,figsize=[6,4], grid=True)"
   ]
  },
  {
   "cell_type": "markdown",
   "metadata": {},
   "source": [
    "#### 5. Self_Employed"
   ]
  },
  {
   "cell_type": "code",
   "execution_count": 17,
   "metadata": {
    "collapsed": false
   },
   "outputs": [
    {
     "data": {
      "text/plain": [
       "<matplotlib.axes._subplots.AxesSubplot at 0x28bdc2cdd8>"
      ]
     },
     "execution_count": 17,
     "metadata": {},
     "output_type": "execute_result"
    },
    {
     "data": {
      "image/png": "[encoded data removed]",
      "text/plain": [
       "<matplotlib.figure.Figure at 0x28bdc37080>"
      ]
     },
     "metadata": {},
     "output_type": "display_data"
    }
   ],
   "source": [
    "self_emp_count = loan1[['Self_Employed','count']].groupby('Self_Employed').sum()\n",
    "self_per = self_emp_count.apply(lambda x: x/x.sum())\n",
    "self_per.plot(kind='bar', color='red', alpha=0.5, rot=0, legend=False,figsize=[6,4], grid=True)"
   ]
  },
  {
   "cell_type": "markdown",
   "metadata": {},
   "source": [
    "#### 6. Credit History"
   ]
  },
  {
   "cell_type": "code",
   "execution_count": 18,
   "metadata": {
    "collapsed": false
   },
   "outputs": [
    {
     "data": {
      "text/plain": [
       "<matplotlib.axes._subplots.AxesSubplot at 0x28bdff9ef0>"
      ]
     },
     "execution_count": 18,
     "metadata": {},
     "output_type": "execute_result"
    },
    {
     "data": {
      "image/png": "[encoded data removed]",
      "text/plain": [
       "<matplotlib.figure.Figure at 0x28bdad9ba8>"
      ]
     },
     "metadata": {},
     "output_type": "display_data"
    }
   ],
   "source": [
    "credit_count = loan1[['Credit_History','count']].groupby('Credit_History').sum()\n",
    "credit_per = credit_count.apply(lambda x: x/x.sum())\n",
    "credit_per.plot(kind='bar', color='violet', alpha=0.5, rot=0,legend=False,figsize=[6,4], grid=True)"
   ]
  },
  {
   "cell_type": "markdown",
   "metadata": {},
   "source": [
    "#### 7. Property Area"
   ]
  },
  {
   "cell_type": "code",
   "execution_count": 19,
   "metadata": {
    "collapsed": false
   },
   "outputs": [
    {
     "data": {
      "text/plain": [
       "([<matplotlib.patches.Wedge at 0x28bf096d30>,\n",
       "  <matplotlib.patches.Wedge at 0x28bf0a35f8>,\n",
       "  <matplotlib.patches.Wedge at 0x28bf0a9eb8>],\n",
       " [<matplotlib.text.Text at 0x28bf09eb00>,\n",
       "  <matplotlib.text.Text at 0x28bf0a9400>,\n",
       "  <matplotlib.text.Text at 0x28bf0aecc0>],\n",
       " [<matplotlib.text.Text at 0x28bf0a30b8>,\n",
       "  <matplotlib.text.Text at 0x28bf0a9978>,\n",
       "  <matplotlib.text.Text at 0x28bf0b4278>])"
      ]
     },
     "execution_count": 19,
     "metadata": {},
     "output_type": "execute_result"
    },
    {
     "data": {
      "image/png": "[encoded data removed]",
      "text/plain": [
       "<matplotlib.figure.Figure at 0x28bd83aef0>"
      ]
     },
     "metadata": {},
     "output_type": "display_data"
    }
   ],
   "source": [
    "area_count = loan1[['Property_Area','count']].groupby('Property_Area').sum()\n",
    "area_per = area_count.apply(lambda x: x/x.sum())\n",
    "\n",
    "labels = ['Rural','SemiUrban','Urban']\n",
    "colors = ['lightcoral','lightskyblue','lightgreen']\n",
    "explode = (0,0.01,0)\n",
    "plt.pie(area_per, colors=colors,autopct='%1.1f%%', labels=labels,explode=explode, shadow=True)"
   ]
  },
  {
   "cell_type": "markdown",
   "metadata": {},
   "source": [
    "#### 8. Loan Amount Term"
   ]
  },
  {
   "cell_type": "code",
   "execution_count": 20,
   "metadata": {
    "collapsed": false
   },
   "outputs": [
    {
     "data": {
      "text/plain": [
       "<matplotlib.axes._subplots.AxesSubplot at 0x28bf06aef0>"
      ]
     },
     "execution_count": 20,
     "metadata": {},
     "output_type": "execute_result"
    },
    {
     "data": {
      "image/png": "[encoded data removed]",
      "text/plain": [
       "<matplotlib.figure.Figure at 0x28bdbf2940>"
      ]
     },
     "metadata": {},
     "output_type": "display_data"
    }
   ],
   "source": [
    "term_count = loan1[['Loan_Amount_Term','count']].groupby('Loan_Amount_Term').sum()\n",
    "term_per= term_count.apply(lambda x: x/x.sum())\n",
    "term_per.plot(kind='bar', color='green', alpha=0.5, rot=0,legend=False,figsize=[6,4], grid=True)"
   ]
  },
  {
   "cell_type": "markdown",
   "metadata": {},
   "source": [
    "This feature has too many different types of loan terms. Expect the terms (180 and 360 months), others has very low count.\n",
    "\n",
    "So it is better to divide this data into 3 types: \n",
    "1. Low Term  ---> less than 160\n",
    "2. Medium Term ---> within 160 and 320\n",
    "3. High Term ---> greater than 320"
   ]
  },
  {
   "cell_type": "markdown",
   "metadata": {},
   "source": [
    "#### 9. Loan Status"
   ]
  },
  {
   "cell_type": "code",
   "execution_count": 21,
   "metadata": {
    "collapsed": false
   },
   "outputs": [
    {
     "data": {
      "text/plain": [
       "<matplotlib.axes._subplots.AxesSubplot at 0x28bf1235f8>"
      ]
     },
     "execution_count": 21,
     "metadata": {},
     "output_type": "execute_result"
    },
    {
     "data": {
      "image/png": "[encoded data removed]",
      "text/plain": [
       "<matplotlib.figure.Figure at 0x28bf115320>"
      ]
     },
     "metadata": {},
     "output_type": "display_data"
    }
   ],
   "source": [
    "status_count = loan1[['Loan_Status','count']].groupby('Loan_Status').sum()\n",
    "status_per = status_count.apply(lambda x: x/x.sum())\n",
    "status_per.plot(kind='bar', color='green', alpha=0.5, rot=0, legend=False,figsize=[6,4], grid=True)"
   ]
  },
  {
   "cell_type": "code",
   "execution_count": null,
   "metadata": {
    "collapsed": true
   },
   "outputs": [],
   "source": []
  },
  {
   "cell_type": "markdown",
   "metadata": {},
   "source": [
    "### Bivariate and Multivariate Analysis"
   ]
  },
  {
   "cell_type": "markdown",
   "metadata": {
    "collapsed": true
   },
   "source": [
    "#### Numerical features"
   ]
  },
  {
   "cell_type": "markdown",
   "metadata": {},
   "source": [
    "#### 1. ApplicantIncome, CoapplicantIncome and LoanAmount"
   ]
  },
  {
   "cell_type": "code",
   "execution_count": 22,
   "metadata": {
    "collapsed": false
   },
   "outputs": [
    {
     "name": "stdout",
     "output_type": "stream",
     "text": [
      "                   ApplicantIncome  CoapplicantIncome  LoanAmount\n",
      "ApplicantIncome           1.000000          -0.116605    0.570909\n",
      "CoapplicantIncome        -0.116605           1.000000    0.188619\n",
      "LoanAmount                0.570909           0.188619    1.000000\n"
     ]
    },
    {
     "data": {
      "text/plain": [
       "<matplotlib.collections.PathCollection at 0x28bf263da0>"
      ]
     },
     "execution_count": 22,
     "metadata": {},
     "output_type": "execute_result"
    },
    {
     "data": {
      "image/png": "[encoded data removed]",
      "text/plain": [
       "<matplotlib.figure.Figure at 0x28bf181e80>"
      ]
     },
     "metadata": {},
     "output_type": "display_data"
    }
   ],
   "source": [
    "new_vars = loan1[['ApplicantIncome','CoapplicantIncome','LoanAmount']]\n",
    "print(new_vars.corr())\n",
    "\n",
    "plt.figure(figsize=[12,4])\n",
    "plt.subplot(121)\n",
    "plt.scatter(loan1.ApplicantIncome, loan1.LoanAmount)\n",
    "\n",
    "plt.subplot(122)\n",
    "plt.scatter(loan1.CoapplicantIncome, loan1.LoanAmount)"
   ]
  },
  {
   "cell_type": "code",
   "execution_count": 23,
   "metadata": {
    "collapsed": false
   },
   "outputs": [],
   "source": [
    "#Removing outliers as discussed in Univariate analysis\n",
    "loan_new = loan1.copy()\n",
    "loan_new = loan_new[loan_new['ApplicantIncome'] < 30000]\n",
    "loan_new = loan_new[loan_new['CoapplicantIncome'] < 10000]\n",
    "loan_new = loan_new[loan_new['LoanAmount'] < 450]"
   ]
  },
  {
   "cell_type": "code",
   "execution_count": 24,
   "metadata": {
    "collapsed": false
   },
   "outputs": [
    {
     "name": "stdout",
     "output_type": "stream",
     "text": [
      "                   ApplicantIncome  CoapplicantIncome  LoanAmount\n",
      "ApplicantIncome           1.000000          -0.221145    0.522255\n",
      "CoapplicantIncome        -0.221145           1.000000    0.269251\n",
      "LoanAmount                0.522255           0.269251    1.000000\n"
     ]
    },
    {
     "data": {
      "text/plain": [
       "<matplotlib.collections.PathCollection at 0x28bf300dd8>"
      ]
     },
     "execution_count": 24,
     "metadata": {},
     "output_type": "execute_result"
    },
    {
     "data": {
      "image/png": "[encoded data removed]",
      "text/plain": [
       "<matplotlib.figure.Figure at 0x28bf29a0f0>"
      ]
     },
     "metadata": {},
     "output_type": "display_data"
    }
   ],
   "source": [
    "new_varss = loan_new[['ApplicantIncome','CoapplicantIncome','LoanAmount']]\n",
    "print(new_varss.corr())\n",
    "\n",
    "plt.figure(figsize=[12,4])\n",
    "plt.subplot(121)\n",
    "plt.scatter(loan_new.ApplicantIncome, loan_new.LoanAmount)\n",
    "\n",
    "plt.subplot(122)\n",
    "plt.scatter(loan_new.CoapplicantIncome, loan_new.LoanAmount)"
   ]
  },
  {
   "cell_type": "markdown",
   "metadata": {},
   "source": [
    "Relationship between both Incomes with the Loan Amount is fairly poor.\n",
    "\n",
    "Initially ApplicantIncome had a correlation of .57, but decreased to .52 after deleting the outliers.\n",
    "\n",
    "CoapplicantIncome had a correlation of .18, increased to .27 after deleting outliers."
   ]
  },
  {
   "cell_type": "markdown",
   "metadata": {},
   "source": [
    "#### Numerical-Categorical"
   ]
  },
  {
   "cell_type": "markdown",
   "metadata": {},
   "source": [
    "#### 1. ApplicantIncome & CoapplicantIncome ---> Loan Status"
   ]
  },
  {
   "cell_type": "code",
   "execution_count": 25,
   "metadata": {
    "collapsed": false
   },
   "outputs": [
    {
     "name": "stdout",
     "output_type": "stream",
     "text": [
      "Loan Status == YES\n",
      "       ApplicantIncome  CoapplicantIncome  LoanAmount\n",
      "count       422.000000         422.000000  411.000000\n",
      "mean       5384.068720        1504.516398  144.294404\n",
      "std        5765.441615        1924.754855   85.484607\n",
      "min         210.000000           0.000000   17.000000\n",
      "25%        2877.500000           0.000000  100.000000\n",
      "50%        3812.500000        1239.500000  126.000000\n",
      "75%        5771.500000        2297.250000  161.000000\n",
      "max       63337.000000       20000.000000  700.000000\n",
      "-------------------------------------------------------\n",
      "Loan Status == NO\n",
      "       ApplicantIncome  CoapplicantIncome  LoanAmount\n",
      "count       192.000000         192.000000  181.000000\n",
      "mean       5446.078125        1877.807292  151.220994\n",
      "std        6819.558528        4384.060103   85.862783\n",
      "min         150.000000           0.000000    9.000000\n",
      "25%        2885.000000           0.000000  100.000000\n",
      "50%        3833.500000         268.000000  129.000000\n",
      "75%        5861.250000        2273.750000  176.000000\n",
      "max       81000.000000       41667.000000  570.000000\n"
     ]
    }
   ],
   "source": [
    "loan_data = loan1.copy()\n",
    "loan_data = loan_data[['Loan_Status','ApplicantIncome','CoapplicantIncome','LoanAmount']]\n",
    "loan_status_y = loan_data[loan_data['Loan_Status'] == 'Y']\n",
    "loan_status_n = loan_data[loan_data['Loan_Status'] == 'N']\n",
    "print(\"Loan Status == YES\")\n",
    "print(loan_status_y.describe())\n",
    "print(\"-------------------------------------------------------\")\n",
    "print(\"Loan Status == NO\")\n",
    "print(loan_status_n.describe())"
   ]
  },
  {
   "cell_type": "markdown",
   "metadata": {},
   "source": [
    "By comparing both summaries, it is seen that there is no enough evidence that getting a loan or not getting a loan is purely based on Income Range or loan amount, as the means are almost same.\n",
    "\n",
    "Although the standard deviations varies a lot, this is due to variation in count.\n",
    "\n",
    "We need to conduct some statistical tests to determine whether there is actually any significance between the two groups."
   ]
  },
  {
   "cell_type": "markdown",
   "metadata": {},
   "source": [
    "#### 2. Education VS ApplicantIncome"
   ]
  },
  {
   "cell_type": "code",
   "execution_count": 26,
   "metadata": {
    "collapsed": false
   },
   "outputs": [
    {
     "name": "stdout",
     "output_type": "stream",
     "text": [
      "Education == Graduate\n",
      "       ApplicantIncome\n",
      "count       480.000000\n",
      "mean       5857.433333\n",
      "std        6739.797954\n",
      "min         150.000000\n",
      "25%        2998.750000\n",
      "50%        4000.000000\n",
      "75%        6068.750000\n",
      "max       81000.000000\n",
      "--------------------------\n",
      "Education == Not Graduate\n",
      "       ApplicantIncome\n",
      "count       134.000000\n",
      "mean       3777.283582\n",
      "std        2237.081586\n",
      "min         210.000000\n",
      "25%        2583.000000\n",
      "50%        3357.500000\n",
      "75%        4333.000000\n",
      "max       18165.000000\n"
     ]
    },
    {
     "data": {
      "text/plain": [
       "<matplotlib.text.Text at 0x28bf368908>"
      ]
     },
     "execution_count": 26,
     "metadata": {},
     "output_type": "execute_result"
    },
    {
     "data": {
      "image/png": "[encoded data removed]",
      "text/plain": [
       "<matplotlib.figure.Figure at 0x28bf332ba8>"
      ]
     },
     "metadata": {},
     "output_type": "display_data"
    }
   ],
   "source": [
    "loan_data1 = loan1[['Education','ApplicantIncome']]\n",
    "edu_graduate = loan_data1[loan_data1['Education'] == 'Graduate']\n",
    "edu_notgraduate = loan_data1[loan_data1['Education'] == 'Not Graduate']\n",
    "print(\"Education == Graduate\")\n",
    "print(edu_graduate.describe())\n",
    "print(\"--------------------------\")\n",
    "print(\"Education == Not Graduate\")\n",
    "print(edu_notgraduate.describe())\n",
    "\n",
    "edu_income = loan1[['Education','ApplicantIncome']].groupby('Education').mean()\n",
    "edu_income.ApplicantIncome.plot(kind='bar',rot=0)\n",
    "plt.title(\"Mean Applicant Income\")"
   ]
  },
  {
   "cell_type": "markdown",
   "metadata": {},
   "source": [
    "By comparing both the groups, initial assumption would be that a graduate has more chances of getting a higher salary than a non-graduate."
   ]
  },
  {
   "cell_type": "markdown",
   "metadata": {},
   "source": [
    "#### Categorical-Categorical"
   ]
  },
  {
   "cell_type": "markdown",
   "metadata": {},
   "source": [
    "#### 1. Property Area VS Loan Status"
   ]
  },
  {
   "cell_type": "code",
   "execution_count": 27,
   "metadata": {
    "collapsed": false
   },
   "outputs": [
    {
     "name": "stdout",
     "output_type": "stream",
     "text": [
      "Property_Area  Rural  Semiurban  Urban\n",
      "Loan_Status                           \n",
      "N                 69         54     69\n",
      "Y                110        179    133\n"
     ]
    },
    {
     "data": {
      "text/plain": [
       "<matplotlib.axes._subplots.AxesSubplot at 0x28bf39d048>"
      ]
     },
     "execution_count": 27,
     "metadata": {},
     "output_type": "execute_result"
    },
    {
     "data": {
      "image/png": "[encoded data removed]",
      "text/plain": [
       "<matplotlib.figure.Figure at 0x28bdad93c8>"
      ]
     },
     "metadata": {},
     "output_type": "display_data"
    }
   ],
   "source": [
    "'''Question: is there an association between getting a Loan and the Property Area?'''\n",
    "\n",
    "area_status = pd.crosstab(loan1.Loan_Status, loan1.Property_Area)\n",
    "print(area_status)\n",
    "\n",
    "area_status.plot(kind='bar', rot=0)"
   ]
  },
  {
   "cell_type": "code",
   "execution_count": 28,
   "metadata": {
    "collapsed": false
   },
   "outputs": [
    {
     "name": "stdout",
     "output_type": "stream",
     "text": [
      "P(A):  the probability of getting a Loan\n",
      "             Probability\n",
      "Loan_Status             \n",
      "N               0.312704\n",
      "Y               0.687296\n",
      "==================================================================\n",
      "P(A|B): the probability of getting a loan, given the property area.\n",
      "Property_Area     Rural  Semiurban     Urban\n",
      "Loan_Status                                 \n",
      "N              0.385475    0.23176  0.341584\n",
      "Y              0.614525    0.76824  0.658416\n",
      "==================================================================\n"
     ]
    },
    {
     "data": {
      "text/plain": [
       "<matplotlib.axes._subplots.AxesSubplot at 0x28bf3531d0>"
      ]
     },
     "execution_count": 28,
     "metadata": {},
     "output_type": "execute_result"
    },
    {
     "data": {
      "image/png": "[encoded data removed]",
      "text/plain": [
       "<matplotlib.figure.Figure at 0x28bf357f60>"
      ]
     },
     "metadata": {},
     "output_type": "display_data"
    }
   ],
   "source": [
    "print(\"P(A):  the probability of getting a Loan\")\n",
    "loan_count = loan1[['Loan_Status','count']].groupby('Loan_Status').sum()\n",
    "loan_prob = loan_count.apply(lambda x: x/x.sum()).rename(columns={'count':'Probability'})\n",
    "print(loan_prob)\n",
    "print(\"==================================================================\")\n",
    "print(\"P(A|B): the probability of getting a loan, given the property area.\")\n",
    "area_status_prob = area_status.apply(lambda x: x/x.sum())\n",
    "print(area_status_prob)\n",
    "print('==================================================================')\n",
    "area_status_prob.plot(kind='bar',rot=0)"
   ]
  },
  {
   "cell_type": "markdown",
   "metadata": {},
   "source": [
    "Since, P(A) != P(A/B), we can conclude that there is an association between getting a loan and the property area. The \n",
    "probability of getting a loan, regardless of property area, is  68.7%. \n",
    "\n",
    "However, examination of a contingency table containing both Loan Status and Property area showed that the conditional probability of getting a loan changes by property area. \n",
    "\n",
    "Visual examination of the barplot shows the conditional probabilities of getting a lon are not equal \n",
    "across Property areas."
   ]
  },
  {
   "cell_type": "markdown",
   "metadata": {},
   "source": [
    "#### 2. Credit History VS Loan Status"
   ]
  },
  {
   "cell_type": "code",
   "execution_count": 29,
   "metadata": {
    "collapsed": false
   },
   "outputs": [
    {
     "name": "stdout",
     "output_type": "stream",
     "text": [
      "Credit_History  0.0  1.0\n",
      "Loan_Status             \n",
      "N                82   97\n",
      "Y                 7  378\n"
     ]
    },
    {
     "data": {
      "text/plain": [
       "<matplotlib.axes._subplots.AxesSubplot at 0x28bfb87320>"
      ]
     },
     "execution_count": 29,
     "metadata": {},
     "output_type": "execute_result"
    },
    {
     "data": {
      "image/png": "[encoded data removed]",
      "text/plain": [
       "<matplotlib.figure.Figure at 0x28bdb51d68>"
      ]
     },
     "metadata": {},
     "output_type": "display_data"
    }
   ],
   "source": [
    "'''Question: is there an association between getting a Loan and Credit History?'''\n",
    "\n",
    "credit_status = pd.crosstab(loan1.Loan_Status, loan1.Credit_History)\n",
    "print(credit_status)\n",
    "\n",
    "credit_status.plot(kind='bar', rot=0)"
   ]
  },
  {
   "cell_type": "code",
   "execution_count": 30,
   "metadata": {
    "collapsed": false
   },
   "outputs": [
    {
     "name": "stdout",
     "output_type": "stream",
     "text": [
      "P(A):  the probability of getting a Loan\n",
      "             Probability\n",
      "Loan_Status             \n",
      "N               0.312704\n",
      "Y               0.687296\n",
      "==================================================================\n",
      "P(A|B): the probability of getting a loan, given the Credit History.\n",
      "Credit_History       0.0       1.0\n",
      "Loan_Status                       \n",
      "N               0.921348  0.204211\n",
      "Y               0.078652  0.795789\n"
     ]
    },
    {
     "data": {
      "text/plain": [
       "<matplotlib.axes._subplots.AxesSubplot at 0x28bf1716a0>"
      ]
     },
     "execution_count": 30,
     "metadata": {},
     "output_type": "execute_result"
    },
    {
     "data": {
      "image/png": "[encoded data removed]",
      "text/plain": [
       "<matplotlib.figure.Figure at 0x28bfbe6208>"
      ]
     },
     "metadata": {},
     "output_type": "display_data"
    }
   ],
   "source": [
    "print(\"P(A):  the probability of getting a Loan\")\n",
    "loan_count = loan1[['Loan_Status','count']].groupby('Loan_Status').sum()\n",
    "loan_prob = loan_count.apply(lambda x: x/x.sum()).rename(columns={'count':'Probability'})\n",
    "print(loan_prob)\n",
    "print(\"==================================================================\")\n",
    "print(\"P(A|B): the probability of getting a loan, given the Credit History.\")\n",
    "credit_status_prob = credit_status.apply(lambda x: x/x.sum())\n",
    "print(credit_status_prob)\n",
    "\n",
    "credit_status_prob.plot(kind='bar',rot=0)"
   ]
  },
  {
   "cell_type": "markdown",
   "metadata": {},
   "source": [
    "Since, P(A) != P(A/B), there is an association between getting a loan and the credit history. The probability of getting a loan, regardless of credit history, is  68.7%. \n",
    "\n",
    "However, conditional probability showed that getting a loan changes by property area. \n",
    "\n",
    "From the barplot, it is very clear that those customers who have a credit card stands a better chance for getting a loan.\n",
    "We will do some statistical tests to confirm these assumption later. "
   ]
  },
  {
   "cell_type": "markdown",
   "metadata": {
    "collapsed": true
   },
   "source": [
    "#### 3. Education VS Loan_Status"
   ]
  },
  {
   "cell_type": "code",
   "execution_count": 31,
   "metadata": {
    "collapsed": false
   },
   "outputs": [
    {
     "name": "stdout",
     "output_type": "stream",
     "text": [
      "Education    Graduate  Not Graduate\n",
      "Loan_Status                        \n",
      "N                 140            52\n",
      "Y                 340            82\n"
     ]
    },
    {
     "data": {
      "text/plain": [
       "<matplotlib.axes._subplots.AxesSubplot at 0x28bfc72748>"
      ]
     },
     "execution_count": 31,
     "metadata": {},
     "output_type": "execute_result"
    },
    {
     "data": {
      "image/png": "[encoded data removed]",
      "text/plain": [
       "<matplotlib.figure.Figure at 0x28bfbeeb38>"
      ]
     },
     "metadata": {},
     "output_type": "display_data"
    }
   ],
   "source": [
    "'''Question: is there an association between getting a Loan and Education?'''\n",
    "\n",
    "edu_status = pd.crosstab(loan1.Loan_Status, loan1.Education)\n",
    "print(edu_status)\n",
    "\n",
    "edu_status.plot(kind='bar', rot=0)"
   ]
  },
  {
   "cell_type": "code",
   "execution_count": 32,
   "metadata": {
    "collapsed": false
   },
   "outputs": [
    {
     "name": "stdout",
     "output_type": "stream",
     "text": [
      "P(A):  the probability of getting a Loan\n",
      "             Probability\n",
      "Loan_Status             \n",
      "N               0.312704\n",
      "Y               0.687296\n",
      "==================================================================\n",
      "P(A|B): the probability of getting a loan, given the Education.\n",
      "Education    Graduate  Not Graduate\n",
      "Loan_Status                        \n",
      "N            0.291667       0.38806\n",
      "Y            0.708333       0.61194\n"
     ]
    },
    {
     "data": {
      "text/plain": [
       "<matplotlib.axes._subplots.AxesSubplot at 0x28bfc6dc50>"
      ]
     },
     "execution_count": 32,
     "metadata": {},
     "output_type": "execute_result"
    },
    {
     "data": {
      "image/png": "[encoded data removed]",
      "text/plain": [
       "<matplotlib.figure.Figure at 0x28bfc99198>"
      ]
     },
     "metadata": {},
     "output_type": "display_data"
    }
   ],
   "source": [
    "print(\"P(A):  the probability of getting a Loan\")\n",
    "loan_count = loan1[['Loan_Status','count']].groupby('Loan_Status').sum()\n",
    "loan_prob = loan_count.apply(lambda x: x/x.sum()).rename(columns={'count':'Probability'})\n",
    "print(loan_prob)\n",
    "print(\"==================================================================\")\n",
    "print(\"P(A|B): the probability of getting a loan, given the Education.\")\n",
    "edu_status_prob = edu_status.apply(lambda x: x/x.sum())\n",
    "print(edu_status_prob)\n",
    "\n",
    "edu_status_prob.plot(kind='bar',rot=0)"
   ]
  },
  {
   "cell_type": "markdown",
   "metadata": {},
   "source": [
    "Since, P(A) != P(A/B), there is an association between getting a loan and the Education."
   ]
  },
  {
   "cell_type": "markdown",
   "metadata": {},
   "source": [
    "#### 4. Loan Amount Term VS Loan Status"
   ]
  },
  {
   "cell_type": "code",
   "execution_count": 33,
   "metadata": {
    "collapsed": false
   },
   "outputs": [
    {
     "name": "stdout",
     "output_type": "stream",
     "text": [
      "Term_bins    low  medium  high\n",
      "Loan_Status                   \n",
      "N              3      21   162\n",
      "Y              9      40   365\n"
     ]
    },
    {
     "data": {
      "text/plain": [
       "<matplotlib.axes._subplots.AxesSubplot at 0x28c0ed1e48>"
      ]
     },
     "execution_count": 33,
     "metadata": {},
     "output_type": "execute_result"
    },
    {
     "data": {
      "image/png": "[encoded data removed]",
      "text/plain": [
       "<matplotlib.figure.Figure at 0x28c0edb2e8>"
      ]
     },
     "metadata": {},
     "output_type": "display_data"
    }
   ],
   "source": [
    "'''Question: is there an association between getting a Loan and Loan Amount Term?'''\n",
    "\n",
    "#lets divide this column into 3 parts:\n",
    "loan1['Term_bins'] = pd.cut(loan1.Loan_Amount_Term, bins=[0,160,320,500], labels=['low','medium','high'])\n",
    "term_status = pd.crosstab(loan1.Loan_Status, loan1.Term_bins)\n",
    "print(term_status)\n",
    "\n",
    "term_status.plot(kind='bar', rot=0)"
   ]
  },
  {
   "cell_type": "code",
   "execution_count": 34,
   "metadata": {
    "collapsed": false
   },
   "outputs": [
    {
     "name": "stdout",
     "output_type": "stream",
     "text": [
      "P(A):  the probability of getting a Loan\n",
      "             Probability\n",
      "Loan_Status             \n",
      "N               0.312704\n",
      "Y               0.687296\n",
      "==================================================================\n",
      "P(A|B): the probability of getting a loan, given the Lern Term.\n",
      "Term_bins     low    medium    high\n",
      "Loan_Status                        \n",
      "N            0.25  0.344262  0.3074\n",
      "Y            0.75  0.655738  0.6926\n"
     ]
    },
    {
     "data": {
      "text/plain": [
       "<matplotlib.axes._subplots.AxesSubplot at 0x28c0f05a90>"
      ]
     },
     "execution_count": 34,
     "metadata": {},
     "output_type": "execute_result"
    },
    {
     "data": {
      "image/png": "[encoded data removed]",
      "text/plain": [
       "<matplotlib.figure.Figure at 0x28c0f13470>"
      ]
     },
     "metadata": {},
     "output_type": "display_data"
    }
   ],
   "source": [
    "print(\"P(A):  the probability of getting a Loan\")\n",
    "status_count = loan1[['Loan_Status','count']].groupby('Loan_Status').sum()\n",
    "status_prob = loan_count.apply(lambda x: x/x.sum()).rename(columns={'count':'Probability'})\n",
    "print(status_prob)\n",
    "print(\"==================================================================\")\n",
    "print(\"P(A|B): the probability of getting a loan, given the Lern Term.\")\n",
    "term_status_prob = term_status.apply(lambda x: x/x.sum())\n",
    "print(term_status_prob)\n",
    "\n",
    "term_status_prob.plot(kind='bar',rot=0)"
   ]
  },
  {
   "cell_type": "markdown",
   "metadata": {},
   "source": [
    "There seems to be an association. This needs to be confirmed with some statistical tests."
   ]
  },
  {
   "cell_type": "markdown",
   "metadata": {},
   "source": [
    "#### 5. Dependents VS Loan Status"
   ]
  },
  {
   "cell_type": "code",
   "execution_count": 35,
   "metadata": {
    "collapsed": false
   },
   "outputs": [
    {
     "name": "stdout",
     "output_type": "stream",
     "text": [
      "Dependents     0   1   2  3+\n",
      "Loan_Status                 \n",
      "N            107  36  25  18\n",
      "Y            238  66  76  33\n"
     ]
    },
    {
     "data": {
      "text/plain": [
       "<matplotlib.axes._subplots.AxesSubplot at 0x28c0feb160>"
      ]
     },
     "execution_count": 35,
     "metadata": {},
     "output_type": "execute_result"
    },
    {
     "data": {
      "image/png": "[encoded data removed]",
      "text/plain": [
       "<matplotlib.figure.Figure at 0x28c0f5feb8>"
      ]
     },
     "metadata": {},
     "output_type": "display_data"
    }
   ],
   "source": [
    "'''Question: is there an association between getting a Loan and Dependents?'''\n",
    "\n",
    "dep_status = pd.crosstab(loan1.Loan_Status, loan1.Dependents)\n",
    "print(dep_status)\n",
    "\n",
    "dep_status.plot(kind='bar', rot=0)"
   ]
  },
  {
   "cell_type": "code",
   "execution_count": 36,
   "metadata": {
    "collapsed": false
   },
   "outputs": [
    {
     "name": "stdout",
     "output_type": "stream",
     "text": [
      "P(A):  the probability of getting a Loan\n",
      "             Probability\n",
      "Loan_Status             \n",
      "N               0.312704\n",
      "Y               0.687296\n",
      "==================================================================\n",
      "P(A|B): the probability of getting a loan, given Dependents.\n",
      "Dependents          0         1         2        3+\n",
      "Loan_Status                                        \n",
      "N            0.310145  0.352941  0.247525  0.352941\n",
      "Y            0.689855  0.647059  0.752475  0.647059\n"
     ]
    },
    {
     "data": {
      "text/plain": [
       "<matplotlib.axes._subplots.AxesSubplot at 0x28bd613128>"
      ]
     },
     "execution_count": 36,
     "metadata": {},
     "output_type": "execute_result"
    },
    {
     "data": {
      "image/png": "[encoded data removed]",
      "text/plain": [
       "<matplotlib.figure.Figure at 0x28c10280b8>"
      ]
     },
     "metadata": {},
     "output_type": "display_data"
    }
   ],
   "source": [
    "print(\"P(A):  the probability of getting a Loan\")\n",
    "status_count = loan1[['Loan_Status','count']].groupby('Loan_Status').sum()\n",
    "status_prob = loan_count.apply(lambda x: x/x.sum()).rename(columns={'count':'Probability'})\n",
    "print(status_prob)\n",
    "print(\"==================================================================\")\n",
    "print(\"P(A|B): the probability of getting a loan, given Dependents.\")\n",
    "dep_status_prob = dep_status.apply(lambda x: x/x.sum())\n",
    "print(dep_status_prob)\n",
    "\n",
    "dep_status_prob.plot(kind='bar',rot=0)"
   ]
  },
  {
   "cell_type": "markdown",
   "metadata": {},
   "source": [
    "Expect Dependents == 0, others seems to have an association."
   ]
  },
  {
   "cell_type": "markdown",
   "metadata": {},
   "source": [
    "#### 6. Self Employed VS Loan Status"
   ]
  },
  {
   "cell_type": "code",
   "execution_count": 51,
   "metadata": {
    "collapsed": false
   },
   "outputs": [
    {
     "name": "stdout",
     "output_type": "stream",
     "text": [
      "Self_Employed   No  Yes\n",
      "Loan_Status            \n",
      "N              157   26\n",
      "Y              343   56\n"
     ]
    },
    {
     "data": {
      "text/plain": [
       "<matplotlib.axes._subplots.AxesSubplot at 0x28bfa094e0>"
      ]
     },
     "execution_count": 51,
     "metadata": {},
     "output_type": "execute_result"
    },
    {
     "data": {
      "image/png": "[encoded data removed]",
      "text/plain": [
       "<matplotlib.figure.Figure at 0x28bf9fef28>"
      ]
     },
     "metadata": {},
     "output_type": "display_data"
    }
   ],
   "source": [
    "'''Question: is there an association between getting a Loan and Self Employment?'''\n",
    "\n",
    "emp_status = pd.crosstab(loan1.Loan_Status, loan1.Self_Employed)\n",
    "print(emp_status)\n",
    "\n",
    "emp_status.plot(kind='bar', rot=0)"
   ]
  },
  {
   "cell_type": "code",
   "execution_count": 52,
   "metadata": {
    "collapsed": false
   },
   "outputs": [
    {
     "name": "stdout",
     "output_type": "stream",
     "text": [
      "P(A):  the probability of getting a Loan\n",
      "             Probability\n",
      "Loan_Status             \n",
      "N               0.312704\n",
      "Y               0.687296\n",
      "==================================================================\n",
      "P(A|B): the probability of getting a loan, given Self Employment.\n",
      "Self_Employed     No       Yes\n",
      "Loan_Status                   \n",
      "N              0.314  0.317073\n",
      "Y              0.686  0.682927\n"
     ]
    },
    {
     "data": {
      "text/plain": [
       "<matplotlib.axes._subplots.AxesSubplot at 0x28bf67d7b8>"
      ]
     },
     "execution_count": 52,
     "metadata": {},
     "output_type": "execute_result"
    },
    {
     "data": {
      "image/png": "[encoded data removed]",
      "text/plain": [
       "<matplotlib.figure.Figure at 0x28bfa19d30>"
      ]
     },
     "metadata": {},
     "output_type": "display_data"
    }
   ],
   "source": [
    "print(\"P(A):  the probability of getting a Loan\")\n",
    "status_count = loan1[['Loan_Status','count']].groupby('Loan_Status').sum()\n",
    "status_prob = loan_count.apply(lambda x: x/x.sum()).rename(columns={'count':'Probability'})\n",
    "print(status_prob)\n",
    "print(\"==================================================================\")\n",
    "print(\"P(A|B): the probability of getting a loan, given Self Employment.\")\n",
    "emp_status_prob = emp_status.apply(lambda x: x/x.sum())\n",
    "print(emp_status_prob)\n",
    "\n",
    "emp_status_prob.plot(kind='bar',rot=0)"
   ]
  },
  {
   "cell_type": "raw",
   "metadata": {},
   "source": [
    "Since P(A) is almost equal to P(A/B). Our initial assumpotion would be that there is no association between these two.\n",
    "Need to conduct a statistical test to confirm."
   ]
  },
  {
   "cell_type": "markdown",
   "metadata": {
    "collapsed": true
   },
   "source": [
    "### Hypothesis Testing"
   ]
  },
  {
   "cell_type": "markdown",
   "metadata": {},
   "source": [
    "#### 1. Property Area VS Loan_Status"
   ]
  },
  {
   "cell_type": "code",
   "execution_count": 44,
   "metadata": {
    "collapsed": false
   },
   "outputs": [
    {
     "name": "stdout",
     "output_type": "stream",
     "text": [
      "Property_Area  Rural  Semiurban  Urban\n",
      "Loan_Status                           \n",
      "N                 69         54     69\n",
      "Y                110        179    133\n",
      "-----------------------------------------\n",
      "Chi2 statistics:\n",
      "Chi2 = 12.297623\n",
      "p-value = 0.002136\n"
     ]
    }
   ],
   "source": [
    "'''As we saw in Bivariate Analysis that the conditional probability of getting a loan is not equal across different property \n",
    "area. So now we need to conduct a statistical test to confirm this assumption.'''\n",
    "\n",
    "'''\n",
    "Null hypothesis: every property area has eqaul chances of getting a loan\n",
    "Alternate      : not equal chances\n",
    "'''\n",
    "area_status = pd.crosstab(loan1.Loan_Status, loan1.Property_Area)\n",
    "print(area_status)\n",
    "print(\"-----------------------------------------\")\n",
    "print(\"Chi2 statistics:\")\n",
    "from scipy import stats \n",
    "chi2,p,df, arr = stats.chi2_contingency(area_status, correction=False)\n",
    "print(\"Chi2 = %f\" %(chi2))\n",
    "print(\"p-value = %f\" %(p))"
   ]
  },
  {
   "cell_type": "raw",
   "metadata": {},
   "source": [
    "With chi2 = 12.29 and p-value < 0.05, we can reject the null hypothesis and confirm that there is actually no equal chances of getting a loan for different property area."
   ]
  },
  {
   "cell_type": "markdown",
   "metadata": {},
   "source": [
    "#### 2. Credit_History VS Loan_Status"
   ]
  },
  {
   "cell_type": "code",
   "execution_count": 45,
   "metadata": {
    "collapsed": false
   },
   "outputs": [
    {
     "name": "stdout",
     "output_type": "stream",
     "text": [
      "Credit_History  0.0  1.0\n",
      "Loan_Status             \n",
      "N                82   97\n",
      "Y                 7  378\n",
      "-----------------------------------------\n",
      "Chi2 statistics:\n",
      "Chi2 = 177.932047\n",
      "p-value = 0.000000\n"
     ]
    }
   ],
   "source": [
    "'''As we saw in Bivariate Analysis that the conditional probability of getting a loan is not equal across different credit \n",
    "history. So now we need to conduct a statistical test to confirm this assumption.'''\n",
    "\n",
    "'''\n",
    "Null hypothesis: equal chances of getting a loan for different credit history\n",
    "Alternate      : not equal chances\n",
    "'''\n",
    "credit_status = pd.crosstab(loan1.Loan_Status, loan1.Credit_History)\n",
    "print(credit_status)\n",
    "print(\"-----------------------------------------\")\n",
    "print(\"Chi2 statistics:\")\n",
    "from scipy import stats \n",
    "chi2,p,df, arr = stats.chi2_contingency(credit_status, correction=False)\n",
    "print(\"Chi2 = %f\" %(chi2))\n",
    "print(\"p-value = %f\" %(p))"
   ]
  },
  {
   "cell_type": "raw",
   "metadata": {},
   "source": [
    "Again with p-value < 0.05, we can reject null hypothesis and conclude that the chances are not equal. \n",
    "The chi2 statistics is 177.9, which means the difference between the 2 groups of credit_history is a lot."
   ]
  },
  {
   "cell_type": "markdown",
   "metadata": {},
   "source": [
    "#### 3. Education VS Loan_Status"
   ]
  },
  {
   "cell_type": "code",
   "execution_count": 46,
   "metadata": {
    "collapsed": false
   },
   "outputs": [
    {
     "name": "stdout",
     "output_type": "stream",
     "text": [
      "Education    Graduate  Not Graduate\n",
      "Loan_Status                        \n",
      "N                 140            52\n",
      "Y                 340            82\n",
      "-----------------------------------------\n",
      "Chi2 statistics:\n",
      "Chi2 = 4.528893\n",
      "p-value = 0.033327\n"
     ]
    }
   ],
   "source": [
    "'''\n",
    "Null hypothesis: equal chances of getting a loan for different education background\n",
    "Alternate      : not equal chances\n",
    "'''\n",
    "edu_status = pd.crosstab(loan1.Loan_Status, loan1.Education)\n",
    "print(edu_status)\n",
    "print(\"-----------------------------------------\")\n",
    "print(\"Chi2 statistics:\")\n",
    "from scipy import stats \n",
    "chi2,p,df, arr = stats.chi2_contingency(edu_status, correction=False)\n",
    "print(\"Chi2 = %f\" %(chi2))\n",
    "print(\"p-value = %f\" %(p))"
   ]
  },
  {
   "cell_type": "raw",
   "metadata": {},
   "source": [
    "p-value is slightly less than 0.05, but thats enough to reject the null hypothesis."
   ]
  },
  {
   "cell_type": "markdown",
   "metadata": {},
   "source": [
    "#### 4. Loan Amount Term VS Loan Status "
   ]
  },
  {
   "cell_type": "code",
   "execution_count": 48,
   "metadata": {
    "collapsed": false
   },
   "outputs": [
    {
     "name": "stdout",
     "output_type": "stream",
     "text": [
      "Term_bins    low  medium  high\n",
      "Loan_Status                   \n",
      "N              3      21   162\n",
      "Y              9      40   365\n",
      "-----------------------------------------\n",
      "Chi2 statistics:\n",
      "Chi2 = 0.553388\n",
      "p-value = 0.758287\n"
     ]
    }
   ],
   "source": [
    "'''Earlier we divided the Loan Amount Term into 3 categories and through bivariate tests we assumed that there is actually\n",
    "an association with gettinfg a loan. Lets confirm that assumption.'''\n",
    "\n",
    "'''\n",
    "Null hypothesis: equal chances of getting a loan for different Loan Term \n",
    "Alternate      : not equal chances\n",
    "'''\n",
    "term_status = pd.crosstab(loan1.Loan_Status, loan1.Term_bins)\n",
    "print(term_status)\n",
    "print(\"-----------------------------------------\")\n",
    "print(\"Chi2 statistics:\")\n",
    "from scipy import stats \n",
    "chi2,p,df, arr = stats.chi2_contingency(term_status, correction=False)\n",
    "print(\"Chi2 = %f\" %(chi2))\n",
    "print(\"p-value = %f\" %(p))"
   ]
  },
  {
   "cell_type": "raw",
   "metadata": {},
   "source": [
    "With p-value > 0.05, we fail to reject the null hypothesis. Our initial assumption was wrong and now we can conclude that there is no association between Loan Term and getting a loan."
   ]
  },
  {
   "cell_type": "markdown",
   "metadata": {},
   "source": [
    "#### 5. Dependents VS Loan Status"
   ]
  },
  {
   "cell_type": "code",
   "execution_count": 50,
   "metadata": {
    "collapsed": false
   },
   "outputs": [
    {
     "name": "stdout",
     "output_type": "stream",
     "text": [
      "Dependents     0   1   2  3+\n",
      "Loan_Status                 \n",
      "N            107  36  25  18\n",
      "Y            238  66  76  33\n",
      "-----------------------------------------\n",
      "Chi2 statistics:\n",
      "Chi2 = 3.158340\n",
      "p-value = 0.367851\n"
     ]
    }
   ],
   "source": [
    "'''Earlier we found that except dependents = 0, others had an association with with Loan Status.'''\n",
    "'''\n",
    "Null hypothesis: equal chances of getting a loan for different no. of Dependents \n",
    "Alternate      : not equal chances\n",
    "'''\n",
    "dep_status = pd.crosstab(loan1.Loan_Status, loan1.Dependents)\n",
    "print(dep_status)\n",
    "print(\"-----------------------------------------\")\n",
    "print(\"Chi2 statistics:\")\n",
    "from scipy import stats \n",
    "chi2,p,df, arr = stats.chi2_contingency(dep_status, correction=False)\n",
    "print(\"Chi2 = %f\" %(chi2))\n",
    "print(\"p-value = %f\" %(p))"
   ]
  },
  {
   "cell_type": "raw",
   "metadata": {},
   "source": [
    "With p-value > 0.05, we fail to reject the Null Hypothesis."
   ]
  },
  {
   "cell_type": "markdown",
   "metadata": {},
   "source": [
    "#### 6. Self Eemployed VS Loan Status"
   ]
  },
  {
   "cell_type": "code",
   "execution_count": 53,
   "metadata": {
    "collapsed": false
   },
   "outputs": [
    {
     "name": "stdout",
     "output_type": "stream",
     "text": [
      "Self_Employed   No  Yes\n",
      "Loan_Status            \n",
      "N              157   26\n",
      "Y              343   56\n",
      "-----------------------------------------\n",
      "Chi2 statistics:\n",
      "Chi2 = 0.003086\n",
      "p-value = 0.955696\n"
     ]
    }
   ],
   "source": [
    "'''Earlier we assumed that there is no association between Self_Employed and Loan Status.'''\n",
    "'''\n",
    "Null hypothesis: equal chances of getting a loan for Self_employment \n",
    "Alternate      : not equal chances\n",
    "'''\n",
    "emp_status = pd.crosstab(loan1.Loan_Status, loan1.Self_Employed)\n",
    "print(emp_status)\n",
    "print(\"-----------------------------------------\")\n",
    "print(\"Chi2 statistics:\")\n",
    "from scipy import stats \n",
    "chi2,p,df, arr = stats.chi2_contingency(emp_status, correction=False)\n",
    "print(\"Chi2 = %f\" %(chi2))\n",
    "print(\"p-value = %f\" %(p))"
   ]
  },
  {
   "cell_type": "raw",
   "metadata": {},
   "source": [
    "Yes, our initial assumption was correct. With p-value > 0.05, we fail to reject the null hypothesis."
   ]
  },
  {
   "cell_type": "markdown",
   "metadata": {},
   "source": [
    "#### 7. ApplicantIncome VS Loan_Status"
   ]
  },
  {
   "cell_type": "code",
   "execution_count": 55,
   "metadata": {
    "collapsed": false
   },
   "outputs": [
    {
     "name": "stdout",
     "output_type": "stream",
     "text": [
      "t-stats = -0.116508\n",
      "p-value = 0.907288\n"
     ]
    }
   ],
   "source": [
    "'''As seen in Bivariate test, we assumed that there is no significant difference between the means of Applicant's Income for both\n",
    "groups of Loan_Status.'''\n",
    "'''\n",
    "Null Hypothesis: customers with loan_status == yes and those whose loan_status == no, have equal mean Income.\n",
    "Alternate      : not equal\n",
    "'''\n",
    "\n",
    "appIncome_yes = loan1[loan1['Loan_Status'] == 'Y']\n",
    "appIncome_no = loan1[loan1['Loan_Status'] == 'N']\n",
    "\n",
    "appIncome_yes = appIncome_yes.ApplicantIncome\n",
    "appIncome_no = appIncome_no.ApplicantIncome\n",
    "\n",
    "t, p = stats.ttest_ind(appIncome_yes,appIncome_no)\n",
    "print(\"t-stats = %f\" %(t))\n",
    "print(\"p-value = %f\" %(p))"
   ]
  },
  {
   "cell_type": "raw",
   "metadata": {},
   "source": [
    "Our Initial assumption was correct. With p-value > 0.05, we fail to reject the null hypothesis."
   ]
  },
  {
   "cell_type": "code",
   "execution_count": 67,
   "metadata": {
    "collapsed": false
   },
   "outputs": [
    {
     "name": "stdout",
     "output_type": "stream",
     "text": [
      "t-stats = 0.443898\n",
      "p-value = 0.657285\n"
     ]
    }
   ],
   "source": [
    "'''Now lets delete the outliers and conduct the t-test again.'''\n",
    "appIncome_yes1 = loan_new[loan_new['Loan_Status'] == 'Y']\n",
    "appIncome_no1 = loan_new[loan_new['Loan_Status'] == 'N']\n",
    "\n",
    "appIncome_yes1 = appIncome_yes1.ApplicantIncome\n",
    "appIncome_no1 = appIncome_no1.ApplicantIncome\n",
    "\n",
    "t, p = stats.ttest_ind(appIncome_yes1,appIncome_no1)\n",
    "print(\"t-stats = %f\" %(t))\n",
    "print(\"p-value = %f\" %(p))"
   ]
  },
  {
   "cell_type": "raw",
   "metadata": {},
   "source": [
    "Still we fail to reject the Null Hypothesis."
   ]
  },
  {
   "cell_type": "code",
   "execution_count": 65,
   "metadata": {
    "collapsed": false
   },
   "outputs": [
    {
     "name": "stdout",
     "output_type": "stream",
     "text": [
      "ApplicantIncome_bins  low  medium  high\n",
      "Loan_Status                            \n",
      "N                      54      92    46\n",
      "Y                     123     208    91\n",
      "-----------------------------------------\n",
      "Chi2 statistics:\n",
      "Chi2 = 0.437731\n",
      "p-value = 0.803430\n"
     ]
    }
   ],
   "source": [
    "'''Now lets divide the Applicant's Income into 3 parts and conduct a chi2 test to find an actual significance.'''\n",
    "loan_new1 = loan1.copy()\n",
    "loan_new1['ApplicantIncome_bins'] = pd.cut(loan_new1['ApplicantIncome'], bins=[0,3000,6000, 82000], labels=['low','medium','high'])\n",
    "\n",
    "income_bins_status = pd.crosstab(loan_new1.Loan_Status, loan_new1.ApplicantIncome_bins)\n",
    "print(income_bins_status)\n",
    "print(\"-----------------------------------------\")\n",
    "print(\"Chi2 statistics:\")\n",
    "from scipy import stats \n",
    "chi2,p,df, arr = stats.chi2_contingency(income_bins_status, correction=False)\n",
    "print(\"Chi2 = %f\" %(chi2))\n",
    "print(\"p-value = %f\" %(p))"
   ]
  },
  {
   "cell_type": "raw",
   "metadata": {},
   "source": [
    "No significance still."
   ]
  },
  {
   "cell_type": "markdown",
   "metadata": {},
   "source": [
    "#### 8. CoapplicantIncome VS Loan_Status"
   ]
  },
  {
   "cell_type": "code",
   "execution_count": 57,
   "metadata": {
    "collapsed": false
   },
   "outputs": [
    {
     "name": "stdout",
     "output_type": "stream",
     "text": [
      "t-stats = -1.466785\n",
      "p-value = 0.142948\n"
     ]
    }
   ],
   "source": [
    "'''As seen in Bivariate test, we assumed that there is no significant difference between the means of Coapplicant's Income for both\n",
    "groups of Loan_Status.'''\n",
    "'''\n",
    "Null Hypothesis: customers with loan_status == yes and those whose loan_status == no, have equal mean Coapp. Income.\n",
    "Alternate      : not equal\n",
    "'''\n",
    "\n",
    "coappIncome_yes = loan1[loan1['Loan_Status'] == 'Y']\n",
    "coappIncome_no = loan1[loan1['Loan_Status'] == 'N']\n",
    "\n",
    "coappIncome_yes = coappIncome_yes.CoapplicantIncome\n",
    "coappIncome_no = coappIncome_no.CoapplicantIncome\n",
    "\n",
    "t, p = stats.ttest_ind(coappIncome_yes,coappIncome_no)\n",
    "print(\"t-stats = %f\" %(t))\n",
    "print(\"p-value = %f\" %(p))"
   ]
  },
  {
   "cell_type": "raw",
   "metadata": {},
   "source": [
    "with p-value > 0.05, we fail to reject the null hypothesis."
   ]
  },
  {
   "cell_type": "markdown",
   "metadata": {},
   "source": [
    "#### 9. Loan Amount VS Loan_Status"
   ]
  },
  {
   "cell_type": "code",
   "execution_count": 63,
   "metadata": {
    "collapsed": false
   },
   "outputs": [
    {
     "name": "stdout",
     "output_type": "stream",
     "text": [
      "t-stats = -0.907077\n",
      "p-value = 0.364736\n"
     ]
    }
   ],
   "source": [
    "'''As seen in Bivariate test, we assumed that there is no significant difference between the means of Loan Amount for both\n",
    "groups of Loan_Status.'''\n",
    "'''\n",
    "Null Hypothesis: customers with loan_status == yes and those whose loan_status == no, have equal mean LoanAmount.\n",
    "Alternate      : not equal\n",
    "'''\n",
    "\n",
    "amount_yes = loan1[loan1['Loan_Status'] == 'Y']\n",
    "amount_no = loan1[loan1['Loan_Status'] == 'N']\n",
    "\n",
    "amount_yes = amount_yes.LoanAmount.dropna()\n",
    "amount_no = amount_no.LoanAmount.dropna()\n",
    "\n",
    "t, p = stats.ttest_ind(amount_yes,amount_no)\n",
    "print(\"t-stats = %f\" %(t))\n",
    "print(\"p-value = %f\" %(p))"
   ]
  },
  {
   "cell_type": "raw",
   "metadata": {},
   "source": [
    "We fail to reject the null hypothesis, with p-value > 0.05"
   ]
  },
  {
   "cell_type": "code",
   "execution_count": null,
   "metadata": {
    "collapsed": true
   },
   "outputs": [],
   "source": []
  }
 ],
 "metadata": {
  "anaconda-cloud": {},
  "kernelspec": {
   "display_name": "Python [default]",
   "language": "python",
   "name": "python3"
  },
  "language_info": {
   "codemirror_mode": {
    "name": "ipython",
    "version": 3
   },
   "file_extension": ".py",
   "mimetype": "text/x-python",
   "name": "python",
   "nbconvert_exporter": "python",
   "pygments_lexer": "ipython3",
   "version": "3.5.2"
  }
 },
 "nbformat": 4,
 "nbformat_minor": 2
}
