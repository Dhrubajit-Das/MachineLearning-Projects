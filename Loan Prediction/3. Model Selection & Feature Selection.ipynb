{
 "cells": [
  {
   "cell_type": "code",
   "execution_count": 1,
   "metadata": {
    "collapsed": true
   },
   "outputs": [],
   "source": [
    "import numpy as np\n",
    "import pandas as pd\n",
    "import matplotlib.pyplot as plt\n",
    "from scipy import stats\n",
    "\n",
    "loan = pd.read_csv(\"C:\\\\Users\\\\DHRUBAJIT\\\\Desktop\\\\AnalyticsVidhya\\\\Loan Prediction 3\\\\New_loan.csv\")"
   ]
  },
  {
   "cell_type": "markdown",
   "metadata": {},
   "source": [
    "### 1. Taking all features"
   ]
  },
  {
   "cell_type": "code",
   "execution_count": 2,
   "metadata": {
    "collapsed": true
   },
   "outputs": [],
   "source": [
    "X = loan.drop(['Loan_Status'], axis=1)\n",
    "y = loan.Loan_Status"
   ]
  },
  {
   "cell_type": "code",
   "execution_count": 3,
   "metadata": {
    "collapsed": true
   },
   "outputs": [],
   "source": [
    "from sklearn.preprocessing import StandardScaler\n",
    "sc = StandardScaler()\n",
    "X = sc.fit_transform(X)"
   ]
  },
  {
   "cell_type": "code",
   "execution_count": 5,
   "metadata": {
    "collapsed": false
   },
   "outputs": [
    {
     "name": "stdout",
     "output_type": "stream",
     "text": [
      "LR : 0.811856  ,  0.838323  ,  (0.402090)\n",
      "KNN : 0.817010  ,  0.790419  ,  (0.457800)\n",
      "SVC : 0.819588  ,  0.832335  ,  (0.409469)\n",
      "TREE : 1.000000  ,  0.712575  ,  (0.536120)\n",
      "FOREST : 0.994845  ,  0.766467  ,  (0.483252)\n",
      "BAGGING : 0.992268  ,  0.766467  ,  (0.483252)\n",
      "Boost : 0.922680  ,  0.796407  ,  (0.451213)\n",
      "NB : 0.811856  ,  0.838323  ,  (0.402090)\n",
      "Ada : 0.855670  ,  0.790419  ,  (0.457800)\n"
     ]
    },
    {
     "name": "stderr",
     "output_type": "stream",
     "text": [
      "C:\\Users\\DHRUBAJIT\\Anaconda3\\lib\\site-packages\\sklearn\\neural_network\\multilayer_perceptron.py:563: ConvergenceWarning: Stochastic Optimizer: Maximum iterations reached and the optimization hasn't converged yet.\n",
      "  % (), ConvergenceWarning)\n"
     ]
    },
    {
     "name": "stdout",
     "output_type": "stream",
     "text": [
      "mlp : 0.842784  ,  0.808383  ,  (0.437741)\n",
      "gpc : 0.912371  ,  0.748503  ,  (0.501495)\n"
     ]
    }
   ],
   "source": [
    "from sklearn.model_selection import train_test_split\n",
    "from sklearn.metrics import accuracy_score, confusion_matrix, classification_report, mean_squared_error\n",
    "from sklearn.linear_model import LogisticRegression\n",
    "from sklearn.neighbors import KNeighborsClassifier\n",
    "from sklearn.svm import SVC\n",
    "from sklearn.tree import DecisionTreeClassifier\n",
    "from sklearn.ensemble import RandomForestClassifier, BaggingClassifier, GradientBoostingClassifier\n",
    "from sklearn.naive_bayes import GaussianNB\n",
    "from sklearn.neural_network import MLPClassifier\n",
    "from sklearn.gaussian_process import GaussianProcessClassifier\n",
    "from sklearn.ensemble import ExtraTreesClassifier, AdaBoostClassifier\n",
    "\n",
    "models = []\n",
    "models.append(('LR',LogisticRegression()))\n",
    "models.append(('KNN',KNeighborsClassifier()))\n",
    "models.append(('SVC',SVC()))\n",
    "models.append(('TREE',DecisionTreeClassifier()))\n",
    "models.append(('FOREST',RandomForestClassifier()))\n",
    "models.append(('BAGGING',BaggingClassifier()))\n",
    "models.append(('Boost',GradientBoostingClassifier()))\n",
    "models.append(('NB',GaussianNB()))\n",
    "models.append(('Ada',AdaBoostClassifier()))\n",
    "models.append(('mlp',MLPClassifier()))\n",
    "models.append(('gpc',GaussianProcessClassifier()))\n",
    "\n",
    "train_accuracy = []\n",
    "test_accuracy = []\n",
    "error = []\n",
    "names = []\n",
    "for name,model in models:\n",
    "    xtrain,xtest,ytrain,ytest = train_test_split(X,y, test_size=0.3, random_state=0)\n",
    "    model.fit(xtrain,ytrain)\n",
    "    model_pred = model.predict(xtest)\n",
    "    train_accu = model.score(xtrain,ytrain)\n",
    "    test_accu = model.score(xtest,ytest)\n",
    "    rmse = np.sqrt(mean_squared_error(ytest,model_pred))\n",
    "    train_accuracy.append(train_accu)\n",
    "    test_accuracy.append(test_accu)\n",
    "    error.append(rmse)\n",
    "    names.append(name)\n",
    "    a = pd.DataFrame(train_accuracy)\n",
    "    b = pd.DataFrame(test_accuracy)\n",
    "    c = pd.DataFrame(error)\n",
    "    print(\"%s : %f  ,  %f  ,  (%f)\" %(name, train_accu, test_accu, rmse))"
   ]
  },
  {
   "cell_type": "markdown",
   "metadata": {},
   "source": [
    "### 2. Recursive Feature Elimination"
   ]
  },
  {
   "cell_type": "code",
   "execution_count": 7,
   "metadata": {
    "collapsed": false
   },
   "outputs": [
    {
     "data": {
      "text/plain": [
       "RFE(estimator=LogisticRegression(C=1.0, class_weight=None, dual=False, fit_intercept=True,\n",
       "          intercept_scaling=1, max_iter=100, multi_class='ovr', n_jobs=1,\n",
       "          penalty='l2', random_state=None, solver='liblinear', tol=0.0001,\n",
       "          verbose=0, warm_start=False),\n",
       "  n_features_to_select=None, step=1, verbose=0)"
      ]
     },
     "execution_count": 7,
     "metadata": {},
     "output_type": "execute_result"
    }
   ],
   "source": [
    "from sklearn.feature_selection import RFE\n",
    "lrr = LogisticRegression()\n",
    "rfe = RFE(lrr)\n",
    "rfe.fit(X,y)"
   ]
  },
  {
   "cell_type": "code",
   "execution_count": 12,
   "metadata": {
    "collapsed": false
   },
   "outputs": [
    {
     "name": "stdout",
     "output_type": "stream",
     "text": [
      "[False  True False  True False False  True  True  True False False]\n",
      "\n",
      "Selected Feature Matrix Shape\n",
      "(555, 5)\n"
     ]
    }
   ],
   "source": [
    "print(rfe.support_)\n",
    "selected = X[:,rfe.support_]\n",
    "print (\"\")\n",
    "print (\"Selected Feature Matrix Shape\")\n",
    "print (selected.shape)"
   ]
  },
  {
   "cell_type": "code",
   "execution_count": 17,
   "metadata": {
    "collapsed": false
   },
   "outputs": [
    {
     "name": "stdout",
     "output_type": "stream",
     "text": [
      "LR : 0.811856  ,  0.838323  ,  (0.402090)\n",
      "KNN : 0.829897  ,  0.796407  ,  (0.451213)\n",
      "SVC : 0.814433  ,  0.838323  ,  (0.402090)\n",
      "NB : 0.811856  ,  0.838323  ,  (0.402090)\n",
      "gpc : 0.827320  ,  0.826347  ,  (0.416717)\n"
     ]
    },
    {
     "name": "stderr",
     "output_type": "stream",
     "text": [
      "C:\\Users\\DHRUBAJIT\\Anaconda3\\lib\\site-packages\\sklearn\\neural_network\\multilayer_perceptron.py:563: ConvergenceWarning: Stochastic Optimizer: Maximum iterations reached and the optimization hasn't converged yet.\n",
      "  % (), ConvergenceWarning)\n"
     ]
    },
    {
     "name": "stdout",
     "output_type": "stream",
     "text": [
      "mlp : 0.817010  ,  0.820359  ,  (0.423840)\n",
      "TREE : 0.981959  ,  0.700599  ,  (0.547176)\n",
      "FOREST : 0.981959  ,  0.712575  ,  (0.536120)\n",
      "BAGGING : 0.961340  ,  0.694611  ,  (0.552620)\n",
      "Boost : 0.894330  ,  0.766467  ,  (0.483252)\n",
      "Ada : 0.837629  ,  0.778443  ,  (0.470698)\n"
     ]
    }
   ],
   "source": [
    "models2 = []\n",
    "models2.append(('LR',LogisticRegression()))\n",
    "models2.append(('KNN',KNeighborsClassifier()))\n",
    "models2.append(('SVC',SVC()))\n",
    "models2.append(('NB',GaussianNB()))\n",
    "models2.append(('gpc',GaussianProcessClassifier()))\n",
    "models2.append(('mlp',MLPClassifier()))\n",
    "models2.append(('TREE',DecisionTreeClassifier()))\n",
    "models2.append(('FOREST',RandomForestClassifier()))\n",
    "models2.append(('BAGGING',BaggingClassifier()))\n",
    "models2.append(('Boost',GradientBoostingClassifier()))\n",
    "models2.append(('Ada',AdaBoostClassifier()))\n",
    "\n",
    "\n",
    "train_accuracy2 = []\n",
    "test_accuracy2 = []\n",
    "error2 = []\n",
    "names2 = []\n",
    "for name,model in models2:\n",
    "    xtr,xte,ytr,yte = train_test_split(selected,y, test_size=0.3, random_state=0)\n",
    "    model.fit(xtr,ytr)\n",
    "    model_pred = model.predict(xte)\n",
    "    train_accu = model.score(xtr,ytr)\n",
    "    test_accu = model.score(xte,yte)\n",
    "    rmse = np.sqrt(mean_squared_error(yte,model_pred))\n",
    "    train_accuracy2.append(train_accu)\n",
    "    test_accuracy2.append(test_accu)\n",
    "    error2.append(rmse)\n",
    "    names2.append(name)\n",
    "    print(\"%s : %f  ,  %f  ,  (%f)\" %(name, train_accu, test_accu, rmse))"
   ]
  },
  {
   "cell_type": "markdown",
   "metadata": {},
   "source": [
    "### 3. SelectKBest with f_classif function"
   ]
  },
  {
   "cell_type": "code",
   "execution_count": 49,
   "metadata": {
    "collapsed": false
   },
   "outputs": [],
   "source": [
    "from sklearn.feature_selection import SelectKBest,f_classif\n",
    "skb = SelectKBest(f_classif,k=5)\n",
    "new_fea = skb.fit_transform(X,y)"
   ]
  },
  {
   "cell_type": "code",
   "execution_count": 50,
   "metadata": {
    "collapsed": false
   },
   "outputs": [
    {
     "name": "stdout",
     "output_type": "stream",
     "text": [
      "LR : 0.811856  ,  0.838323  ,  (0.402090)\n",
      "KNN : 0.819588  ,  0.808383  ,  (0.437741)\n",
      "SVC : 0.811856  ,  0.838323  ,  (0.402090)\n",
      "NB : 0.811856  ,  0.838323  ,  (0.402090)\n",
      "gpc : 0.814433  ,  0.832335  ,  (0.409469)\n",
      "mlp : 0.811856  ,  0.838323  ,  (0.402090)\n",
      "TREE : 0.886598  ,  0.748503  ,  (0.501495)\n",
      "FOREST : 0.865979  ,  0.754491  ,  (0.495489)\n",
      "BAGGING : 0.873711  ,  0.766467  ,  (0.483252)\n",
      "Boost : 0.853093  ,  0.820359  ,  (0.423840)\n",
      "Ada : 0.829897  ,  0.826347  ,  (0.416717)\n"
     ]
    }
   ],
   "source": [
    "models3 = []\n",
    "models3.append(('LR',LogisticRegression()))\n",
    "models3.append(('KNN',KNeighborsClassifier()))\n",
    "models3.append(('SVC',SVC()))\n",
    "models3.append(('NB',GaussianNB()))\n",
    "models3.append(('gpc',GaussianProcessClassifier()))\n",
    "models3.append(('mlp',MLPClassifier()))\n",
    "models3.append(('TREE',DecisionTreeClassifier()))\n",
    "models3.append(('FOREST',RandomForestClassifier()))\n",
    "models3.append(('BAGGING',BaggingClassifier()))\n",
    "models3.append(('Boost',GradientBoostingClassifier()))\n",
    "models3.append(('Ada',AdaBoostClassifier()))\n",
    "\n",
    "train_accuracy3 = []\n",
    "test_accuracy3 = []\n",
    "error3 = []\n",
    "names3 = []\n",
    "for name,model in models3:\n",
    "    xtr,xte,ytr,yte = train_test_split(new_fea,y, test_size=0.3, random_state=0)\n",
    "    model.fit(xtr,ytr)\n",
    "    model_pred = model.predict(xte)\n",
    "    train_accu = model.score(xtr,ytr)\n",
    "    test_accu = model.score(xte,yte)\n",
    "    rmse = np.sqrt(mean_squared_error(yte,model_pred))\n",
    "    train_accuracy3.append(train_accu)\n",
    "    test_accuracy3.append(test_accu)\n",
    "    error3.append(rmse)\n",
    "    names3.append(name)\n",
    "    print(\"%s : %f  ,  %f  ,  (%f)\" %(name, train_accu, test_accu, rmse))"
   ]
  },
  {
   "cell_type": "markdown",
   "metadata": {},
   "source": [
    "### 4. SelectPercentile"
   ]
  },
  {
   "cell_type": "code",
   "execution_count": 44,
   "metadata": {
    "collapsed": false
   },
   "outputs": [
    {
     "data": {
      "text/plain": [
       "(555, 5)"
      ]
     },
     "execution_count": 44,
     "metadata": {},
     "output_type": "execute_result"
    }
   ],
   "source": [
    "from sklearn.feature_selection import SelectPercentile\n",
    "sp = SelectPercentile(f_classif, percentile=50)\n",
    "n_fea = sp.fit_transform(X,y)\n",
    "n_fea.shape"
   ]
  },
  {
   "cell_type": "code",
   "execution_count": 46,
   "metadata": {
    "collapsed": false
   },
   "outputs": [
    {
     "name": "stdout",
     "output_type": "stream",
     "text": [
      "LR : 0.811856  ,  0.838323  ,  (0.402090)\n",
      "KNN : 0.819588  ,  0.808383  ,  (0.437741)\n",
      "SVC : 0.811856  ,  0.838323  ,  (0.402090)\n",
      "NB : 0.811856  ,  0.838323  ,  (0.402090)\n",
      "gpc : 0.814433  ,  0.832335  ,  (0.409469)\n",
      "mlp : 0.811856  ,  0.838323  ,  (0.402090)\n",
      "TREE : 0.886598  ,  0.742515  ,  (0.507430)\n",
      "FOREST : 0.876289  ,  0.772455  ,  (0.477017)\n",
      "BAGGING : 0.868557  ,  0.748503  ,  (0.501495)\n",
      "Boost : 0.853093  ,  0.820359  ,  (0.423840)\n",
      "Ada : 0.829897  ,  0.826347  ,  (0.416717)\n"
     ]
    }
   ],
   "source": [
    "models4 = []\n",
    "models4.append(('LR',LogisticRegression()))\n",
    "models4.append(('KNN',KNeighborsClassifier()))\n",
    "models4.append(('SVC',SVC()))\n",
    "models4.append(('NB',GaussianNB()))\n",
    "models4.append(('gpc',GaussianProcessClassifier()))\n",
    "models4.append(('mlp',MLPClassifier()))\n",
    "models4.append(('TREE',DecisionTreeClassifier()))\n",
    "models4.append(('FOREST',RandomForestClassifier()))\n",
    "models4.append(('BAGGING',BaggingClassifier()))\n",
    "models4.append(('Boost',GradientBoostingClassifier()))\n",
    "models4.append(('Ada',AdaBoostClassifier()))\n",
    "\n",
    "train_accuracy4 = []\n",
    "test_accuracy4 = []\n",
    "error4 = []\n",
    "names4 = []\n",
    "for name,model in models4:\n",
    "    xtr,xte,ytr,yte = train_test_split(n_fea,y, test_size=0.3, random_state=0)\n",
    "    model.fit(xtr,ytr)\n",
    "    model_pred = model.predict(xte)\n",
    "    train_accu = model.score(xtr,ytr)\n",
    "    test_accu = model.score(xte,yte)\n",
    "    rmse = np.sqrt(mean_squared_error(yte,model_pred))\n",
    "    train_accuracy4.append(train_accu)\n",
    "    test_accuracy4.append(test_accu)\n",
    "    error4.append(rmse)\n",
    "    names4.append(name)\n",
    "    print(\"%s : %f  ,  %f  ,  (%f)\" %(name, train_accu, test_accu, rmse))"
   ]
  },
  {
   "cell_type": "markdown",
   "metadata": {},
   "source": [
    "### 5. Feature Selection by BarutaPy"
   ]
  },
  {
   "cell_type": "raw",
   "metadata": {},
   "source": [
    "Boruta is an all-relevant feature selection method. It tries to capture all the important, interesting features you might \n",
    "have in your dataset with respect to an outcome variable."
   ]
  },
  {
   "cell_type": "code",
   "execution_count": 30,
   "metadata": {
    "collapsed": false
   },
   "outputs": [
    {
     "name": "stderr",
     "output_type": "stream",
     "text": [
      "C:\\Users\\DHRUBAJIT\\Anaconda3\\lib\\site-packages\\boruta\\boruta_py.py:418: RuntimeWarning: invalid value encountered in greater\n",
      "  hits = np.where(cur_imp[0] > imp_sha_max)[0]\n",
      "C:\\Users\\DHRUBAJIT\\Anaconda3\\lib\\site-packages\\boruta\\boruta_py.py:418: RuntimeWarning: invalid value encountered in greater\n",
      "  hits = np.where(cur_imp[0] > imp_sha_max)[0]\n",
      "C:\\Users\\DHRUBAJIT\\Anaconda3\\lib\\site-packages\\boruta\\boruta_py.py:418: RuntimeWarning: invalid value encountered in greater\n",
      "  hits = np.where(cur_imp[0] > imp_sha_max)[0]\n",
      "C:\\Users\\DHRUBAJIT\\Anaconda3\\lib\\site-packages\\boruta\\boruta_py.py:418: RuntimeWarning: invalid value encountered in greater\n",
      "  hits = np.where(cur_imp[0] > imp_sha_max)[0]\n",
      "C:\\Users\\DHRUBAJIT\\Anaconda3\\lib\\site-packages\\boruta\\boruta_py.py:418: RuntimeWarning: invalid value encountered in greater\n",
      "  hits = np.where(cur_imp[0] > imp_sha_max)[0]\n",
      "C:\\Users\\DHRUBAJIT\\Anaconda3\\lib\\site-packages\\boruta\\boruta_py.py:418: RuntimeWarning: invalid value encountered in greater\n",
      "  hits = np.where(cur_imp[0] > imp_sha_max)[0]\n",
      "C:\\Users\\DHRUBAJIT\\Anaconda3\\lib\\site-packages\\boruta\\boruta_py.py:418: RuntimeWarning: invalid value encountered in greater\n",
      "  hits = np.where(cur_imp[0] > imp_sha_max)[0]\n",
      "C:\\Users\\DHRUBAJIT\\Anaconda3\\lib\\site-packages\\boruta\\boruta_py.py:418: RuntimeWarning: invalid value encountered in greater\n",
      "  hits = np.where(cur_imp[0] > imp_sha_max)[0]\n",
      "C:\\Users\\DHRUBAJIT\\Anaconda3\\lib\\site-packages\\boruta\\boruta_py.py:418: RuntimeWarning: invalid value encountered in greater\n",
      "  hits = np.where(cur_imp[0] > imp_sha_max)[0]\n",
      "C:\\Users\\DHRUBAJIT\\Anaconda3\\lib\\site-packages\\boruta\\boruta_py.py:418: RuntimeWarning: invalid value encountered in greater\n",
      "  hits = np.where(cur_imp[0] > imp_sha_max)[0]\n",
      "C:\\Users\\DHRUBAJIT\\Anaconda3\\lib\\site-packages\\boruta\\boruta_py.py:418: RuntimeWarning: invalid value encountered in greater\n",
      "  hits = np.where(cur_imp[0] > imp_sha_max)[0]\n",
      "C:\\Users\\DHRUBAJIT\\Anaconda3\\lib\\site-packages\\boruta\\boruta_py.py:418: RuntimeWarning: invalid value encountered in greater\n",
      "  hits = np.where(cur_imp[0] > imp_sha_max)[0]\n",
      "C:\\Users\\DHRUBAJIT\\Anaconda3\\lib\\site-packages\\boruta\\boruta_py.py:418: RuntimeWarning: invalid value encountered in greater\n",
      "  hits = np.where(cur_imp[0] > imp_sha_max)[0]\n",
      "C:\\Users\\DHRUBAJIT\\Anaconda3\\lib\\site-packages\\boruta\\boruta_py.py:418: RuntimeWarning: invalid value encountered in greater\n",
      "  hits = np.where(cur_imp[0] > imp_sha_max)[0]\n",
      "C:\\Users\\DHRUBAJIT\\Anaconda3\\lib\\site-packages\\boruta\\boruta_py.py:418: RuntimeWarning: invalid value encountered in greater\n",
      "  hits = np.where(cur_imp[0] > imp_sha_max)[0]\n",
      "C:\\Users\\DHRUBAJIT\\Anaconda3\\lib\\site-packages\\boruta\\boruta_py.py:418: RuntimeWarning: invalid value encountered in greater\n",
      "  hits = np.where(cur_imp[0] > imp_sha_max)[0]\n",
      "C:\\Users\\DHRUBAJIT\\Anaconda3\\lib\\site-packages\\boruta\\boruta_py.py:418: RuntimeWarning: invalid value encountered in greater\n",
      "  hits = np.where(cur_imp[0] > imp_sha_max)[0]\n",
      "C:\\Users\\DHRUBAJIT\\Anaconda3\\lib\\site-packages\\boruta\\boruta_py.py:418: RuntimeWarning: invalid value encountered in greater\n",
      "  hits = np.where(cur_imp[0] > imp_sha_max)[0]\n",
      "C:\\Users\\DHRUBAJIT\\Anaconda3\\lib\\site-packages\\boruta\\boruta_py.py:418: RuntimeWarning: invalid value encountered in greater\n",
      "  hits = np.where(cur_imp[0] > imp_sha_max)[0]\n",
      "C:\\Users\\DHRUBAJIT\\Anaconda3\\lib\\site-packages\\boruta\\boruta_py.py:418: RuntimeWarning: invalid value encountered in greater\n",
      "  hits = np.where(cur_imp[0] > imp_sha_max)[0]\n",
      "C:\\Users\\DHRUBAJIT\\Anaconda3\\lib\\site-packages\\boruta\\boruta_py.py:418: RuntimeWarning: invalid value encountered in greater\n",
      "  hits = np.where(cur_imp[0] > imp_sha_max)[0]\n",
      "C:\\Users\\DHRUBAJIT\\Anaconda3\\lib\\site-packages\\boruta\\boruta_py.py:418: RuntimeWarning: invalid value encountered in greater\n",
      "  hits = np.where(cur_imp[0] > imp_sha_max)[0]\n",
      "C:\\Users\\DHRUBAJIT\\Anaconda3\\lib\\site-packages\\boruta\\boruta_py.py:418: RuntimeWarning: invalid value encountered in greater\n",
      "  hits = np.where(cur_imp[0] > imp_sha_max)[0]\n",
      "C:\\Users\\DHRUBAJIT\\Anaconda3\\lib\\site-packages\\boruta\\boruta_py.py:418: RuntimeWarning: invalid value encountered in greater\n",
      "  hits = np.where(cur_imp[0] > imp_sha_max)[0]\n",
      "C:\\Users\\DHRUBAJIT\\Anaconda3\\lib\\site-packages\\boruta\\boruta_py.py:418: RuntimeWarning: invalid value encountered in greater\n",
      "  hits = np.where(cur_imp[0] > imp_sha_max)[0]\n",
      "C:\\Users\\DHRUBAJIT\\Anaconda3\\lib\\site-packages\\boruta\\boruta_py.py:418: RuntimeWarning: invalid value encountered in greater\n",
      "  hits = np.where(cur_imp[0] > imp_sha_max)[0]\n",
      "C:\\Users\\DHRUBAJIT\\Anaconda3\\lib\\site-packages\\boruta\\boruta_py.py:418: RuntimeWarning: invalid value encountered in greater\n",
      "  hits = np.where(cur_imp[0] > imp_sha_max)[0]\n",
      "C:\\Users\\DHRUBAJIT\\Anaconda3\\lib\\site-packages\\boruta\\boruta_py.py:418: RuntimeWarning: invalid value encountered in greater\n",
      "  hits = np.where(cur_imp[0] > imp_sha_max)[0]\n",
      "C:\\Users\\DHRUBAJIT\\Anaconda3\\lib\\site-packages\\boruta\\boruta_py.py:418: RuntimeWarning: invalid value encountered in greater\n",
      "  hits = np.where(cur_imp[0] > imp_sha_max)[0]\n",
      "C:\\Users\\DHRUBAJIT\\Anaconda3\\lib\\site-packages\\boruta\\boruta_py.py:418: RuntimeWarning: invalid value encountered in greater\n",
      "  hits = np.where(cur_imp[0] > imp_sha_max)[0]\n",
      "C:\\Users\\DHRUBAJIT\\Anaconda3\\lib\\site-packages\\boruta\\boruta_py.py:418: RuntimeWarning: invalid value encountered in greater\n",
      "  hits = np.where(cur_imp[0] > imp_sha_max)[0]\n",
      "C:\\Users\\DHRUBAJIT\\Anaconda3\\lib\\site-packages\\boruta\\boruta_py.py:418: RuntimeWarning: invalid value encountered in greater\n",
      "  hits = np.where(cur_imp[0] > imp_sha_max)[0]\n",
      "C:\\Users\\DHRUBAJIT\\Anaconda3\\lib\\site-packages\\boruta\\boruta_py.py:418: RuntimeWarning: invalid value encountered in greater\n",
      "  hits = np.where(cur_imp[0] > imp_sha_max)[0]\n",
      "C:\\Users\\DHRUBAJIT\\Anaconda3\\lib\\site-packages\\boruta\\boruta_py.py:418: RuntimeWarning: invalid value encountered in greater\n",
      "  hits = np.where(cur_imp[0] > imp_sha_max)[0]\n",
      "C:\\Users\\DHRUBAJIT\\Anaconda3\\lib\\site-packages\\boruta\\boruta_py.py:418: RuntimeWarning: invalid value encountered in greater\n",
      "  hits = np.where(cur_imp[0] > imp_sha_max)[0]\n",
      "C:\\Users\\DHRUBAJIT\\Anaconda3\\lib\\site-packages\\boruta\\boruta_py.py:418: RuntimeWarning: invalid value encountered in greater\n",
      "  hits = np.where(cur_imp[0] > imp_sha_max)[0]\n",
      "C:\\Users\\DHRUBAJIT\\Anaconda3\\lib\\site-packages\\boruta\\boruta_py.py:418: RuntimeWarning: invalid value encountered in greater\n",
      "  hits = np.where(cur_imp[0] > imp_sha_max)[0]\n",
      "C:\\Users\\DHRUBAJIT\\Anaconda3\\lib\\site-packages\\boruta\\boruta_py.py:418: RuntimeWarning: invalid value encountered in greater\n",
      "  hits = np.where(cur_imp[0] > imp_sha_max)[0]\n",
      "C:\\Users\\DHRUBAJIT\\Anaconda3\\lib\\site-packages\\boruta\\boruta_py.py:418: RuntimeWarning: invalid value encountered in greater\n",
      "  hits = np.where(cur_imp[0] > imp_sha_max)[0]\n",
      "C:\\Users\\DHRUBAJIT\\Anaconda3\\lib\\site-packages\\boruta\\boruta_py.py:418: RuntimeWarning: invalid value encountered in greater\n",
      "  hits = np.where(cur_imp[0] > imp_sha_max)[0]\n",
      "C:\\Users\\DHRUBAJIT\\Anaconda3\\lib\\site-packages\\boruta\\boruta_py.py:418: RuntimeWarning: invalid value encountered in greater\n",
      "  hits = np.where(cur_imp[0] > imp_sha_max)[0]\n",
      "C:\\Users\\DHRUBAJIT\\Anaconda3\\lib\\site-packages\\boruta\\boruta_py.py:418: RuntimeWarning: invalid value encountered in greater\n",
      "  hits = np.where(cur_imp[0] > imp_sha_max)[0]\n",
      "C:\\Users\\DHRUBAJIT\\Anaconda3\\lib\\site-packages\\boruta\\boruta_py.py:418: RuntimeWarning: invalid value encountered in greater\n",
      "  hits = np.where(cur_imp[0] > imp_sha_max)[0]\n",
      "C:\\Users\\DHRUBAJIT\\Anaconda3\\lib\\site-packages\\boruta\\boruta_py.py:418: RuntimeWarning: invalid value encountered in greater\n",
      "  hits = np.where(cur_imp[0] > imp_sha_max)[0]\n",
      "C:\\Users\\DHRUBAJIT\\Anaconda3\\lib\\site-packages\\boruta\\boruta_py.py:418: RuntimeWarning: invalid value encountered in greater\n",
      "  hits = np.where(cur_imp[0] > imp_sha_max)[0]\n",
      "C:\\Users\\DHRUBAJIT\\Anaconda3\\lib\\site-packages\\boruta\\boruta_py.py:418: RuntimeWarning: invalid value encountered in greater\n",
      "  hits = np.where(cur_imp[0] > imp_sha_max)[0]\n",
      "C:\\Users\\DHRUBAJIT\\Anaconda3\\lib\\site-packages\\boruta\\boruta_py.py:418: RuntimeWarning: invalid value encountered in greater\n",
      "  hits = np.where(cur_imp[0] > imp_sha_max)[0]\n",
      "C:\\Users\\DHRUBAJIT\\Anaconda3\\lib\\site-packages\\boruta\\boruta_py.py:418: RuntimeWarning: invalid value encountered in greater\n",
      "  hits = np.where(cur_imp[0] > imp_sha_max)[0]\n",
      "C:\\Users\\DHRUBAJIT\\Anaconda3\\lib\\site-packages\\boruta\\boruta_py.py:418: RuntimeWarning: invalid value encountered in greater\n",
      "  hits = np.where(cur_imp[0] > imp_sha_max)[0]\n",
      "C:\\Users\\DHRUBAJIT\\Anaconda3\\lib\\site-packages\\boruta\\boruta_py.py:418: RuntimeWarning: invalid value encountered in greater\n",
      "  hits = np.where(cur_imp[0] > imp_sha_max)[0]\n",
      "C:\\Users\\DHRUBAJIT\\Anaconda3\\lib\\site-packages\\boruta\\boruta_py.py:418: RuntimeWarning: invalid value encountered in greater\n",
      "  hits = np.where(cur_imp[0] > imp_sha_max)[0]\n",
      "C:\\Users\\DHRUBAJIT\\Anaconda3\\lib\\site-packages\\boruta\\boruta_py.py:418: RuntimeWarning: invalid value encountered in greater\n",
      "  hits = np.where(cur_imp[0] > imp_sha_max)[0]\n",
      "C:\\Users\\DHRUBAJIT\\Anaconda3\\lib\\site-packages\\boruta\\boruta_py.py:418: RuntimeWarning: invalid value encountered in greater\n",
      "  hits = np.where(cur_imp[0] > imp_sha_max)[0]\n",
      "C:\\Users\\DHRUBAJIT\\Anaconda3\\lib\\site-packages\\boruta\\boruta_py.py:418: RuntimeWarning: invalid value encountered in greater\n",
      "  hits = np.where(cur_imp[0] > imp_sha_max)[0]\n",
      "C:\\Users\\DHRUBAJIT\\Anaconda3\\lib\\site-packages\\boruta\\boruta_py.py:418: RuntimeWarning: invalid value encountered in greater\n",
      "  hits = np.where(cur_imp[0] > imp_sha_max)[0]\n",
      "C:\\Users\\DHRUBAJIT\\Anaconda3\\lib\\site-packages\\boruta\\boruta_py.py:418: RuntimeWarning: invalid value encountered in greater\n",
      "  hits = np.where(cur_imp[0] > imp_sha_max)[0]\n",
      "C:\\Users\\DHRUBAJIT\\Anaconda3\\lib\\site-packages\\boruta\\boruta_py.py:418: RuntimeWarning: invalid value encountered in greater\n",
      "  hits = np.where(cur_imp[0] > imp_sha_max)[0]\n",
      "C:\\Users\\DHRUBAJIT\\Anaconda3\\lib\\site-packages\\boruta\\boruta_py.py:418: RuntimeWarning: invalid value encountered in greater\n",
      "  hits = np.where(cur_imp[0] > imp_sha_max)[0]\n",
      "C:\\Users\\DHRUBAJIT\\Anaconda3\\lib\\site-packages\\boruta\\boruta_py.py:418: RuntimeWarning: invalid value encountered in greater\n",
      "  hits = np.where(cur_imp[0] > imp_sha_max)[0]\n",
      "C:\\Users\\DHRUBAJIT\\Anaconda3\\lib\\site-packages\\boruta\\boruta_py.py:418: RuntimeWarning: invalid value encountered in greater\n",
      "  hits = np.where(cur_imp[0] > imp_sha_max)[0]\n",
      "C:\\Users\\DHRUBAJIT\\Anaconda3\\lib\\site-packages\\boruta\\boruta_py.py:418: RuntimeWarning: invalid value encountered in greater\n",
      "  hits = np.where(cur_imp[0] > imp_sha_max)[0]\n",
      "C:\\Users\\DHRUBAJIT\\Anaconda3\\lib\\site-packages\\boruta\\boruta_py.py:418: RuntimeWarning: invalid value encountered in greater\n",
      "  hits = np.where(cur_imp[0] > imp_sha_max)[0]\n",
      "C:\\Users\\DHRUBAJIT\\Anaconda3\\lib\\site-packages\\boruta\\boruta_py.py:418: RuntimeWarning: invalid value encountered in greater\n",
      "  hits = np.where(cur_imp[0] > imp_sha_max)[0]\n",
      "C:\\Users\\DHRUBAJIT\\Anaconda3\\lib\\site-packages\\boruta\\boruta_py.py:418: RuntimeWarning: invalid value encountered in greater\n",
      "  hits = np.where(cur_imp[0] > imp_sha_max)[0]\n",
      "C:\\Users\\DHRUBAJIT\\Anaconda3\\lib\\site-packages\\boruta\\boruta_py.py:418: RuntimeWarning: invalid value encountered in greater\n",
      "  hits = np.where(cur_imp[0] > imp_sha_max)[0]\n",
      "C:\\Users\\DHRUBAJIT\\Anaconda3\\lib\\site-packages\\boruta\\boruta_py.py:418: RuntimeWarning: invalid value encountered in greater\n",
      "  hits = np.where(cur_imp[0] > imp_sha_max)[0]\n",
      "C:\\Users\\DHRUBAJIT\\Anaconda3\\lib\\site-packages\\boruta\\boruta_py.py:418: RuntimeWarning: invalid value encountered in greater\n",
      "  hits = np.where(cur_imp[0] > imp_sha_max)[0]\n",
      "C:\\Users\\DHRUBAJIT\\Anaconda3\\lib\\site-packages\\boruta\\boruta_py.py:418: RuntimeWarning: invalid value encountered in greater\n",
      "  hits = np.where(cur_imp[0] > imp_sha_max)[0]\n",
      "C:\\Users\\DHRUBAJIT\\Anaconda3\\lib\\site-packages\\boruta\\boruta_py.py:418: RuntimeWarning: invalid value encountered in greater\n",
      "  hits = np.where(cur_imp[0] > imp_sha_max)[0]\n",
      "C:\\Users\\DHRUBAJIT\\Anaconda3\\lib\\site-packages\\boruta\\boruta_py.py:418: RuntimeWarning: invalid value encountered in greater\n",
      "  hits = np.where(cur_imp[0] > imp_sha_max)[0]\n",
      "C:\\Users\\DHRUBAJIT\\Anaconda3\\lib\\site-packages\\boruta\\boruta_py.py:418: RuntimeWarning: invalid value encountered in greater\n",
      "  hits = np.where(cur_imp[0] > imp_sha_max)[0]\n",
      "C:\\Users\\DHRUBAJIT\\Anaconda3\\lib\\site-packages\\boruta\\boruta_py.py:418: RuntimeWarning: invalid value encountered in greater\n",
      "  hits = np.where(cur_imp[0] > imp_sha_max)[0]\n",
      "C:\\Users\\DHRUBAJIT\\Anaconda3\\lib\\site-packages\\boruta\\boruta_py.py:418: RuntimeWarning: invalid value encountered in greater\n",
      "  hits = np.where(cur_imp[0] > imp_sha_max)[0]\n",
      "C:\\Users\\DHRUBAJIT\\Anaconda3\\lib\\site-packages\\boruta\\boruta_py.py:418: RuntimeWarning: invalid value encountered in greater\n",
      "  hits = np.where(cur_imp[0] > imp_sha_max)[0]\n",
      "C:\\Users\\DHRUBAJIT\\Anaconda3\\lib\\site-packages\\boruta\\boruta_py.py:418: RuntimeWarning: invalid value encountered in greater\n",
      "  hits = np.where(cur_imp[0] > imp_sha_max)[0]\n",
      "C:\\Users\\DHRUBAJIT\\Anaconda3\\lib\\site-packages\\boruta\\boruta_py.py:418: RuntimeWarning: invalid value encountered in greater\n",
      "  hits = np.where(cur_imp[0] > imp_sha_max)[0]\n",
      "C:\\Users\\DHRUBAJIT\\Anaconda3\\lib\\site-packages\\boruta\\boruta_py.py:418: RuntimeWarning: invalid value encountered in greater\n",
      "  hits = np.where(cur_imp[0] > imp_sha_max)[0]\n",
      "C:\\Users\\DHRUBAJIT\\Anaconda3\\lib\\site-packages\\boruta\\boruta_py.py:418: RuntimeWarning: invalid value encountered in greater\n",
      "  hits = np.where(cur_imp[0] > imp_sha_max)[0]\n",
      "C:\\Users\\DHRUBAJIT\\Anaconda3\\lib\\site-packages\\boruta\\boruta_py.py:418: RuntimeWarning: invalid value encountered in greater\n",
      "  hits = np.where(cur_imp[0] > imp_sha_max)[0]\n",
      "C:\\Users\\DHRUBAJIT\\Anaconda3\\lib\\site-packages\\boruta\\boruta_py.py:418: RuntimeWarning: invalid value encountered in greater\n",
      "  hits = np.where(cur_imp[0] > imp_sha_max)[0]\n"
     ]
    },
    {
     "data": {
      "text/plain": [
       "BorutaPy(alpha=0.01,\n",
       "     estimator=RandomForestClassifier(bootstrap=True, class_weight=None, criterion='gini',\n",
       "            max_depth=None, max_features='auto', max_leaf_nodes=None,\n",
       "            min_impurity_split=1e-07, min_samples_leaf=1,\n",
       "            min_samples_split=2, min_weight_fraction_leaf=0.0,\n",
       "            n_estimators=20, n_jobs=1, oob_score=False,\n",
       "            random_state=<mtrand.RandomState object at 0x000000F0BAC88990>,\n",
       "            verbose=0, warm_start=False),\n",
       "     max_iter=100, n_estimators='auto', perc=100,\n",
       "     random_state=<mtrand.RandomState object at 0x000000F0BAC88990>,\n",
       "     two_step=True, verbose=0)"
      ]
     },
     "execution_count": 30,
     "metadata": {},
     "output_type": "execute_result"
    }
   ],
   "source": [
    "from boruta import BorutaPy\n",
    "rf = RandomForestClassifier()\n",
    "feat_selection = BorutaPy(rf, n_estimators='auto',alpha = 0.01)\n",
    "feat_selection.fit(X,y)"
   ]
  },
  {
   "cell_type": "code",
   "execution_count": 31,
   "metadata": {
    "collapsed": false
   },
   "outputs": [
    {
     "name": "stdout",
     "output_type": "stream",
     "text": [
      "[False False False False False False False False  True False False]\n",
      "\n",
      "Selected Feature Matrix Shape\n",
      "(555, 1)\n"
     ]
    }
   ],
   "source": [
    "print(feat_selection.support_)\n",
    "select_fea = X[:,feat_selection.support_]\n",
    "print (\"\")\n",
    "print (\"Selected Feature Matrix Shape\")\n",
    "print (select_fea.shape)"
   ]
  },
  {
   "cell_type": "code",
   "execution_count": 22,
   "metadata": {
    "collapsed": false
   },
   "outputs": [
    {
     "name": "stdout",
     "output_type": "stream",
     "text": [
      "LR : 0.685567  ,  0.706587  ,  (0.541676)\n",
      "KNN : 0.731959  ,  0.610778  ,  (0.623876)\n",
      "SVC : 0.685567  ,  0.706587  ,  (0.541676)\n",
      "NB : 0.685567  ,  0.706587  ,  (0.541676)\n",
      "gpc : 0.685567  ,  0.706587  ,  (0.541676)\n",
      "mlp : 0.685567  ,  0.706587  ,  (0.541676)\n",
      "TREE : 0.948454  ,  0.598802  ,  (0.633402)\n",
      "FOREST : 0.917526  ,  0.568862  ,  (0.656611)\n",
      "BAGGING : 0.912371  ,  0.580838  ,  (0.647427)\n",
      "Boost : 0.824742  ,  0.670659  ,  (0.573883)\n",
      "Ada : 0.752577  ,  0.676647  ,  (0.568642)\n"
     ]
    }
   ],
   "source": [
    "models5 = []\n",
    "models5.append(('LR',LogisticRegression()))\n",
    "models5.append(('KNN',KNeighborsClassifier()))\n",
    "models5.append(('SVC',SVC()))\n",
    "models5.append(('NB',GaussianNB()))\n",
    "models5.append(('gpc',GaussianProcessClassifier()))\n",
    "models5.append(('mlp',MLPClassifier()))\n",
    "models5.append(('TREE',DecisionTreeClassifier()))\n",
    "models5.append(('FOREST',RandomForestClassifier()))\n",
    "models5.append(('BAGGING',BaggingClassifier()))\n",
    "models5.append(('Boost',GradientBoostingClassifier()))\n",
    "models5.append(('Ada',AdaBoostClassifier()))\n",
    "\n",
    "train_accuracy5 = []\n",
    "test_accuracy5 = []\n",
    "error5 = []\n",
    "names5 = []\n",
    "for name,model in models5:\n",
    "    xtr,xte,ytr,yte = train_test_split(select_fea,y, test_size=0.3, random_state=0)\n",
    "    model.fit(xtr,ytr)\n",
    "    model_pred = model.predict(xte)\n",
    "    train_accu = model.score(xtr,ytr)\n",
    "    test_accu = model.score(xte,yte)\n",
    "    rmse = np.sqrt(mean_squared_error(yte,model_pred))\n",
    "    train_accuracy5.append(train_accu)\n",
    "    test_accuracy5.append(test_accu)\n",
    "    error5.append(rmse)\n",
    "    names5.append(name)\n",
    "    print(\"%s : %f  ,  %f  ,  (%f)\" %(name, train_accu, test_accu, rmse))"
   ]
  },
  {
   "cell_type": "markdown",
   "metadata": {},
   "source": [
    "### 6. PCA "
   ]
  },
  {
   "cell_type": "code",
   "execution_count": 61,
   "metadata": {
    "collapsed": false
   },
   "outputs": [
    {
     "data": {
      "text/plain": [
       "PCA(copy=True, iterated_power='auto', n_components=None, random_state=None,\n",
       "  svd_solver='auto', tol=0.0, whiten=False)"
      ]
     },
     "execution_count": 61,
     "metadata": {},
     "output_type": "execute_result"
    }
   ],
   "source": [
    "from sklearn.decomposition import PCA\n",
    "pca1 = PCA()\n",
    "pca1.fit(X)"
   ]
  },
  {
   "cell_type": "code",
   "execution_count": 66,
   "metadata": {
    "collapsed": false
   },
   "outputs": [
    {
     "name": "stdout",
     "output_type": "stream",
     "text": [
      "[  17.07   31.62   43.53   53.49   62.43   71.16   78.64   85.85   92.5\n",
      "   97.37  100.  ]\n"
     ]
    },
    {
     "data": {
      "text/plain": [
       "[<matplotlib.lines.Line2D at 0xf0bfc02eb8>]"
      ]
     },
     "execution_count": 66,
     "metadata": {},
     "output_type": "execute_result"
    },
    {
     "data": {
      "image/png": "[encoded data removed]",
      "text/plain": [
       "<matplotlib.figure.Figure at 0xf0bf7e3b70>"
      ]
     },
     "metadata": {},
     "output_type": "display_data"
    }
   ],
   "source": [
    "var= pca1.explained_variance_ratio_\n",
    "%matplotlib inline\n",
    "var1=np.cumsum(np.round(pca1.explained_variance_ratio_, decimals=4)*100)\n",
    "print(var1)\n",
    "plt.plot(var1)"
   ]
  },
  {
   "cell_type": "code",
   "execution_count": 67,
   "metadata": {
    "collapsed": false
   },
   "outputs": [
    {
     "name": "stdout",
     "output_type": "stream",
     "text": [
      "[[-0.72426226  1.45071226  0.04501078 ..., -0.16821809  0.15509859\n",
      "  -1.16854665]\n",
      " [ 0.77043773 -0.21932391 -0.72025797 ..., -0.80634867  0.29594702\n",
      "   0.81946161]\n",
      " [-0.34521523  0.25208386  1.1228868  ...,  0.95958724 -2.77983488\n",
      "  -0.14887275]\n",
      " ..., \n",
      " [ 2.08099158  2.04913186 -0.04258977 ..., -0.61457663  0.42927293\n",
      "  -1.05087936]\n",
      " [ 1.70735727  1.42804062  0.82417179 ..., -1.16732051 -0.00908765\n",
      "  -0.31903698]\n",
      " [-1.62807569  2.17982328  0.53803284 ...,  2.25114006 -1.59398853\n",
      "   0.87927647]]\n"
     ]
    }
   ],
   "source": [
    "#Looking at above plot I'm taking 9 variables\n",
    "pca = PCA(n_components=8)\n",
    "pca.fit(X)\n",
    "X1=pca.fit_transform(X)\n",
    "\n",
    "print(X1)"
   ]
  },
  {
   "cell_type": "code",
   "execution_count": 68,
   "metadata": {
    "collapsed": false
   },
   "outputs": [
    {
     "name": "stdout",
     "output_type": "stream",
     "text": [
      "LR : 0.811856  ,  0.832335  ,  (0.409469)\n",
      "KNN : 0.819588  ,  0.808383  ,  (0.437741)\n",
      "SVC : 0.814433  ,  0.832335  ,  (0.409469)\n",
      "NB : 0.806701  ,  0.820359  ,  (0.423840)\n",
      "gpc : 0.881443  ,  0.790419  ,  (0.457800)\n"
     ]
    },
    {
     "name": "stderr",
     "output_type": "stream",
     "text": [
      "C:\\Users\\DHRUBAJIT\\Anaconda3\\lib\\site-packages\\sklearn\\neural_network\\multilayer_perceptron.py:563: ConvergenceWarning: Stochastic Optimizer: Maximum iterations reached and the optimization hasn't converged yet.\n",
      "  % (), ConvergenceWarning)\n"
     ]
    },
    {
     "name": "stdout",
     "output_type": "stream",
     "text": [
      "mlp : 0.822165  ,  0.832335  ,  (0.409469)\n",
      "TREE : 1.000000  ,  0.742515  ,  (0.507430)\n",
      "FOREST : 0.989691  ,  0.748503  ,  (0.501495)\n",
      "BAGGING : 0.987113  ,  0.742515  ,  (0.507430)\n",
      "Boost : 0.951031  ,  0.760479  ,  (0.489409)\n",
      "Ada : 0.884021  ,  0.784431  ,  (0.464294)\n"
     ]
    }
   ],
   "source": [
    "models6 = []\n",
    "models6.append(('LR',LogisticRegression()))\n",
    "models6.append(('KNN',KNeighborsClassifier()))\n",
    "models6.append(('SVC',SVC()))\n",
    "models6.append(('NB',GaussianNB()))\n",
    "models6.append(('gpc',GaussianProcessClassifier()))\n",
    "models6.append(('mlp',MLPClassifier()))\n",
    "models6.append(('TREE',DecisionTreeClassifier()))\n",
    "models6.append(('FOREST',RandomForestClassifier()))\n",
    "models6.append(('BAGGING',BaggingClassifier()))\n",
    "models6.append(('Boost',GradientBoostingClassifier()))\n",
    "models6.append(('Ada',AdaBoostClassifier()))\n",
    "\n",
    "train_accuracy6 = []\n",
    "test_accuracy6 = []\n",
    "error6 = []\n",
    "names6 = []\n",
    "for name,model in models6:\n",
    "    xtr,xte,ytr,yte = train_test_split(X1,y, test_size=0.3, random_state=0)\n",
    "    model.fit(xtr,ytr)\n",
    "    model_pred = model.predict(xte)\n",
    "    train_accu = model.score(xtr,ytr)\n",
    "    test_accu = model.score(xte,yte)\n",
    "    rmse = np.sqrt(mean_squared_error(yte,model_pred))\n",
    "    train_accuracy6.append(train_accu)\n",
    "    test_accuracy6.append(test_accu)\n",
    "    error6.append(rmse)\n",
    "    names6.append(name)\n",
    "    print(\"%s : %f  ,  %f  ,  (%f)\" %(name, train_accu, test_accu, rmse))"
   ]
  },
  {
   "cell_type": "markdown",
   "metadata": {},
   "source": [
    "### 7. KernelPCA"
   ]
  },
  {
   "cell_type": "code",
   "execution_count": 88,
   "metadata": {
    "collapsed": false
   },
   "outputs": [],
   "source": [
    "from sklearn.decomposition import KernelPCA\n",
    "kpca = KernelPCA(n_components=8, kernel='rbf')\n",
    "vaar = kpca.fit_transform(X)"
   ]
  },
  {
   "cell_type": "code",
   "execution_count": 89,
   "metadata": {
    "collapsed": false
   },
   "outputs": [
    {
     "name": "stdout",
     "output_type": "stream",
     "text": [
      "LR : 0.809278  ,  0.826347  ,  (0.416717)\n",
      "KNN : 0.824742  ,  0.796407  ,  (0.451213)\n",
      "SVC : 0.788660  ,  0.808383  ,  (0.437741)\n",
      "NB : 0.809278  ,  0.808383  ,  (0.437741)\n",
      "gpc : 0.809278  ,  0.826347  ,  (0.416717)\n"
     ]
    },
    {
     "name": "stderr",
     "output_type": "stream",
     "text": [
      "C:\\Users\\DHRUBAJIT\\Anaconda3\\lib\\site-packages\\sklearn\\neural_network\\multilayer_perceptron.py:563: ConvergenceWarning: Stochastic Optimizer: Maximum iterations reached and the optimization hasn't converged yet.\n",
      "  % (), ConvergenceWarning)\n"
     ]
    },
    {
     "name": "stdout",
     "output_type": "stream",
     "text": [
      "mlp : 0.811856  ,  0.838323  ,  (0.402090)\n",
      "TREE : 1.000000  ,  0.700599  ,  (0.547176)\n",
      "FOREST : 0.987113  ,  0.772455  ,  (0.477017)\n",
      "BAGGING : 0.976804  ,  0.766467  ,  (0.483252)\n",
      "Boost : 0.966495  ,  0.766467  ,  (0.483252)\n",
      "Ada : 0.891753  ,  0.790419  ,  (0.457800)\n"
     ]
    }
   ],
   "source": [
    "models7 = []\n",
    "models7.append(('LR',LogisticRegression()))\n",
    "models7.append(('KNN',KNeighborsClassifier()))\n",
    "models7.append(('SVC',SVC()))\n",
    "models7.append(('NB',GaussianNB()))\n",
    "models7.append(('gpc',GaussianProcessClassifier()))\n",
    "models7.append(('mlp',MLPClassifier()))\n",
    "models7.append(('TREE',DecisionTreeClassifier()))\n",
    "models7.append(('FOREST',RandomForestClassifier()))\n",
    "models7.append(('BAGGING',BaggingClassifier()))\n",
    "models7.append(('Boost',GradientBoostingClassifier()))\n",
    "models7.append(('Ada',AdaBoostClassifier()))\n",
    "\n",
    "train_accuracy7 = []\n",
    "test_accuracy7= []\n",
    "error7 = []\n",
    "names7 = []\n",
    "for name,model in models7:\n",
    "    xtr,xte,ytr,yte = train_test_split(vaar,y, test_size=0.3, random_state=0)\n",
    "    model.fit(xtr,ytr)\n",
    "    model_pred = model.predict(xte)\n",
    "    train_accu = model.score(xtr,ytr)\n",
    "    test_accu = model.score(xte,yte)\n",
    "    rmse = np.sqrt(mean_squared_error(yte,model_pred))\n",
    "    train_accuracy7.append(train_accu)\n",
    "    test_accuracy7.append(test_accu)\n",
    "    error7.append(rmse)\n",
    "    names7.append(name)\n",
    "    print(\"%s : %f  ,  %f  ,  (%f)\" %(name, train_accu, test_accu, rmse))"
   ]
  },
  {
   "cell_type": "markdown",
   "metadata": {},
   "source": []
  },
  {
   "cell_type": "code",
   "execution_count": 7,
   "metadata": {
    "collapsed": true
   },
   "outputs": [],
   "source": []
  },
  {
   "cell_type": "code",
   "execution_count": 10,
   "metadata": {
    "collapsed": false
   },
   "outputs": [],
   "source": []
  },
  {
   "cell_type": "code",
   "execution_count": 11,
   "metadata": {
    "collapsed": false
   },
   "outputs": [],
   "source": []
  },
  {
   "cell_type": "code",
   "execution_count": 23,
   "metadata": {
    "collapsed": true
   },
   "outputs": [],
   "source": []
  },
  {
   "cell_type": "code",
   "execution_count": 24,
   "metadata": {
    "collapsed": false
   },
   "outputs": [],
   "source": [
    "submission = pd.DataFrame({'Loan_ID': idd, 'Loan_Status':test_pred})\n",
    "sub_checker = {0:'N',1:'Y'}\n",
    "submission['Loan_Status'] = submission['Loan_Status'].map(sub_checker)"
   ]
  },
  {
   "cell_type": "code",
   "execution_count": 25,
   "metadata": {
    "collapsed": true
   },
   "outputs": [],
   "source": [
    "submission.to_csv(\"newmodel2.csv\", index=False)"
   ]
  }
 ],
 "metadata": {
  "anaconda-cloud": {},
  "kernelspec": {
   "display_name": "Python [default]",
   "language": "python",
   "name": "python3"
  },
  "language_info": {
   "codemirror_mode": {
    "name": "ipython",
    "version": 3
   },
   "file_extension": ".py",
   "mimetype": "text/x-python",
   "name": "python",
   "nbconvert_exporter": "python",
   "pygments_lexer": "ipython3",
   "version": "3.5.2"
  }
 },
 "nbformat": 4,
 "nbformat_minor": 2
}
