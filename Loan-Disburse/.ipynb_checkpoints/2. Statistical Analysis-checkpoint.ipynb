{
 "cells": [
  {
   "cell_type": "code",
   "execution_count": 2,
   "metadata": {
    "collapsed": false
   },
   "outputs": [],
   "source": [
    "import numpy as np\n",
    "import pandas as pd\n",
    "import matplotlib.pyplot as plt\n",
    "%matplotlib inline\n",
    "from scipy import stats"
   ]
  },
  {
   "cell_type": "code",
   "execution_count": 3,
   "metadata": {
    "collapsed": false
   },
   "outputs": [
    {
     "data": {
      "text/html": [
       "<div>\n",
       "<table border=\"1\" class=\"dataframe\">\n",
       "  <thead>\n",
       "    <tr style=\"text-align: right;\">\n",
       "      <th></th>\n",
       "      <th>ID</th>\n",
       "      <th>Gender</th>\n",
       "      <th>City</th>\n",
       "      <th>Monthly_Income</th>\n",
       "      <th>DOB</th>\n",
       "      <th>Lead_Creation_Date</th>\n",
       "      <th>Loan_Amount_Applied</th>\n",
       "      <th>Loan_Tenure_Applied</th>\n",
       "      <th>Existing_EMI</th>\n",
       "      <th>Employer_Name</th>\n",
       "      <th>...</th>\n",
       "      <th>Interest_Rate</th>\n",
       "      <th>Processing_Fee</th>\n",
       "      <th>EMI_Loan_Submitted</th>\n",
       "      <th>Filled_Form</th>\n",
       "      <th>Device_Type</th>\n",
       "      <th>Var2</th>\n",
       "      <th>Source</th>\n",
       "      <th>Var4</th>\n",
       "      <th>LoggedIn</th>\n",
       "      <th>Disbursed</th>\n",
       "    </tr>\n",
       "  </thead>\n",
       "  <tbody>\n",
       "    <tr>\n",
       "      <th>0</th>\n",
       "      <td>ID000002C20</td>\n",
       "      <td>Female</td>\n",
       "      <td>Delhi</td>\n",
       "      <td>20000</td>\n",
       "      <td>23-May-78</td>\n",
       "      <td>15-May-15</td>\n",
       "      <td>300000.0</td>\n",
       "      <td>5.0</td>\n",
       "      <td>0.0</td>\n",
       "      <td>CYBOSOL</td>\n",
       "      <td>...</td>\n",
       "      <td>NaN</td>\n",
       "      <td>NaN</td>\n",
       "      <td>NaN</td>\n",
       "      <td>N</td>\n",
       "      <td>Web-browser</td>\n",
       "      <td>G</td>\n",
       "      <td>S122</td>\n",
       "      <td>1</td>\n",
       "      <td>0</td>\n",
       "      <td>0</td>\n",
       "    </tr>\n",
       "    <tr>\n",
       "      <th>1</th>\n",
       "      <td>ID000004E40</td>\n",
       "      <td>Male</td>\n",
       "      <td>Mumbai</td>\n",
       "      <td>35000</td>\n",
       "      <td>07-Oct-85</td>\n",
       "      <td>04-May-15</td>\n",
       "      <td>200000.0</td>\n",
       "      <td>2.0</td>\n",
       "      <td>0.0</td>\n",
       "      <td>TATA CONSULTANCY SERVICES LTD (TCS)</td>\n",
       "      <td>...</td>\n",
       "      <td>13.25</td>\n",
       "      <td>NaN</td>\n",
       "      <td>6762.9</td>\n",
       "      <td>N</td>\n",
       "      <td>Web-browser</td>\n",
       "      <td>G</td>\n",
       "      <td>S122</td>\n",
       "      <td>3</td>\n",
       "      <td>0</td>\n",
       "      <td>0</td>\n",
       "    </tr>\n",
       "    <tr>\n",
       "      <th>2</th>\n",
       "      <td>ID000007H20</td>\n",
       "      <td>Male</td>\n",
       "      <td>Panchkula</td>\n",
       "      <td>22500</td>\n",
       "      <td>10-Oct-81</td>\n",
       "      <td>19-May-15</td>\n",
       "      <td>600000.0</td>\n",
       "      <td>4.0</td>\n",
       "      <td>0.0</td>\n",
       "      <td>ALCHEMIST HOSPITALS LTD</td>\n",
       "      <td>...</td>\n",
       "      <td>NaN</td>\n",
       "      <td>NaN</td>\n",
       "      <td>NaN</td>\n",
       "      <td>N</td>\n",
       "      <td>Web-browser</td>\n",
       "      <td>B</td>\n",
       "      <td>S143</td>\n",
       "      <td>1</td>\n",
       "      <td>0</td>\n",
       "      <td>0</td>\n",
       "    </tr>\n",
       "    <tr>\n",
       "      <th>3</th>\n",
       "      <td>ID000008I30</td>\n",
       "      <td>Male</td>\n",
       "      <td>Saharsa</td>\n",
       "      <td>35000</td>\n",
       "      <td>30-Nov-87</td>\n",
       "      <td>09-May-15</td>\n",
       "      <td>1000000.0</td>\n",
       "      <td>5.0</td>\n",
       "      <td>0.0</td>\n",
       "      <td>BIHAR GOVERNMENT</td>\n",
       "      <td>...</td>\n",
       "      <td>NaN</td>\n",
       "      <td>NaN</td>\n",
       "      <td>NaN</td>\n",
       "      <td>N</td>\n",
       "      <td>Web-browser</td>\n",
       "      <td>B</td>\n",
       "      <td>S143</td>\n",
       "      <td>3</td>\n",
       "      <td>0</td>\n",
       "      <td>0</td>\n",
       "    </tr>\n",
       "    <tr>\n",
       "      <th>4</th>\n",
       "      <td>ID000009J40</td>\n",
       "      <td>Male</td>\n",
       "      <td>Bengaluru</td>\n",
       "      <td>100000</td>\n",
       "      <td>17-Feb-84</td>\n",
       "      <td>20-May-15</td>\n",
       "      <td>500000.0</td>\n",
       "      <td>2.0</td>\n",
       "      <td>25000.0</td>\n",
       "      <td>GLOBAL EDGE SOFTWARE</td>\n",
       "      <td>...</td>\n",
       "      <td>NaN</td>\n",
       "      <td>NaN</td>\n",
       "      <td>NaN</td>\n",
       "      <td>N</td>\n",
       "      <td>Web-browser</td>\n",
       "      <td>B</td>\n",
       "      <td>S134</td>\n",
       "      <td>3</td>\n",
       "      <td>1</td>\n",
       "      <td>0</td>\n",
       "    </tr>\n",
       "  </tbody>\n",
       "</table>\n",
       "<p>5 rows × 26 columns</p>\n",
       "</div>"
      ],
      "text/plain": [
       "            ID  Gender       City  Monthly_Income        DOB  \\\n",
       "0  ID000002C20  Female      Delhi           20000  23-May-78   \n",
       "1  ID000004E40    Male     Mumbai           35000  07-Oct-85   \n",
       "2  ID000007H20    Male  Panchkula           22500  10-Oct-81   \n",
       "3  ID000008I30    Male    Saharsa           35000  30-Nov-87   \n",
       "4  ID000009J40    Male  Bengaluru          100000  17-Feb-84   \n",
       "\n",
       "  Lead_Creation_Date  Loan_Amount_Applied  Loan_Tenure_Applied  Existing_EMI  \\\n",
       "0          15-May-15             300000.0                  5.0           0.0   \n",
       "1          04-May-15             200000.0                  2.0           0.0   \n",
       "2          19-May-15             600000.0                  4.0           0.0   \n",
       "3          09-May-15            1000000.0                  5.0           0.0   \n",
       "4          20-May-15             500000.0                  2.0       25000.0   \n",
       "\n",
       "                         Employer_Name    ...    Interest_Rate Processing_Fee  \\\n",
       "0                              CYBOSOL    ...              NaN            NaN   \n",
       "1  TATA CONSULTANCY SERVICES LTD (TCS)    ...            13.25            NaN   \n",
       "2              ALCHEMIST HOSPITALS LTD    ...              NaN            NaN   \n",
       "3                     BIHAR GOVERNMENT    ...              NaN            NaN   \n",
       "4                 GLOBAL EDGE SOFTWARE    ...              NaN            NaN   \n",
       "\n",
       "   EMI_Loan_Submitted Filled_Form  Device_Type  Var2  Source  Var4  LoggedIn  \\\n",
       "0                 NaN           N  Web-browser     G    S122     1         0   \n",
       "1              6762.9           N  Web-browser     G    S122     3         0   \n",
       "2                 NaN           N  Web-browser     B    S143     1         0   \n",
       "3                 NaN           N  Web-browser     B    S143     3         0   \n",
       "4                 NaN           N  Web-browser     B    S134     3         1   \n",
       "\n",
       "  Disbursed  \n",
       "0         0  \n",
       "1         0  \n",
       "2         0  \n",
       "3         0  \n",
       "4         0  \n",
       "\n",
       "[5 rows x 26 columns]"
      ]
     },
     "execution_count": 3,
     "metadata": {},
     "output_type": "execute_result"
    }
   ],
   "source": [
    "data = pd.read_csv(\"C:\\\\Users\\\\DHRUBAJIT\\\\Desktop\\\\AnalyticsVidhya\\\\Loan-Disbursed\\\\train.csv\",encoding=\"ISO-8859-1\")\n",
    "data.head()"
   ]
  },
  {
   "cell_type": "markdown",
   "metadata": {},
   "source": [
    "### Hypothesis Testing"
   ]
  },
  {
   "cell_type": "code",
   "execution_count": 4,
   "metadata": {
    "collapsed": false
   },
   "outputs": [
    {
     "data": {
      "text/plain": [
       "<matplotlib.text.Text at 0x95136c25c0>"
      ]
     },
     "execution_count": 4,
     "metadata": {},
     "output_type": "execute_result"
    },
    {
     "data": {
      "image/png": "[encoded data removed]",
      "text/plain": [
       "<matplotlib.figure.Figure at 0x951367db00>"
      ]
     },
     "metadata": {},
     "output_type": "display_data"
    }
   ],
   "source": [
    "'''\n",
    "1. Does customer monthly income plays a part in Loan Disbursement?\n",
    "\n",
    "Null Hypothesis : mean of customer's monthly income who got the loan is same as the mean of those who didn't.\n",
    "Alternate       : not same means.\n",
    "'''\n",
    "income_disburse = data[['Disbursed','Monthly_Income']].groupby('Disbursed').mean()\n",
    "\n",
    "income_disburse.plot(kind='bar', rot=0, color='blue', alpha=0.5, figsize=[6,4])\n",
    "plt.xticks(range(2),('No','Yes'))\n",
    "plt.title(\"Loan Disbursed group means\")"
   ]
  },
  {
   "cell_type": "raw",
   "metadata": {},
   "source": [
    "The average monthly incomes is slightly higher for the customers who got the loan. So my initial assumption will be that the both group means are significant.\n",
    "\n",
    "Lets confirm this by a statistical test:"
   ]
  },
  {
   "cell_type": "code",
   "execution_count": 5,
   "metadata": {
    "collapsed": false
   },
   "outputs": [
    {
     "name": "stdout",
     "output_type": "stream",
     "text": [
      "t-stats : 0.064481\n",
      "p-value : 0.948588\n"
     ]
    }
   ],
   "source": [
    "income_disburse_yes = data[data['Disbursed'] == 1]\n",
    "income_disburse_no = data[data['Disbursed'] == 0]\n",
    "income_disburse_yes = income_disburse_yes.Monthly_Income\n",
    "income_disburse_no = income_disburse_no.Monthly_Income\n",
    "\n",
    "t, p = stats.ttest_ind(income_disburse_yes,income_disburse_no)\n",
    "print(\"t-stats : %f\" %(t))\n",
    "print(\"p-value : %f\" %(p))"
   ]
  },
  {
   "cell_type": "raw",
   "metadata": {},
   "source": [
    "The test yields a p-value of 0.948, which means there is a 95% chance that we would see sample data this far apart if the two groups tested are actually identical.\n",
    "Hence we fail to reject the Null Hypothesis and conclude that both groups means are almost equal."
   ]
  },
  {
   "cell_type": "code",
   "execution_count": 6,
   "metadata": {
    "collapsed": false
   },
   "outputs": [
    {
     "name": "stdout",
     "output_type": "stream",
     "text": [
      "Exist_EMI_bins     No    Yes\n",
      "Disbursed                   \n",
      "0               57600  28147\n",
      "1                 638    635\n"
     ]
    }
   ],
   "source": [
    "'''\n",
    "2. Does existing EMI has lower chances of getting a loan?\n",
    "\n",
    "Null Hypothesis: m1 = m2\n",
    "Alternate      : m1 != m2\n",
    "'''\n",
    "#for this analysis, I will make a new column 'Exist_EMI_bins' : if existing_EMI == 0, then No, else Yes.\n",
    "data1 = data.copy()\n",
    "data1['Exist_EMI_bins'] = data1['Existing_EMI'].apply(lambda x: 'No' if (x==0) else 'Yes')\n",
    "\n",
    "Existemi_disburse = pd.crosstab(data1.Disbursed, data1.Exist_EMI_bins)\n",
    "print(Existemi_disburse)\n"
   ]
  },
  {
   "cell_type": "code",
   "execution_count": 7,
   "metadata": {
    "collapsed": false
   },
   "outputs": [
    {
     "name": "stdout",
     "output_type": "stream",
     "text": [
      "critical value : 3.841459\n"
     ]
    },
    {
     "data": {
      "text/plain": [
       "(164.09227014723666,\n",
       " 1.4441250061271729e-37,\n",
       " 1,\n",
       " array([[ 57386.04672489,  28360.95327511],\n",
       "        [   851.95327511,    421.04672489]]))"
      ]
     },
     "execution_count": 7,
     "metadata": {},
     "output_type": "execute_result"
    }
   ],
   "source": [
    "print(\"critical value : %f\" %(stats.chi2.ppf(0.95, 1)))\n",
    "stats.chi2_contingency(Existemi_disburse)"
   ]
  },
  {
   "cell_type": "raw",
   "metadata": {},
   "source": [
    "There is a vast difference in the expected values for loan disbursement == yes in case of existing EMI. \n",
    "\n",
    "With chi2-statistics greater than the critical value and the p-value < 0.05, we reject the null hypothesis and conclude that existing emi has lower chances of getting a loan."
   ]
  },
  {
   "cell_type": "code",
   "execution_count": 8,
   "metadata": {
    "collapsed": false
   },
   "outputs": [
    {
     "name": "stdout",
     "output_type": "stream",
     "text": [
      "Disbursed            0     1\n",
      "Mobile_Verified             \n",
      "N                30312   227\n",
      "Y                55435  1046\n"
     ]
    }
   ],
   "source": [
    "'''\n",
    "3. Importance of Mobile verification in getting a loan?\n",
    "\n",
    "Null Hypothesis: proportions of getting and not getting a loan is same across mobile verification.\n",
    "Alternate      : not same proportions.\n",
    "'''\n",
    "\n",
    "mobile_disbursed = pd.crosstab(data.Mobile_Verified, data.Disbursed)\n",
    "print(mobile_disbursed)"
   ]
  },
  {
   "cell_type": "code",
   "execution_count": 9,
   "metadata": {
    "collapsed": false
   },
   "outputs": [
    {
     "name": "stdout",
     "output_type": "stream",
     "text": [
      "critical value : 3.841459\n"
     ]
    },
    {
     "data": {
      "text/plain": [
       "(168.24035789451602,\n",
       " 1.7926740112982512e-38,\n",
       " 1,\n",
       " array([[ 30092.25043668,    446.74956332],\n",
       "        [ 55654.74956332,    826.25043668]]))"
      ]
     },
     "execution_count": 9,
     "metadata": {},
     "output_type": "execute_result"
    }
   ],
   "source": [
    "print(\"critical value : %f\" %(stats.chi2.ppf(0.95, 1)))\n",
    "stats.chi2_contingency(mobile_disbursed)"
   ]
  },
  {
   "cell_type": "raw",
   "metadata": {},
   "source": [
    "with p-value < 0.05, we can reject the null hypothesis. We conclude that mobile verification is important in getting a loan disbursed."
   ]
  },
  {
   "cell_type": "code",
   "execution_count": 10,
   "metadata": {
    "collapsed": false
   },
   "outputs": [
    {
     "data": {
      "text/html": [
       "<div>\n",
       "<table border=\"1\" class=\"dataframe\">\n",
       "  <thead>\n",
       "    <tr style=\"text-align: right;\">\n",
       "      <th>Device_Type</th>\n",
       "      <th>Mobile</th>\n",
       "      <th>Web-browser</th>\n",
       "    </tr>\n",
       "    <tr>\n",
       "      <th>Disbursed</th>\n",
       "      <th></th>\n",
       "      <th></th>\n",
       "    </tr>\n",
       "  </thead>\n",
       "  <tbody>\n",
       "    <tr>\n",
       "      <th>0</th>\n",
       "      <td>22440</td>\n",
       "      <td>63307</td>\n",
       "    </tr>\n",
       "    <tr>\n",
       "      <th>1</th>\n",
       "      <td>264</td>\n",
       "      <td>1009</td>\n",
       "    </tr>\n",
       "  </tbody>\n",
       "</table>\n",
       "</div>"
      ],
      "text/plain": [
       "Device_Type  Mobile  Web-browser\n",
       "Disbursed                       \n",
       "0             22440        63307\n",
       "1               264         1009"
      ]
     },
     "execution_count": 10,
     "metadata": {},
     "output_type": "execute_result"
    }
   ],
   "source": [
    "'''\n",
    "4. Importance of Device type in getting a loan?\n",
    "\n",
    "Null Hypothesis: proportion of getting and not getting a loan is same across different device types.\n",
    "Alternate      : not same proportions.\n",
    "'''\n",
    "\n",
    "device_disbursed = pd.crosstab(data.Disbursed, data.Device_Type)\n",
    "\n",
    "device_disbursed"
   ]
  },
  {
   "cell_type": "code",
   "execution_count": 11,
   "metadata": {
    "collapsed": false
   },
   "outputs": [
    {
     "name": "stdout",
     "output_type": "stream",
     "text": [
      "critical value : 3.841459\n"
     ]
    },
    {
     "data": {
      "text/plain": [
       "(18.910482116559496,\n",
       " 1.3699784135029375e-05,\n",
       " 1,\n",
       " array([[ 22371.86724891,  63375.13275109],\n",
       "        [   332.13275109,    940.86724891]]))"
      ]
     },
     "execution_count": 11,
     "metadata": {},
     "output_type": "execute_result"
    }
   ],
   "source": [
    "print(\"critical value : %f\" %(stats.chi2.ppf(0.95, 1)))\n",
    "stats.chi2_contingency(device_disbursed)"
   ]
  },
  {
   "cell_type": "raw",
   "metadata": {},
   "source": [
    "Since the chi2 statistics is more than the critical value and the p-value < 0.05, so we reject the \n",
    "Null Hypothesis that getting and not getting a loan disbursed has same proportions to different device types.\n",
    "\n",
    "Since chi2 = 18.9, the expected proportions are different by that amount."
   ]
  },
  {
   "cell_type": "code",
   "execution_count": 29,
   "metadata": {
    "collapsed": false
   },
   "outputs": [
    {
     "name": "stdout",
     "output_type": "stream",
     "text": [
      "                     Loan_Amount_Applied\n",
      "monthly_income_bins                     \n",
      "low                        120221.651246\n",
      "med                        207704.010862\n",
      "high                       397144.676502\n"
     ]
    },
    {
     "data": {
      "text/plain": [
       "<matplotlib.axes._subplots.AxesSubplot at 0x95139fe6d8>"
      ]
     },
     "execution_count": 29,
     "metadata": {},
     "output_type": "execute_result"
    },
    {
     "data": {
      "image/png": "[encoded data removed]",
      "text/plain": [
       "<matplotlib.figure.Figure at 0x9513ed8780>"
      ]
     },
     "metadata": {},
     "output_type": "display_data"
    }
   ],
   "source": [
    "'''\n",
    "5. Is the mean loan amount applied by a low income customer different than a medium or high income customer?\n",
    "Null Hypothesis: equal means\n",
    "Alternate      : ot equal means\n",
    "'''\n",
    "#to conduct this test, i will divide the monthly incomes to 3 parts.\n",
    "#first removve missing values from these 2 features\n",
    "data1 = data[['Monthly_Income','Loan_Amount_Applied']]\n",
    "data1 = data1.dropna()\n",
    "\n",
    "data1['monthly_income_bins'] = pd.cut(data1['Monthly_Income'], bins=[-1,1.650000e+04,4.000000e+04,5.000000e+08], labels=['low','med','high'])\n",
    "\n",
    "loan_applied_mean = data1[['Loan_Amount_Applied','monthly_income_bins']].groupby('monthly_income_bins').mean()\n",
    "print(loan_applied_mean)\n",
    "\n",
    "loan_applied_mean.plot(kind='bar', color='blue', rot=0, alpha=0.5)"
   ]
  },
  {
   "cell_type": "raw",
   "metadata": {},
   "source": [
    "Looking at  the means we can assume that all 3 group means are very different. Low monthly income customers tend to apply a low loan amount.\n",
    "As the monthly income increases, the loan amount also increases."
   ]
  },
  {
   "cell_type": "code",
   "execution_count": 25,
   "metadata": {
    "collapsed": false
   },
   "outputs": [
    {
     "name": "stdout",
     "output_type": "stream",
     "text": [
      "F_onewayResult(statistic=array([ 3711.93408371]), pvalue=array([ 0.]))\n",
      "     Multiple Comparison of Means - Tukey HSD,FWER=0.05    \n",
      "===========================================================\n",
      "group1 group2   meandiff      lower        upper     reject\n",
      "-----------------------------------------------------------\n",
      " high   low   -276923.0253 -284668.3986 -269177.6519  True \n",
      " high   med   -189440.6656 -196168.9464 -182712.3848  True \n",
      " low    med    87482.3596   80908.1342   94056.585    True \n",
      "-----------------------------------------------------------\n"
     ]
    },
    {
     "data": {
      "image/png": "[encoded data removed]",
      "text/plain": [
       "<matplotlib.figure.Figure at 0x9513c38588>"
      ]
     },
     "execution_count": 25,
     "metadata": {},
     "output_type": "execute_result"
    },
    {
     "data": {
      "image/png": "[encoded data removed]",
      "text/plain": [
       "<matplotlib.figure.Figure at 0x9513c38588>"
      ]
     },
     "metadata": {},
     "output_type": "display_data"
    }
   ],
   "source": [
    "low = data1[data1['monthly_income_bins'] == 'low']\n",
    "medium = data1[data1['monthly_income_bins'] == 'med']\n",
    "high = data1[data1['monthly_income_bins'] == 'high']\n",
    "\n",
    "low = low[['Loan_Amount_Applied']]\n",
    "medium = medium[['Loan_Amount_Applied']]\n",
    "high = high[['Loan_Amount_Applied']]\n",
    "\n",
    "anova = stats.f_oneway(low,medium,high)\n",
    "print(anova)\n",
    "\n",
    "from statsmodels.stats.multicomp import pairwise_tukeyhsd\n",
    "tukey = pairwise_tukeyhsd(data1['Loan_Amount_Applied'], data1['monthly_income_bins'], alpha=0.05)\n",
    "print(tukey.summary())\n",
    "tukey.plot_simultaneous()"
   ]
  },
  {
   "cell_type": "raw",
   "metadata": {},
   "source": [
    "In this case, the test suggests we can reject the null hypothesis for all 3 pairs. Thus we conclude that all the 3 groups are significant to eachother. \n",
    "The 95% confidence interval plot reinforces the results visually: no group's confidence interval overlaps with each other."
   ]
  },
  {
   "cell_type": "code",
   "execution_count": 30,
   "metadata": {
    "collapsed": false
   },
   "outputs": [
    {
     "name": "stdout",
     "output_type": "stream",
     "text": [
      "monthly_income_bins    low    med   high\n",
      "Disbursed                               \n",
      "0                    21917  44145  19685\n",
      "1                        1    463    809\n"
     ]
    },
    {
     "name": "stderr",
     "output_type": "stream",
     "text": [
      "C:\\Users\\DHRUBAJIT\\Anaconda3\\lib\\site-packages\\ipykernel\\__main__.py:10: SettingWithCopyWarning: \n",
      "A value is trying to be set on a copy of a slice from a DataFrame.\n",
      "Try using .loc[row_indexer,col_indexer] = value instead\n",
      "\n",
      "See the caveats in the documentation: http://pandas.pydata.org/pandas-docs/stable/indexing.html#indexing-view-versus-copy\n"
     ]
    }
   ],
   "source": [
    "#Earlier we conducted a t-test for monthly income and loan disbursement and found out that getting a loan or not getting a loan\n",
    "#is not significant based on monthly income.\n",
    "#now lets divide the monthly incomes into 3 parts and conduct a chi2 test to find any significance.\n",
    "'''\n",
    "6. Does different levels of monthly incomes plays a part in loan disbursement?\n",
    "Null Hypothesis: different levels of monthly income has sameproportion of loan disbursement.\n",
    "Alternate      : not same\n",
    "'''\n",
    "data2 = data[['Monthly_Income','Disbursed']]\n",
    "data2['monthly_income_bins'] = pd.cut(data2['Monthly_Income'], bins=[-1,1.650000e+04,4.000000e+04,5.000000e+08], labels=['low','med','high'])\n",
    "\n",
    "income_bins_loan = pd.crosstab(data2.Disbursed, data2.monthly_income_bins)\n",
    "print(income_bins_loan)"
   ]
  },
  {
   "cell_type": "code",
   "execution_count": 31,
   "metadata": {
    "collapsed": false
   },
   "outputs": [
    {
     "data": {
      "text/plain": [
       "(1256.9304036953863,\n",
       " 1.1508819248994775e-273,\n",
       " 2,\n",
       " array([[ 21597.36550218,  43955.43755459,  20194.19694323],\n",
       "        [   320.63449782,    652.56244541,    299.80305677]]))"
      ]
     },
     "execution_count": 31,
     "metadata": {},
     "output_type": "execute_result"
    }
   ],
   "source": [
    "stats.chi2_contingency(income_bins_loan, correction=False)"
   ]
  },
  {
   "cell_type": "raw",
   "metadata": {},
   "source": [
    "Yes, with p-value < 0.05, we can conclude that all 3 groups of monthly incomes are significant to each other.\n",
    "\n",
    "It seems dividing the Incomes into 3 groups is a good idea."
   ]
  },
  {
   "cell_type": "code",
   "execution_count": 47,
   "metadata": {
    "collapsed": false
   },
   "outputs": [
    {
     "name": "stdout",
     "output_type": "stream",
     "text": [
      "       Loan_Amount_Applied  Loan_Amount_Submitted\n",
      "count         3.387200e+04           3.387200e+04\n",
      "mean          3.722004e+05           3.302870e+05\n",
      "std           3.923312e+05           2.865820e+05\n",
      "min           7.000000e+00           5.000000e+04\n",
      "25%           2.000000e+05           1.300000e+05\n",
      "50%           3.000000e+05           2.200000e+05\n",
      "75%           5.000000e+05           5.000000e+05\n",
      "max           9.999999e+06           3.000000e+06\n"
     ]
    },
    {
     "data": {
      "text/plain": [
       "<matplotlib.axes._subplots.AxesSubplot at 0x9513c74eb8>"
      ]
     },
     "execution_count": 47,
     "metadata": {},
     "output_type": "execute_result"
    },
    {
     "data": {
      "image/png": "[encoded data removed]",
      "text/plain": [
       "<matplotlib.figure.Figure at 0x9513b9a9b0>"
      ]
     },
     "metadata": {},
     "output_type": "display_data"
    }
   ],
   "source": [
    "'''\n",
    "7. Are the means of loan amnt applied and the loan amnt submitted significantly different?\n",
    "Null Hypothesis: both means are same\n",
    "Alternate      : not same\n",
    "'''\n",
    "loan_sub = data[(data['Loan_Amount_Submitted'] > 0) & (data['Loan_Amount_Applied'] > 0)]\n",
    "loan_applied_sub = loan_sub[['Loan_Amount_Applied','Loan_Amount_Submitted']]\n",
    "print(loan_applied_sub.describe())\n",
    "\n",
    "loan_applied_sub.mean().plot(kind='bar', color='green', alpha=0.5, rot=0)"
   ]
  },
  {
   "cell_type": "raw",
   "metadata": {},
   "source": [
    "from the plot it is clear that the mean loan amount submitted is less than the mean loan amount applied.\n",
    "Our initial assumption would be that the difference of means are significant.\n",
    "\n",
    "Lets conduct an independence t-test to confirm this assumption."
   ]
  },
  {
   "cell_type": "code",
   "execution_count": 48,
   "metadata": {
    "collapsed": false
   },
   "outputs": [
    {
     "name": "stdout",
     "output_type": "stream",
     "text": [
      "t-stats : 15.877002\n",
      "p-value : 0.000000\n"
     ]
    }
   ],
   "source": [
    "t, p = stats.ttest_ind(loan_applied_sub.Loan_Amount_Applied,loan_applied_sub.Loan_Amount_Submitted)\n",
    "print(\"t-stats : %f\" %(t))\n",
    "print(\"p-value : %f\" %(p))"
   ]
  },
  {
   "cell_type": "raw",
   "metadata": {},
   "source": [
    "With p-value < 0.05, we confirm our initial assumption that the mean loan amount submitted is less than the mean loan amount applied."
   ]
  },
  {
   "cell_type": "code",
   "execution_count": null,
   "metadata": {
    "collapsed": true
   },
   "outputs": [],
   "source": []
  }
 ],
 "metadata": {
  "anaconda-cloud": {},
  "kernelspec": {
   "display_name": "Python [default]",
   "language": "python",
   "name": "python3"
  }
 },
 "nbformat": 4,
 "nbformat_minor": 2
}
