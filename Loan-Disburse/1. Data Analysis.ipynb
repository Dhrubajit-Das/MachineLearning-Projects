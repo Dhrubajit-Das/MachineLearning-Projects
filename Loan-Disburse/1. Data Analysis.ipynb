{
 "cells": [
  {
   "cell_type": "code",
   "execution_count": 1,
   "metadata": {
    "collapsed": false
   },
   "outputs": [],
   "source": [
    "import numpy as np\n",
    "import pandas as pd\n",
    "import matplotlib.pyplot as plt\n",
    "%matplotlib inline"
   ]
  },
  {
   "cell_type": "code",
   "execution_count": 2,
   "metadata": {
    "collapsed": false
   },
   "outputs": [
    {
     "data": {
      "text/html": [
       "<div>\n",
       "<table border=\"1\" class=\"dataframe\">\n",
       "  <thead>\n",
       "    <tr style=\"text-align: right;\">\n",
       "      <th></th>\n",
       "      <th>ID</th>\n",
       "      <th>Gender</th>\n",
       "      <th>City</th>\n",
       "      <th>Monthly_Income</th>\n",
       "      <th>DOB</th>\n",
       "      <th>Lead_Creation_Date</th>\n",
       "      <th>Loan_Amount_Applied</th>\n",
       "      <th>Loan_Tenure_Applied</th>\n",
       "      <th>Existing_EMI</th>\n",
       "      <th>Employer_Name</th>\n",
       "      <th>...</th>\n",
       "      <th>Interest_Rate</th>\n",
       "      <th>Processing_Fee</th>\n",
       "      <th>EMI_Loan_Submitted</th>\n",
       "      <th>Filled_Form</th>\n",
       "      <th>Device_Type</th>\n",
       "      <th>Var2</th>\n",
       "      <th>Source</th>\n",
       "      <th>Var4</th>\n",
       "      <th>LoggedIn</th>\n",
       "      <th>Disbursed</th>\n",
       "    </tr>\n",
       "  </thead>\n",
       "  <tbody>\n",
       "    <tr>\n",
       "      <th>0</th>\n",
       "      <td>ID000002C20</td>\n",
       "      <td>Female</td>\n",
       "      <td>Delhi</td>\n",
       "      <td>20000</td>\n",
       "      <td>23-May-78</td>\n",
       "      <td>15-May-15</td>\n",
       "      <td>300000.0</td>\n",
       "      <td>5.0</td>\n",
       "      <td>0.0</td>\n",
       "      <td>CYBOSOL</td>\n",
       "      <td>...</td>\n",
       "      <td>NaN</td>\n",
       "      <td>NaN</td>\n",
       "      <td>NaN</td>\n",
       "      <td>N</td>\n",
       "      <td>Web-browser</td>\n",
       "      <td>G</td>\n",
       "      <td>S122</td>\n",
       "      <td>1</td>\n",
       "      <td>0</td>\n",
       "      <td>0</td>\n",
       "    </tr>\n",
       "    <tr>\n",
       "      <th>1</th>\n",
       "      <td>ID000004E40</td>\n",
       "      <td>Male</td>\n",
       "      <td>Mumbai</td>\n",
       "      <td>35000</td>\n",
       "      <td>07-Oct-85</td>\n",
       "      <td>04-May-15</td>\n",
       "      <td>200000.0</td>\n",
       "      <td>2.0</td>\n",
       "      <td>0.0</td>\n",
       "      <td>TATA CONSULTANCY SERVICES LTD (TCS)</td>\n",
       "      <td>...</td>\n",
       "      <td>13.25</td>\n",
       "      <td>NaN</td>\n",
       "      <td>6762.9</td>\n",
       "      <td>N</td>\n",
       "      <td>Web-browser</td>\n",
       "      <td>G</td>\n",
       "      <td>S122</td>\n",
       "      <td>3</td>\n",
       "      <td>0</td>\n",
       "      <td>0</td>\n",
       "    </tr>\n",
       "    <tr>\n",
       "      <th>2</th>\n",
       "      <td>ID000007H20</td>\n",
       "      <td>Male</td>\n",
       "      <td>Panchkula</td>\n",
       "      <td>22500</td>\n",
       "      <td>10-Oct-81</td>\n",
       "      <td>19-May-15</td>\n",
       "      <td>600000.0</td>\n",
       "      <td>4.0</td>\n",
       "      <td>0.0</td>\n",
       "      <td>ALCHEMIST HOSPITALS LTD</td>\n",
       "      <td>...</td>\n",
       "      <td>NaN</td>\n",
       "      <td>NaN</td>\n",
       "      <td>NaN</td>\n",
       "      <td>N</td>\n",
       "      <td>Web-browser</td>\n",
       "      <td>B</td>\n",
       "      <td>S143</td>\n",
       "      <td>1</td>\n",
       "      <td>0</td>\n",
       "      <td>0</td>\n",
       "    </tr>\n",
       "    <tr>\n",
       "      <th>3</th>\n",
       "      <td>ID000008I30</td>\n",
       "      <td>Male</td>\n",
       "      <td>Saharsa</td>\n",
       "      <td>35000</td>\n",
       "      <td>30-Nov-87</td>\n",
       "      <td>09-May-15</td>\n",
       "      <td>1000000.0</td>\n",
       "      <td>5.0</td>\n",
       "      <td>0.0</td>\n",
       "      <td>BIHAR GOVERNMENT</td>\n",
       "      <td>...</td>\n",
       "      <td>NaN</td>\n",
       "      <td>NaN</td>\n",
       "      <td>NaN</td>\n",
       "      <td>N</td>\n",
       "      <td>Web-browser</td>\n",
       "      <td>B</td>\n",
       "      <td>S143</td>\n",
       "      <td>3</td>\n",
       "      <td>0</td>\n",
       "      <td>0</td>\n",
       "    </tr>\n",
       "    <tr>\n",
       "      <th>4</th>\n",
       "      <td>ID000009J40</td>\n",
       "      <td>Male</td>\n",
       "      <td>Bengaluru</td>\n",
       "      <td>100000</td>\n",
       "      <td>17-Feb-84</td>\n",
       "      <td>20-May-15</td>\n",
       "      <td>500000.0</td>\n",
       "      <td>2.0</td>\n",
       "      <td>25000.0</td>\n",
       "      <td>GLOBAL EDGE SOFTWARE</td>\n",
       "      <td>...</td>\n",
       "      <td>NaN</td>\n",
       "      <td>NaN</td>\n",
       "      <td>NaN</td>\n",
       "      <td>N</td>\n",
       "      <td>Web-browser</td>\n",
       "      <td>B</td>\n",
       "      <td>S134</td>\n",
       "      <td>3</td>\n",
       "      <td>1</td>\n",
       "      <td>0</td>\n",
       "    </tr>\n",
       "  </tbody>\n",
       "</table>\n",
       "<p>5 rows × 26 columns</p>\n",
       "</div>"
      ],
      "text/plain": [
       "            ID  Gender       City  Monthly_Income        DOB  \\\n",
       "0  ID000002C20  Female      Delhi           20000  23-May-78   \n",
       "1  ID000004E40    Male     Mumbai           35000  07-Oct-85   \n",
       "2  ID000007H20    Male  Panchkula           22500  10-Oct-81   \n",
       "3  ID000008I30    Male    Saharsa           35000  30-Nov-87   \n",
       "4  ID000009J40    Male  Bengaluru          100000  17-Feb-84   \n",
       "\n",
       "  Lead_Creation_Date  Loan_Amount_Applied  Loan_Tenure_Applied  Existing_EMI  \\\n",
       "0          15-May-15             300000.0                  5.0           0.0   \n",
       "1          04-May-15             200000.0                  2.0           0.0   \n",
       "2          19-May-15             600000.0                  4.0           0.0   \n",
       "3          09-May-15            1000000.0                  5.0           0.0   \n",
       "4          20-May-15             500000.0                  2.0       25000.0   \n",
       "\n",
       "                         Employer_Name    ...    Interest_Rate Processing_Fee  \\\n",
       "0                              CYBOSOL    ...              NaN            NaN   \n",
       "1  TATA CONSULTANCY SERVICES LTD (TCS)    ...            13.25            NaN   \n",
       "2              ALCHEMIST HOSPITALS LTD    ...              NaN            NaN   \n",
       "3                     BIHAR GOVERNMENT    ...              NaN            NaN   \n",
       "4                 GLOBAL EDGE SOFTWARE    ...              NaN            NaN   \n",
       "\n",
       "   EMI_Loan_Submitted Filled_Form  Device_Type  Var2  Source  Var4  LoggedIn  \\\n",
       "0                 NaN           N  Web-browser     G    S122     1         0   \n",
       "1              6762.9           N  Web-browser     G    S122     3         0   \n",
       "2                 NaN           N  Web-browser     B    S143     1         0   \n",
       "3                 NaN           N  Web-browser     B    S143     3         0   \n",
       "4                 NaN           N  Web-browser     B    S134     3         1   \n",
       "\n",
       "  Disbursed  \n",
       "0         0  \n",
       "1         0  \n",
       "2         0  \n",
       "3         0  \n",
       "4         0  \n",
       "\n",
       "[5 rows x 26 columns]"
      ]
     },
     "execution_count": 2,
     "metadata": {},
     "output_type": "execute_result"
    }
   ],
   "source": [
    "data = pd.read_csv(\"C:\\\\Users\\\\DHRUBAJIT\\\\Desktop\\\\AnalyticsVidhya\\\\Loan-Disbursed\\\\train.csv\",encoding=\"ISO-8859-1\")\n",
    "data.head()"
   ]
  },
  {
   "cell_type": "code",
   "execution_count": 3,
   "metadata": {
    "collapsed": false
   },
   "outputs": [
    {
     "data": {
      "text/plain": [
       "(87020, 26)"
      ]
     },
     "execution_count": 3,
     "metadata": {},
     "output_type": "execute_result"
    }
   ],
   "source": [
    "data.shape"
   ]
  },
  {
   "cell_type": "code",
   "execution_count": 4,
   "metadata": {
    "collapsed": false
   },
   "outputs": [
    {
     "data": {
      "text/plain": [
       "ID                           0\n",
       "Gender                       0\n",
       "City                      1003\n",
       "Monthly_Income               0\n",
       "DOB                          0\n",
       "Lead_Creation_Date           0\n",
       "Loan_Amount_Applied         71\n",
       "Loan_Tenure_Applied         71\n",
       "Existing_EMI                71\n",
       "Employer_Name               71\n",
       "Salary_Account           11764\n",
       "Mobile_Verified              0\n",
       "Var5                         0\n",
       "Var1                         0\n",
       "Loan_Amount_Submitted    34613\n",
       "Loan_Tenure_Submitted    34613\n",
       "Interest_Rate            59294\n",
       "Processing_Fee           59600\n",
       "EMI_Loan_Submitted       59294\n",
       "Filled_Form                  0\n",
       "Device_Type                  0\n",
       "Var2                         0\n",
       "Source                       0\n",
       "Var4                         0\n",
       "LoggedIn                     0\n",
       "Disbursed                    0\n",
       "dtype: int64"
      ]
     },
     "execution_count": 4,
     "metadata": {},
     "output_type": "execute_result"
    }
   ],
   "source": [
    "#missing values of each feature\n",
    "data.isnull().sum()"
   ]
  },
  {
   "cell_type": "raw",
   "metadata": {},
   "source": [
    "Few features have a large amount of missing data. We will take care of these later.\n",
    "\n",
    "Lets do some analysis with the available data."
   ]
  },
  {
   "cell_type": "code",
   "execution_count": 5,
   "metadata": {
    "collapsed": true
   },
   "outputs": [],
   "source": [
    "#getting a copy of the dataset \n",
    "data_new = data.copy()\n",
    "data_new['count'] = 1"
   ]
  },
  {
   "cell_type": "markdown",
   "metadata": {},
   "source": [
    "### Univariate Analysis"
   ]
  },
  {
   "cell_type": "code",
   "execution_count": 6,
   "metadata": {
    "collapsed": false
   },
   "outputs": [
    {
     "data": {
      "text/plain": [
       "<matplotlib.text.Text at 0xc010fdcac8>"
      ]
     },
     "execution_count": 6,
     "metadata": {},
     "output_type": "execute_result"
    },
    {
     "data": {
      "image/png": "[encoded data removed]",
      "text/plain": [
       "<matplotlib.figure.Figure at 0xc011e1bc18>"
      ]
     },
     "metadata": {},
     "output_type": "display_data"
    }
   ],
   "source": [
    "#1. Gender\n",
    "gender_count = data_new[['Gender','count']].groupby('Gender').sum()\n",
    "gender_prcnt = gender_count.apply(lambda x: x/x.sum())\n",
    "gender_prcnt.plot(kind='bar',color='blue', alpha=0.5, rot=0, legend=False, grid=True)\n",
    "plt.title(\"% of Males and Females\")\n",
    "plt.ylabel(\"%\")"
   ]
  },
  {
   "cell_type": "code",
   "execution_count": 7,
   "metadata": {
    "collapsed": false
   },
   "outputs": [
    {
     "name": "stdout",
     "output_type": "stream",
     "text": [
      "count     87020.000000\n",
      "mean         58.849974\n",
      "std        2177.511361\n",
      "min           0.000000\n",
      "25%          16.500000\n",
      "50%          25.000000\n",
      "75%          40.000000\n",
      "max      444554.443000\n",
      "Name: Monthly_Income, dtype: float64\n"
     ]
    },
    {
     "data": {
      "text/plain": [
       "<matplotlib.text.Text at 0xc0115f1128>"
      ]
     },
     "execution_count": 7,
     "metadata": {},
     "output_type": "execute_result"
    },
    {
     "data": {
      "image/png": "[encoded data removed]",
      "text/plain": [
       "<matplotlib.figure.Figure at 0xc01159de48>"
      ]
     },
     "metadata": {},
     "output_type": "display_data"
    }
   ],
   "source": [
    "#2. Monthly_Income\n",
    "data_new['Monthly_Income'] = data_new['Monthly_Income'].apply(lambda x: x/1000)\n",
    "print(data_new.Monthly_Income.describe())\n",
    "data_new.boxplot(column=['Monthly_Income'],return_type='axes')\n",
    "plt.title(\"Monthly Income Distribution in 1000's\")\n",
    "plt.ylabel(\"Income\")"
   ]
  },
  {
   "cell_type": "raw",
   "metadata": {},
   "source": [
    "75% of the incomes are within 40,000, but the mean is 58,800. This is due to the presence of few very high incomes.\n",
    "\n",
    "Lets check the customer who has the highest income, i.e 444554.443000"
   ]
  },
  {
   "cell_type": "code",
   "execution_count": 8,
   "metadata": {
    "collapsed": false
   },
   "outputs": [
    {
     "data": {
      "text/html": [
       "<div>\n",
       "<table border=\"1\" class=\"dataframe\">\n",
       "  <thead>\n",
       "    <tr style=\"text-align: right;\">\n",
       "      <th></th>\n",
       "      <th>ID</th>\n",
       "      <th>Gender</th>\n",
       "      <th>City</th>\n",
       "      <th>Monthly_Income</th>\n",
       "      <th>Lead_Creation_Date</th>\n",
       "      <th>Loan_Amount_Applied</th>\n",
       "      <th>Loan_Tenure_Applied</th>\n",
       "      <th>Existing_EMI</th>\n",
       "      <th>Employer_Name</th>\n",
       "      <th>Salary_Account</th>\n",
       "      <th>...</th>\n",
       "      <th>EMI_Loan_Submitted</th>\n",
       "      <th>Filled_Form</th>\n",
       "      <th>Device_Type</th>\n",
       "      <th>Var2</th>\n",
       "      <th>Source</th>\n",
       "      <th>Var4</th>\n",
       "      <th>LoggedIn</th>\n",
       "      <th>Disbursed</th>\n",
       "      <th>count</th>\n",
       "      <th>Age</th>\n",
       "    </tr>\n",
       "  </thead>\n",
       "  <tbody>\n",
       "    <tr>\n",
       "      <th>53141</th>\n",
       "      <td>ID076246O10</td>\n",
       "      <td>Male</td>\n",
       "      <td>Delhi</td>\n",
       "      <td>444554.443</td>\n",
       "      <td>30-Jun-15</td>\n",
       "      <td>0.0</td>\n",
       "      <td>0.0</td>\n",
       "      <td>0.0</td>\n",
       "      <td>GOOGLE</td>\n",
       "      <td>Andhra Bank</td>\n",
       "      <td>...</td>\n",
       "      <td>NaN</td>\n",
       "      <td>N</td>\n",
       "      <td>Mobile</td>\n",
       "      <td>C</td>\n",
       "      <td>S122</td>\n",
       "      <td>3</td>\n",
       "      <td>0</td>\n",
       "      <td>0</td>\n",
       "      <td>1</td>\n",
       "      <td>28</td>\n",
       "    </tr>\n",
       "  </tbody>\n",
       "</table>\n",
       "<p>1 rows × 27 columns</p>\n",
       "</div>"
      ],
      "text/plain": [
       "                ID Gender   City  Monthly_Income Lead_Creation_Date  \\\n",
       "53141  ID076246O10   Male  Delhi      444554.443          30-Jun-15   \n",
       "\n",
       "       Loan_Amount_Applied  Loan_Tenure_Applied  Existing_EMI Employer_Name  \\\n",
       "53141                  0.0                  0.0           0.0        GOOGLE   \n",
       "\n",
       "      Salary_Account ... EMI_Loan_Submitted  Filled_Form Device_Type  Var2  \\\n",
       "53141    Andhra Bank ...                NaN            N      Mobile     C   \n",
       "\n",
       "       Source  Var4  LoggedIn  Disbursed count Age  \n",
       "53141    S122     3         0          0     1  28  \n",
       "\n",
       "[1 rows x 27 columns]"
      ]
     },
     "execution_count": 8,
     "metadata": {},
     "output_type": "execute_result"
    }
   ],
   "source": [
    "#Create age variable:\n",
    "data_new['Age'] = data['DOB'].apply(lambda x: 116 - int(x[-2:]))\n",
    "data_new.drop(['DOB'],axis=1, inplace=True)\n",
    "data_new[data_new['Monthly_Income'] == 444554.443000]"
   ]
  },
  {
   "cell_type": "raw",
   "metadata": {},
   "source": [
    "This customer is a 28 years old male from Delhi who works in GOOGLE, hence explains the high income.\n",
    "\n",
    "Lets find the z-score for this particular customer:"
   ]
  },
  {
   "cell_type": "code",
   "execution_count": 9,
   "metadata": {
    "collapsed": false
   },
   "outputs": [
    {
     "data": {
      "text/plain": [
       "204.1300913078872"
      ]
     },
     "execution_count": 9,
     "metadata": {},
     "output_type": "execute_result"
    }
   ],
   "source": [
    "z_score = (data_new.Monthly_Income.max() - data_new.Monthly_Income.mean())/ data_new.Monthly_Income.std()\n",
    "z_score"
   ]
  },
  {
   "cell_type": "raw",
   "metadata": {},
   "source": [
    "This customer is 204 standard deviations away from the mean."
   ]
  },
  {
   "cell_type": "code",
   "execution_count": 10,
   "metadata": {
    "collapsed": false
   },
   "outputs": [
    {
     "name": "stdout",
     "output_type": "stream",
     "text": [
      "count    86949.000000\n",
      "mean       230.250700\n",
      "std        354.206759\n",
      "min          0.000000\n",
      "25%          0.000000\n",
      "50%        100.000000\n",
      "75%        300.000000\n",
      "max      10000.000000\n",
      "Name: Loan_Amount_Applied, dtype: float64\n"
     ]
    },
    {
     "data": {
      "text/plain": [
       "<matplotlib.text.Text at 0xc0116ec2e8>"
      ]
     },
     "execution_count": 10,
     "metadata": {},
     "output_type": "execute_result"
    },
    {
     "data": {
      "image/png": "[encoded data removed]",
      "text/plain": [
       "<matplotlib.figure.Figure at 0xc0115dd518>"
      ]
     },
     "metadata": {},
     "output_type": "display_data"
    }
   ],
   "source": [
    "#3. Loan_Amount_Applied\n",
    "data_new['Loan_Amount_Applied'] = data_new['Loan_Amount_Applied'].apply(lambda x: x/1000)\n",
    "print(data_new.Loan_Amount_Applied.describe())\n",
    "data_new.boxplot(column='Loan_Amount_Applied')\n",
    "plt.title(\"Loan Amount Applied in 1000's\")"
   ]
  },
  {
   "cell_type": "raw",
   "metadata": {},
   "source": [
    "75% of the customers have applied loan within 300,000 with a mean of 230,250.\n",
    "\n",
    "There is 1 customer who applied a loan of 100,00,000. Lets check this customer."
   ]
  },
  {
   "cell_type": "code",
   "execution_count": 11,
   "metadata": {
    "collapsed": false
   },
   "outputs": [
    {
     "name": "stdout",
     "output_type": "stream",
     "text": [
      "                ID  Gender     City  Monthly_Income Lead_Creation_Date  \\\n",
      "78498  ID112567N20  Female  Chennai            30.0          24-Jul-15   \n",
      "\n",
      "       Loan_Amount_Applied  Loan_Tenure_Applied  Existing_EMI Employer_Name  \\\n",
      "78498              10000.0                  0.0           0.0             0   \n",
      "\n",
      "      Salary_Account ... EMI_Loan_Submitted  Filled_Form  Device_Type  Var2  \\\n",
      "78498      Axis Bank ...                NaN            N  Web-browser     G   \n",
      "\n",
      "       Source  Var4  LoggedIn  Disbursed count Age  \n",
      "78498    S122     7         0          0     1  36  \n",
      "\n",
      "[1 rows x 27 columns]\n"
     ]
    }
   ],
   "source": [
    "print(data_new[data_new['Loan_Amount_Applied'] == 10000])"
   ]
  },
  {
   "cell_type": "raw",
   "metadata": {},
   "source": [
    "This customer is a 36years old female from Chennai. Her monthly income is 30,000 and she applied for a loan of 100,00,000 with a loan tenure of 0 years.  \n",
    "And finally her loan was not disbursed. This makes sense, why will a bank disburse such a large amount to a customer whose monthly income is just 30,000 and loan tenure applied is 0 years?   "
   ]
  },
  {
   "cell_type": "code",
   "execution_count": 12,
   "metadata": {
    "collapsed": false
   },
   "outputs": [
    {
     "name": "stdout",
     "output_type": "stream",
     "text": [
      "count    86949.000000\n",
      "mean         2.131399\n",
      "std          2.014193\n",
      "min          0.000000\n",
      "25%          0.000000\n",
      "50%          2.000000\n",
      "75%          4.000000\n",
      "max         10.000000\n",
      "Name: Loan_Tenure_Applied, dtype: float64\n"
     ]
    },
    {
     "data": {
      "text/plain": [
       "<matplotlib.axes._subplots.AxesSubplot at 0xc0110178d0>"
      ]
     },
     "execution_count": 12,
     "metadata": {},
     "output_type": "execute_result"
    },
    {
     "data": {
      "image/png": "[encoded data removed]",
      "text/plain": [
       "<matplotlib.figure.Figure at 0xc011e3f278>"
      ]
     },
     "metadata": {},
     "output_type": "display_data"
    }
   ],
   "source": [
    "#4. Loan_tenure_applied\n",
    "print(data_new.Loan_Tenure_Applied.describe())\n",
    "data_new.Loan_Tenure_Applied.hist()"
   ]
  },
  {
   "cell_type": "code",
   "execution_count": 13,
   "metadata": {
    "collapsed": false
   },
   "outputs": [
    {
     "name": "stdout",
     "output_type": "stream",
     "text": [
      "count    52407.000000\n",
      "mean       395.010590\n",
      "std        308.248136\n",
      "min         50.000000\n",
      "25%        200.000000\n",
      "50%        300.000000\n",
      "75%        500.000000\n",
      "max       3000.000000\n",
      "Name: Loan_Amount_Submitted, dtype: float64\n"
     ]
    },
    {
     "data": {
      "text/plain": [
       "<matplotlib.text.Text at 0xc0114fa4e0>"
      ]
     },
     "execution_count": 13,
     "metadata": {},
     "output_type": "execute_result"
    },
    {
     "data": {
      "image/png": "[encoded data removed]",
      "text/plain": [
       "<matplotlib.figure.Figure at 0xc01146ab38>"
      ]
     },
     "metadata": {},
     "output_type": "display_data"
    }
   ],
   "source": [
    "#5. Loan_Amount_Submitted\n",
    "data_new['Loan_Amount_Submitted'] = data_new['Loan_Amount_Submitted'].apply(lambda x: x/1000)\n",
    "print(data_new.Loan_Amount_Submitted.describe())\n",
    "\n",
    "plt.figure(figsize=[12,4])\n",
    "plt.subplot(121)\n",
    "data_new.boxplot(column='Loan_Amount_Submitted')\n",
    "\n",
    "plt.subplot(122)\n",
    "data_new.Loan_Amount_Submitted.hist(bins=15)\n",
    "plt.title(\"Loan Amount Submitted in 1000's\")"
   ]
  },
  {
   "cell_type": "raw",
   "metadata": {},
   "source": [
    "Out of 86,949 customers who applied for a loan, only 52,407 were revised and selected.\n",
    "With a mean of 395.01 and a standard deviation of 308.24, this data is positively skewed.\n",
    "\n",
    "Now lets compare Loan_Applied and Loan_Submitted for only those customers whose loans were submitted.\n",
    "Also lets take Loan_Tenure into account."
   ]
  },
  {
   "cell_type": "code",
   "execution_count": 14,
   "metadata": {
    "collapsed": false
   },
   "outputs": [
    {
     "name": "stdout",
     "output_type": "stream",
     "text": [
      "       Loan_Amount_Applied  Loan_Amount_Submitted  Loan_Tenure_Applied  \\\n",
      "count          33872.00000           33872.000000         33872.000000   \n",
      "mean             372.20036             330.286963             3.272378   \n",
      "std              392.33123             286.581971             1.581919   \n",
      "min                0.00700              50.000000             0.000000   \n",
      "25%              200.00000             130.000000             2.000000   \n",
      "50%              300.00000             220.000000             3.000000   \n",
      "75%              500.00000             500.000000             5.000000   \n",
      "max             9999.99900            3000.000000             5.000000   \n",
      "\n",
      "       Loan_Tenure_Submitted  \n",
      "count           33872.000000  \n",
      "mean                3.628041  \n",
      "std                 1.301892  \n",
      "min                 1.000000  \n",
      "25%                 3.000000  \n",
      "50%                 4.000000  \n",
      "75%                 5.000000  \n",
      "max                 6.000000  \n"
     ]
    },
    {
     "data": {
      "text/plain": [
       "<matplotlib.text.Text at 0xc01171e0b8>"
      ]
     },
     "execution_count": 14,
     "metadata": {},
     "output_type": "execute_result"
    },
    {
     "data": {
      "image/png": "[encoded data removed]",
      "text/plain": [
       "<matplotlib.figure.Figure at 0xc011595208>"
      ]
     },
     "metadata": {},
     "output_type": "display_data"
    }
   ],
   "source": [
    "loan_sub = data_new[data_new['Loan_Amount_Submitted'] > 0]\n",
    "loan_sub = loan_sub[['Loan_Amount_Applied','Loan_Amount_Submitted','Loan_Tenure_Applied','Loan_Tenure_Submitted']]\n",
    "\n",
    "#there are few customers who didn't apply for a loan but still a loan was submitted, maybe due to some typing error, so lets \n",
    "#remove them for now.\n",
    "loan_sub = loan_sub[loan_sub['Loan_Amount_Applied'] > 0]\n",
    "print(loan_sub.describe())\n",
    "\n",
    "plt.figure(figsize=[10,3])\n",
    "plt.subplot(121)\n",
    "loan_sub[['Loan_Amount_Applied','Loan_Amount_Submitted']].mean().plot(kind='bar', rot=0, color='purple', alpha=0.5)\n",
    "plt.title(\"Average Loan Amounts\")\n",
    "plt.ylabel(\"Loan Amount in 1000's\")\n",
    "\n",
    "plt.subplot(122)\n",
    "loan_sub[['Loan_Tenure_Applied','Loan_Tenure_Submitted']].mean().plot(kind='bar', rot=0, color='purple', alpha=0.5)\n",
    "plt.title(\"Average Loan Tenure\")\n",
    "plt.ylabel(\"Loan Tenure in years\")"
   ]
  },
  {
   "cell_type": "raw",
   "metadata": {},
   "source": [
    "The average Loan Amount applied by customers is around 372,000 for a mean of 3.2 years in tenure, which was revised to an avearge of 330,000 for a mean tenure of 3.62 years."
   ]
  },
  {
   "cell_type": "code",
   "execution_count": 15,
   "metadata": {
    "collapsed": false
   },
   "outputs": [
    {
     "data": {
      "text/html": [
       "<div>\n",
       "<table border=\"1\" class=\"dataframe\">\n",
       "  <thead>\n",
       "    <tr style=\"text-align: right;\">\n",
       "      <th></th>\n",
       "      <th>Loan_Amount_Submitted</th>\n",
       "      <th>Loan_Tenure_Submitted</th>\n",
       "      <th>Interest_Rate</th>\n",
       "    </tr>\n",
       "  </thead>\n",
       "  <tbody>\n",
       "    <tr>\n",
       "      <th>count</th>\n",
       "      <td>27726.000000</td>\n",
       "      <td>27726.000000</td>\n",
       "      <td>27726.000000</td>\n",
       "    </tr>\n",
       "    <tr>\n",
       "      <th>mean</th>\n",
       "      <td>365.793840</td>\n",
       "      <td>3.892989</td>\n",
       "      <td>19.197474</td>\n",
       "    </tr>\n",
       "    <tr>\n",
       "      <th>std</th>\n",
       "      <td>286.068407</td>\n",
       "      <td>1.154651</td>\n",
       "      <td>5.834213</td>\n",
       "    </tr>\n",
       "    <tr>\n",
       "      <th>min</th>\n",
       "      <td>50.000000</td>\n",
       "      <td>1.000000</td>\n",
       "      <td>11.990000</td>\n",
       "    </tr>\n",
       "    <tr>\n",
       "      <th>25%</th>\n",
       "      <td>200.000000</td>\n",
       "      <td>3.000000</td>\n",
       "      <td>15.250000</td>\n",
       "    </tr>\n",
       "    <tr>\n",
       "      <th>50%</th>\n",
       "      <td>300.000000</td>\n",
       "      <td>4.000000</td>\n",
       "      <td>18.000000</td>\n",
       "    </tr>\n",
       "    <tr>\n",
       "      <th>75%</th>\n",
       "      <td>480.000000</td>\n",
       "      <td>5.000000</td>\n",
       "      <td>20.000000</td>\n",
       "    </tr>\n",
       "    <tr>\n",
       "      <th>max</th>\n",
       "      <td>3000.000000</td>\n",
       "      <td>6.000000</td>\n",
       "      <td>37.000000</td>\n",
       "    </tr>\n",
       "  </tbody>\n",
       "</table>\n",
       "</div>"
      ],
      "text/plain": [
       "       Loan_Amount_Submitted  Loan_Tenure_Submitted  Interest_Rate\n",
       "count           27726.000000           27726.000000   27726.000000\n",
       "mean              365.793840               3.892989      19.197474\n",
       "std               286.068407               1.154651       5.834213\n",
       "min                50.000000               1.000000      11.990000\n",
       "25%               200.000000               3.000000      15.250000\n",
       "50%               300.000000               4.000000      18.000000\n",
       "75%               480.000000               5.000000      20.000000\n",
       "max              3000.000000               6.000000      37.000000"
      ]
     },
     "execution_count": 15,
     "metadata": {},
     "output_type": "execute_result"
    }
   ],
   "source": [
    "#6. Interest_Rates\n",
    "'''This feature has 59294 missing values, so I will use whatever data is available to find an average Interest_rate for a given\n",
    "loan amount and the loan tenure.'''\n",
    "loan_intrate = data_new[data_new['Interest_Rate'] > 0]\n",
    "loan_intrate = loan_intrate[['Loan_Amount_Submitted','Loan_Tenure_Submitted','Interest_Rate']]\n",
    "loan_intrate.describe()"
   ]
  },
  {
   "cell_type": "raw",
   "metadata": {},
   "source": [
    "From this data we can say that for an average loan amount of around 3,66,000 for an average tenure years of 3.9, we can expect\n",
    "an interest rate around 20%.\n",
    "\n",
    "Now lets check how the interest rates changes on an average for different levels of loan tenure, considering different range of loan amount.\n",
    "\n",
    "Now I will divide Loan_Amount_Submitted and Loan_Tenure_Submitted into the following parts:\n",
    "Loan_Amount_Submitted : [0-200,000] -> low, [200,000-500,000]-> med, [500,000+]-> high\n",
    "Loan_Tenure_Submitted : [0-2] -> low, [2-4]-> med, [4+]-> high"
   ]
  },
  {
   "cell_type": "code",
   "execution_count": 36,
   "metadata": {
    "collapsed": false
   },
   "outputs": [
    {
     "name": "stdout",
     "output_type": "stream",
     "text": [
      "tenure_bins        low     medium       high\n",
      "amount_bins                                 \n",
      "low          19.613647  22.190132  17.837927\n",
      "medium       16.681163  21.055035  18.211416\n",
      "high         16.445476  15.284764  15.866246\n"
     ]
    },
    {
     "data": {
      "text/plain": [
       "<matplotlib.axes._subplots.AxesSubplot at 0xc013049438>"
      ]
     },
     "execution_count": 36,
     "metadata": {},
     "output_type": "execute_result"
    },
    {
     "data": {
      "image/png": "[encoded data removed]",
      "text/plain": [
       "<matplotlib.figure.Figure at 0xc012ff3278>"
      ]
     },
     "metadata": {},
     "output_type": "display_data"
    }
   ],
   "source": [
    "loan_intrate['tenure_bins'] = pd.cut(loan_intrate.Loan_Tenure_Submitted, bins=[0,2,4,7], labels=['low','medium','high'])\n",
    "loan_intrate['amount_bins'] = pd.cut(loan_intrate.Loan_Amount_Submitted, bins=[0,200,500,3001], labels=['low','medium','high'])\n",
    "\n",
    "table = pd.pivot_table(loan_intrate, values='Interest_Rate', index=['amount_bins'],columns=['tenure_bins'], aggfunc=np.mean)\n",
    "print(table)\n",
    "\n",
    "import seaborn as sns\n",
    "sns.barplot(x='amount_bins',y='Interest_Rate', hue='tenure_bins',data=loan_intrate)"
   ]
  },
  {
   "cell_type": "raw",
   "metadata": {},
   "source": [
    "From the data which is available to us, we can say that if you take a low amount loan [0 - 200,000] and a medium amount loan [200,000 - 500,000] for a medium amount of years [3-4], then the interest rate would be above 20%.\n",
    "\n",
    "Whereas, a high loan amount [400,000 +] for a medium amount of [3-4] years can give you an interest rate of almost 15%."
   ]
  },
  {
   "cell_type": "code",
   "execution_count": null,
   "metadata": {
    "collapsed": true
   },
   "outputs": [],
   "source": []
  }
 ],
 "metadata": {
  "anaconda-cloud": {},
  "kernelspec": {
   "display_name": "Python [default]",
   "language": "python",
   "name": "python3"
  },
  "language_info": {
   "codemirror_mode": {
    "name": "ipython",
    "version": 3
   },
   "file_extension": ".py",
   "mimetype": "text/x-python",
   "name": "python",
   "nbconvert_exporter": "python",
   "pygments_lexer": "ipython3",
   "version": "3.5.2"
  }
 },
 "nbformat": 4,
 "nbformat_minor": 2
}
